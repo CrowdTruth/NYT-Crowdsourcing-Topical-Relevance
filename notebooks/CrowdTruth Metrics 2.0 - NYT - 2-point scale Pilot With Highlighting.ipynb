{
 "cells": [
  {
   "cell_type": "markdown",
   "metadata": {},
   "source": [
    "# CrowdTruth metrics 2.0 documentation\n",
    "\n",
    "Let:\n",
    "\n",
    "* $workers(u):$ all workers that annotate media unit $u$;\n",
    "* $units(i):$ all input media units annotated by worker $i$;\n",
    "* $WorkVec(i, u):$ annotations of worker $i$ on media unit $u$ as a binary vector;\n",
    "* $MediaUnitVec(s) = \\sum_{i \\in workers(s)} WorkVec(i,s)$, where $s$ is an input media unit.\n",
    "\n",
    "## Media Unit Quality Score (UQS)\n",
    "\n",
    "The unit quality score $UQS(u)$ is computed as the average cosine similarity between all worker vectors for a given input media unit $u$, weighted by the worker quality ($WQS$) and annotation quality ($AQS$). The goal is to capture the degree of agreement in annotating the media unit. Through the weighted average, workers and annotations with lower quality will have less of an impact on the final score.\n",
    "\n",
    "$$ UQS(u) = \\frac{\\sum_{i, j \\in workers(u)} Wcos(WorkVec(i,u), WorkVec(j,u)) \\; WQS(i) \\; WQS(j)}{\\sum_{i, j \\in workers(u)} WQS(i) \\; WQS(j)}, \\; i \\neq j.$$\n",
    "\n",
    "\n",
    "### Weighted Cosine\n",
    "\n",
    "To weigh the metrics with the annotation quality, we compute $Wcos$, the weighted version of the cosine similarity. This metric is only applicable to closed tasks, where annotation quality can be calculated across media units. For open-ended tasks, we consider annotation quality equal to 1 and calculate the regular cosine similarity.\n",
    "\n",
    "$$ Wcos(vec_1, vec_2) = \\frac{\\sum_{a} vec_1(a) \\; vec_2(a) \\; AQS(a)}{\\sqrt{(\\sum_{a} vec_1^2(a) \\; AQS(a)) \\; (\\sum_{a} vec_2^2(a) \\; AQS(a))}} .$$ \n",
    "\n",
    "\n",
    "## Worker Quality Score (WQS)\n",
    "\n",
    "The worker quality score $WQS(i)$ for a given worker $i$ is the product of 2 separate metrics - the worker-worker agreement $WWA(i)$ and the worker-media unit agreement $WUA(i)$.\n",
    "\n",
    "$$ WQS(i) = WUA(i) \\; WWA(i) .$$\n",
    "\n",
    "### Worker-Media Unit Agreement\n",
    "\n",
    "The worker-media unit agreement $WUA(i)$ is the average cosine distance between the annotations of a worker $i$ and all annotations for the media units they have worked on, weighted by the media unit and annotation quality. It calculates how much a worker disagrees with the crowd on a media unit basis. Through the weighted average, media units and anntation with lower quality will have less of an impact on the final score.\n",
    "\n",
    "$$ WSA(i) = \\frac{\\sum_{u \\in units(i)} Wcos(WorkVec(i,u), MediaUnitVec(u) - WorkVec(i, u)) \\; UQS(u)}{\\sum_{u \\in units(i)} UQS(u)} .$$\n",
    "\n",
    "### Worker-Worker Agreement\n",
    "\n",
    "The worker-worker agreement $WWA(i)$ is the average cosine distance between the annotations of a worker $i$ and all other workers that have worked on the same media units as worker $i$, weighted by the worker and annotation qualities. The metric gives an indication as to whether there are consisently like-minded workers. This is useful for identifying communities of thought. Through the weighted average, workers and annotations with lower quality will have less of an impact on the final score of the given worker.\n",
    "\n",
    "$$ WWA(i) = \\frac{ \\sum_{j \\in workers(u \\in units(i))} Wcos(WorkVec(i, u), WorkVec(j, u)) \\; WQS(j) \\; UQS(u) }{ \\sum_{j \\in workers(s \\in units(i))} WQS(j) \\; UQS(u) }, \\; i \\neq j .$$\n",
    "\n",
    "\n",
    "## Annotation Quality Score (AQS)\n",
    "\n",
    "The annotation quality score $AQS(a)$ calculates the agreement of selecting an annotation $a$, over all the media units it appears in. Therefore, it is only applicable to closed tasks, where the same annotation set is used for all input media units. It is based on $P_a(i | j)$, the probability that if a worker $j$ annotates $a$ in a media unit, worker $i$ will also annotate it. \n",
    "\n",
    "$$ P_a(i | j) = \\frac{ \\sum_{u \\in units(i) \\cap units(j) } UQS(u) \\; WorkVec(i, s)(r) \\; WorkVec(j, s)(r) }{ \\sum_{u \\in units(i) \\cap units(j) } UQS(u) \\; WorkVec(j, u)(r) } . $$\n",
    "\n",
    "$AQS(a)$ is the weighted average of $P_a(i | j)$ for all possible pairs of workers. Through the weighted average, input media units and workers with lower quality will have less of an impact on the final score of the annotation.\n",
    "\n",
    "$$ AQS(a) = \\frac{ \\sum_{i,j} WQS(i) \\; WQS(j) \\; P_a(i | j) }{ \\sum_{i,j} WQS(i) \\; WQS(j) }, i \\neq j . $$\n",
    "\n",
    "\n",
    "## Media Unit-Annotation Score (UAS)\n",
    "\n",
    "The media unit - annotation score $UAS(u, a)$ calculates the likelihood that annotation $a$ is expressed in input media unit $u$. It is the ratio of the number of workers that picked annotation $u$ over all workers that annotated the unit, weighted by the worker quality.\n",
    "\n",
    "$$ UAS(u, a) = \\frac{ \\sum_{i \\in workers(u)} WorkVec(i,u)(a) \\; WQS(i) }{ \\sum_{i \\in workers(u)} WQS(i) }. $$"
   ]
  },
  {
   "cell_type": "markdown",
   "metadata": {},
   "source": [
    "# How to run the metrics\n"
   ]
  },
  {
   "cell_type": "code",
   "execution_count": 20,
   "metadata": {
    "scrolled": true
   },
   "outputs": [
    {
     "data": {
      "text/html": [
       "<div>\n",
       "<table border=\"1\" class=\"dataframe\">\n",
       "  <thead>\n",
       "    <tr style=\"text-align: right;\">\n",
       "      <th></th>\n",
       "      <th>_unit_id</th>\n",
       "      <th>_created_at</th>\n",
       "      <th>_id</th>\n",
       "      <th>_started_at</th>\n",
       "      <th>_tainted</th>\n",
       "      <th>_channel</th>\n",
       "      <th>_trust</th>\n",
       "      <th>_worker_id</th>\n",
       "      <th>_country</th>\n",
       "      <th>_region</th>\n",
       "      <th>_city</th>\n",
       "      <th>_ip</th>\n",
       "      <th>explanation</th>\n",
       "      <th>hiddeninput</th>\n",
       "      <th>highlight</th>\n",
       "      <th>relevance</th>\n",
       "      <th>startchars</th>\n",
       "      <th>termnumber</th>\n",
       "      <th>bin</th>\n",
       "      <th>doc_len</th>\n",
       "      <th>document_body</th>\n",
       "      <th>document_id</th>\n",
       "      <th>document_title</th>\n",
       "      <th>explanation_gold</th>\n",
       "      <th>hiddeninput_gold</th>\n",
       "      <th>highlight_gold</th>\n",
       "      <th>index</th>\n",
       "      <th>rel</th>\n",
       "      <th>relevance_gold</th>\n",
       "      <th>startchars_gold</th>\n",
       "      <th>termnumber_gold</th>\n",
       "      <th>topic</th>\n",
       "      <th>topic_description</th>\n",
       "      <th>topic_query</th>\n",
       "    </tr>\n",
       "  </thead>\n",
       "  <tbody>\n",
       "    <tr>\n",
       "      <th>0</th>\n",
       "      <td>1444129005</td>\n",
       "      <td>11/9/2017 00:59:09</td>\n",
       "      <td>3011726855</td>\n",
       "      <td>11/9/2017 00:58:38</td>\n",
       "      <td>False</td>\n",
       "      <td>elite</td>\n",
       "      <td>1</td>\n",
       "      <td>30766630</td>\n",
       "      <td>CAN</td>\n",
       "      <td>ON</td>\n",
       "      <td>Orillia</td>\n",
       "      <td>174.115.123.24</td>\n",
       "      <td>cult is named but not details of lifestyle</td>\n",
       "      <td>NaN</td>\n",
       "      <td>NaN</td>\n",
       "      <td>not_relevant</td>\n",
       "      <td>NaN</td>\n",
       "      <td>NaN</td>\n",
       "      <td>1</td>\n",
       "      <td>245</td>\n",
       "      <td>&lt;p&gt;ABC has signed a deal to develop a televisi...</td>\n",
       "      <td>920343</td>\n",
       "      <td>ABC Signs Film Deal On the Cult</td>\n",
       "      <td>NaN</td>\n",
       "      <td>NaN</td>\n",
       "      <td>NaN</td>\n",
       "      <td>2</td>\n",
       "      <td>1</td>\n",
       "      <td>NaN</td>\n",
       "      <td>NaN</td>\n",
       "      <td>NaN</td>\n",
       "      <td>325</td>\n",
       "      <td>Describe a cult by name and identify the cult ...</td>\n",
       "      <td>Cult Lifestyles</td>\n",
       "    </tr>\n",
       "    <tr>\n",
       "      <th>1</th>\n",
       "      <td>1444129006</td>\n",
       "      <td>11/9/2017 13:17:57</td>\n",
       "      <td>3013786045</td>\n",
       "      <td>11/9/2017 13:12:39</td>\n",
       "      <td>False</td>\n",
       "      <td>prodege</td>\n",
       "      <td>1</td>\n",
       "      <td>38202325</td>\n",
       "      <td>USA</td>\n",
       "      <td>ME</td>\n",
       "      <td>Caribou</td>\n",
       "      <td>98.13.82.121</td>\n",
       "      <td>Does not discuss everyday life of a cult.</td>\n",
       "      <td>NaN</td>\n",
       "      <td>NaN</td>\n",
       "      <td>not_relevant</td>\n",
       "      <td>NaN</td>\n",
       "      <td>NaN</td>\n",
       "      <td>1</td>\n",
       "      <td>242</td>\n",
       "      <td>&lt;p&gt;Japan's peace of mind was shattered anew by...</td>\n",
       "      <td>757222</td>\n",
       "      <td>April 16-22; The Scent of Terror</td>\n",
       "      <td>NaN</td>\n",
       "      <td>NaN</td>\n",
       "      <td>NaN</td>\n",
       "      <td>3</td>\n",
       "      <td>1</td>\n",
       "      <td>NaN</td>\n",
       "      <td>NaN</td>\n",
       "      <td>NaN</td>\n",
       "      <td>325</td>\n",
       "      <td>Describe a cult by name and identify the cult ...</td>\n",
       "      <td>Cult Lifestyles</td>\n",
       "    </tr>\n",
       "    <tr>\n",
       "      <th>2</th>\n",
       "      <td>1444129006</td>\n",
       "      <td>11/9/2017 13:18:26</td>\n",
       "      <td>3013788135</td>\n",
       "      <td>11/9/2017 13:16:04</td>\n",
       "      <td>False</td>\n",
       "      <td>clixsense</td>\n",
       "      <td>1</td>\n",
       "      <td>6377879</td>\n",
       "      <td>USA</td>\n",
       "      <td>IA</td>\n",
       "      <td>Council Bluffs</td>\n",
       "      <td>24.252.52.128</td>\n",
       "      <td>It does not describe any activities in their d...</td>\n",
       "      <td>NaN</td>\n",
       "      <td>NaN</td>\n",
       "      <td>not_relevant</td>\n",
       "      <td>NaN</td>\n",
       "      <td>NaN</td>\n",
       "      <td>1</td>\n",
       "      <td>242</td>\n",
       "      <td>&lt;p&gt;Japan's peace of mind was shattered anew by...</td>\n",
       "      <td>757222</td>\n",
       "      <td>April 16-22; The Scent of Terror</td>\n",
       "      <td>NaN</td>\n",
       "      <td>NaN</td>\n",
       "      <td>NaN</td>\n",
       "      <td>3</td>\n",
       "      <td>1</td>\n",
       "      <td>NaN</td>\n",
       "      <td>NaN</td>\n",
       "      <td>NaN</td>\n",
       "      <td>325</td>\n",
       "      <td>Describe a cult by name and identify the cult ...</td>\n",
       "      <td>Cult Lifestyles</td>\n",
       "    </tr>\n",
       "    <tr>\n",
       "      <th>3</th>\n",
       "      <td>1444129007</td>\n",
       "      <td>11/8/2017 22:45:13</td>\n",
       "      <td>3011227480</td>\n",
       "      <td>11/8/2017 22:43:50</td>\n",
       "      <td>False</td>\n",
       "      <td>bitcoinget</td>\n",
       "      <td>1</td>\n",
       "      <td>43891892</td>\n",
       "      <td>USA</td>\n",
       "      <td>NY</td>\n",
       "      <td>New York</td>\n",
       "      <td>162.243.11.114</td>\n",
       "      <td>No price was disclosed for the acquisition..</td>\n",
       "      <td>NaN</td>\n",
       "      <td>NaN</td>\n",
       "      <td>not_relevant</td>\n",
       "      <td>NaN</td>\n",
       "      <td>NaN</td>\n",
       "      <td>1</td>\n",
       "      <td>237</td>\n",
       "      <td>&lt;p&gt;USA Networks Interactive, creator of the sc...</td>\n",
       "      <td>1209320</td>\n",
       "      <td>SCIFI.com in Venture With Filmmaker</td>\n",
       "      <td>NaN</td>\n",
       "      <td>NaN</td>\n",
       "      <td>NaN</td>\n",
       "      <td>4</td>\n",
       "      <td>0</td>\n",
       "      <td>NaN</td>\n",
       "      <td>NaN</td>\n",
       "      <td>NaN</td>\n",
       "      <td>325</td>\n",
       "      <td>Describe a cult by name and identify the cult ...</td>\n",
       "      <td>Cult Lifestyles</td>\n",
       "    </tr>\n",
       "    <tr>\n",
       "      <th>4</th>\n",
       "      <td>1444129007</td>\n",
       "      <td>11/8/2017 22:55:34</td>\n",
       "      <td>3011272450</td>\n",
       "      <td>11/8/2017 22:54:13</td>\n",
       "      <td>False</td>\n",
       "      <td>prodege</td>\n",
       "      <td>1</td>\n",
       "      <td>38202325</td>\n",
       "      <td>USA</td>\n",
       "      <td>ME</td>\n",
       "      <td>Caribou</td>\n",
       "      <td>98.13.82.121</td>\n",
       "      <td>Discusses the SciFi channel</td>\n",
       "      <td>NaN</td>\n",
       "      <td>NaN</td>\n",
       "      <td>not_relevant</td>\n",
       "      <td>NaN</td>\n",
       "      <td>NaN</td>\n",
       "      <td>1</td>\n",
       "      <td>237</td>\n",
       "      <td>&lt;p&gt;USA Networks Interactive, creator of the sc...</td>\n",
       "      <td>1209320</td>\n",
       "      <td>SCIFI.com in Venture With Filmmaker</td>\n",
       "      <td>NaN</td>\n",
       "      <td>NaN</td>\n",
       "      <td>NaN</td>\n",
       "      <td>4</td>\n",
       "      <td>0</td>\n",
       "      <td>NaN</td>\n",
       "      <td>NaN</td>\n",
       "      <td>NaN</td>\n",
       "      <td>325</td>\n",
       "      <td>Describe a cult by name and identify the cult ...</td>\n",
       "      <td>Cult Lifestyles</td>\n",
       "    </tr>\n",
       "  </tbody>\n",
       "</table>\n",
       "</div>"
      ],
      "text/plain": [
       "     _unit_id         _created_at         _id         _started_at _tainted  \\\n",
       "0  1444129005  11/9/2017 00:59:09  3011726855  11/9/2017 00:58:38    False   \n",
       "1  1444129006  11/9/2017 13:17:57  3013786045  11/9/2017 13:12:39    False   \n",
       "2  1444129006  11/9/2017 13:18:26  3013788135  11/9/2017 13:16:04    False   \n",
       "3  1444129007  11/8/2017 22:45:13  3011227480  11/8/2017 22:43:50    False   \n",
       "4  1444129007  11/8/2017 22:55:34  3011272450  11/8/2017 22:54:13    False   \n",
       "\n",
       "     _channel  _trust  _worker_id _country _region           _city  \\\n",
       "0       elite       1    30766630      CAN      ON         Orillia   \n",
       "1     prodege       1    38202325      USA      ME         Caribou   \n",
       "2   clixsense       1     6377879      USA      IA  Council Bluffs   \n",
       "3  bitcoinget       1    43891892      USA      NY        New York   \n",
       "4     prodege       1    38202325      USA      ME         Caribou   \n",
       "\n",
       "              _ip                                        explanation  \\\n",
       "0  174.115.123.24         cult is named but not details of lifestyle   \n",
       "1    98.13.82.121          Does not discuss everyday life of a cult.   \n",
       "2   24.252.52.128  It does not describe any activities in their d...   \n",
       "3  162.243.11.114       No price was disclosed for the acquisition..   \n",
       "4    98.13.82.121                        Discusses the SciFi channel   \n",
       "\n",
       "   hiddeninput highlight     relevance startchars termnumber  bin  doc_len  \\\n",
       "0          NaN       NaN  not_relevant        NaN        NaN    1      245   \n",
       "1          NaN       NaN  not_relevant        NaN        NaN    1      242   \n",
       "2          NaN       NaN  not_relevant        NaN        NaN    1      242   \n",
       "3          NaN       NaN  not_relevant        NaN        NaN    1      237   \n",
       "4          NaN       NaN  not_relevant        NaN        NaN    1      237   \n",
       "\n",
       "                                       document_body  document_id  \\\n",
       "0  <p>ABC has signed a deal to develop a televisi...       920343   \n",
       "1  <p>Japan's peace of mind was shattered anew by...       757222   \n",
       "2  <p>Japan's peace of mind was shattered anew by...       757222   \n",
       "3  <p>USA Networks Interactive, creator of the sc...      1209320   \n",
       "4  <p>USA Networks Interactive, creator of the sc...      1209320   \n",
       "\n",
       "                        document_title  explanation_gold  hiddeninput_gold  \\\n",
       "0      ABC Signs Film Deal On the Cult               NaN               NaN   \n",
       "1     April 16-22; The Scent of Terror               NaN               NaN   \n",
       "2     April 16-22; The Scent of Terror               NaN               NaN   \n",
       "3  SCIFI.com in Venture With Filmmaker               NaN               NaN   \n",
       "4  SCIFI.com in Venture With Filmmaker               NaN               NaN   \n",
       "\n",
       "   highlight_gold  index  rel  relevance_gold  startchars_gold  \\\n",
       "0             NaN      2    1             NaN              NaN   \n",
       "1             NaN      3    1             NaN              NaN   \n",
       "2             NaN      3    1             NaN              NaN   \n",
       "3             NaN      4    0             NaN              NaN   \n",
       "4             NaN      4    0             NaN              NaN   \n",
       "\n",
       "   termnumber_gold  topic                                  topic_description  \\\n",
       "0              NaN    325  Describe a cult by name and identify the cult ...   \n",
       "1              NaN    325  Describe a cult by name and identify the cult ...   \n",
       "2              NaN    325  Describe a cult by name and identify the cult ...   \n",
       "3              NaN    325  Describe a cult by name and identify the cult ...   \n",
       "4              NaN    325  Describe a cult by name and identify the cult ...   \n",
       "\n",
       "       topic_query  \n",
       "0  Cult Lifestyles  \n",
       "1  Cult Lifestyles  \n",
       "2  Cult Lifestyles  \n",
       "3  Cult Lifestyles  \n",
       "4  Cult Lifestyles  "
      ]
     },
     "execution_count": 20,
     "metadata": {},
     "output_type": "execute_result"
    }
   ],
   "source": [
    "# Read data\n",
    "\n",
    "import pandas as pd\n",
    "\n",
    "pd.set_option('display.max_columns', None)\n",
    "with_highlight_15workers_2p_filename = \"AnalysisFiles/2P_WithHighlight_Article/2p_withHighlight_article_15workers.csv\"\n",
    "with_highlight_15workers_2p_dataset = pd.read_csv(with_highlight_15workers_2p_filename)\n",
    "\n",
    "with_highlight_15workers_2p_dataset.head(5)"
   ]
  },
  {
   "cell_type": "markdown",
   "metadata": {},
   "source": [
    "### Creating a class that inherits from `Configuration` lets us define how the input file will be processed:\n",
    "\n",
    "* `inputColumns`: list of input columns from the .csv file, the input that the workers were shown\n",
    "* `outputColumns`: list of output columns with the answers from the workers\n",
    "* `processJudgments`: function that defines how the worker judgments wil be processed; default separator for judgments is ','\n",
    "\n",
    "To build the annotation vector, we also need to specify whether this is an **open-ended** or **closed** task, using the `open_ended_task` variable.\n",
    "\n",
    "* **open-ended task** means that the annotation space is not known, and workers can freely provide all the choices that apply (e.g. in sound tagging, the workers are provided with a text box to enter all tags they can think of)\n",
    "* **closed task** means that the annotations that can occur in the data are already known, and the workers are asked to validate their existence (e.g. for medical relation extraction, the workers pick from a pre-defined multiple-choice set of relations)\n",
    "\n",
    "If the task we are processing is **closed**, then we also need to provide the list of possible annotations in the `annotation_vector` variable."
   ]
  },
  {
   "cell_type": "code",
   "execution_count": null,
   "metadata": {
    "collapsed": true
   },
   "outputs": [],
   "source": [
    "# Read data\n",
    "\n",
    "import pandas as pd\n",
    "\n",
    "pd.set_option('display.max_columns', None)\n",
    "with_highlight_15workers_2p_filename = \"AnalysisFiles/2P_WithHighlight_Article/2p_withHighlight_article_15workers.csv\"\n",
    "with_highlight_15workers_2p_dataset = pd.read_csv(with_highlight_15workers_2p_filename)\n",
    "\n",
    "with_highlight_15workers_2p_dataset.head(5)"
   ]
  },
  {
   "cell_type": "code",
   "execution_count": 21,
   "metadata": {
    "collapsed": true
   },
   "outputs": [],
   "source": [
    "import sys\n",
    "sys.path.append('../')\n",
    "\n",
    "from defaultconfig import Configuration\n",
    "\n",
    "class NYTRelevanceAssessmentValidationConfig(Configuration):\n",
    "    inputColumns = [\"index\", \"bin\", \"doc_len\", \"document_id\", \"document_body\", \"document_title\", \"rel\", \n",
    "                    \"topic\", \"topic_description\", \"topic_query\"]\n",
    "    outputColumns = [\"relevance\"]\n",
    "    \n",
    "    annotation_separator = ','\n",
    "    \n",
    "    # processing of a closed task\n",
    "    open_ended_task = False\n",
    "    annotation_vector = [\"not_relevant\", \"relevant\"]\n",
    "    \n",
    "    def processJudgments(self, judgments):\n",
    "        # change default separator to whitespace to make it work with our file\n",
    "        for col in self.outputColumns:\n",
    "            judgments[col] = judgments[col].apply(lambda x: x.replace(' ',','))\n",
    "        return judgments\n",
    "\n",
    "config = NYTRelevanceAssessmentValidationConfig()"
   ]
  },
  {
   "cell_type": "markdown",
   "metadata": {},
   "source": [
    "### Pre-process the data and create the annotation vectors\n"
   ]
  },
  {
   "cell_type": "code",
   "execution_count": 22,
   "metadata": {
    "collapsed": true
   },
   "outputs": [],
   "source": [
    "import logging\n",
    "logger = logging.getLogger()\n",
    "logger.setLevel(logging.DEBUG)"
   ]
  },
  {
   "cell_type": "code",
   "execution_count": 23,
   "metadata": {
    "collapsed": true
   },
   "outputs": [],
   "source": [
    "from controllers.inputController import processFile\n",
    "pre_processed_results = processFile(\n",
    "    root=\".\", directory=\"\", filename=with_highlight_15workers_2p_filename,\n",
    "    config=config\n",
    ")"
   ]
  },
  {
   "cell_type": "markdown",
   "metadata": {},
   "source": [
    "### Run the metrics"
   ]
  },
  {
   "cell_type": "code",
   "execution_count": 24,
   "metadata": {},
   "outputs": [
    {
     "name": "stderr",
     "output_type": "stream",
     "text": [
      "INFO:root:1 iterations; max d= 0.943617698759 ; wqs d= 0.432105300942; sqs d= 0.293968253968; rqs d= 0.386712064918\n",
      "INFO:root:2 iterations; max d= 0.169767574826 ; wqs d= 0.0810720027504; sqs d= 0.0485872852998; rqs d= 0.0669142664549\n",
      "INFO:root:3 iterations; max d= 0.0340794474168 ; wqs d= 0.0158648126296; sqs d= 0.00669523462348; rqs d= 0.0135514689381\n",
      "INFO:root:4 iterations; max d= 0.0173475612323 ; wqs d= 0.00584428228779; sqs d= 0.00635595700162; rqs d= 0.00671013594721\n",
      "INFO:root:5 iterations; max d= 0.0051729052288 ; wqs d= 0.00236446156135; sqs d= 0.0016162979088; rqs d= 0.00228437778863\n",
      "INFO:root:6 iterations; max d= 0.00231517895961 ; wqs d= 0.000932443762667; sqs d= 0.000876175803131; rqs d= 0.000966474211947\n",
      "INFO:root:7 iterations; max d= 0.000857120123294 ; wqs d= 0.000373141056912; sqs d= 0.000294147566755; rqs d= 0.000371356948569\n"
     ]
    }
   ],
   "source": [
    "# run the metrics\n",
    "from models import Metrics\n",
    "results_with_highlight_15workers = Metrics.run(pre_processed_results, config)"
   ]
  },
  {
   "cell_type": "code",
   "execution_count": null,
   "metadata": {
    "collapsed": true
   },
   "outputs": [],
   "source": [
    "# run the metrics\n",
    "from models import Metrics\n",
    "results_with_highlight_15workers = Metrics.run(pre_processed_results, config)"
   ]
  },
  {
   "cell_type": "code",
   "execution_count": 25,
   "metadata": {},
   "outputs": [
    {
     "data": {
      "text/html": [
       "<div>\n",
       "<table border=\"1\" class=\"dataframe\">\n",
       "  <thead>\n",
       "    <tr style=\"text-align: right;\">\n",
       "      <th></th>\n",
       "      <th>duration</th>\n",
       "      <th>input.bin</th>\n",
       "      <th>input.doc_len</th>\n",
       "      <th>input.document_body</th>\n",
       "      <th>input.document_id</th>\n",
       "      <th>input.document_title</th>\n",
       "      <th>input.index</th>\n",
       "      <th>input.rel</th>\n",
       "      <th>input.topic</th>\n",
       "      <th>input.topic_description</th>\n",
       "      <th>input.topic_query</th>\n",
       "      <th>job</th>\n",
       "      <th>output.relevance</th>\n",
       "      <th>output.relevance.annotations</th>\n",
       "      <th>output.relevance.unique_annotations</th>\n",
       "      <th>worker</th>\n",
       "      <th>uqs</th>\n",
       "      <th>unit_annotation_score</th>\n",
       "      <th>uqs_initial</th>\n",
       "      <th>unit_annotation_score_initial</th>\n",
       "    </tr>\n",
       "    <tr>\n",
       "      <th>unit</th>\n",
       "      <th></th>\n",
       "      <th></th>\n",
       "      <th></th>\n",
       "      <th></th>\n",
       "      <th></th>\n",
       "      <th></th>\n",
       "      <th></th>\n",
       "      <th></th>\n",
       "      <th></th>\n",
       "      <th></th>\n",
       "      <th></th>\n",
       "      <th></th>\n",
       "      <th></th>\n",
       "      <th></th>\n",
       "      <th></th>\n",
       "      <th></th>\n",
       "      <th></th>\n",
       "      <th></th>\n",
       "      <th></th>\n",
       "      <th></th>\n",
       "    </tr>\n",
       "  </thead>\n",
       "  <tbody>\n",
       "    <tr>\n",
       "      <th>1444129004</th>\n",
       "      <td>44.533333</td>\n",
       "      <td>1</td>\n",
       "      <td>196</td>\n",
       "      <td>&lt;p&gt;A public commission ruled today that Aum Sh...</td>\n",
       "      <td>1173003</td>\n",
       "      <td>Japan Puts Gas-Attack Sect Under Scrutiny</td>\n",
       "      <td>1</td>\n",
       "      <td>1</td>\n",
       "      <td>325</td>\n",
       "      <td>Describe a cult by name and identify the cult ...</td>\n",
       "      <td>Cult Lifestyles</td>\n",
       "      <td>AnalysisFiles/2P_WithHighlight_Article/2p_with...</td>\n",
       "      <td>{u'not_relevant': 0, u'relevant': 15}</td>\n",
       "      <td>15</td>\n",
       "      <td>1</td>\n",
       "      <td>15</td>\n",
       "      <td>1.000000</td>\n",
       "      <td>{u'not_relevant': 0.0, u'relevant': 1.0}</td>\n",
       "      <td>1.000000</td>\n",
       "      <td>{u'not_relevant': 0.0, u'relevant': 1.0}</td>\n",
       "    </tr>\n",
       "    <tr>\n",
       "      <th>1444129005</th>\n",
       "      <td>34.933333</td>\n",
       "      <td>1</td>\n",
       "      <td>245</td>\n",
       "      <td>&lt;p&gt;ABC has signed a deal to develop a televisi...</td>\n",
       "      <td>920343</td>\n",
       "      <td>ABC Signs Film Deal On the Cult</td>\n",
       "      <td>2</td>\n",
       "      <td>1</td>\n",
       "      <td>325</td>\n",
       "      <td>Describe a cult by name and identify the cult ...</td>\n",
       "      <td>Cult Lifestyles</td>\n",
       "      <td>AnalysisFiles/2P_WithHighlight_Article/2p_with...</td>\n",
       "      <td>{u'not_relevant': 1, u'relevant': 14}</td>\n",
       "      <td>15</td>\n",
       "      <td>2</td>\n",
       "      <td>15</td>\n",
       "      <td>0.926377</td>\n",
       "      <td>{u'not_relevant': 0.0353015425455, u'relevant'...</td>\n",
       "      <td>0.866667</td>\n",
       "      <td>{u'not_relevant': 0.0666666666667, u'relevant'...</td>\n",
       "    </tr>\n",
       "    <tr>\n",
       "      <th>1444129006</th>\n",
       "      <td>79.200000</td>\n",
       "      <td>1</td>\n",
       "      <td>242</td>\n",
       "      <td>&lt;p&gt;Japan's peace of mind was shattered anew by...</td>\n",
       "      <td>757222</td>\n",
       "      <td>April 16-22; The Scent of Terror</td>\n",
       "      <td>3</td>\n",
       "      <td>1</td>\n",
       "      <td>325</td>\n",
       "      <td>Describe a cult by name and identify the cult ...</td>\n",
       "      <td>Cult Lifestyles</td>\n",
       "      <td>AnalysisFiles/2P_WithHighlight_Article/2p_with...</td>\n",
       "      <td>{u'not_relevant': 2, u'relevant': 13}</td>\n",
       "      <td>15</td>\n",
       "      <td>2</td>\n",
       "      <td>15</td>\n",
       "      <td>0.842480</td>\n",
       "      <td>{u'not_relevant': 0.0792533589668, u'relevant'...</td>\n",
       "      <td>0.752381</td>\n",
       "      <td>{u'not_relevant': 0.133333333333, u'relevant':...</td>\n",
       "    </tr>\n",
       "    <tr>\n",
       "      <th>1444129007</th>\n",
       "      <td>45.000000</td>\n",
       "      <td>1</td>\n",
       "      <td>237</td>\n",
       "      <td>&lt;p&gt;USA Networks Interactive, creator of the sc...</td>\n",
       "      <td>1209320</td>\n",
       "      <td>SCIFI.com in Venture With Filmmaker</td>\n",
       "      <td>4</td>\n",
       "      <td>0</td>\n",
       "      <td>325</td>\n",
       "      <td>Describe a cult by name and identify the cult ...</td>\n",
       "      <td>Cult Lifestyles</td>\n",
       "      <td>AnalysisFiles/2P_WithHighlight_Article/2p_with...</td>\n",
       "      <td>{u'not_relevant': 6, u'relevant': 9}</td>\n",
       "      <td>15</td>\n",
       "      <td>2</td>\n",
       "      <td>15</td>\n",
       "      <td>0.598446</td>\n",
       "      <td>{u'not_relevant': 0.246673434199, u'relevant':...</td>\n",
       "      <td>0.485714</td>\n",
       "      <td>{u'not_relevant': 0.4, u'relevant': 0.6}</td>\n",
       "    </tr>\n",
       "    <tr>\n",
       "      <th>1444129008</th>\n",
       "      <td>56.866667</td>\n",
       "      <td>1</td>\n",
       "      <td>140</td>\n",
       "      <td>&lt;p&gt;To the Editor:&lt;/p&gt; &lt;p&gt;There is ample eviden...</td>\n",
       "      <td>1667028</td>\n",
       "      <td>Vital at 50: Does Lifestyle Matter?</td>\n",
       "      <td>5</td>\n",
       "      <td>0</td>\n",
       "      <td>325</td>\n",
       "      <td>Describe a cult by name and identify the cult ...</td>\n",
       "      <td>Cult Lifestyles</td>\n",
       "      <td>AnalysisFiles/2P_WithHighlight_Article/2p_with...</td>\n",
       "      <td>{u'not_relevant': 4, u'relevant': 11}</td>\n",
       "      <td>15</td>\n",
       "      <td>2</td>\n",
       "      <td>15</td>\n",
       "      <td>0.729036</td>\n",
       "      <td>{u'not_relevant': 0.146956105405, u'relevant':...</td>\n",
       "      <td>0.580952</td>\n",
       "      <td>{u'not_relevant': 0.266666666667, u'relevant':...</td>\n",
       "    </tr>\n",
       "  </tbody>\n",
       "</table>\n",
       "</div>"
      ],
      "text/plain": [
       "             duration  input.bin  input.doc_len  \\\n",
       "unit                                              \n",
       "1444129004  44.533333          1            196   \n",
       "1444129005  34.933333          1            245   \n",
       "1444129006  79.200000          1            242   \n",
       "1444129007  45.000000          1            237   \n",
       "1444129008  56.866667          1            140   \n",
       "\n",
       "                                          input.document_body  \\\n",
       "unit                                                            \n",
       "1444129004  <p>A public commission ruled today that Aum Sh...   \n",
       "1444129005  <p>ABC has signed a deal to develop a televisi...   \n",
       "1444129006  <p>Japan's peace of mind was shattered anew by...   \n",
       "1444129007  <p>USA Networks Interactive, creator of the sc...   \n",
       "1444129008  <p>To the Editor:</p> <p>There is ample eviden...   \n",
       "\n",
       "            input.document_id                       input.document_title  \\\n",
       "unit                                                                       \n",
       "1444129004            1173003  Japan Puts Gas-Attack Sect Under Scrutiny   \n",
       "1444129005             920343            ABC Signs Film Deal On the Cult   \n",
       "1444129006             757222           April 16-22; The Scent of Terror   \n",
       "1444129007            1209320        SCIFI.com in Venture With Filmmaker   \n",
       "1444129008            1667028        Vital at 50: Does Lifestyle Matter?   \n",
       "\n",
       "            input.index  input.rel  input.topic  \\\n",
       "unit                                              \n",
       "1444129004            1          1          325   \n",
       "1444129005            2          1          325   \n",
       "1444129006            3          1          325   \n",
       "1444129007            4          0          325   \n",
       "1444129008            5          0          325   \n",
       "\n",
       "                                      input.topic_description  \\\n",
       "unit                                                            \n",
       "1444129004  Describe a cult by name and identify the cult ...   \n",
       "1444129005  Describe a cult by name and identify the cult ...   \n",
       "1444129006  Describe a cult by name and identify the cult ...   \n",
       "1444129007  Describe a cult by name and identify the cult ...   \n",
       "1444129008  Describe a cult by name and identify the cult ...   \n",
       "\n",
       "           input.topic_query  \\\n",
       "unit                           \n",
       "1444129004   Cult Lifestyles   \n",
       "1444129005   Cult Lifestyles   \n",
       "1444129006   Cult Lifestyles   \n",
       "1444129007   Cult Lifestyles   \n",
       "1444129008   Cult Lifestyles   \n",
       "\n",
       "                                                          job  \\\n",
       "unit                                                            \n",
       "1444129004  AnalysisFiles/2P_WithHighlight_Article/2p_with...   \n",
       "1444129005  AnalysisFiles/2P_WithHighlight_Article/2p_with...   \n",
       "1444129006  AnalysisFiles/2P_WithHighlight_Article/2p_with...   \n",
       "1444129007  AnalysisFiles/2P_WithHighlight_Article/2p_with...   \n",
       "1444129008  AnalysisFiles/2P_WithHighlight_Article/2p_with...   \n",
       "\n",
       "                                 output.relevance  \\\n",
       "unit                                                \n",
       "1444129004  {u'not_relevant': 0, u'relevant': 15}   \n",
       "1444129005  {u'not_relevant': 1, u'relevant': 14}   \n",
       "1444129006  {u'not_relevant': 2, u'relevant': 13}   \n",
       "1444129007   {u'not_relevant': 6, u'relevant': 9}   \n",
       "1444129008  {u'not_relevant': 4, u'relevant': 11}   \n",
       "\n",
       "            output.relevance.annotations  output.relevance.unique_annotations  \\\n",
       "unit                                                                            \n",
       "1444129004                            15                                    1   \n",
       "1444129005                            15                                    2   \n",
       "1444129006                            15                                    2   \n",
       "1444129007                            15                                    2   \n",
       "1444129008                            15                                    2   \n",
       "\n",
       "            worker       uqs  \\\n",
       "unit                           \n",
       "1444129004      15  1.000000   \n",
       "1444129005      15  0.926377   \n",
       "1444129006      15  0.842480   \n",
       "1444129007      15  0.598446   \n",
       "1444129008      15  0.729036   \n",
       "\n",
       "                                        unit_annotation_score  uqs_initial  \\\n",
       "unit                                                                         \n",
       "1444129004           {u'not_relevant': 0.0, u'relevant': 1.0}     1.000000   \n",
       "1444129005  {u'not_relevant': 0.0353015425455, u'relevant'...     0.866667   \n",
       "1444129006  {u'not_relevant': 0.0792533589668, u'relevant'...     0.752381   \n",
       "1444129007  {u'not_relevant': 0.246673434199, u'relevant':...     0.485714   \n",
       "1444129008  {u'not_relevant': 0.146956105405, u'relevant':...     0.580952   \n",
       "\n",
       "                                unit_annotation_score_initial  \n",
       "unit                                                           \n",
       "1444129004           {u'not_relevant': 0.0, u'relevant': 1.0}  \n",
       "1444129005  {u'not_relevant': 0.0666666666667, u'relevant'...  \n",
       "1444129006  {u'not_relevant': 0.133333333333, u'relevant':...  \n",
       "1444129007           {u'not_relevant': 0.4, u'relevant': 0.6}  \n",
       "1444129008  {u'not_relevant': 0.266666666667, u'relevant':...  "
      ]
     },
     "execution_count": 25,
     "metadata": {},
     "output_type": "execute_result"
    }
   ],
   "source": [
    "results_with_highlight_15workers[\"units\"].head(5)"
   ]
  },
  {
   "cell_type": "markdown",
   "metadata": {},
   "source": [
    "### Plot the unit quality score (UQS) at the beginning of the process and at the end"
   ]
  },
  {
   "cell_type": "code",
   "execution_count": 26,
   "metadata": {},
   "outputs": [
    {
     "data": {
      "text/plain": [
       "Text(0,0.5,u'# Units')"
      ]
     },
     "execution_count": 26,
     "metadata": {},
     "output_type": "execute_result"
    },
    {
     "data": {
      "image/png": "[encoded data removed]",
      "text/plain": [
       "<matplotlib.figure.Figure at 0x61bb70a90>"
      ]
     },
     "metadata": {},
     "output_type": "display_data"
    }
   ],
   "source": [
    "import matplotlib.pyplot as plt\n",
    "%matplotlib inline\n",
    "\n",
    "plt.rcParams['figure.figsize'] = 15, 5\n",
    "\n",
    "plt.subplot(1, 2, 1)\n",
    "plt.hist(results_with_highlight_15workers[\"units\"][\"uqs\"])\n",
    "plt.ylim(0, 35)\n",
    "plt.xlabel(\"UQS\")\n",
    "plt.ylabel(\"# Units\")\n",
    "\n",
    "plt.subplot(1, 2, 2)\n",
    "plt.hist(results_with_highlight_15workers[\"units\"][\"uqs_initial\"])\n",
    "plt.ylim(0, 35)\n",
    "plt.xlabel(\"UQS Initial\")\n",
    "plt.ylabel(\"# Units\")"
   ]
  },
  {
   "cell_type": "markdown",
   "metadata": {},
   "source": [
    "### Plot the change in the unit quality score (UQS) (beginning of the process - end of the process)"
   ]
  },
  {
   "cell_type": "code",
   "execution_count": 27,
   "metadata": {},
   "outputs": [
    {
     "data": {
      "text/plain": [
       "Text(0,0.5,u'Change in clarity')"
      ]
     },
     "execution_count": 27,
     "metadata": {},
     "output_type": "execute_result"
    },
    {
     "data": {
      "image/png": "[encoded data removed]",
      "text/plain": [
       "<matplotlib.figure.Figure at 0x61bbcd110>"
      ]
     },
     "metadata": {},
     "output_type": "display_data"
    }
   ],
   "source": [
    "import numpy as np\n",
    "\n",
    "difference = results_with_highlight_15workers[\"units\"][\"uqs_initial\"] - results_with_highlight_15workers[\"units\"][\"uqs\"]\n",
    "difference = np.sort(difference)\n",
    "plt.plot(np.arange(results_with_highlight_15workers[\"units\"].shape[0]), difference, 'ro')\n",
    "plt.axhline(y=0)\n",
    "plt.xlabel(\"Unit Index\")\n",
    "plt.ylabel(\"Change in clarity\")"
   ]
  },
  {
   "cell_type": "code",
   "execution_count": 28,
   "metadata": {},
   "outputs": [
    {
     "name": "stderr",
     "output_type": "stream",
     "text": [
      "/Users/oanainel/anaconda/envs/CrowdTruth2/lib/python2.7/site-packages/ipykernel_launcher.py:1: FutureWarning: sort(columns=....) is deprecated, use sort_values(by=.....)\n",
      "  \"\"\"Entry point for launching an IPython kernel.\n"
     ]
    }
   ],
   "source": [
    "sortUQS = results_with_highlight_15workers[\"units\"].sort(['uqs'], ascending=[1])"
   ]
  },
  {
   "cell_type": "code",
   "execution_count": 29,
   "metadata": {},
   "outputs": [
    {
     "data": {
      "text/plain": [
       "Text(0.5,0,u'Sentence Index')"
      ]
     },
     "execution_count": 29,
     "metadata": {},
     "output_type": "execute_result"
    },
    {
     "data": {
      "image/png": "[encoded data removed]",
      "text/plain": [
       "<matplotlib.figure.Figure at 0x61bb14050>"
      ]
     },
     "metadata": {},
     "output_type": "display_data"
    }
   ],
   "source": [
    "import numpy as np\n",
    "\n",
    "plt.rcParams['figure.figsize'] = 15, 5\n",
    "\n",
    "plt.plot(np.arange(sortUQS.shape[0]), sortUQS[\"uqs_initial\"], 'ro', lw = 1, label = \"Initial UQS\")\n",
    "plt.plot(np.arange(sortUQS.shape[0]), sortUQS[\"uqs\"], 'go', lw = 1, label = \"Final UQS\")\n",
    "\n",
    "plt.ylabel('Unit Quality Score')\n",
    "plt.xlabel('Sentence Index')"
   ]
  },
  {
   "cell_type": "markdown",
   "metadata": {},
   "source": [
    "### Plot the worker quality score (WQS) at the beginning of the process and at the end"
   ]
  },
  {
   "cell_type": "markdown",
   "metadata": {},
   "source": [
    "#### Print the results for the workers in our dataset"
   ]
  },
  {
   "cell_type": "code",
   "execution_count": 30,
   "metadata": {},
   "outputs": [
    {
     "data": {
      "text/html": [
       "<div>\n",
       "<table border=\"1\" class=\"dataframe\">\n",
       "  <thead>\n",
       "    <tr style=\"text-align: right;\">\n",
       "      <th></th>\n",
       "      <th>duration</th>\n",
       "      <th>output.relevance.count</th>\n",
       "      <th>job</th>\n",
       "      <th>judgment</th>\n",
       "      <th>unit</th>\n",
       "      <th>wqs</th>\n",
       "      <th>wqs_initial</th>\n",
       "    </tr>\n",
       "    <tr>\n",
       "      <th>worker</th>\n",
       "      <th></th>\n",
       "      <th></th>\n",
       "      <th></th>\n",
       "      <th></th>\n",
       "      <th></th>\n",
       "      <th></th>\n",
       "      <th></th>\n",
       "    </tr>\n",
       "  </thead>\n",
       "  <tbody>\n",
       "    <tr>\n",
       "      <th>1924522</th>\n",
       "      <td>28.727273</td>\n",
       "      <td>1</td>\n",
       "      <td>1</td>\n",
       "      <td>11</td>\n",
       "      <td>11</td>\n",
       "      <td>0.533171</td>\n",
       "      <td>0.530084</td>\n",
       "    </tr>\n",
       "    <tr>\n",
       "      <th>3587109</th>\n",
       "      <td>34.116667</td>\n",
       "      <td>1</td>\n",
       "      <td>1</td>\n",
       "      <td>60</td>\n",
       "      <td>60</td>\n",
       "      <td>0.579476</td>\n",
       "      <td>0.543353</td>\n",
       "    </tr>\n",
       "    <tr>\n",
       "      <th>6377879</th>\n",
       "      <td>84.200000</td>\n",
       "      <td>1</td>\n",
       "      <td>1</td>\n",
       "      <td>25</td>\n",
       "      <td>25</td>\n",
       "      <td>0.440049</td>\n",
       "      <td>0.426459</td>\n",
       "    </tr>\n",
       "    <tr>\n",
       "      <th>11131207</th>\n",
       "      <td>184.140000</td>\n",
       "      <td>1</td>\n",
       "      <td>1</td>\n",
       "      <td>100</td>\n",
       "      <td>100</td>\n",
       "      <td>0.293818</td>\n",
       "      <td>0.308574</td>\n",
       "    </tr>\n",
       "    <tr>\n",
       "      <th>11257883</th>\n",
       "      <td>56.000000</td>\n",
       "      <td>1</td>\n",
       "      <td>1</td>\n",
       "      <td>1</td>\n",
       "      <td>1</td>\n",
       "      <td>0.626607</td>\n",
       "      <td>0.457143</td>\n",
       "    </tr>\n",
       "    <tr>\n",
       "      <th>11314968</th>\n",
       "      <td>221.000000</td>\n",
       "      <td>1</td>\n",
       "      <td>1</td>\n",
       "      <td>1</td>\n",
       "      <td>1</td>\n",
       "      <td>0.959796</td>\n",
       "      <td>0.925836</td>\n",
       "    </tr>\n",
       "    <tr>\n",
       "      <th>17122301</th>\n",
       "      <td>127.612903</td>\n",
       "      <td>1</td>\n",
       "      <td>1</td>\n",
       "      <td>31</td>\n",
       "      <td>31</td>\n",
       "      <td>0.582741</td>\n",
       "      <td>0.563161</td>\n",
       "    </tr>\n",
       "    <tr>\n",
       "      <th>18672993</th>\n",
       "      <td>156.900000</td>\n",
       "      <td>1</td>\n",
       "      <td>1</td>\n",
       "      <td>10</td>\n",
       "      <td>10</td>\n",
       "      <td>0.634696</td>\n",
       "      <td>0.624857</td>\n",
       "    </tr>\n",
       "    <tr>\n",
       "      <th>21613169</th>\n",
       "      <td>62.234694</td>\n",
       "      <td>1</td>\n",
       "      <td>1</td>\n",
       "      <td>98</td>\n",
       "      <td>98</td>\n",
       "      <td>0.418105</td>\n",
       "      <td>0.422833</td>\n",
       "    </tr>\n",
       "    <tr>\n",
       "      <th>26024737</th>\n",
       "      <td>31.442623</td>\n",
       "      <td>1</td>\n",
       "      <td>1</td>\n",
       "      <td>61</td>\n",
       "      <td>61</td>\n",
       "      <td>0.719759</td>\n",
       "      <td>0.624113</td>\n",
       "    </tr>\n",
       "  </tbody>\n",
       "</table>\n",
       "</div>"
      ],
      "text/plain": [
       "            duration  output.relevance.count  job  judgment  unit       wqs  \\\n",
       "worker                                                                        \n",
       "1924522    28.727273                       1    1        11    11  0.533171   \n",
       "3587109    34.116667                       1    1        60    60  0.579476   \n",
       "6377879    84.200000                       1    1        25    25  0.440049   \n",
       "11131207  184.140000                       1    1       100   100  0.293818   \n",
       "11257883   56.000000                       1    1         1     1  0.626607   \n",
       "11314968  221.000000                       1    1         1     1  0.959796   \n",
       "17122301  127.612903                       1    1        31    31  0.582741   \n",
       "18672993  156.900000                       1    1        10    10  0.634696   \n",
       "21613169   62.234694                       1    1        98    98  0.418105   \n",
       "26024737   31.442623                       1    1        61    61  0.719759   \n",
       "\n",
       "          wqs_initial  \n",
       "worker                 \n",
       "1924522      0.530084  \n",
       "3587109      0.543353  \n",
       "6377879      0.426459  \n",
       "11131207     0.308574  \n",
       "11257883     0.457143  \n",
       "11314968     0.925836  \n",
       "17122301     0.563161  \n",
       "18672993     0.624857  \n",
       "21613169     0.422833  \n",
       "26024737     0.624113  "
      ]
     },
     "execution_count": 30,
     "metadata": {},
     "output_type": "execute_result"
    }
   ],
   "source": [
    "results_with_highlight_15workers[\"workers\"].head(10)"
   ]
  },
  {
   "cell_type": "code",
   "execution_count": 31,
   "metadata": {},
   "outputs": [
    {
     "data": {
      "text/plain": [
       "Text(0,0.5,u'# Workers')"
      ]
     },
     "execution_count": 31,
     "metadata": {},
     "output_type": "execute_result"
    },
    {
     "data": {
      "image/png": "[encoded data removed]",
      "text/plain": [
       "<matplotlib.figure.Figure at 0x61bb093d0>"
      ]
     },
     "metadata": {},
     "output_type": "display_data"
    }
   ],
   "source": [
    "plt.rcParams['figure.figsize'] = 15, 5\n",
    "\n",
    "plt.subplot(1, 2, 1)\n",
    "plt.hist(results_with_highlight_15workers[\"workers\"][\"wqs\"])\n",
    "plt.ylim(0, 16)\n",
    "plt.xlabel(\"WQS\")\n",
    "plt.ylabel(\"# Workers\")\n",
    "\n",
    "plt.subplot(1, 2, 2)\n",
    "plt.hist(results_with_highlight_15workers[\"workers\"][\"wqs_initial\"])\n",
    "plt.ylim(0, 16)\n",
    "plt.xlabel(\"WQS Initial\")\n",
    "plt.ylabel(\"# Workers\")"
   ]
  },
  {
   "cell_type": "markdown",
   "metadata": {},
   "source": [
    "### Plot the change in worker qualtity score (WQS) at the beginning of the process and at the end"
   ]
  },
  {
   "cell_type": "code",
   "execution_count": 32,
   "metadata": {},
   "outputs": [
    {
     "name": "stderr",
     "output_type": "stream",
     "text": [
      "/Users/oanainel/anaconda/envs/CrowdTruth2/lib/python2.7/site-packages/ipykernel_launcher.py:1: FutureWarning: sort(columns=....) is deprecated, use sort_values(by=.....)\n",
      "  \"\"\"Entry point for launching an IPython kernel.\n"
     ]
    }
   ],
   "source": [
    "sortWQS = results_with_highlight_15workers[\"workers\"].sort(['wqs'], ascending=[1])"
   ]
  },
  {
   "cell_type": "code",
   "execution_count": 33,
   "metadata": {
    "scrolled": true
   },
   "outputs": [
    {
     "data": {
      "text/plain": [
       "Text(0.5,0,u'Worker Index')"
      ]
     },
     "execution_count": 33,
     "metadata": {},
     "output_type": "execute_result"
    },
    {
     "data": {
      "image/png": "[encoded data removed]",
      "text/plain": [
       "<matplotlib.figure.Figure at 0x61ba96ed0>"
      ]
     },
     "metadata": {},
     "output_type": "display_data"
    }
   ],
   "source": [
    "plt.rcParams['figure.figsize'] = 15, 5\n",
    "\n",
    "plt.plot(np.arange(sortWQS.shape[0]), sortWQS[\"wqs_initial\"], 'ro', lw = 1, label = \"Initial UQS\")\n",
    "plt.plot(np.arange(sortWQS.shape[0]), sortWQS[\"wqs\"], 'go', lw = 1, label = \"Final UQS\")\n",
    "\n",
    "plt.ylabel('Worker Quality Score')\n",
    "plt.xlabel('Worker Index')\n",
    "#plt.legend(loc=9, bbox_to_anchor=(0.5, 1.2), ncol=3, prop={'size':12})"
   ]
  },
  {
   "cell_type": "markdown",
   "metadata": {},
   "source": [
    "### Show the annotation quality score (AQS) at the beginning of the process and at the end\n"
   ]
  },
  {
   "cell_type": "code",
   "execution_count": 34,
   "metadata": {},
   "outputs": [
    {
     "data": {
      "text/html": [
       "<div>\n",
       "<table border=\"1\" class=\"dataframe\">\n",
       "  <thead>\n",
       "    <tr style=\"text-align: right;\">\n",
       "      <th></th>\n",
       "      <th>output.relevance</th>\n",
       "      <th>aqs</th>\n",
       "      <th>aqs_initial</th>\n",
       "    </tr>\n",
       "  </thead>\n",
       "  <tbody>\n",
       "    <tr>\n",
       "      <th>relevant</th>\n",
       "      <td>1800</td>\n",
       "      <td>0.868145</td>\n",
       "      <td>0.783815</td>\n",
       "    </tr>\n",
       "    <tr>\n",
       "      <th>not_relevant</th>\n",
       "      <td>1800</td>\n",
       "      <td>0.345495</td>\n",
       "      <td>0.442761</td>\n",
       "    </tr>\n",
       "  </tbody>\n",
       "</table>\n",
       "</div>"
      ],
      "text/plain": [
       "              output.relevance       aqs  aqs_initial\n",
       "relevant                  1800  0.868145     0.783815\n",
       "not_relevant              1800  0.345495     0.442761"
      ]
     },
     "execution_count": 34,
     "metadata": {},
     "output_type": "execute_result"
    }
   ],
   "source": [
    "results_with_highlight_15workers[\"annotations\"]"
   ]
  },
  {
   "cell_type": "markdown",
   "metadata": {},
   "source": [
    "## Comparison with revised ground truth"
   ]
  },
  {
   "cell_type": "code",
   "execution_count": 35,
   "metadata": {
    "collapsed": true
   },
   "outputs": [],
   "source": [
    "gt = pd.read_csv(\"ground_truth_annotation.csv\")\n",
    "\n",
    "results_with_highlight_15workers[\"units\"][\"reviewers_rel\"] = pd.Series(np.random.randn(len(results_with_highlight_15workers[\"units\"].index)), index=results_with_highlight_15workers[\"units\"].index)\n",
    "results_with_highlight_15workers[\"units\"][\"reviewers_rel_merged\"] = pd.Series(np.random.randn(len(results_with_highlight_15workers[\"units\"].index)), index=results_with_highlight_15workers[\"units\"].index)\n",
    "results_with_highlight_15workers[\"units\"][\"rel_merged\"] = pd.Series(np.random.randn(len(results_with_highlight_15workers[\"units\"].index)), index=results_with_highlight_15workers[\"units\"].index)\n",
    "\n",
    "for i in range(0, len(results_with_highlight_15workers[\"units\"].index)):\n",
    "    for j in range(0, len(gt.index)):\n",
    "        if (results_with_highlight_15workers[\"units\"][\"input.topic\"].iloc[i] == gt[\"topic\"].iloc[j]) and (results_with_highlight_15workers[\"units\"][\"input.document_id\"].iloc[i] == gt[\"document_id\"].iloc[j]):\n",
    "            results_with_highlight_15workers[\"units\"][\"reviewers_rel\"].iloc[i] = gt[\"reviewers_rel\"].iloc[j]\n",
    "            results_with_highlight_15workers[\"units\"][\"reviewers_rel_merged\"].iloc[i] = gt[\"reviewers_rel_merged\"].iloc[j]\n",
    "            results_with_highlight_15workers[\"units\"][\"rel_merged\"].iloc[i] = gt[\"nist_rel_merged\"].iloc[j]"
   ]
  },
  {
   "cell_type": "code",
   "execution_count": 36,
   "metadata": {
    "collapsed": true
   },
   "outputs": [],
   "source": [
    "results_with_highlight_15workers[\"units\"][\"relevance_score\"] = pd.Series(np.random.randn(len(results_with_highlight_15workers[\"units\"].index)), index=results_with_highlight_15workers[\"units\"].index)\n",
    "\n",
    "for i in range(0, len(results_with_highlight_15workers[\"units\"].index)):\n",
    "    results_with_highlight_15workers[\"units\"][\"relevance_score\"].iloc[i] = results_with_highlight_15workers[\"units\"]['unit_annotation_score'].iloc[i][\"relevant\"]"
   ]
  },
  {
   "cell_type": "code",
   "execution_count": 37,
   "metadata": {
    "collapsed": true
   },
   "outputs": [],
   "source": [
    "import help_functions as func\n",
    "highlight_15workers_F1_notrelevant_merged = func.compute_F1_score_not_relevant(results_with_highlight_15workers[\"units\"])\n",
    "highlight_15workers_F1_relevant_merged = func.compute_F1_score_relevant(results_with_highlight_15workers[\"units\"])"
   ]
  },
  {
   "cell_type": "code",
   "execution_count": 38,
   "metadata": {},
   "outputs": [
    {
     "data": {
      "text/plain": [
       "array([[ 0.01      ,  0.        ],\n",
       "       [ 0.02      ,  0.        ],\n",
       "       [ 0.03      ,  0.        ],\n",
       "       [ 0.04      ,  0.        ],\n",
       "       [ 0.05      ,  0.        ],\n",
       "       [ 0.06      ,  0.        ],\n",
       "       [ 0.07      ,  0.        ],\n",
       "       [ 0.08      ,  0.        ],\n",
       "       [ 0.09      ,  0.        ],\n",
       "       [ 0.1       ,  0.        ],\n",
       "       [ 0.11      ,  0.        ],\n",
       "       [ 0.12      ,  0.        ],\n",
       "       [ 0.13      ,  0.        ],\n",
       "       [ 0.14      ,  0.        ],\n",
       "       [ 0.15      ,  0.        ],\n",
       "       [ 0.16      ,  0.        ],\n",
       "       [ 0.17      ,  0.        ],\n",
       "       [ 0.18      ,  0.        ],\n",
       "       [ 0.19      ,  0.        ],\n",
       "       [ 0.2       ,  0.        ],\n",
       "       [ 0.21      ,  0.        ],\n",
       "       [ 0.22      ,  0.        ],\n",
       "       [ 0.23      ,  0.        ],\n",
       "       [ 0.24      ,  0.        ],\n",
       "       [ 0.25      ,  0.        ],\n",
       "       [ 0.26      ,  0.        ],\n",
       "       [ 0.27      ,  0.        ],\n",
       "       [ 0.28      ,  0.        ],\n",
       "       [ 0.29      ,  0.        ],\n",
       "       [ 0.3       ,  0.        ],\n",
       "       [ 0.31      ,  0.        ],\n",
       "       [ 0.32      ,  0.        ],\n",
       "       [ 0.33      ,  0.        ],\n",
       "       [ 0.34      ,  0.        ],\n",
       "       [ 0.35      ,  0.        ],\n",
       "       [ 0.36      ,  0.        ],\n",
       "       [ 0.37      ,  0.        ],\n",
       "       [ 0.38      ,  0.        ],\n",
       "       [ 0.39      ,  0.        ],\n",
       "       [ 0.4       ,  0.        ],\n",
       "       [ 0.41      ,  0.        ],\n",
       "       [ 0.42      ,  0.07272727],\n",
       "       [ 0.43      ,  0.14035088],\n",
       "       [ 0.44      ,  0.17241379],\n",
       "       [ 0.45      ,  0.17241379],\n",
       "       [ 0.46      ,  0.20338983],\n",
       "       [ 0.47      ,  0.23333333],\n",
       "       [ 0.48      ,  0.23333333],\n",
       "       [ 0.49      ,  0.23333333],\n",
       "       [ 0.5       ,  0.29032258],\n",
       "       [ 0.51      ,  0.36923077],\n",
       "       [ 0.52      ,  0.39393939],\n",
       "       [ 0.53      ,  0.39393939],\n",
       "       [ 0.54      ,  0.39393939],\n",
       "       [ 0.55      ,  0.41791045],\n",
       "       [ 0.56      ,  0.48571429],\n",
       "       [ 0.57      ,  0.48571429],\n",
       "       [ 0.58      ,  0.50704225],\n",
       "       [ 0.59      ,  0.52777778],\n",
       "       [ 0.6       ,  0.56756757],\n",
       "       [ 0.61      ,  0.56756757],\n",
       "       [ 0.62      ,  0.58666667],\n",
       "       [ 0.63      ,  0.60526316],\n",
       "       [ 0.64      ,  0.62337662],\n",
       "       [ 0.65      ,  0.62337662],\n",
       "       [ 0.66      ,  0.62337662],\n",
       "       [ 0.67      ,  0.62337662],\n",
       "       [ 0.68      ,  0.64102564],\n",
       "       [ 0.69      ,  0.65822785],\n",
       "       [ 0.7       ,  0.65822785],\n",
       "       [ 0.71      ,  0.65822785],\n",
       "       [ 0.72      ,  0.65      ],\n",
       "       [ 0.73      ,  0.65      ],\n",
       "       [ 0.74      ,  0.65      ],\n",
       "       [ 0.75      ,  0.64197531],\n",
       "       [ 0.76      ,  0.65060241],\n",
       "       [ 0.77      ,  0.65060241],\n",
       "       [ 0.78      ,  0.64285714],\n",
       "       [ 0.79      ,  0.6744186 ],\n",
       "       [ 0.8       ,  0.68181818],\n",
       "       [ 0.81      ,  0.7173913 ],\n",
       "       [ 0.82      ,  0.72916667],\n",
       "       [ 0.83      ,  0.72916667],\n",
       "       [ 0.84      ,  0.74226804],\n",
       "       [ 0.85      ,  0.75510204],\n",
       "       [ 0.86      ,  0.7961165 ],\n",
       "       [ 0.87      ,  0.81132075],\n",
       "       [ 0.88      ,  0.81481481],\n",
       "       [ 0.89      ,  0.81081081],\n",
       "       [ 0.9       ,  0.84482759],\n",
       "       [ 0.91      ,  0.83333333],\n",
       "       [ 0.92      ,  0.83333333],\n",
       "       [ 0.93      ,  0.81889764],\n",
       "       [ 0.94      ,  0.78518519],\n",
       "       [ 0.95      ,  0.77372263],\n",
       "       [ 0.96      ,  0.76811594],\n",
       "       [ 0.97      ,  0.71621622],\n",
       "       [ 0.98      ,  0.71621622],\n",
       "       [ 0.99      ,  0.71621622],\n",
       "       [ 1.        ,  0.61271676]])"
      ]
     },
     "execution_count": 38,
     "metadata": {},
     "output_type": "execute_result"
    }
   ],
   "source": [
    "highlight_15workers_F1_notrelevant_merged"
   ]
  },
  {
   "cell_type": "code",
   "execution_count": 39,
   "metadata": {},
   "outputs": [
    {
     "data": {
      "text/plain": [
       "array([[ 0.01      ,  0.71657754],\n",
       "       [ 0.02      ,  0.71657754],\n",
       "       [ 0.03      ,  0.71657754],\n",
       "       [ 0.04      ,  0.71657754],\n",
       "       [ 0.05      ,  0.71657754],\n",
       "       [ 0.06      ,  0.71657754],\n",
       "       [ 0.07      ,  0.71657754],\n",
       "       [ 0.08      ,  0.71657754],\n",
       "       [ 0.09      ,  0.71657754],\n",
       "       [ 0.1       ,  0.71657754],\n",
       "       [ 0.11      ,  0.71657754],\n",
       "       [ 0.12      ,  0.71657754],\n",
       "       [ 0.13      ,  0.71657754],\n",
       "       [ 0.14      ,  0.71657754],\n",
       "       [ 0.15      ,  0.71657754],\n",
       "       [ 0.16      ,  0.71657754],\n",
       "       [ 0.17      ,  0.71657754],\n",
       "       [ 0.18      ,  0.71657754],\n",
       "       [ 0.19      ,  0.71657754],\n",
       "       [ 0.2       ,  0.71657754],\n",
       "       [ 0.21      ,  0.71657754],\n",
       "       [ 0.22      ,  0.71657754],\n",
       "       [ 0.23      ,  0.71657754],\n",
       "       [ 0.24      ,  0.71657754],\n",
       "       [ 0.25      ,  0.71657754],\n",
       "       [ 0.26      ,  0.71657754],\n",
       "       [ 0.27      ,  0.71657754],\n",
       "       [ 0.28      ,  0.71657754],\n",
       "       [ 0.29      ,  0.71657754],\n",
       "       [ 0.3       ,  0.71657754],\n",
       "       [ 0.31      ,  0.71657754],\n",
       "       [ 0.32      ,  0.71657754],\n",
       "       [ 0.33      ,  0.71657754],\n",
       "       [ 0.34      ,  0.71657754],\n",
       "       [ 0.35      ,  0.71657754],\n",
       "       [ 0.36      ,  0.71657754],\n",
       "       [ 0.37      ,  0.71657754],\n",
       "       [ 0.38      ,  0.71657754],\n",
       "       [ 0.39      ,  0.71657754],\n",
       "       [ 0.4       ,  0.71657754],\n",
       "       [ 0.41      ,  0.71657754],\n",
       "       [ 0.42      ,  0.72432432],\n",
       "       [ 0.43      ,  0.73224044],\n",
       "       [ 0.44      ,  0.73626374],\n",
       "       [ 0.45      ,  0.73626374],\n",
       "       [ 0.46      ,  0.74033149],\n",
       "       [ 0.47      ,  0.74444444],\n",
       "       [ 0.48      ,  0.74444444],\n",
       "       [ 0.49      ,  0.74444444],\n",
       "       [ 0.5       ,  0.75280899],\n",
       "       [ 0.51      ,  0.76571429],\n",
       "       [ 0.52      ,  0.77011494],\n",
       "       [ 0.53      ,  0.77011494],\n",
       "       [ 0.54      ,  0.77011494],\n",
       "       [ 0.55      ,  0.77456647],\n",
       "       [ 0.56      ,  0.78823529],\n",
       "       [ 0.57      ,  0.78823529],\n",
       "       [ 0.58      ,  0.79289941],\n",
       "       [ 0.59      ,  0.79761905],\n",
       "       [ 0.6       ,  0.80722892],\n",
       "       [ 0.61      ,  0.80722892],\n",
       "       [ 0.62      ,  0.81212121],\n",
       "       [ 0.63      ,  0.81707317],\n",
       "       [ 0.64      ,  0.82208589],\n",
       "       [ 0.65      ,  0.82208589],\n",
       "       [ 0.66      ,  0.82208589],\n",
       "       [ 0.67      ,  0.82208589],\n",
       "       [ 0.68      ,  0.82716049],\n",
       "       [ 0.69      ,  0.83229814],\n",
       "       [ 0.7       ,  0.83229814],\n",
       "       [ 0.71      ,  0.83229814],\n",
       "       [ 0.72      ,  0.825     ],\n",
       "       [ 0.73      ,  0.825     ],\n",
       "       [ 0.74      ,  0.825     ],\n",
       "       [ 0.75      ,  0.81761006],\n",
       "       [ 0.76      ,  0.81528662],\n",
       "       [ 0.77      ,  0.81528662],\n",
       "       [ 0.78      ,  0.80769231],\n",
       "       [ 0.79      ,  0.81818182],\n",
       "       [ 0.8       ,  0.81578947],\n",
       "       [ 0.81      ,  0.82432432],\n",
       "       [ 0.82      ,  0.81944444],\n",
       "       [ 0.83      ,  0.81944444],\n",
       "       [ 0.84      ,  0.82517483],\n",
       "       [ 0.85      ,  0.83098592],\n",
       "       [ 0.86      ,  0.84671533],\n",
       "       [ 0.87      ,  0.85074627],\n",
       "       [ 0.88      ,  0.84848485],\n",
       "       [ 0.89      ,  0.8372093 ],\n",
       "       [ 0.9       ,  0.85483871],\n",
       "       [ 0.91      ,  0.83333333],\n",
       "       [ 0.92      ,  0.83333333],\n",
       "       [ 0.93      ,  0.79646018],\n",
       "       [ 0.94      ,  0.72380952],\n",
       "       [ 0.95      ,  0.69902913],\n",
       "       [ 0.96      ,  0.68627451],\n",
       "       [ 0.97      ,  0.54347826],\n",
       "       [ 0.98      ,  0.54347826],\n",
       "       [ 0.99      ,  0.54347826],\n",
       "       [ 1.        ,  0.54347826]])"
      ]
     },
     "execution_count": 39,
     "metadata": {},
     "output_type": "execute_result"
    }
   ],
   "source": [
    "highlight_15workers_F1_relevant_merged"
   ]
  },
  {
   "cell_type": "code",
   "execution_count": 40,
   "metadata": {
    "collapsed": true
   },
   "outputs": [],
   "source": [
    "reload(func)\n",
    "\n",
    "highlight_expertsF1_notrelevant_merged_newGT = func.compute_F1_score_experts_merged(results_with_highlight_15workers[\"units\"],0)\n",
    "highlight_expertsF1_relevant_merged_newGT = func.compute_F1_score_experts_merged(results_with_highlight_15workers[\"units\"],1)"
   ]
  },
  {
   "cell_type": "code",
   "execution_count": 41,
   "metadata": {},
   "outputs": [
    {
     "data": {
      "image/png": "[encoded data removed]",
      "text/plain": [
       "<matplotlib.figure.Figure at 0x61bbad250>"
      ]
     },
     "metadata": {},
     "output_type": "display_data"
    }
   ],
   "source": [
    "plt.rcParams['figure.figsize'] = 6, 4\n",
    "plt.plot(highlight_15workers_F1_notrelevant_merged[:,0], highlight_15workers_F1_notrelevant_merged[:,1], 'bo-', color = 'red', lw = 2, label = \"F1 Crowd - Not Relevant\")\n",
    "plt.plot(highlight_15workers_F1_relevant_merged[:,0], highlight_15workers_F1_relevant_merged[:,1], 'bo-', color = 'darkgreen', lw = 2, label = \"F1 Crowd - Relevant\")\n",
    "\n",
    "plt.axhline(y = highlight_expertsF1_notrelevant_merged_newGT, ls = '-', color = 'pink', lw = 2, label = \"F1 NIST - Not Relevant\")\n",
    "plt.axhline(y = highlight_expertsF1_relevant_merged_newGT, ls = '--', color = 'lightgreen', lw = 2, label = \"F1 NIST - Relevant\")\n",
    "plt.xlim(0.1,1.0)\n",
    "plt.xlabel(\"TDP-RelVal score neg/pos threshold\", fontsize=18)\n",
    "plt.ylabel(\"F1-score\", fontsize=20)\n",
    "plt.yticks(fontsize=20)\n",
    "plt.ylim(0.0,1.0)\n",
    "plt.xticks(fontsize=18)\n",
    "plt.yticks(fontsize=18)\n",
    "leg = plt.legend(fontsize=14)\n",
    "leg.get_frame().set_alpha(0.8)\n",
    "plt.grid(ls=':')\n",
    "#plt.title(\"Without Highlight, Relations Not Merged, 3-point scale\")\n",
    "plt.savefig(\"Plots/2p_withHighlight_F1_merged_eval_reviewers.pdf\", bbox_inches='tight', dpi=1000)"
   ]
  },
  {
   "cell_type": "code",
   "execution_count": 42,
   "metadata": {
    "collapsed": true
   },
   "outputs": [],
   "source": [
    "results_with_highlight_15workers[\"units\"].to_csv(\"ResultFiles/2P_WithHighlight_Article/units_withHighlight_15workers_2p.csv\", index=False)"
   ]
  },
  {
   "cell_type": "markdown",
   "metadata": {},
   "source": [
    "## Print the files with results"
   ]
  },
  {
   "cell_type": "code",
   "execution_count": 51,
   "metadata": {
    "collapsed": true
   },
   "outputs": [],
   "source": [
    "# print workers\n",
    "results_with_highlight_15workers[\"workers\"].to_csv(\"ResultFiles/2P_WithHighlight_Article/workers_withHighlight_15workers_2p.csv\")\n",
    "\n",
    "# print units\n",
    "results_with_highlight_15workers[\"units\"].to_csv(\"ResultFiles/2P_WithHighlight_Article/units_withHighlight_15workers_2p.csv\")\n",
    "\n",
    "# print annotations\n",
    "results_with_highlight_15workers[\"annotations\"].to_csv(\"ResultFiles/2P_WithHighlight_Article/annotations_withHighlight_15workers_2p.csv\")"
   ]
  }
 ],
 "metadata": {
  "kernelspec": {
   "display_name": "Python 2",
   "language": "python",
   "name": "python2"
  },
  "language_info": {
   "codemirror_mode": {
    "name": "ipython",
    "version": 2
   },
   "file_extension": ".py",
   "mimetype": "text/x-python",
   "name": "python",
   "nbconvert_exporter": "python",
   "pygments_lexer": "ipython2",
   "version": "2.7.13"
  }
 },
 "nbformat": 4,
 "nbformat_minor": 2
}
