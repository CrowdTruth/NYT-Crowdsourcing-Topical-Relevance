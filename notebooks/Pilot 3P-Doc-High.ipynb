{
 "cells": [
  {
   "cell_type": "markdown",
   "metadata": {},
   "source": [
    "# CrowdTruth metrics 2.0 documentation\n",
    "\n",
    "Let:\n",
    "\n",
    "* $workers(u):$ all workers that annotate unit $u$;\n",
    "* $units(i):$ all input units annotated by worker $i$;\n",
    "* $WorkVec(i, u):$ annotations of worker $i$ on unit $u$ as a binary vector;\n",
    "* $UnitVec(s) = \\sum_{i \\in workers(s)} WorkVec(i,s)$, where $s$ is an input unit.\n",
    "\n",
    "## Unit Quality Score (UQS)\n",
    "\n",
    "The unit quality score $UQS(u)$ is computed as the average cosine similarity between all worker vectors for a given input unit $u$, weighted by the worker quality ($WQS$) and annotation quality ($AQS$). The goal is to capture the degree of agreement in annotating the unit. Through the weighted average, workers and annotations with lower quality will have less of an impact on the final score.\n",
    "\n",
    "$$ UQS(u) = \\frac{\\sum_{i, j \\in workers(u)} Wcos(WorkVec(i,u), WorkVec(j,u)) \\; WQS(i) \\; WQS(j)}{\\sum_{i, j \\in workers(u)} WQS(i) \\; WQS(j)}, \\; i \\neq j.$$\n",
    "\n",
    "\n",
    "### Weighted Cosine\n",
    "\n",
    "To weigh the metrics with the annotation quality, we compute $Wcos$, the weighted version of the cosine similarity. This metric is only applicable to closed tasks, where annotation quality can be calculated across units. For open-ended tasks, we consider annotation quality equal to 1 and calculate the regular cosine similarity.\n",
    "\n",
    "$$ Wcos(vec_1, vec_2) = \\frac{\\sum_{a} vec_1(a) \\; vec_2(a) \\; AQS(a)}{\\sqrt{(\\sum_{a} vec_1^2(a) \\; AQS(a)) \\; (\\sum_{a} vec_2^2(a) \\; AQS(a))}} .$$ \n",
    "\n",
    "\n",
    "## Worker Quality Score (WQS)\n",
    "\n",
    "The worker quality score $WQS(i)$ for a given worker $i$ is the product of 2 separate metrics - the worker-worker agreement $WWA(i)$ and the worker-unit agreement $WUA(i)$.\n",
    "\n",
    "$$ WQS(i) = WUA(i) \\; WWA(i) .$$\n",
    "\n",
    "### Worker-Unit Agreement\n",
    "\n",
    "The worker-unit agreement $WUA(i)$ is the average cosine distance between the annotations of a worker $i$ and all annotations for the units they have worked on, weighted by the unit and annotation quality. It calculates how much a worker disagrees with the crowd on a unit basis. Through the weighted average, units and anntation with lower quality will have less of an impact on the final score.\n",
    "\n",
    "$$ WSA(i) = \\frac{\\sum_{u \\in units(i)} Wcos(WorkVec(i,u), UnitVec(u) - WorkVec(i, u)) \\; UQS(u)}{\\sum_{u \\in units(i)} UQS(u)} .$$\n",
    "\n",
    "### Worker-Worker Agreement\n",
    "\n",
    "The worker-worker agreement $WWA(i)$ is the average cosine distance between the annotations of a worker $i$ and all other workers that have worked on the same units as worker $i$, weighted by the worker and annotation qualities. The metric gives an indication as to whether there are consisently like-minded workers. This is useful for identifying communities of thought. Through the weighted average, workers and annotations with lower quality will have less of an impact on the final score of the given worker.\n",
    "\n",
    "$$ WWA(i) = \\frac{ \\sum_{j \\in workers(u \\in units(i))} Wcos(WorkVec(i, u), WorkVec(j, u)) \\; WQS(j) \\; UQS(u) }{ \\sum_{j \\in workers(s \\in units(i))} WQS(j) \\; UQS(u) }, \\; i \\neq j .$$\n",
    "\n",
    "\n",
    "## Annotation Quality Score (AQS)\n",
    "\n",
    "The annotation quality score $AQS(a)$ calculates the agreement of selecting an annotation $a$, over all the units it appears in. Therefore, it is only applicable to closed tasks, where the same annotation set is used for all input units. It is based on $P_a(i | j)$, the probability that if a worker $j$ annotates $a$ in a unit, worker $i$ will also annotate it. \n",
    "\n",
    "$$ P_a(i | j) = \\frac{ \\sum_{u \\in units(i) \\cap units(j) } UQS(u) \\; WorkVec(i, s)(r) \\; WorkVec(j, s)(r) }{ \\sum_{u \\in units(i) \\cap units(j) } UQS(u) \\; WorkVec(j, u)(r) } . $$\n",
    "\n",
    "$AQS(a)$ is the weighted average of $P_a(i | j)$ for all possible pairs of workers. Through the weighted average, input units and workers with lower quality will have less of an impact on the final score of the annotation.\n",
    "\n",
    "$$ AQS(a) = \\frac{ \\sum_{i,j} WQS(i) \\; WQS(j) \\; P_a(i | j) }{ \\sum_{i,j} WQS(i) \\; WQS(j) }, i \\neq j . $$\n",
    "\n",
    "\n",
    "## Unit-Annotation Score (UAS)\n",
    "\n",
    "The unit - annotation score $UAS(u, a)$ calculates the likelihood that annotation $a$ is expressed in input unit $u$. It is the ratio of the number of workers that picked annotation $u$ over all workers that annotated the unit, weighted by the worker quality.\n",
    "\n",
    "$$ UAS(u, a) = \\frac{ \\sum_{i \\in workers(u)} WorkVec(i,u)(a) \\; WQS(i) }{ \\sum_{i \\in workers(u)} WQS(i) }. $$"
   ]
  },
  {
   "cell_type": "markdown",
   "metadata": {},
   "source": [
    "## Run the metrics\n"
   ]
  },
  {
   "cell_type": "code",
   "execution_count": 1,
   "metadata": {
    "collapsed": true
   },
   "outputs": [],
   "source": [
    "import crowdtruth\n",
    "from crowdtruth.configuration import DefaultConfig\n",
    "import logging\n",
    "import warnings; warnings.simplefilter('ignore')\n",
    "\n",
    "logger = logging.getLogger()\n",
    "logger.setLevel(logging.DEBUG)\n",
    "\n",
    "class config(DefaultConfig):\n",
    "    inputColumns = [\"index\", \"bin\", \"doc_len\", \"document_id\", \"document_body\", \"document_title\", \"rel\", \n",
    "                    \"topic\", \"topic_description\", \"topic_query\"]\n",
    "    outputColumns = [\"relevance\"]\n",
    "    \n",
    "    # processing of a closed task\n",
    "    open_ended_task = False\n",
    "    annotation_separator = \",\"\n",
    "    annotation_vector = [\n",
    "        \"highly_relevant\", \"relevant\", \"not_relevant\"\n",
    "    ]\n",
    "    \n",
    "    def processJudgments(self, judgments):\n",
    "        return judgments"
   ]
  },
  {
   "cell_type": "markdown",
   "metadata": {},
   "source": [
    "### Creating a class that inherits from `Configuration` lets us define how the input file will be processed:\n",
    "\n",
    "* `inputColumns`: list of input columns from the .csv file, the input that the workers were shown\n",
    "* `outputColumns`: list of output columns with the answers from the workers\n",
    "* `processJudgments`: function that defines how the worker judgments wil be processed; default separator for judgments is ','\n",
    "\n",
    "To build the annotation vector, we also need to specify whether this is an **open-ended** or **closed** task, using the `open_ended_task` variable.\n",
    "\n",
    "* **open-ended task** means that the annotation space is not known, and workers can freely provide all the choices that apply (e.g. in sound tagging, the workers are provided with a text box to enter all tags they can think of)\n",
    "* **closed task** means that the annotations that can occur in the data are already known, and the workers are asked to validate their existence (e.g. for medical relation extraction, the workers pick from a pre-defined multiple-choice set of relations)\n",
    "\n",
    "If the task we are processing is **closed**, then we also need to provide the list of possible annotations in the `annotation_vector` variable."
   ]
  },
  {
   "cell_type": "code",
   "execution_count": 2,
   "metadata": {},
   "outputs": [
    {
     "name": "stderr",
     "output_type": "stream",
     "text": [
      "INFO:root:Config loaded\n",
      "INFO:root:Found 2 files\n",
      "INFO:root:Processing f1200503_anonymized.csv\n",
      "INFO:root:Values not stored as dictionary\n",
      "INFO:root:Processing f1200571_anonymized.csv\n",
      "WARNING:root:3 rows with incomplete information in output columns were removed.\n",
      "INFO:root:Values not stored as dictionary\n"
     ]
    },
    {
     "data": {
      "text/html": [
       "<div>\n",
       "<style scoped>\n",
       "    .dataframe tbody tr th:only-of-type {\n",
       "        vertical-align: middle;\n",
       "    }\n",
       "\n",
       "    .dataframe tbody tr th {\n",
       "        vertical-align: top;\n",
       "    }\n",
       "\n",
       "    .dataframe thead th {\n",
       "        text-align: right;\n",
       "    }\n",
       "</style>\n",
       "<table border=\"1\" class=\"dataframe\">\n",
       "  <thead>\n",
       "    <tr style=\"text-align: right;\">\n",
       "      <th></th>\n",
       "      <th>output.relevance</th>\n",
       "      <th>submitted</th>\n",
       "      <th>started</th>\n",
       "      <th>worker</th>\n",
       "      <th>unit</th>\n",
       "      <th>duration</th>\n",
       "      <th>job</th>\n",
       "    </tr>\n",
       "    <tr>\n",
       "      <th>judgment</th>\n",
       "      <th></th>\n",
       "      <th></th>\n",
       "      <th></th>\n",
       "      <th></th>\n",
       "      <th></th>\n",
       "      <th></th>\n",
       "      <th></th>\n",
       "    </tr>\n",
       "  </thead>\n",
       "  <tbody>\n",
       "    <tr>\n",
       "      <th>2947422122</th>\n",
       "      <td>{u'highly_relevant': 1, u'relevant': 0, u'not_...</td>\n",
       "      <td>2017-10-22 20:37:11</td>\n",
       "      <td>2017-10-22 20:36:14</td>\n",
       "      <td>72002e84ac2c11ee1a91f2b8a235c488ab72bb77c97332...</td>\n",
       "      <td>1418234456</td>\n",
       "      <td>57</td>\n",
       "      <td>../crowdsourcing_data/FigureEightOutput/Pilot_...</td>\n",
       "    </tr>\n",
       "    <tr>\n",
       "      <th>2947475819</th>\n",
       "      <td>{u'not_relevant': 1, u'highly_relevant': 0, u'...</td>\n",
       "      <td>2017-10-22 21:01:56</td>\n",
       "      <td>2017-10-22 21:01:12</td>\n",
       "      <td>3e6cedb20717ecd5937cbc29d23b2c0bed63d7deeb27ea...</td>\n",
       "      <td>1418234456</td>\n",
       "      <td>44</td>\n",
       "      <td>../crowdsourcing_data/FigureEightOutput/Pilot_...</td>\n",
       "    </tr>\n",
       "    <tr>\n",
       "      <th>2947508436</th>\n",
       "      <td>{u'not_relevant': 1, u'highly_relevant': 0, u'...</td>\n",
       "      <td>2017-10-22 21:18:41</td>\n",
       "      <td>2017-10-22 21:17:39</td>\n",
       "      <td>64eeff090a45ee97db4b629d29ddce9ce0fb98213bb116...</td>\n",
       "      <td>1418234456</td>\n",
       "      <td>62</td>\n",
       "      <td>../crowdsourcing_data/FigureEightOutput/Pilot_...</td>\n",
       "    </tr>\n",
       "    <tr>\n",
       "      <th>2947515890</th>\n",
       "      <td>{u'relevant': 1, u'highly_relevant': 0, u'not_...</td>\n",
       "      <td>2017-10-22 21:22:13</td>\n",
       "      <td>2017-10-22 21:21:46</td>\n",
       "      <td>81e45d5938fbc04509c1183a147c7b2f58f01c2b1ba882...</td>\n",
       "      <td>1418234456</td>\n",
       "      <td>27</td>\n",
       "      <td>../crowdsourcing_data/FigureEightOutput/Pilot_...</td>\n",
       "    </tr>\n",
       "    <tr>\n",
       "      <th>2947528744</th>\n",
       "      <td>{u'relevant': 1, u'highly_relevant': 0, u'not_...</td>\n",
       "      <td>2017-10-22 21:28:44</td>\n",
       "      <td>2017-10-22 21:27:51</td>\n",
       "      <td>6e3f860978fa1a2fe6ce1399167b80abd81680fb111c93...</td>\n",
       "      <td>1418234456</td>\n",
       "      <td>53</td>\n",
       "      <td>../crowdsourcing_data/FigureEightOutput/Pilot_...</td>\n",
       "    </tr>\n",
       "  </tbody>\n",
       "</table>\n",
       "</div>"
      ],
      "text/plain": [
       "                                             output.relevance  \\\n",
       "judgment                                                        \n",
       "2947422122  {u'highly_relevant': 1, u'relevant': 0, u'not_...   \n",
       "2947475819  {u'not_relevant': 1, u'highly_relevant': 0, u'...   \n",
       "2947508436  {u'not_relevant': 1, u'highly_relevant': 0, u'...   \n",
       "2947515890  {u'relevant': 1, u'highly_relevant': 0, u'not_...   \n",
       "2947528744  {u'relevant': 1, u'highly_relevant': 0, u'not_...   \n",
       "\n",
       "                     submitted             started  \\\n",
       "judgment                                             \n",
       "2947422122 2017-10-22 20:37:11 2017-10-22 20:36:14   \n",
       "2947475819 2017-10-22 21:01:56 2017-10-22 21:01:12   \n",
       "2947508436 2017-10-22 21:18:41 2017-10-22 21:17:39   \n",
       "2947515890 2017-10-22 21:22:13 2017-10-22 21:21:46   \n",
       "2947528744 2017-10-22 21:28:44 2017-10-22 21:27:51   \n",
       "\n",
       "                                                       worker        unit  \\\n",
       "judgment                                                                    \n",
       "2947422122  72002e84ac2c11ee1a91f2b8a235c488ab72bb77c97332...  1418234456   \n",
       "2947475819  3e6cedb20717ecd5937cbc29d23b2c0bed63d7deeb27ea...  1418234456   \n",
       "2947508436  64eeff090a45ee97db4b629d29ddce9ce0fb98213bb116...  1418234456   \n",
       "2947515890  81e45d5938fbc04509c1183a147c7b2f58f01c2b1ba882...  1418234456   \n",
       "2947528744  6e3f860978fa1a2fe6ce1399167b80abd81680fb111c93...  1418234456   \n",
       "\n",
       "            duration                                                job  \n",
       "judgment                                                                 \n",
       "2947422122        57  ../crowdsourcing_data/FigureEightOutput/Pilot_...  \n",
       "2947475819        44  ../crowdsourcing_data/FigureEightOutput/Pilot_...  \n",
       "2947508436        62  ../crowdsourcing_data/FigureEightOutput/Pilot_...  \n",
       "2947515890        27  ../crowdsourcing_data/FigureEightOutput/Pilot_...  \n",
       "2947528744        53  ../crowdsourcing_data/FigureEightOutput/Pilot_...  "
      ]
     },
     "execution_count": 2,
     "metadata": {},
     "output_type": "execute_result"
    }
   ],
   "source": [
    "# Read data\n",
    "data, config = crowdtruth.load(\n",
    "    directory = \"../crowdsourcing_data/FigureEightOutput/Pilot_3P-Doc-High/\",\n",
    "    config = config()\n",
    ")\n",
    "\n",
    "data['judgments'].head()"
   ]
  },
  {
   "cell_type": "code",
   "execution_count": 3,
   "metadata": {},
   "outputs": [
    {
     "name": "stderr",
     "output_type": "stream",
     "text": [
      "INFO:root:1 iterations; max d= 0.942938814138 ; wqs d= 0.7205067134; sqs d= 0.553724053724; rqs d= 0.552946754942\n",
      "INFO:root:2 iterations; max d= 0.150695815866 ; wqs d= 0.0392460195125; sqs d= 0.0390184450506; rqs d= 0.0574850219664\n",
      "INFO:root:3 iterations; max d= 0.0622189120029 ; wqs d= 0.0142578663576; sqs d= 0.0157365980636; rqs d= 0.0153421956989\n",
      "INFO:root:4 iterations; max d= 0.0343383870343 ; wqs d= 0.0075274902376; sqs d= 0.00881019565423; rqs d= 0.00960118769233\n",
      "INFO:root:5 iterations; max d= 0.0194419688621 ; wqs d= 0.00412325114287; sqs d= 0.00468053739975; rqs d= 0.00540759492772\n",
      "INFO:root:6 iterations; max d= 0.0104511730459 ; wqs d= 0.00222991660429; sqs d= 0.00252321400901; rqs d= 0.00302805207589\n",
      "INFO:root:7 iterations; max d= 0.00570272805442 ; wqs d= 0.00122750904709; sqs d= 0.00136287444353; rqs d= 0.00166895778903\n",
      "INFO:root:8 iterations; max d= 0.0030563041484 ; wqs d= 0.000670349767154; sqs d= 0.000732017230997; rqs d= 0.000912372656649\n",
      "INFO:root:9 iterations; max d= 0.00164802391785 ; wqs d= 0.000367116938962; sqs d= 0.000394367226384; rqs d= 0.000496995599986\n",
      "INFO:root:10 iterations; max d= 0.000884246319328 ; wqs d= 0.000200296848447; sqs d= 0.000212166916507; rqs d= 0.000270080911939\n"
     ]
    }
   ],
   "source": [
    "results = crowdtruth.run(data, config)"
   ]
  },
  {
   "cell_type": "code",
   "execution_count": 4,
   "metadata": {
    "scrolled": true
   },
   "outputs": [
    {
     "data": {
      "text/html": [
       "<div>\n",
       "<style scoped>\n",
       "    .dataframe tbody tr th:only-of-type {\n",
       "        vertical-align: middle;\n",
       "    }\n",
       "\n",
       "    .dataframe tbody tr th {\n",
       "        vertical-align: top;\n",
       "    }\n",
       "\n",
       "    .dataframe thead th {\n",
       "        text-align: right;\n",
       "    }\n",
       "</style>\n",
       "<table border=\"1\" class=\"dataframe\">\n",
       "  <thead>\n",
       "    <tr style=\"text-align: right;\">\n",
       "      <th></th>\n",
       "      <th>duration</th>\n",
       "      <th>input.bin</th>\n",
       "      <th>input.doc_len</th>\n",
       "      <th>input.document_body</th>\n",
       "      <th>input.document_id</th>\n",
       "      <th>input.document_title</th>\n",
       "      <th>input.index</th>\n",
       "      <th>input.rel</th>\n",
       "      <th>input.topic</th>\n",
       "      <th>input.topic_description</th>\n",
       "      <th>input.topic_query</th>\n",
       "      <th>job</th>\n",
       "      <th>metrics.avg_annotations</th>\n",
       "      <th>metrics.avg_unique_annotations</th>\n",
       "      <th>output.relevance</th>\n",
       "      <th>output.relevance.annotations</th>\n",
       "      <th>output.relevance.unique_annotations</th>\n",
       "      <th>worker</th>\n",
       "      <th>uqs</th>\n",
       "      <th>unit_annotation_score</th>\n",
       "    </tr>\n",
       "    <tr>\n",
       "      <th>unit</th>\n",
       "      <th></th>\n",
       "      <th></th>\n",
       "      <th></th>\n",
       "      <th></th>\n",
       "      <th></th>\n",
       "      <th></th>\n",
       "      <th></th>\n",
       "      <th></th>\n",
       "      <th></th>\n",
       "      <th></th>\n",
       "      <th></th>\n",
       "      <th></th>\n",
       "      <th></th>\n",
       "      <th></th>\n",
       "      <th></th>\n",
       "      <th></th>\n",
       "      <th></th>\n",
       "      <th></th>\n",
       "      <th></th>\n",
       "      <th></th>\n",
       "    </tr>\n",
       "  </thead>\n",
       "  <tbody>\n",
       "    <tr>\n",
       "      <th>1418234456</th>\n",
       "      <td>85.333333</td>\n",
       "      <td>1</td>\n",
       "      <td>196</td>\n",
       "      <td>&lt;p&gt;A public commission ruled today that Aum Sh...</td>\n",
       "      <td>1173003</td>\n",
       "      <td>Japan Puts Gas-Attack Sect Under Scrutiny</td>\n",
       "      <td>1</td>\n",
       "      <td>1</td>\n",
       "      <td>325</td>\n",
       "      <td>Describe a cult by name and identify the cult ...</td>\n",
       "      <td>Cult Lifestyles</td>\n",
       "      <td>../crowdsourcing_data/FigureEightOutput/Pilot_...</td>\n",
       "      <td>15.0</td>\n",
       "      <td>3.0</td>\n",
       "      <td>{u'highly_relevant': 2, u'not_relevant': 3, u'...</td>\n",
       "      <td>15</td>\n",
       "      <td>3</td>\n",
       "      <td>15</td>\n",
       "      <td>0.390798</td>\n",
       "      <td>{u'highly_relevant': 0.15684375401, u'not_rele...</td>\n",
       "    </tr>\n",
       "    <tr>\n",
       "      <th>1418234457</th>\n",
       "      <td>77.333333</td>\n",
       "      <td>1</td>\n",
       "      <td>245</td>\n",
       "      <td>&lt;p&gt;ABC has signed a deal to develop a televisi...</td>\n",
       "      <td>920343</td>\n",
       "      <td>ABC Signs Film Deal On the Cult</td>\n",
       "      <td>2</td>\n",
       "      <td>1</td>\n",
       "      <td>325</td>\n",
       "      <td>Describe a cult by name and identify the cult ...</td>\n",
       "      <td>Cult Lifestyles</td>\n",
       "      <td>../crowdsourcing_data/FigureEightOutput/Pilot_...</td>\n",
       "      <td>15.0</td>\n",
       "      <td>3.0</td>\n",
       "      <td>{u'highly_relevant': 5, u'not_relevant': 4, u'...</td>\n",
       "      <td>15</td>\n",
       "      <td>3</td>\n",
       "      <td>15</td>\n",
       "      <td>0.287379</td>\n",
       "      <td>{u'highly_relevant': 0.35056733169, u'not_rele...</td>\n",
       "    </tr>\n",
       "    <tr>\n",
       "      <th>1418234458</th>\n",
       "      <td>111.400000</td>\n",
       "      <td>1</td>\n",
       "      <td>242</td>\n",
       "      <td>&lt;p&gt;Japan's peace of mind was shattered anew by...</td>\n",
       "      <td>757222</td>\n",
       "      <td>April 16-22; The Scent of Terror</td>\n",
       "      <td>3</td>\n",
       "      <td>1</td>\n",
       "      <td>325</td>\n",
       "      <td>Describe a cult by name and identify the cult ...</td>\n",
       "      <td>Cult Lifestyles</td>\n",
       "      <td>../crowdsourcing_data/FigureEightOutput/Pilot_...</td>\n",
       "      <td>15.0</td>\n",
       "      <td>3.0</td>\n",
       "      <td>{u'highly_relevant': 5, u'not_relevant': 4, u'...</td>\n",
       "      <td>15</td>\n",
       "      <td>3</td>\n",
       "      <td>15</td>\n",
       "      <td>0.281859</td>\n",
       "      <td>{u'highly_relevant': 0.282794501543, u'not_rel...</td>\n",
       "    </tr>\n",
       "    <tr>\n",
       "      <th>1418234459</th>\n",
       "      <td>57.600000</td>\n",
       "      <td>1</td>\n",
       "      <td>237</td>\n",
       "      <td>&lt;p&gt;USA Networks Interactive, creator of the sc...</td>\n",
       "      <td>1209320</td>\n",
       "      <td>SCIFI.com in Venture With Filmmaker</td>\n",
       "      <td>4</td>\n",
       "      <td>0</td>\n",
       "      <td>325</td>\n",
       "      <td>Describe a cult by name and identify the cult ...</td>\n",
       "      <td>Cult Lifestyles</td>\n",
       "      <td>../crowdsourcing_data/FigureEightOutput/Pilot_...</td>\n",
       "      <td>15.0</td>\n",
       "      <td>3.0</td>\n",
       "      <td>{u'highly_relevant': 1, u'not_relevant': 11, u...</td>\n",
       "      <td>15</td>\n",
       "      <td>3</td>\n",
       "      <td>15</td>\n",
       "      <td>0.705660</td>\n",
       "      <td>{u'highly_relevant': 0.0772187211693, u'not_re...</td>\n",
       "    </tr>\n",
       "    <tr>\n",
       "      <th>1418234460</th>\n",
       "      <td>72.533333</td>\n",
       "      <td>1</td>\n",
       "      <td>140</td>\n",
       "      <td>&lt;p&gt;To the Editor:&lt;/p&gt; &lt;p&gt;There is ample eviden...</td>\n",
       "      <td>1667028</td>\n",
       "      <td>Vital at 50: Does Lifestyle Matter?</td>\n",
       "      <td>5</td>\n",
       "      <td>0</td>\n",
       "      <td>325</td>\n",
       "      <td>Describe a cult by name and identify the cult ...</td>\n",
       "      <td>Cult Lifestyles</td>\n",
       "      <td>../crowdsourcing_data/FigureEightOutput/Pilot_...</td>\n",
       "      <td>15.0</td>\n",
       "      <td>3.0</td>\n",
       "      <td>{u'highly_relevant': 2, u'not_relevant': 12, u...</td>\n",
       "      <td>15</td>\n",
       "      <td>3</td>\n",
       "      <td>15</td>\n",
       "      <td>0.832058</td>\n",
       "      <td>{u'highly_relevant': 0.0351386789067, u'not_re...</td>\n",
       "    </tr>\n",
       "  </tbody>\n",
       "</table>\n",
       "</div>"
      ],
      "text/plain": [
       "              duration  input.bin  input.doc_len  \\\n",
       "unit                                               \n",
       "1418234456   85.333333          1            196   \n",
       "1418234457   77.333333          1            245   \n",
       "1418234458  111.400000          1            242   \n",
       "1418234459   57.600000          1            237   \n",
       "1418234460   72.533333          1            140   \n",
       "\n",
       "                                          input.document_body  \\\n",
       "unit                                                            \n",
       "1418234456  <p>A public commission ruled today that Aum Sh...   \n",
       "1418234457  <p>ABC has signed a deal to develop a televisi...   \n",
       "1418234458  <p>Japan's peace of mind was shattered anew by...   \n",
       "1418234459  <p>USA Networks Interactive, creator of the sc...   \n",
       "1418234460  <p>To the Editor:</p> <p>There is ample eviden...   \n",
       "\n",
       "            input.document_id                       input.document_title  \\\n",
       "unit                                                                       \n",
       "1418234456            1173003  Japan Puts Gas-Attack Sect Under Scrutiny   \n",
       "1418234457             920343            ABC Signs Film Deal On the Cult   \n",
       "1418234458             757222           April 16-22; The Scent of Terror   \n",
       "1418234459            1209320        SCIFI.com in Venture With Filmmaker   \n",
       "1418234460            1667028        Vital at 50: Does Lifestyle Matter?   \n",
       "\n",
       "            input.index  input.rel  input.topic  \\\n",
       "unit                                              \n",
       "1418234456            1          1          325   \n",
       "1418234457            2          1          325   \n",
       "1418234458            3          1          325   \n",
       "1418234459            4          0          325   \n",
       "1418234460            5          0          325   \n",
       "\n",
       "                                      input.topic_description  \\\n",
       "unit                                                            \n",
       "1418234456  Describe a cult by name and identify the cult ...   \n",
       "1418234457  Describe a cult by name and identify the cult ...   \n",
       "1418234458  Describe a cult by name and identify the cult ...   \n",
       "1418234459  Describe a cult by name and identify the cult ...   \n",
       "1418234460  Describe a cult by name and identify the cult ...   \n",
       "\n",
       "           input.topic_query  \\\n",
       "unit                           \n",
       "1418234456   Cult Lifestyles   \n",
       "1418234457   Cult Lifestyles   \n",
       "1418234458   Cult Lifestyles   \n",
       "1418234459   Cult Lifestyles   \n",
       "1418234460   Cult Lifestyles   \n",
       "\n",
       "                                                          job  \\\n",
       "unit                                                            \n",
       "1418234456  ../crowdsourcing_data/FigureEightOutput/Pilot_...   \n",
       "1418234457  ../crowdsourcing_data/FigureEightOutput/Pilot_...   \n",
       "1418234458  ../crowdsourcing_data/FigureEightOutput/Pilot_...   \n",
       "1418234459  ../crowdsourcing_data/FigureEightOutput/Pilot_...   \n",
       "1418234460  ../crowdsourcing_data/FigureEightOutput/Pilot_...   \n",
       "\n",
       "            metrics.avg_annotations  metrics.avg_unique_annotations  \\\n",
       "unit                                                                  \n",
       "1418234456                     15.0                             3.0   \n",
       "1418234457                     15.0                             3.0   \n",
       "1418234458                     15.0                             3.0   \n",
       "1418234459                     15.0                             3.0   \n",
       "1418234460                     15.0                             3.0   \n",
       "\n",
       "                                             output.relevance  \\\n",
       "unit                                                            \n",
       "1418234456  {u'highly_relevant': 2, u'not_relevant': 3, u'...   \n",
       "1418234457  {u'highly_relevant': 5, u'not_relevant': 4, u'...   \n",
       "1418234458  {u'highly_relevant': 5, u'not_relevant': 4, u'...   \n",
       "1418234459  {u'highly_relevant': 1, u'not_relevant': 11, u...   \n",
       "1418234460  {u'highly_relevant': 2, u'not_relevant': 12, u...   \n",
       "\n",
       "            output.relevance.annotations  output.relevance.unique_annotations  \\\n",
       "unit                                                                            \n",
       "1418234456                            15                                    3   \n",
       "1418234457                            15                                    3   \n",
       "1418234458                            15                                    3   \n",
       "1418234459                            15                                    3   \n",
       "1418234460                            15                                    3   \n",
       "\n",
       "            worker       uqs  \\\n",
       "unit                           \n",
       "1418234456      15  0.390798   \n",
       "1418234457      15  0.287379   \n",
       "1418234458      15  0.281859   \n",
       "1418234459      15  0.705660   \n",
       "1418234460      15  0.832058   \n",
       "\n",
       "                                        unit_annotation_score  \n",
       "unit                                                           \n",
       "1418234456  {u'highly_relevant': 0.15684375401, u'not_rele...  \n",
       "1418234457  {u'highly_relevant': 0.35056733169, u'not_rele...  \n",
       "1418234458  {u'highly_relevant': 0.282794501543, u'not_rel...  \n",
       "1418234459  {u'highly_relevant': 0.0772187211693, u'not_re...  \n",
       "1418234460  {u'highly_relevant': 0.0351386789067, u'not_re...  "
      ]
     },
     "execution_count": 4,
     "metadata": {},
     "output_type": "execute_result"
    }
   ],
   "source": [
    "results[\"units\"].head(5)"
   ]
  },
  {
   "cell_type": "markdown",
   "metadata": {},
   "source": [
    "### Plot the unit quality score (UQS), the worker quality score (WQS) and the annotation quality score (AQS)\n"
   ]
  },
  {
   "cell_type": "code",
   "execution_count": 5,
   "metadata": {},
   "outputs": [
    {
     "data": {
      "text/plain": [
       "Text(0,0.5,u'Units')"
      ]
     },
     "execution_count": 5,
     "metadata": {},
     "output_type": "execute_result"
    },
    {
     "data": {
      "image/png": "[encoded data removed]",
      "text/plain": [
       "<matplotlib.figure.Figure at 0x60d083e50>"
      ]
     },
     "metadata": {},
     "output_type": "display_data"
    }
   ],
   "source": [
    "import matplotlib.pyplot as plt\n",
    "%matplotlib inline\n",
    "\n",
    "plt.hist(results[\"units\"][\"uqs\"])\n",
    "plt.xlabel(\"UQS\")\n",
    "plt.ylabel(\"Units\")"
   ]
  },
  {
   "cell_type": "code",
   "execution_count": 6,
   "metadata": {},
   "outputs": [
    {
     "data": {
      "text/plain": [
       "Text(0,0.5,u'Workers')"
      ]
     },
     "execution_count": 6,
     "metadata": {},
     "output_type": "execute_result"
    },
    {
     "data": {
      "image/png": "[encoded data removed]",
      "text/plain": [
       "<matplotlib.figure.Figure at 0x60db23ad0>"
      ]
     },
     "metadata": {},
     "output_type": "display_data"
    }
   ],
   "source": [
    "plt.hist(results[\"workers\"][\"wqs\"])\n",
    "plt.xlabel(\"WQS\")\n",
    "plt.ylabel(\"Workers\")"
   ]
  },
  {
   "cell_type": "code",
   "execution_count": 7,
   "metadata": {},
   "outputs": [
    {
     "data": {
      "text/html": [
       "<div>\n",
       "<style scoped>\n",
       "    .dataframe tbody tr th:only-of-type {\n",
       "        vertical-align: middle;\n",
       "    }\n",
       "\n",
       "    .dataframe tbody tr th {\n",
       "        vertical-align: top;\n",
       "    }\n",
       "\n",
       "    .dataframe thead th {\n",
       "        text-align: right;\n",
       "    }\n",
       "</style>\n",
       "<table border=\"1\" class=\"dataframe\">\n",
       "  <thead>\n",
       "    <tr style=\"text-align: right;\">\n",
       "      <th></th>\n",
       "      <th>output.relevance</th>\n",
       "      <th>aqs</th>\n",
       "    </tr>\n",
       "  </thead>\n",
       "  <tbody>\n",
       "    <tr>\n",
       "      <th>highly_relevant</th>\n",
       "      <td>1797</td>\n",
       "      <td>0.456556</td>\n",
       "    </tr>\n",
       "    <tr>\n",
       "      <th>not_relevant</th>\n",
       "      <td>1797</td>\n",
       "      <td>0.688519</td>\n",
       "    </tr>\n",
       "    <tr>\n",
       "      <th>relevant</th>\n",
       "      <td>1797</td>\n",
       "      <td>0.432634</td>\n",
       "    </tr>\n",
       "  </tbody>\n",
       "</table>\n",
       "</div>"
      ],
      "text/plain": [
       "                 output.relevance       aqs\n",
       "highly_relevant              1797  0.456556\n",
       "not_relevant                 1797  0.688519\n",
       "relevant                     1797  0.432634"
      ]
     },
     "execution_count": 7,
     "metadata": {},
     "output_type": "execute_result"
    }
   ],
   "source": [
    "results[\"annotations\"]"
   ]
  },
  {
   "cell_type": "markdown",
   "metadata": {},
   "source": [
    "## Comparison with reviewers and NIST annotations"
   ]
  },
  {
   "cell_type": "code",
   "execution_count": 8,
   "metadata": {
    "collapsed": true
   },
   "outputs": [],
   "source": [
    "import pandas as pd\n",
    "import numpy as np\n",
    "\n",
    "gt = pd.read_csv(\"../ground_truth_data/reviewers_annotation.csv\")\n",
    "\n",
    "results[\"units\"][\"reviewers_rel\"] = pd.Series(np.random.randn(len(results[\"units\"].index)), index=results[\"units\"].index)\n",
    "results[\"units\"][\"reviewers_rel_merged\"] = pd.Series(np.random.randn(len(results[\"units\"].index)), index=results[\"units\"].index)\n",
    "results[\"units\"][\"rel_merged\"] = pd.Series(np.random.randn(len(results[\"units\"].index)), index=results[\"units\"].index)\n",
    "\n",
    "for i in range(0, len(results[\"units\"].index)):\n",
    "    for j in range(0, len(gt.index)):\n",
    "        if (results[\"units\"][\"input.topic\"].iloc[i] == gt[\"topic\"].iloc[j]) and (results[\"units\"][\"input.document_id\"].iloc[i] == gt[\"document_id\"].iloc[j]):\n",
    "            results[\"units\"][\"reviewers_rel\"].iloc[i] = gt[\"reviewers_rel\"].iloc[j]\n",
    "            results[\"units\"][\"reviewers_rel_merged\"].iloc[i] = gt[\"reviewers_rel_merged\"].iloc[j]\n",
    "            results[\"units\"][\"rel_merged\"].iloc[i] = gt[\"nist_rel_merged\"].iloc[j]"
   ]
  },
  {
   "cell_type": "code",
   "execution_count": 9,
   "metadata": {},
   "outputs": [
    {
     "data": {
      "text/plain": [
       "<module 'help_functions' from '../scripts/help_functions.pyc'>"
      ]
     },
     "execution_count": 9,
     "metadata": {},
     "output_type": "execute_result"
    }
   ],
   "source": [
    "import sys\n",
    "sys.path.append('../scripts')\n",
    "\n",
    "import help_functions as func\n",
    "reload(func)"
   ]
  },
  {
   "cell_type": "code",
   "execution_count": 10,
   "metadata": {
    "collapsed": true
   },
   "outputs": [],
   "source": [
    "expertsF1_notrelevant = func.compute_F1_score_experts(results[\"units\"],0)\n",
    "expertsF1_relevant = func.compute_F1_score_experts(results[\"units\"],1)\n",
    "expertsF1_highlyrelevant = func.compute_F1_score_experts(results[\"units\"],2)"
   ]
  },
  {
   "cell_type": "code",
   "execution_count": 11,
   "metadata": {},
   "outputs": [
    {
     "name": "stdout",
     "output_type": "stream",
     "text": [
      "0.796610169492\n",
      "0.457142857143\n",
      "0.576923076923\n"
     ]
    }
   ],
   "source": [
    "print(expertsF1_notrelevant)\n",
    "print(expertsF1_relevant)\n",
    "print(expertsF1_highlyrelevant)"
   ]
  },
  {
   "cell_type": "code",
   "execution_count": 12,
   "metadata": {
    "collapsed": true
   },
   "outputs": [],
   "source": [
    "crowdF1_notrelevant = func.compute_F1_score(results[\"units\"],0,\"not_relevant\",'reviewers_rel')\n",
    "crowdF1_relevant = func.compute_F1_score(results[\"units\"],1,\"relevant\",'reviewers_rel')\n",
    "crowdF1_highlyrelevant = func.compute_F1_score(results[\"units\"],2,\"highly_relevant\",'reviewers_rel')"
   ]
  },
  {
   "cell_type": "code",
   "execution_count": 13,
   "metadata": {},
   "outputs": [
    {
     "data": {
      "text/plain": [
       "array([[0.1       , 0.76811594],\n",
       "       [0.2       , 0.80916031],\n",
       "       [0.3       , 0.85950413],\n",
       "       [0.4       , 0.92727273],\n",
       "       [0.5       , 0.86868687],\n",
       "       [0.6       , 0.79120879],\n",
       "       [0.7       , 0.73809524],\n",
       "       [0.8       , 0.54794521],\n",
       "       [0.9       , 0.34375   ],\n",
       "       [1.        , 0.        ]])"
      ]
     },
     "execution_count": 13,
     "metadata": {},
     "output_type": "execute_result"
    }
   ],
   "source": [
    "crowdF1_notrelevant"
   ]
  },
  {
   "cell_type": "code",
   "execution_count": 14,
   "metadata": {},
   "outputs": [
    {
     "data": {
      "text/plain": [
       "array([[0.1       , 0.55172414],\n",
       "       [0.2       , 0.60606061],\n",
       "       [0.3       , 0.63865546],\n",
       "       [0.4       , 0.64516129],\n",
       "       [0.5       , 0.50793651],\n",
       "       [0.6       , 0.24      ],\n",
       "       [0.7       , 0.2173913 ],\n",
       "       [0.8       , 0.        ],\n",
       "       [0.9       , 0.        ],\n",
       "       [1.        , 0.        ]])"
      ]
     },
     "execution_count": 14,
     "metadata": {},
     "output_type": "execute_result"
    }
   ],
   "source": [
    "crowdF1_relevant"
   ]
  },
  {
   "cell_type": "code",
   "execution_count": 15,
   "metadata": {},
   "outputs": [
    {
     "data": {
      "text/plain": [
       "array([[0.1       , 0.55102041],\n",
       "       [0.2       , 0.6097561 ],\n",
       "       [0.3       , 0.6969697 ],\n",
       "       [0.4       , 0.69090909],\n",
       "       [0.5       , 0.65306122],\n",
       "       [0.6       , 0.52631579],\n",
       "       [0.7       , 0.2       ],\n",
       "       [0.8       , 0.07142857],\n",
       "       [0.9       , 0.        ],\n",
       "       [1.        , 0.        ]])"
      ]
     },
     "execution_count": 15,
     "metadata": {},
     "output_type": "execute_result"
    }
   ],
   "source": [
    "crowdF1_highlyrelevant"
   ]
  },
  {
   "cell_type": "code",
   "execution_count": 16,
   "metadata": {},
   "outputs": [
    {
     "data": {
      "image/png": "[encoded data removed]",
      "text/plain": [
       "<matplotlib.figure.Figure at 0x60fef3990>"
      ]
     },
     "metadata": {},
     "output_type": "display_data"
    }
   ],
   "source": [
    "plt.rcParams['figure.figsize'] = 6, 4\n",
    "plt.plot(crowdF1_notrelevant[:,0], crowdF1_notrelevant[:,1], 'bo-', color = 'red', lw = 2, label = \"F1 Crowd - Not Relevant\")\n",
    "plt.plot(crowdF1_relevant[:,0], crowdF1_relevant[:,1], 'bo-', color = 'darkgreen', lw = 2, label = \"F1 Crowd - Relevant\")\n",
    "plt.plot(crowdF1_highlyrelevant[:,0], crowdF1_highlyrelevant[:,1], 'bo-', color = 'darkblue', lw = 2, label = \"F1 Crowd - Highly Relevant\")\n",
    "\n",
    "plt.axhline(y = expertsF1_notrelevant, ls = '--', color = 'pink', lw = 2, label = \"F1 NIST - Not Relevant\")\n",
    "plt.axhline(y = expertsF1_relevant, ls = '--', color = 'lightgreen', lw = 2, label = \"F1 NIST - Relevant\")\n",
    "plt.axhline(y = expertsF1_highlyrelevant, ls = '--', color = 'lightblue', lw = 2, label = \"F1 NIST - Highly Relevant\")\n",
    "plt.xlim(0.1,1.0)\n",
    "plt.xlabel(\"TDP-RelVal score neg/pos threshold\", fontsize=18)\n",
    "plt.ylabel(\"F1-score\", fontsize=20)\n",
    "plt.yticks(fontsize=20)\n",
    "plt.ylim(0.0,1.0)\n",
    "plt.xticks(fontsize=18)\n",
    "plt.yticks(fontsize=18)\n",
    "leg = plt.legend()\n",
    "leg.get_frame().set_alpha(0.8)\n",
    "plt.grid(ls=':')\n",
    "#plt.title(\"Without Highlight, Relations Not Merged, 3-point scale\")\n",
    "plt.savefig(\"../Plots/3p_withHighlight_F1_eval_reviewers.pdf\", bbox_inches='tight', dpi=1000)"
   ]
  },
  {
   "cell_type": "markdown",
   "metadata": {},
   "source": [
    "## Print results to files"
   ]
  },
  {
   "cell_type": "code",
   "execution_count": 17,
   "metadata": {
    "collapsed": true
   },
   "outputs": [],
   "source": [
    "import csv\n",
    "    \n",
    "# print results for units\n",
    "columns = list(results[\"units\"])\n",
    "columns.extend(['highly_relevant_count', 'highly_relevant_score', 'relevant_count', 'relevant_score', \n",
    "                'not_relevant_count', 'not_relevant_score'])\n",
    "rows = []\n",
    "rows.append(columns)\n",
    "for i in range(len(results[\"units\"].index)):\n",
    "    keys = ['highly_relevant', 'relevant', 'not_relevant']\n",
    "    row = list(results[\"units\"].iloc[i])\n",
    "    for j in range(len(keys)):\n",
    "        row.append(results[\"units\"][\"output.relevance\"].iloc[i][keys[j]])\n",
    "        row.append(results[\"units\"][\"unit_annotation_score\"].iloc[i][keys[j]])    \n",
    "    rows.append(row)\n",
    "\n",
    "with open('../Results/Pilot_3P-Doc-High/units_Pilot_3P-Doc-High_unmerged.csv', 'w') as csvfile:\n",
    "    writer = csv.writer(csvfile)\n",
    "    writer.writerows(rows)\n",
    "\n",
    "# print results for workers\n",
    "results[\"workers\"].to_csv(\"../Results/Pilot_3P-Doc-High/workers_Pilot_3P-Doc-High_unmerged.csv\", index=False) "
   ]
  },
  {
   "cell_type": "markdown",
   "metadata": {},
   "source": [
    "## Check the performance when merging the Relevant and Highly Relevant relations"
   ]
  },
  {
   "cell_type": "code",
   "execution_count": 18,
   "metadata": {
    "collapsed": true
   },
   "outputs": [],
   "source": [
    "class config(DefaultConfig):\n",
    "    inputColumns = [\"index\", \"bin\", \"doc_len\", \"document_id\", \"document_body\", \"document_title\", \"rel\", \n",
    "                    \"topic\", \"topic_description\", \"topic_query\"]\n",
    "    outputColumns = [\"relevance\"]\n",
    "    \n",
    "    # processing of a closed task\n",
    "    open_ended_task = False\n",
    "    annotation_separator = \",\"\n",
    "    annotation_vector = [\n",
    "        \"relevant\", \"not_relevant\"\n",
    "    ]\n",
    "    \n",
    "    def processJudgments(self, judgments):\n",
    "        return judgments"
   ]
  },
  {
   "cell_type": "code",
   "execution_count": 19,
   "metadata": {},
   "outputs": [
    {
     "name": "stderr",
     "output_type": "stream",
     "text": [
      "INFO:root:Config loaded\n",
      "INFO:root:Found 2 files\n",
      "INFO:root:Processing f1200503_anonymized.csv\n",
      "INFO:root:Values not stored as dictionary\n",
      "INFO:root:Processing f1200571_anonymized.csv\n",
      "WARNING:root:3 rows with incomplete information in output columns were removed.\n",
      "INFO:root:Values not stored as dictionary\n"
     ]
    },
    {
     "data": {
      "text/html": [
       "<div>\n",
       "<style scoped>\n",
       "    .dataframe tbody tr th:only-of-type {\n",
       "        vertical-align: middle;\n",
       "    }\n",
       "\n",
       "    .dataframe tbody tr th {\n",
       "        vertical-align: top;\n",
       "    }\n",
       "\n",
       "    .dataframe thead th {\n",
       "        text-align: right;\n",
       "    }\n",
       "</style>\n",
       "<table border=\"1\" class=\"dataframe\">\n",
       "  <thead>\n",
       "    <tr style=\"text-align: right;\">\n",
       "      <th></th>\n",
       "      <th>output.relevance</th>\n",
       "      <th>submitted</th>\n",
       "      <th>started</th>\n",
       "      <th>worker</th>\n",
       "      <th>unit</th>\n",
       "      <th>duration</th>\n",
       "      <th>job</th>\n",
       "    </tr>\n",
       "    <tr>\n",
       "      <th>judgment</th>\n",
       "      <th></th>\n",
       "      <th></th>\n",
       "      <th></th>\n",
       "      <th></th>\n",
       "      <th></th>\n",
       "      <th></th>\n",
       "      <th></th>\n",
       "    </tr>\n",
       "  </thead>\n",
       "  <tbody>\n",
       "    <tr>\n",
       "      <th>2947422122</th>\n",
       "      <td>{u'relevant': 1, u'not_relevant': 0}</td>\n",
       "      <td>2017-10-22 20:37:11</td>\n",
       "      <td>2017-10-22 20:36:14</td>\n",
       "      <td>72002e84ac2c11ee1a91f2b8a235c488ab72bb77c97332...</td>\n",
       "      <td>1418234456</td>\n",
       "      <td>57</td>\n",
       "      <td>../crowdsourcing_data/FigureEightOutput/Pilot_...</td>\n",
       "    </tr>\n",
       "    <tr>\n",
       "      <th>2947475819</th>\n",
       "      <td>{u'not_relevant': 1, u'relevant': 0}</td>\n",
       "      <td>2017-10-22 21:01:56</td>\n",
       "      <td>2017-10-22 21:01:12</td>\n",
       "      <td>3e6cedb20717ecd5937cbc29d23b2c0bed63d7deeb27ea...</td>\n",
       "      <td>1418234456</td>\n",
       "      <td>44</td>\n",
       "      <td>../crowdsourcing_data/FigureEightOutput/Pilot_...</td>\n",
       "    </tr>\n",
       "    <tr>\n",
       "      <th>2947508436</th>\n",
       "      <td>{u'not_relevant': 1, u'relevant': 0}</td>\n",
       "      <td>2017-10-22 21:18:41</td>\n",
       "      <td>2017-10-22 21:17:39</td>\n",
       "      <td>64eeff090a45ee97db4b629d29ddce9ce0fb98213bb116...</td>\n",
       "      <td>1418234456</td>\n",
       "      <td>62</td>\n",
       "      <td>../crowdsourcing_data/FigureEightOutput/Pilot_...</td>\n",
       "    </tr>\n",
       "    <tr>\n",
       "      <th>2947515890</th>\n",
       "      <td>{u'relevant': 1, u'not_relevant': 0}</td>\n",
       "      <td>2017-10-22 21:22:13</td>\n",
       "      <td>2017-10-22 21:21:46</td>\n",
       "      <td>81e45d5938fbc04509c1183a147c7b2f58f01c2b1ba882...</td>\n",
       "      <td>1418234456</td>\n",
       "      <td>27</td>\n",
       "      <td>../crowdsourcing_data/FigureEightOutput/Pilot_...</td>\n",
       "    </tr>\n",
       "    <tr>\n",
       "      <th>2947528744</th>\n",
       "      <td>{u'relevant': 1, u'not_relevant': 0}</td>\n",
       "      <td>2017-10-22 21:28:44</td>\n",
       "      <td>2017-10-22 21:27:51</td>\n",
       "      <td>6e3f860978fa1a2fe6ce1399167b80abd81680fb111c93...</td>\n",
       "      <td>1418234456</td>\n",
       "      <td>53</td>\n",
       "      <td>../crowdsourcing_data/FigureEightOutput/Pilot_...</td>\n",
       "    </tr>\n",
       "  </tbody>\n",
       "</table>\n",
       "</div>"
      ],
      "text/plain": [
       "                                output.relevance           submitted  \\\n",
       "judgment                                                               \n",
       "2947422122  {u'relevant': 1, u'not_relevant': 0} 2017-10-22 20:37:11   \n",
       "2947475819  {u'not_relevant': 1, u'relevant': 0} 2017-10-22 21:01:56   \n",
       "2947508436  {u'not_relevant': 1, u'relevant': 0} 2017-10-22 21:18:41   \n",
       "2947515890  {u'relevant': 1, u'not_relevant': 0} 2017-10-22 21:22:13   \n",
       "2947528744  {u'relevant': 1, u'not_relevant': 0} 2017-10-22 21:28:44   \n",
       "\n",
       "                       started  \\\n",
       "judgment                         \n",
       "2947422122 2017-10-22 20:36:14   \n",
       "2947475819 2017-10-22 21:01:12   \n",
       "2947508436 2017-10-22 21:17:39   \n",
       "2947515890 2017-10-22 21:21:46   \n",
       "2947528744 2017-10-22 21:27:51   \n",
       "\n",
       "                                                       worker        unit  \\\n",
       "judgment                                                                    \n",
       "2947422122  72002e84ac2c11ee1a91f2b8a235c488ab72bb77c97332...  1418234456   \n",
       "2947475819  3e6cedb20717ecd5937cbc29d23b2c0bed63d7deeb27ea...  1418234456   \n",
       "2947508436  64eeff090a45ee97db4b629d29ddce9ce0fb98213bb116...  1418234456   \n",
       "2947515890  81e45d5938fbc04509c1183a147c7b2f58f01c2b1ba882...  1418234456   \n",
       "2947528744  6e3f860978fa1a2fe6ce1399167b80abd81680fb111c93...  1418234456   \n",
       "\n",
       "            duration                                                job  \n",
       "judgment                                                                 \n",
       "2947422122        57  ../crowdsourcing_data/FigureEightOutput/Pilot_...  \n",
       "2947475819        44  ../crowdsourcing_data/FigureEightOutput/Pilot_...  \n",
       "2947508436        62  ../crowdsourcing_data/FigureEightOutput/Pilot_...  \n",
       "2947515890        27  ../crowdsourcing_data/FigureEightOutput/Pilot_...  \n",
       "2947528744        53  ../crowdsourcing_data/FigureEightOutput/Pilot_...  "
      ]
     },
     "execution_count": 19,
     "metadata": {},
     "output_type": "execute_result"
    }
   ],
   "source": [
    "# Read data\n",
    "data, config = crowdtruth.load(\n",
    "    directory = \"../crowdsourcing_data/FigureEightOutput/Pilot_3P-Doc-High_merged/\",\n",
    "    config = config()\n",
    ")\n",
    "\n",
    "data['judgments'].head()"
   ]
  },
  {
   "cell_type": "code",
   "execution_count": 20,
   "metadata": {},
   "outputs": [
    {
     "name": "stderr",
     "output_type": "stream",
     "text": [
      "INFO:root:1 iterations; max d= 0.783779792869 ; wqs d= 0.391380584036; sqs d= 0.328107448107; rqs d= 0.341516784132\n",
      "INFO:root:2 iterations; max d= 0.119311239887 ; wqs d= 0.0562487494011; sqs d= 0.0136794900729; rqs d= 0.0393544393481\n",
      "INFO:root:3 iterations; max d= 0.0124052188538 ; wqs d= 0.00225088820238; sqs d= 0.00151490954444; rqs d= 0.00165430538967\n",
      "INFO:root:4 iterations; max d= 0.00400906616177 ; wqs d= 0.000573656370165; sqs d= 0.000442528554513; rqs d= 0.000499031596147\n",
      "INFO:root:5 iterations; max d= 0.000840442389016 ; wqs d= 0.000116140180062; sqs d= 5.06825227325e-05; rqs d= 3.71630906972e-05\n"
     ]
    }
   ],
   "source": [
    "results = crowdtruth.run(data, config)"
   ]
  },
  {
   "cell_type": "code",
   "execution_count": 21,
   "metadata": {
    "collapsed": true
   },
   "outputs": [],
   "source": [
    "gt = pd.read_csv(\"../ground_truth_data/reviewers_annotation.csv\")\n",
    "\n",
    "results[\"units\"][\"reviewers_rel\"] = pd.Series(np.random.randn(len(results[\"units\"].index)), index=results[\"units\"].index)\n",
    "results[\"units\"][\"reviewers_rel_merged\"] = pd.Series(np.random.randn(len(results[\"units\"].index)), index=results[\"units\"].index)\n",
    "results[\"units\"][\"rel_merged\"] = pd.Series(np.random.randn(len(results[\"units\"].index)), index=results[\"units\"].index)\n",
    "\n",
    "for i in range(0, len(results[\"units\"].index)):\n",
    "    for j in range(0, len(gt.index)):\n",
    "        if (results[\"units\"][\"input.topic\"].iloc[i] == gt[\"topic\"].iloc[j]) and (results[\"units\"][\"input.document_id\"].iloc[i] == gt[\"document_id\"].iloc[j]):\n",
    "            results[\"units\"][\"reviewers_rel\"].iloc[i] = gt[\"reviewers_rel\"].iloc[j]\n",
    "            results[\"units\"][\"reviewers_rel_merged\"].iloc[i] = gt[\"reviewers_rel_merged\"].iloc[j]\n",
    "            results[\"units\"][\"rel_merged\"].iloc[i] = gt[\"nist_rel_merged\"].iloc[j]"
   ]
  },
  {
   "cell_type": "code",
   "execution_count": 22,
   "metadata": {
    "collapsed": true
   },
   "outputs": [],
   "source": [
    "reload(func)\n",
    "expertsF1_notrelevant_merged = func.compute_F1_score_experts_merged(results[\"units\"],0)\n",
    "expertsF1_relevant_merged = func.compute_F1_score_experts_merged(results[\"units\"],1)"
   ]
  },
  {
   "cell_type": "code",
   "execution_count": 23,
   "metadata": {},
   "outputs": [
    {
     "name": "stdout",
     "output_type": "stream",
     "text": [
      "0.796610169492\n",
      "0.803278688525\n"
     ]
    }
   ],
   "source": [
    "print(expertsF1_notrelevant_merged)\n",
    "print(expertsF1_relevant_merged)"
   ]
  },
  {
   "cell_type": "code",
   "execution_count": 24,
   "metadata": {
    "collapsed": true
   },
   "outputs": [],
   "source": [
    "reload(func)\n",
    "crowdF1_notrelevant_merged = func.compute_F1_score_not_relevant(results[\"units\"])\n",
    "crowdF1_relevant_merged = func.compute_F1_score_relevant(results[\"units\"])"
   ]
  },
  {
   "cell_type": "code",
   "execution_count": 25,
   "metadata": {},
   "outputs": [
    {
     "data": {
      "image/png": "[encoded data removed]",
      "text/plain": [
       "<matplotlib.figure.Figure at 0x61050af10>"
      ]
     },
     "metadata": {},
     "output_type": "display_data"
    }
   ],
   "source": [
    "plt.rcParams['figure.figsize'] = 6, 4\n",
    "plt.plot(crowdF1_notrelevant_merged[:,0], crowdF1_notrelevant_merged[:,1], 'bo-', color = 'red', lw = 2, label = \"F1 Crowd - Not Relevant\")\n",
    "plt.plot(crowdF1_relevant_merged[:,0], crowdF1_relevant_merged[:,1], 'bo-', color = 'darkgreen', lw = 2, label = \"F1 Crowd - Relevant\")\n",
    "\n",
    "plt.axhline(y = expertsF1_notrelevant_merged, ls = '-', color = 'pink', lw = 2, label = \"F1 NIST - Not Relevant\")\n",
    "plt.axhline(y = expertsF1_relevant_merged, ls = '--', color = 'lightgreen', lw = 2, label = \"F1 NIST - Relevant\")\n",
    "plt.xlim(0.1,1.0)\n",
    "plt.xlabel(\"TDP-RelVal score neg/pos threshold\", fontsize=18)\n",
    "plt.ylabel(\"F1-score\", fontsize=20)\n",
    "plt.yticks(fontsize=20)\n",
    "plt.ylim(0.0,1.0)\n",
    "plt.xticks(fontsize=18)\n",
    "plt.yticks(fontsize=18)\n",
    "leg = plt.legend(fontsize=14, loc=\"lower right\")\n",
    "leg.get_frame().set_alpha(0.8)\n",
    "plt.grid(ls=':')\n",
    "plt.savefig(\"../Plots/3p_withHighlight_F1_merged_eval_reviewers.pdf\",bbox_inches='tight', dpi=1000)"
   ]
  },
  {
   "cell_type": "markdown",
   "metadata": {},
   "source": [
    "## Print results to files"
   ]
  },
  {
   "cell_type": "code",
   "execution_count": 28,
   "metadata": {
    "collapsed": true
   },
   "outputs": [],
   "source": [
    "# print results for units\n",
    "columns = list(results[\"units\"])\n",
    "columns.extend(['relevant_count', 'relevant_score', 'not_relevant_count', 'not_relevant_score'])\n",
    "rows = []\n",
    "rows.append(columns)\n",
    "for i in range(len(results[\"units\"].index)):\n",
    "    keys = ['relevant', 'not_relevant']\n",
    "    row = list(results[\"units\"].iloc[i])\n",
    "    for j in range(len(keys)):\n",
    "        row.append(results[\"units\"][\"output.relevance\"].iloc[i][keys[j]])\n",
    "        row.append(results[\"units\"][\"unit_annotation_score\"].iloc[i][keys[j]])    \n",
    "    rows.append(row)\n",
    "\n",
    "with open('../Results/Pilot_3P-Doc-High_merged/units_Pilot_3P-Doc-High_merged.csv', 'w') as csvfile:\n",
    "    writer = csv.writer(csvfile)\n",
    "    writer.writerows(rows)\n",
    "\n",
    "# print results for workers\n",
    "results[\"workers\"].to_csv(\"../Results/Pilot_3P-Doc-High_merged/workers_Pilot_3P-Doc-High_merged.csv\", index=False) "
   ]
  },
  {
   "cell_type": "code",
   "execution_count": null,
   "metadata": {
    "collapsed": true
   },
   "outputs": [],
   "source": []
  }
 ],
 "metadata": {
  "kernelspec": {
   "display_name": "Python 2",
   "language": "python",
   "name": "python2"
  },
  "language_info": {
   "codemirror_mode": {
    "name": "ipython",
    "version": 2
   },
   "file_extension": ".py",
   "mimetype": "text/x-python",
   "name": "python",
   "nbconvert_exporter": "python",
   "pygments_lexer": "ipython2",
   "version": "2.7.13"
  }
 },
 "nbformat": 4,
 "nbformat_minor": 2
}
