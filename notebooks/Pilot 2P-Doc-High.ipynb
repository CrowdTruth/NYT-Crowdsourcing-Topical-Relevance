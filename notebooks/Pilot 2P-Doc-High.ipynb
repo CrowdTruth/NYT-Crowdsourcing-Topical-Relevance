{
 "cells": [
  {
   "cell_type": "markdown",
   "metadata": {},
   "source": [
    "# CrowdTruth metrics 2.0 documentation\n",
    "\n",
    "Let:\n",
    "\n",
    "* $workers(u):$ all workers that annotate unit $u$;\n",
    "* $units(i):$ all input units annotated by worker $i$;\n",
    "* $WorkVec(i, u):$ annotations of worker $i$ on unit $u$ as a binary vector;\n",
    "* $UnitVec(s) = \\sum_{i \\in workers(s)} WorkVec(i,s)$, where $s$ is an input unit.\n",
    "\n",
    "## Unit Quality Score (UQS)\n",
    "\n",
    "The unit quality score $UQS(u)$ is computed as the average cosine similarity between all worker vectors for a given input unit $u$, weighted by the worker quality ($WQS$) and annotation quality ($AQS$). The goal is to capture the degree of agreement in annotating the unit. Through the weighted average, workers and annotations with lower quality will have less of an impact on the final score.\n",
    "\n",
    "$$ UQS(u) = \\frac{\\sum_{i, j \\in workers(u)} Wcos(WorkVec(i,u), WorkVec(j,u)) \\; WQS(i) \\; WQS(j)}{\\sum_{i, j \\in workers(u)} WQS(i) \\; WQS(j)}, \\; i \\neq j.$$\n",
    "\n",
    "\n",
    "### Weighted Cosine\n",
    "\n",
    "To weigh the metrics with the annotation quality, we compute $Wcos$, the weighted version of the cosine similarity. This metric is only applicable to closed tasks, where annotation quality can be calculated across units. For open-ended tasks, we consider annotation quality equal to 1 and calculate the regular cosine similarity.\n",
    "\n",
    "$$ Wcos(vec_1, vec_2) = \\frac{\\sum_{a} vec_1(a) \\; vec_2(a) \\; AQS(a)}{\\sqrt{(\\sum_{a} vec_1^2(a) \\; AQS(a)) \\; (\\sum_{a} vec_2^2(a) \\; AQS(a))}} .$$ \n",
    "\n",
    "\n",
    "## Worker Quality Score (WQS)\n",
    "\n",
    "The worker quality score $WQS(i)$ for a given worker $i$ is the product of 2 separate metrics - the worker-worker agreement $WWA(i)$ and the worker-unit agreement $WUA(i)$.\n",
    "\n",
    "$$ WQS(i) = WUA(i) \\; WWA(i) .$$\n",
    "\n",
    "### Worker-Unit Agreement\n",
    "\n",
    "The worker-unit agreement $WUA(i)$ is the average cosine distance between the annotations of a worker $i$ and all annotations for the units they have worked on, weighted by the unit and annotation quality. It calculates how much a worker disagrees with the crowd on a unit basis. Through the weighted average, units and anntation with lower quality will have less of an impact on the final score.\n",
    "\n",
    "$$ WSA(i) = \\frac{\\sum_{u \\in units(i)} Wcos(WorkVec(i,u), UnitVec(u) - WorkVec(i, u)) \\; UQS(u)}{\\sum_{u \\in units(i)} UQS(u)} .$$\n",
    "\n",
    "### Worker-Worker Agreement\n",
    "\n",
    "The worker-worker agreement $WWA(i)$ is the average cosine distance between the annotations of a worker $i$ and all other workers that have worked on the same units as worker $i$, weighted by the worker and annotation qualities. The metric gives an indication as to whether there are consisently like-minded workers. This is useful for identifying communities of thought. Through the weighted average, workers and annotations with lower quality will have less of an impact on the final score of the given worker.\n",
    "\n",
    "$$ WWA(i) = \\frac{ \\sum_{j \\in workers(u \\in units(i))} Wcos(WorkVec(i, u), WorkVec(j, u)) \\; WQS(j) \\; UQS(u) }{ \\sum_{j \\in workers(s \\in units(i))} WQS(j) \\; UQS(u) }, \\; i \\neq j .$$\n",
    "\n",
    "\n",
    "## Annotation Quality Score (AQS)\n",
    "\n",
    "The annotation quality score $AQS(a)$ calculates the agreement of selecting an annotation $a$, over all the units it appears in. Therefore, it is only applicable to closed tasks, where the same annotation set is used for all input units. It is based on $P_a(i | j)$, the probability that if a worker $j$ annotates $a$ in a unit, worker $i$ will also annotate it. \n",
    "\n",
    "$$ P_a(i | j) = \\frac{ \\sum_{u \\in units(i) \\cap units(j) } UQS(u) \\; WorkVec(i, s)(r) \\; WorkVec(j, s)(r) }{ \\sum_{u \\in units(i) \\cap units(j) } UQS(u) \\; WorkVec(j, u)(r) } . $$\n",
    "\n",
    "$AQS(a)$ is the weighted average of $P_a(i | j)$ for all possible pairs of workers. Through the weighted average, input units and workers with lower quality will have less of an impact on the final score of the annotation.\n",
    "\n",
    "$$ AQS(a) = \\frac{ \\sum_{i,j} WQS(i) \\; WQS(j) \\; P_a(i | j) }{ \\sum_{i,j} WQS(i) \\; WQS(j) }, i \\neq j . $$\n",
    "\n",
    "\n",
    "## Unit-Annotation Score (UAS)\n",
    "\n",
    "The unit - annotation score $UAS(u, a)$ calculates the likelihood that annotation $a$ is expressed in input unit $u$. It is the ratio of the number of workers that picked annotation $u$ over all workers that annotated the unit, weighted by the worker quality.\n",
    "\n",
    "$$ UAS(u, a) = \\frac{ \\sum_{i \\in workers(u)} WorkVec(i,u)(a) \\; WQS(i) }{ \\sum_{i \\in workers(u)} WQS(i) }. $$"
   ]
  },
  {
   "cell_type": "markdown",
   "metadata": {},
   "source": [
    "## Run the metrics\n"
   ]
  },
  {
   "cell_type": "code",
   "execution_count": 1,
   "metadata": {
    "collapsed": true
   },
   "outputs": [],
   "source": [
    "import pkg_resources\n",
    "pkg_resources.require(\"crowdtruth==2.0\")\n",
    "import crowdtruth\n",
    "from crowdtruth.configuration import DefaultConfig\n",
    "import logging\n",
    "import warnings; warnings.simplefilter('ignore')\n",
    "\n",
    "logger = logging.getLogger()\n",
    "logger.setLevel(logging.DEBUG)\n",
    "\n",
    "class config(DefaultConfig):\n",
    "    inputColumns = [\"index\", \"bin\", \"doc_len\", \"document_id\", \"document_body\", \"document_title\", \"rel\", \n",
    "                    \"topic\", \"topic_description\", \"topic_query\"]\n",
    "    outputColumns = [\"relevance\"]\n",
    "    \n",
    "    # processing of a closed task\n",
    "    open_ended_task = False\n",
    "    annotation_separator = \",\"\n",
    "    annotation_vector = [\n",
    "        \"relevant\", \"not_relevant\"\n",
    "    ]\n",
    "    \n",
    "    def processJudgments(self, judgments):\n",
    "        return judgments"
   ]
  },
  {
   "cell_type": "markdown",
   "metadata": {},
   "source": [
    "### Creating a class that inherits from `Configuration` lets us define how the input file will be processed:\n",
    "\n",
    "* `inputColumns`: list of input columns from the .csv file, the input that the workers were shown\n",
    "* `outputColumns`: list of output columns with the answers from the workers\n",
    "* `processJudgments`: function that defines how the worker judgments wil be processed; default separator for judgments is ','\n",
    "\n",
    "To build the annotation vector, we also need to specify whether this is an **open-ended** or **closed** task, using the `open_ended_task` variable.\n",
    "\n",
    "* **open-ended task** means that the annotation space is not known, and workers can freely provide all the choices that apply (e.g. in sound tagging, the workers are provided with a text box to enter all tags they can think of)\n",
    "* **closed task** means that the annotations that can occur in the data are already known, and the workers are asked to validate their existence (e.g. for medical relation extraction, the workers pick from a pre-defined multiple-choice set of relations)\n",
    "\n",
    "If the task we are processing is **closed**, then we also need to provide the list of possible annotations in the `annotation_vector` variable."
   ]
  },
  {
   "cell_type": "code",
   "execution_count": 2,
   "metadata": {},
   "outputs": [
    {
     "name": "stderr",
     "output_type": "stream",
     "text": [
      "INFO:root:Config loaded\n",
      "INFO:root:Found 2 files\n",
      "INFO:root:Processing f1205711_anonymized.csv\n",
      "WARNING:root:1 row with incomplete information in output columns was removed.\n",
      "INFO:root:Values not stored as dictionary\n",
      "INFO:root:Processing f1205707_anonymized.csv\n",
      "WARNING:root:3 rows with incomplete information in output columns were removed.\n",
      "INFO:root:Values not stored as dictionary\n"
     ]
    },
    {
     "data": {
      "text/html": [
       "<div>\n",
       "<style scoped>\n",
       "    .dataframe tbody tr th:only-of-type {\n",
       "        vertical-align: middle;\n",
       "    }\n",
       "\n",
       "    .dataframe tbody tr th {\n",
       "        vertical-align: top;\n",
       "    }\n",
       "\n",
       "    .dataframe thead th {\n",
       "        text-align: right;\n",
       "    }\n",
       "</style>\n",
       "<table border=\"1\" class=\"dataframe\">\n",
       "  <thead>\n",
       "    <tr style=\"text-align: right;\">\n",
       "      <th></th>\n",
       "      <th>output.relevance</th>\n",
       "      <th>output.relevance.count</th>\n",
       "      <th>output.relevance.unique</th>\n",
       "      <th>submitted</th>\n",
       "      <th>started</th>\n",
       "      <th>worker</th>\n",
       "      <th>unit</th>\n",
       "      <th>duration</th>\n",
       "      <th>job</th>\n",
       "    </tr>\n",
       "    <tr>\n",
       "      <th>judgment</th>\n",
       "      <th></th>\n",
       "      <th></th>\n",
       "      <th></th>\n",
       "      <th></th>\n",
       "      <th></th>\n",
       "      <th></th>\n",
       "      <th></th>\n",
       "      <th></th>\n",
       "      <th></th>\n",
       "    </tr>\n",
       "  </thead>\n",
       "  <tbody>\n",
       "    <tr>\n",
       "      <th>3013417764</th>\n",
       "      <td>{u'not_relevant': 1, u'relevant': 0}</td>\n",
       "      <td>1</td>\n",
       "      <td>2</td>\n",
       "      <td>2017-11-09 11:27:38</td>\n",
       "      <td>2017-11-09 11:26:30</td>\n",
       "      <td>8a053ac8b7ede630441b9643573f804582e3856c0a803a...</td>\n",
       "      <td>1444133032</td>\n",
       "      <td>68</td>\n",
       "      <td>../crowdsourcing_data/Pilot_2P-Doc-High//f1205...</td>\n",
       "    </tr>\n",
       "    <tr>\n",
       "      <th>3014424707</th>\n",
       "      <td>{u'not_relevant': 1, u'relevant': 0}</td>\n",
       "      <td>1</td>\n",
       "      <td>2</td>\n",
       "      <td>2017-11-09 15:40:29</td>\n",
       "      <td>2017-11-09 15:37:20</td>\n",
       "      <td>972f22bbbd78398c385496add50f8191cf1e169855c22d...</td>\n",
       "      <td>1444133032</td>\n",
       "      <td>189</td>\n",
       "      <td>../crowdsourcing_data/Pilot_2P-Doc-High//f1205...</td>\n",
       "    </tr>\n",
       "    <tr>\n",
       "      <th>3014324676</th>\n",
       "      <td>{u'not_relevant': 1, u'relevant': 0}</td>\n",
       "      <td>1</td>\n",
       "      <td>2</td>\n",
       "      <td>2017-11-09 15:22:05</td>\n",
       "      <td>2017-11-09 15:20:02</td>\n",
       "      <td>972f22bbbd78398c385496add50f8191cf1e169855c22d...</td>\n",
       "      <td>1444133033</td>\n",
       "      <td>123</td>\n",
       "      <td>../crowdsourcing_data/Pilot_2P-Doc-High//f1205...</td>\n",
       "    </tr>\n",
       "    <tr>\n",
       "      <th>3015626822</th>\n",
       "      <td>{u'not_relevant': 1, u'relevant': 0}</td>\n",
       "      <td>1</td>\n",
       "      <td>2</td>\n",
       "      <td>2017-11-09 19:50:24</td>\n",
       "      <td>2017-11-09 19:49:28</td>\n",
       "      <td>7735bee19ebc1d89fa1677fba6acdb1ae4d0bdf9ed562c...</td>\n",
       "      <td>1444133033</td>\n",
       "      <td>56</td>\n",
       "      <td>../crowdsourcing_data/Pilot_2P-Doc-High//f1205...</td>\n",
       "    </tr>\n",
       "    <tr>\n",
       "      <th>3014582264</th>\n",
       "      <td>{u'not_relevant': 1, u'relevant': 0}</td>\n",
       "      <td>1</td>\n",
       "      <td>2</td>\n",
       "      <td>2017-11-09 16:12:56</td>\n",
       "      <td>2017-11-09 16:05:32</td>\n",
       "      <td>972f22bbbd78398c385496add50f8191cf1e169855c22d...</td>\n",
       "      <td>1444133034</td>\n",
       "      <td>444</td>\n",
       "      <td>../crowdsourcing_data/Pilot_2P-Doc-High//f1205...</td>\n",
       "    </tr>\n",
       "  </tbody>\n",
       "</table>\n",
       "</div>"
      ],
      "text/plain": [
       "                                output.relevance  output.relevance.count  \\\n",
       "judgment                                                                   \n",
       "3013417764  {u'not_relevant': 1, u'relevant': 0}                       1   \n",
       "3014424707  {u'not_relevant': 1, u'relevant': 0}                       1   \n",
       "3014324676  {u'not_relevant': 1, u'relevant': 0}                       1   \n",
       "3015626822  {u'not_relevant': 1, u'relevant': 0}                       1   \n",
       "3014582264  {u'not_relevant': 1, u'relevant': 0}                       1   \n",
       "\n",
       "            output.relevance.unique           submitted             started  \\\n",
       "judgment                                                                      \n",
       "3013417764                        2 2017-11-09 11:27:38 2017-11-09 11:26:30   \n",
       "3014424707                        2 2017-11-09 15:40:29 2017-11-09 15:37:20   \n",
       "3014324676                        2 2017-11-09 15:22:05 2017-11-09 15:20:02   \n",
       "3015626822                        2 2017-11-09 19:50:24 2017-11-09 19:49:28   \n",
       "3014582264                        2 2017-11-09 16:12:56 2017-11-09 16:05:32   \n",
       "\n",
       "                                                       worker        unit  \\\n",
       "judgment                                                                    \n",
       "3013417764  8a053ac8b7ede630441b9643573f804582e3856c0a803a...  1444133032   \n",
       "3014424707  972f22bbbd78398c385496add50f8191cf1e169855c22d...  1444133032   \n",
       "3014324676  972f22bbbd78398c385496add50f8191cf1e169855c22d...  1444133033   \n",
       "3015626822  7735bee19ebc1d89fa1677fba6acdb1ae4d0bdf9ed562c...  1444133033   \n",
       "3014582264  972f22bbbd78398c385496add50f8191cf1e169855c22d...  1444133034   \n",
       "\n",
       "            duration                                                job  \n",
       "judgment                                                                 \n",
       "3013417764        68  ../crowdsourcing_data/Pilot_2P-Doc-High//f1205...  \n",
       "3014424707       189  ../crowdsourcing_data/Pilot_2P-Doc-High//f1205...  \n",
       "3014324676       123  ../crowdsourcing_data/Pilot_2P-Doc-High//f1205...  \n",
       "3015626822        56  ../crowdsourcing_data/Pilot_2P-Doc-High//f1205...  \n",
       "3014582264       444  ../crowdsourcing_data/Pilot_2P-Doc-High//f1205...  "
      ]
     },
     "execution_count": 2,
     "metadata": {},
     "output_type": "execute_result"
    }
   ],
   "source": [
    "# Read data\n",
    "data, config = crowdtruth.load(\n",
    "    directory = \"../crowdsourcing_data/Pilot_2P-Doc-High/\",\n",
    "    config = config()\n",
    ")\n",
    "\n",
    "data['judgments'].head()"
   ]
  },
  {
   "cell_type": "code",
   "execution_count": 3,
   "metadata": {},
   "outputs": [
    {
     "name": "stderr",
     "output_type": "stream",
     "text": [
      "INFO:root:1 iterations; max d= 0.943617698759 ; wqs d= 0.431584483067; sqs d= 0.294145299145; rqs d= 0.388127475514\n",
      "INFO:root:2 iterations; max d= 0.170513217788 ; wqs d= 0.0815034346725; sqs d= 0.0493026043378; rqs d= 0.0672986578075\n",
      "INFO:root:3 iterations; max d= 0.034896246862 ; wqs d= 0.0160204834898; sqs d= 0.00674901216362; rqs d= 0.0137271088824\n",
      "INFO:root:4 iterations; max d= 0.0175132962954 ; wqs d= 0.00592484901217; sqs d= 0.00648710047517; rqs d= 0.00659568509246\n",
      "INFO:root:5 iterations; max d= 0.00518783180065 ; wqs d= 0.00237345415861; sqs d= 0.00165004735919; rqs d= 0.0022734081951\n",
      "INFO:root:6 iterations; max d= 0.0023741895262 ; wqs d= 0.000941941933839; sqs d= 0.000894814147702; rqs d= 0.000942079698894\n",
      "INFO:root:7 iterations; max d= 0.00085756296647 ; wqs d= 0.000374217636214; sqs d= 0.000300674223541; rqs d= 0.00036571380032\n"
     ]
    }
   ],
   "source": [
    "results = crowdtruth.run(data, config)"
   ]
  },
  {
   "cell_type": "code",
   "execution_count": 4,
   "metadata": {
    "scrolled": true
   },
   "outputs": [
    {
     "data": {
      "text/html": [
       "<div>\n",
       "<style scoped>\n",
       "    .dataframe tbody tr th:only-of-type {\n",
       "        vertical-align: middle;\n",
       "    }\n",
       "\n",
       "    .dataframe tbody tr th {\n",
       "        vertical-align: top;\n",
       "    }\n",
       "\n",
       "    .dataframe thead th {\n",
       "        text-align: right;\n",
       "    }\n",
       "</style>\n",
       "<table border=\"1\" class=\"dataframe\">\n",
       "  <thead>\n",
       "    <tr style=\"text-align: right;\">\n",
       "      <th></th>\n",
       "      <th>duration</th>\n",
       "      <th>input.bin</th>\n",
       "      <th>input.doc_len</th>\n",
       "      <th>input.document_body</th>\n",
       "      <th>input.document_id</th>\n",
       "      <th>input.document_title</th>\n",
       "      <th>input.index</th>\n",
       "      <th>input.rel</th>\n",
       "      <th>input.topic</th>\n",
       "      <th>input.topic_description</th>\n",
       "      <th>input.topic_query</th>\n",
       "      <th>job</th>\n",
       "      <th>output.relevance</th>\n",
       "      <th>output.relevance.annotations</th>\n",
       "      <th>output.relevance.unique_annotations</th>\n",
       "      <th>worker</th>\n",
       "      <th>uqs</th>\n",
       "      <th>unit_annotation_score</th>\n",
       "      <th>uqs_initial</th>\n",
       "      <th>unit_annotation_score_initial</th>\n",
       "    </tr>\n",
       "    <tr>\n",
       "      <th>unit</th>\n",
       "      <th></th>\n",
       "      <th></th>\n",
       "      <th></th>\n",
       "      <th></th>\n",
       "      <th></th>\n",
       "      <th></th>\n",
       "      <th></th>\n",
       "      <th></th>\n",
       "      <th></th>\n",
       "      <th></th>\n",
       "      <th></th>\n",
       "      <th></th>\n",
       "      <th></th>\n",
       "      <th></th>\n",
       "      <th></th>\n",
       "      <th></th>\n",
       "      <th></th>\n",
       "      <th></th>\n",
       "      <th></th>\n",
       "      <th></th>\n",
       "    </tr>\n",
       "  </thead>\n",
       "  <tbody>\n",
       "    <tr>\n",
       "      <th>1444133032</th>\n",
       "      <td>161.533333</td>\n",
       "      <td>2</td>\n",
       "      <td>578</td>\n",
       "      <td>&lt;p&gt;The earnest figures speaking to us from the...</td>\n",
       "      <td>918882</td>\n",
       "      <td>Gateway to Madness</td>\n",
       "      <td>7</td>\n",
       "      <td>2</td>\n",
       "      <td>325</td>\n",
       "      <td>Describe a cult by name and identify the cult ...</td>\n",
       "      <td>Cult Lifestyles</td>\n",
       "      <td>../crowdsourcing_data/Pilot_2P-Doc-High//f1205...</td>\n",
       "      <td>{u'not_relevant': 2, u'relevant': 13}</td>\n",
       "      <td>15</td>\n",
       "      <td>2</td>\n",
       "      <td>15</td>\n",
       "      <td>0.852247</td>\n",
       "      <td>{u'not_relevant': 0.0739961950781, u'relevant'...</td>\n",
       "      <td>0.752381</td>\n",
       "      <td>{u'not_relevant': 0.133333333333, u'relevant':...</td>\n",
       "    </tr>\n",
       "    <tr>\n",
       "      <th>1444133033</th>\n",
       "      <td>59.000000</td>\n",
       "      <td>2</td>\n",
       "      <td>481</td>\n",
       "      <td>&lt;p&gt;Fifty-three more bodies were discovered tod...</td>\n",
       "      <td>1187935</td>\n",
       "      <td>Cult Toll Rises In Uganda As More Dead Are Found</td>\n",
       "      <td>8</td>\n",
       "      <td>1</td>\n",
       "      <td>325</td>\n",
       "      <td>Describe a cult by name and identify the cult ...</td>\n",
       "      <td>Cult Lifestyles</td>\n",
       "      <td>../crowdsourcing_data/Pilot_2P-Doc-High//f1205...</td>\n",
       "      <td>{u'not_relevant': 2, u'relevant': 13}</td>\n",
       "      <td>15</td>\n",
       "      <td>2</td>\n",
       "      <td>15</td>\n",
       "      <td>0.862083</td>\n",
       "      <td>{u'not_relevant': 0.0686650456836, u'relevant'...</td>\n",
       "      <td>0.752381</td>\n",
       "      <td>{u'not_relevant': 0.133333333333, u'relevant':...</td>\n",
       "    </tr>\n",
       "    <tr>\n",
       "      <th>1444133034</th>\n",
       "      <td>75.933333</td>\n",
       "      <td>2</td>\n",
       "      <td>559</td>\n",
       "      <td>&lt;p&gt;LEAD:&lt;/p&gt; &lt;p&gt;WOMBS AND ALIEN SPIRITS&lt;/p&gt; &lt;p...</td>\n",
       "      <td>337774</td>\n",
       "      <td>WOMEN POSSESSED</td>\n",
       "      <td>9</td>\n",
       "      <td>2</td>\n",
       "      <td>325</td>\n",
       "      <td>Describe a cult by name and identify the cult ...</td>\n",
       "      <td>Cult Lifestyles</td>\n",
       "      <td>../crowdsourcing_data/Pilot_2P-Doc-High//f1205...</td>\n",
       "      <td>{u'not_relevant': 1, u'relevant': 14}</td>\n",
       "      <td>15</td>\n",
       "      <td>2</td>\n",
       "      <td>15</td>\n",
       "      <td>0.937324</td>\n",
       "      <td>{u'not_relevant': 0.0299426554496, u'relevant'...</td>\n",
       "      <td>0.866667</td>\n",
       "      <td>{u'not_relevant': 0.0666666666667, u'relevant'...</td>\n",
       "    </tr>\n",
       "    <tr>\n",
       "      <th>1444133035</th>\n",
       "      <td>74.333333</td>\n",
       "      <td>2</td>\n",
       "      <td>524</td>\n",
       "      <td>&lt;p&gt;LEAD: A judge in Federal Bankruptcy Court r...</td>\n",
       "      <td>42094</td>\n",
       "      <td>CHURCH ORDERED TO RETURN $6 MILLION TO GIVER</td>\n",
       "      <td>10</td>\n",
       "      <td>0</td>\n",
       "      <td>325</td>\n",
       "      <td>Describe a cult by name and identify the cult ...</td>\n",
       "      <td>Cult Lifestyles</td>\n",
       "      <td>../crowdsourcing_data/Pilot_2P-Doc-High//f1205...</td>\n",
       "      <td>{u'not_relevant': 7, u'relevant': 8}</td>\n",
       "      <td>15</td>\n",
       "      <td>2</td>\n",
       "      <td>15</td>\n",
       "      <td>0.496308</td>\n",
       "      <td>{u'not_relevant': 0.372969907017, u'relevant':...</td>\n",
       "      <td>0.466667</td>\n",
       "      <td>{u'not_relevant': 0.466666666667, u'relevant':...</td>\n",
       "    </tr>\n",
       "    <tr>\n",
       "      <th>1444133036</th>\n",
       "      <td>64.866667</td>\n",
       "      <td>2</td>\n",
       "      <td>641</td>\n",
       "      <td>&lt;p&gt;In 1984, Sibylle Schonemann and her husband...</td>\n",
       "      <td>477008</td>\n",
       "      <td>Director Relives Political Imprisonment</td>\n",
       "      <td>11</td>\n",
       "      <td>0</td>\n",
       "      <td>325</td>\n",
       "      <td>Describe a cult by name and identify the cult ...</td>\n",
       "      <td>Cult Lifestyles</td>\n",
       "      <td>../crowdsourcing_data/Pilot_2P-Doc-High//f1205...</td>\n",
       "      <td>{u'not_relevant': 9, u'relevant': 6}</td>\n",
       "      <td>15</td>\n",
       "      <td>2</td>\n",
       "      <td>15</td>\n",
       "      <td>0.461397</td>\n",
       "      <td>{u'not_relevant': 0.481028157335, u'relevant':...</td>\n",
       "      <td>0.485714</td>\n",
       "      <td>{u'not_relevant': 0.6, u'relevant': 0.4}</td>\n",
       "    </tr>\n",
       "  </tbody>\n",
       "</table>\n",
       "</div>"
      ],
      "text/plain": [
       "              duration  input.bin  input.doc_len  \\\n",
       "unit                                               \n",
       "1444133032  161.533333          2            578   \n",
       "1444133033   59.000000          2            481   \n",
       "1444133034   75.933333          2            559   \n",
       "1444133035   74.333333          2            524   \n",
       "1444133036   64.866667          2            641   \n",
       "\n",
       "                                          input.document_body  \\\n",
       "unit                                                            \n",
       "1444133032  <p>The earnest figures speaking to us from the...   \n",
       "1444133033  <p>Fifty-three more bodies were discovered tod...   \n",
       "1444133034  <p>LEAD:</p> <p>WOMBS AND ALIEN SPIRITS</p> <p...   \n",
       "1444133035  <p>LEAD: A judge in Federal Bankruptcy Court r...   \n",
       "1444133036  <p>In 1984, Sibylle Schonemann and her husband...   \n",
       "\n",
       "            input.document_id  \\\n",
       "unit                            \n",
       "1444133032             918882   \n",
       "1444133033            1187935   \n",
       "1444133034             337774   \n",
       "1444133035              42094   \n",
       "1444133036             477008   \n",
       "\n",
       "                                        input.document_title  input.index  \\\n",
       "unit                                                                        \n",
       "1444133032                                Gateway to Madness            7   \n",
       "1444133033  Cult Toll Rises In Uganda As More Dead Are Found            8   \n",
       "1444133034                                   WOMEN POSSESSED            9   \n",
       "1444133035      CHURCH ORDERED TO RETURN $6 MILLION TO GIVER           10   \n",
       "1444133036           Director Relives Political Imprisonment           11   \n",
       "\n",
       "            input.rel  input.topic  \\\n",
       "unit                                 \n",
       "1444133032          2          325   \n",
       "1444133033          1          325   \n",
       "1444133034          2          325   \n",
       "1444133035          0          325   \n",
       "1444133036          0          325   \n",
       "\n",
       "                                      input.topic_description  \\\n",
       "unit                                                            \n",
       "1444133032  Describe a cult by name and identify the cult ...   \n",
       "1444133033  Describe a cult by name and identify the cult ...   \n",
       "1444133034  Describe a cult by name and identify the cult ...   \n",
       "1444133035  Describe a cult by name and identify the cult ...   \n",
       "1444133036  Describe a cult by name and identify the cult ...   \n",
       "\n",
       "           input.topic_query  \\\n",
       "unit                           \n",
       "1444133032   Cult Lifestyles   \n",
       "1444133033   Cult Lifestyles   \n",
       "1444133034   Cult Lifestyles   \n",
       "1444133035   Cult Lifestyles   \n",
       "1444133036   Cult Lifestyles   \n",
       "\n",
       "                                                          job  \\\n",
       "unit                                                            \n",
       "1444133032  ../crowdsourcing_data/Pilot_2P-Doc-High//f1205...   \n",
       "1444133033  ../crowdsourcing_data/Pilot_2P-Doc-High//f1205...   \n",
       "1444133034  ../crowdsourcing_data/Pilot_2P-Doc-High//f1205...   \n",
       "1444133035  ../crowdsourcing_data/Pilot_2P-Doc-High//f1205...   \n",
       "1444133036  ../crowdsourcing_data/Pilot_2P-Doc-High//f1205...   \n",
       "\n",
       "                                 output.relevance  \\\n",
       "unit                                                \n",
       "1444133032  {u'not_relevant': 2, u'relevant': 13}   \n",
       "1444133033  {u'not_relevant': 2, u'relevant': 13}   \n",
       "1444133034  {u'not_relevant': 1, u'relevant': 14}   \n",
       "1444133035   {u'not_relevant': 7, u'relevant': 8}   \n",
       "1444133036   {u'not_relevant': 9, u'relevant': 6}   \n",
       "\n",
       "            output.relevance.annotations  output.relevance.unique_annotations  \\\n",
       "unit                                                                            \n",
       "1444133032                            15                                    2   \n",
       "1444133033                            15                                    2   \n",
       "1444133034                            15                                    2   \n",
       "1444133035                            15                                    2   \n",
       "1444133036                            15                                    2   \n",
       "\n",
       "            worker       uqs  \\\n",
       "unit                           \n",
       "1444133032      15  0.852247   \n",
       "1444133033      15  0.862083   \n",
       "1444133034      15  0.937324   \n",
       "1444133035      15  0.496308   \n",
       "1444133036      15  0.461397   \n",
       "\n",
       "                                        unit_annotation_score  uqs_initial  \\\n",
       "unit                                                                         \n",
       "1444133032  {u'not_relevant': 0.0739961950781, u'relevant'...     0.752381   \n",
       "1444133033  {u'not_relevant': 0.0686650456836, u'relevant'...     0.752381   \n",
       "1444133034  {u'not_relevant': 0.0299426554496, u'relevant'...     0.866667   \n",
       "1444133035  {u'not_relevant': 0.372969907017, u'relevant':...     0.466667   \n",
       "1444133036  {u'not_relevant': 0.481028157335, u'relevant':...     0.485714   \n",
       "\n",
       "                                unit_annotation_score_initial  \n",
       "unit                                                           \n",
       "1444133032  {u'not_relevant': 0.133333333333, u'relevant':...  \n",
       "1444133033  {u'not_relevant': 0.133333333333, u'relevant':...  \n",
       "1444133034  {u'not_relevant': 0.0666666666667, u'relevant'...  \n",
       "1444133035  {u'not_relevant': 0.466666666667, u'relevant':...  \n",
       "1444133036           {u'not_relevant': 0.6, u'relevant': 0.4}  "
      ]
     },
     "execution_count": 4,
     "metadata": {},
     "output_type": "execute_result"
    }
   ],
   "source": [
    "results[\"units\"].head(5)"
   ]
  },
  {
   "cell_type": "markdown",
   "metadata": {},
   "source": [
    "### Plot the unit quality score (UQS), the worker quality score (WQS) and the annotation quality score (AQS)\n"
   ]
  },
  {
   "cell_type": "code",
   "execution_count": 5,
   "metadata": {},
   "outputs": [
    {
     "data": {
      "text/plain": [
       "Text(0,0.5,u'Units')"
      ]
     },
     "execution_count": 5,
     "metadata": {},
     "output_type": "execute_result"
    },
    {
     "data": {
      "image/png": "[encoded data removed]",
      "text/plain": [
       "<matplotlib.figure.Figure at 0x10f799910>"
      ]
     },
     "metadata": {},
     "output_type": "display_data"
    }
   ],
   "source": [
    "import matplotlib.pyplot as plt\n",
    "%matplotlib inline\n",
    "\n",
    "plt.hist(results[\"units\"][\"uqs\"])\n",
    "plt.xlabel(\"UQS\")\n",
    "plt.ylabel(\"Units\")"
   ]
  },
  {
   "cell_type": "code",
   "execution_count": 6,
   "metadata": {},
   "outputs": [
    {
     "data": {
      "text/plain": [
       "Text(0,0.5,u'Workers')"
      ]
     },
     "execution_count": 6,
     "metadata": {},
     "output_type": "execute_result"
    },
    {
     "data": {
      "image/png": "[encoded data removed]",
      "text/plain": [
       "<matplotlib.figure.Figure at 0x110852110>"
      ]
     },
     "metadata": {},
     "output_type": "display_data"
    }
   ],
   "source": [
    "plt.hist(results[\"workers\"][\"wqs\"])\n",
    "plt.xlabel(\"WQS\")\n",
    "plt.ylabel(\"Workers\")"
   ]
  },
  {
   "cell_type": "code",
   "execution_count": 7,
   "metadata": {},
   "outputs": [
    {
     "data": {
      "text/html": [
       "<div>\n",
       "<style scoped>\n",
       "    .dataframe tbody tr th:only-of-type {\n",
       "        vertical-align: middle;\n",
       "    }\n",
       "\n",
       "    .dataframe tbody tr th {\n",
       "        vertical-align: top;\n",
       "    }\n",
       "\n",
       "    .dataframe thead th {\n",
       "        text-align: right;\n",
       "    }\n",
       "</style>\n",
       "<table border=\"1\" class=\"dataframe\">\n",
       "  <thead>\n",
       "    <tr style=\"text-align: right;\">\n",
       "      <th></th>\n",
       "      <th>output.relevance</th>\n",
       "      <th>aqs</th>\n",
       "      <th>aqs_initial</th>\n",
       "    </tr>\n",
       "  </thead>\n",
       "  <tbody>\n",
       "    <tr>\n",
       "      <th>not_relevant</th>\n",
       "      <td>1796</td>\n",
       "      <td>0.342030</td>\n",
       "      <td>0.439548</td>\n",
       "    </tr>\n",
       "    <tr>\n",
       "      <th>relevant</th>\n",
       "      <td>1796</td>\n",
       "      <td>0.869083</td>\n",
       "      <td>0.784197</td>\n",
       "    </tr>\n",
       "  </tbody>\n",
       "</table>\n",
       "</div>"
      ],
      "text/plain": [
       "              output.relevance       aqs  aqs_initial\n",
       "not_relevant              1796  0.342030     0.439548\n",
       "relevant                  1796  0.869083     0.784197"
      ]
     },
     "execution_count": 7,
     "metadata": {},
     "output_type": "execute_result"
    }
   ],
   "source": [
    "results[\"annotations\"]"
   ]
  },
  {
   "cell_type": "markdown",
   "metadata": {},
   "source": [
    "## Comparison with reviewers and NIST annotations"
   ]
  },
  {
   "cell_type": "code",
   "execution_count": 8,
   "metadata": {
    "collapsed": true
   },
   "outputs": [],
   "source": [
    "import pandas as pd\n",
    "import numpy as np\n",
    "\n",
    "gt = pd.read_csv(\"../ground_truth_data/reviewers_pilot_aggregated_judgments.csv\")\n",
    "\n",
    "results[\"units\"][\"reviewers_rel\"] = pd.Series(np.random.randn(len(results[\"units\"].index)), index=results[\"units\"].index)\n",
    "results[\"units\"][\"reviewers_rel_merged\"] = pd.Series(np.random.randn(len(results[\"units\"].index)), index=results[\"units\"].index)\n",
    "results[\"units\"][\"rel_merged\"] = pd.Series(np.random.randn(len(results[\"units\"].index)), index=results[\"units\"].index)\n",
    "\n",
    "for i in range(0, len(results[\"units\"].index)):\n",
    "    for j in range(0, len(gt.index)):\n",
    "        if (results[\"units\"][\"input.topic\"].iloc[i] == gt[\"topic\"].iloc[j]) and (results[\"units\"][\"input.document_id\"].iloc[i] == gt[\"document_id\"].iloc[j]):\n",
    "            results[\"units\"][\"reviewers_rel\"].iloc[i] = gt[\"reviewers_rel\"].iloc[j]\n",
    "            results[\"units\"][\"reviewers_rel_merged\"].iloc[i] = gt[\"reviewers_rel_merged\"].iloc[j]\n",
    "            results[\"units\"][\"rel_merged\"].iloc[i] = gt[\"nist_rel_merged\"].iloc[j]"
   ]
  },
  {
   "cell_type": "code",
   "execution_count": 9,
   "metadata": {},
   "outputs": [
    {
     "data": {
      "text/plain": [
       "<module 'help_functions' from '../scripts/help_functions.pyc'>"
      ]
     },
     "execution_count": 9,
     "metadata": {},
     "output_type": "execute_result"
    }
   ],
   "source": [
    "import sys\n",
    "sys.path.append('../scripts')\n",
    "\n",
    "import help_functions as func\n",
    "reload(func)"
   ]
  },
  {
   "cell_type": "code",
   "execution_count": 10,
   "metadata": {
    "collapsed": true
   },
   "outputs": [],
   "source": [
    "expertsF1_notrelevant = func.compute_F1_score_experts_merged(results[\"units\"],0)\n",
    "expertsF1_relevant = func.compute_F1_score_experts_merged(results[\"units\"],1)"
   ]
  },
  {
   "cell_type": "code",
   "execution_count": 11,
   "metadata": {},
   "outputs": [
    {
     "name": "stdout",
     "output_type": "stream",
     "text": [
      "0.796610169492\n",
      "0.803278688525\n"
     ]
    }
   ],
   "source": [
    "print(expertsF1_notrelevant)\n",
    "print(expertsF1_relevant)"
   ]
  },
  {
   "cell_type": "code",
   "execution_count": 12,
   "metadata": {
    "collapsed": true
   },
   "outputs": [],
   "source": [
    "crowdF1_notrelevant = func.compute_F1_score_not_relevant(results[\"units\"])\n",
    "crowdF1_relevant = func.compute_F1_score_relevant(results[\"units\"])"
   ]
  },
  {
   "cell_type": "code",
   "execution_count": 13,
   "metadata": {},
   "outputs": [
    {
     "data": {
      "image/png": "[encoded data removed]",
      "text/plain": [
       "<matplotlib.figure.Figure at 0x110a06210>"
      ]
     },
     "metadata": {},
     "output_type": "display_data"
    }
   ],
   "source": [
    "plt.rcParams['figure.figsize'] = 6, 4\n",
    "plt.plot(crowdF1_notrelevant[:,0], crowdF1_notrelevant[:,1], 'bo-', color = 'red', lw = 2, label = \"F1 Crowd - Not Relevant\")\n",
    "plt.plot(crowdF1_relevant[:,0], crowdF1_relevant[:,1], 'bo-', color = 'darkgreen', lw = 2, label = \"F1 Crowd - Relevant\")\n",
    "\n",
    "plt.axhline(y = expertsF1_notrelevant, ls = '--', color = 'pink', lw = 2, label = \"F1 NIST - Not Relevant\")\n",
    "plt.axhline(y = expertsF1_relevant, ls = '--', color = 'lightgreen', lw = 2, label = \"F1 NIST - Relevant\")\n",
    "plt.xlim(0.1,1.0)\n",
    "plt.xlabel(\"TDP-RelVal score neg/pos threshold\", fontsize=18)\n",
    "plt.ylabel(\"F1-score\", fontsize=20)\n",
    "plt.yticks(fontsize=20)\n",
    "plt.ylim(0.0,1.0)\n",
    "plt.xticks(fontsize=18)\n",
    "plt.yticks(fontsize=18)\n",
    "leg = plt.legend()\n",
    "leg.get_frame().set_alpha(0.8)\n",
    "plt.grid(ls=':')\n",
    "#plt.title(\"Without Highlight, Relations Not Merged, 3-point scale\")\n",
    "plt.savefig(\"../Plots/2p_withHighlight_F1_merged_eval_reviewers.pdf\", bbox_inches='tight', dpi=1000)"
   ]
  },
  {
   "cell_type": "markdown",
   "metadata": {},
   "source": [
    "## Print results to files"
   ]
  },
  {
   "cell_type": "code",
   "execution_count": 14,
   "metadata": {
    "collapsed": true
   },
   "outputs": [],
   "source": [
    "import csv\n",
    "    \n",
    "# print results for units\n",
    "columns = list(results[\"units\"])\n",
    "columns.extend(['highly_relevant_count', 'highly_relevant_score', 'relevant_count', 'relevant_score', \n",
    "                'not_relevant_count', 'not_relevant_score'])\n",
    "rows = []\n",
    "rows.append(columns)\n",
    "for i in range(len(results[\"units\"].index)):\n",
    "    keys = ['highly_relevant', 'relevant', 'not_relevant']\n",
    "    row = list(results[\"units\"].iloc[i])\n",
    "    for j in range(len(keys)):\n",
    "        row.append(results[\"units\"][\"output.relevance\"].iloc[i][keys[j]])\n",
    "        row.append(results[\"units\"][\"unit_annotation_score\"].iloc[i][keys[j]])    \n",
    "    rows.append(row)\n",
    "\n",
    "with open('../Results/Pilot_2P-Doc-High/units_Pilot_2P-Doc-High.csv', 'w') as csvfile:\n",
    "    writer = csv.writer(csvfile)\n",
    "    writer.writerows(rows)\n",
    "\n",
    "# print results for workers\n",
    "results[\"workers\"].to_csv(\"../Results/Pilot_2P-Doc-High/workers_Pilot_2P-Doc-High.csv\", index=False) "
   ]
  }
 ],
 "metadata": {
  "kernelspec": {
   "display_name": "Python 2",
   "language": "python",
   "name": "python2"
  },
  "language_info": {
   "codemirror_mode": {
    "name": "ipython",
    "version": 2
   },
   "file_extension": ".py",
   "mimetype": "text/x-python",
   "name": "python",
   "nbconvert_exporter": "python",
   "pygments_lexer": "ipython2",
   "version": "2.7.13"
  }
 },
 "nbformat": 4,
 "nbformat_minor": 2
}
