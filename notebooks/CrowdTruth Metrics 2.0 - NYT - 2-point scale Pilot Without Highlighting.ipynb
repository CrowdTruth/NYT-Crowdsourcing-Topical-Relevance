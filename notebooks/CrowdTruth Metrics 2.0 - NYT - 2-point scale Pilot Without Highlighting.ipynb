{
 "cells": [
  {
   "cell_type": "markdown",
   "metadata": {},
   "source": [
    "# CrowdTruth metrics 2.0 documentation\n",
    "\n",
    "Let:\n",
    "\n",
    "* $workers(u):$ all workers that annotate media unit $u$;\n",
    "* $units(i):$ all input media units annotated by worker $i$;\n",
    "* $WorkVec(i, u):$ annotations of worker $i$ on media unit $u$ as a binary vector;\n",
    "* $MediaUnitVec(s) = \\sum_{i \\in workers(s)} WorkVec(i,s)$, where $s$ is an input media unit.\n",
    "\n",
    "## Media Unit Quality Score (UQS)\n",
    "\n",
    "The unit quality score $UQS(u)$ is computed as the average cosine similarity between all worker vectors for a given input media unit $u$, weighted by the worker quality ($WQS$) and annotation quality ($AQS$). The goal is to capture the degree of agreement in annotating the media unit. Through the weighted average, workers and annotations with lower quality will have less of an impact on the final score.\n",
    "\n",
    "$$ UQS(u) = \\frac{\\sum_{i, j \\in workers(u)} Wcos(WorkVec(i,u), WorkVec(j,u)) \\; WQS(i) \\; WQS(j)}{\\sum_{i, j \\in workers(u)} WQS(i) \\; WQS(j)}, \\; i \\neq j.$$\n",
    "\n",
    "\n",
    "### Weighted Cosine\n",
    "\n",
    "To weigh the metrics with the annotation quality, we compute $Wcos$, the weighted version of the cosine similarity. This metric is only applicable to closed tasks, where annotation quality can be calculated across media units. For open-ended tasks, we consider annotation quality equal to 1 and calculate the regular cosine similarity.\n",
    "\n",
    "$$ Wcos(vec_1, vec_2) = \\frac{\\sum_{a} vec_1(a) \\; vec_2(a) \\; AQS(a)}{\\sqrt{(\\sum_{a} vec_1^2(a) \\; AQS(a)) \\; (\\sum_{a} vec_2^2(a) \\; AQS(a))}} .$$ \n",
    "\n",
    "\n",
    "## Worker Quality Score (WQS)\n",
    "\n",
    "The worker quality score $WQS(i)$ for a given worker $i$ is the product of 2 separate metrics - the worker-worker agreement $WWA(i)$ and the worker-media unit agreement $WUA(i)$.\n",
    "\n",
    "$$ WQS(i) = WUA(i) \\; WWA(i) .$$\n",
    "\n",
    "### Worker-Media Unit Agreement\n",
    "\n",
    "The worker-media unit agreement $WUA(i)$ is the average cosine distance between the annotations of a worker $i$ and all annotations for the media units they have worked on, weighted by the media unit and annotation quality. It calculates how much a worker disagrees with the crowd on a media unit basis. Through the weighted average, media units and anntation with lower quality will have less of an impact on the final score.\n",
    "\n",
    "$$ WSA(i) = \\frac{\\sum_{u \\in units(i)} Wcos(WorkVec(i,u), MediaUnitVec(u) - WorkVec(i, u)) \\; UQS(u)}{\\sum_{u \\in units(i)} UQS(u)} .$$\n",
    "\n",
    "### Worker-Worker Agreement\n",
    "\n",
    "The worker-worker agreement $WWA(i)$ is the average cosine distance between the annotations of a worker $i$ and all other workers that have worked on the same media units as worker $i$, weighted by the worker and annotation qualities. The metric gives an indication as to whether there are consisently like-minded workers. This is useful for identifying communities of thought. Through the weighted average, workers and annotations with lower quality will have less of an impact on the final score of the given worker.\n",
    "\n",
    "$$ WWA(i) = \\frac{ \\sum_{j \\in workers(u \\in units(i))} Wcos(WorkVec(i, u), WorkVec(j, u)) \\; WQS(j) \\; UQS(u) }{ \\sum_{j \\in workers(s \\in units(i))} WQS(j) \\; UQS(u) }, \\; i \\neq j .$$\n",
    "\n",
    "\n",
    "## Annotation Quality Score (AQS)\n",
    "\n",
    "The annotation quality score $AQS(a)$ calculates the agreement of selecting an annotation $a$, over all the media units it appears in. Therefore, it is only applicable to closed tasks, where the same annotation set is used for all input media units. It is based on $P_a(i | j)$, the probability that if a worker $j$ annotates $a$ in a media unit, worker $i$ will also annotate it. \n",
    "\n",
    "$$ P_a(i | j) = \\frac{ \\sum_{u \\in units(i) \\cap units(j) } UQS(u) \\; WorkVec(i, s)(r) \\; WorkVec(j, s)(r) }{ \\sum_{u \\in units(i) \\cap units(j) } UQS(u) \\; WorkVec(j, u)(r) } . $$\n",
    "\n",
    "$AQS(a)$ is the weighted average of $P_a(i | j)$ for all possible pairs of workers. Through the weighted average, input media units and workers with lower quality will have less of an impact on the final score of the annotation.\n",
    "\n",
    "$$ AQS(a) = \\frac{ \\sum_{i,j} WQS(i) \\; WQS(j) \\; P_a(i | j) }{ \\sum_{i,j} WQS(i) \\; WQS(j) }, i \\neq j . $$\n",
    "\n",
    "\n",
    "## Media Unit-Annotation Score (UAS)\n",
    "\n",
    "The media unit - annotation score $UAS(u, a)$ calculates the likelihood that annotation $a$ is expressed in input media unit $u$. It is the ratio of the number of workers that picked annotation $u$ over all workers that annotated the unit, weighted by the worker quality.\n",
    "\n",
    "$$ UAS(u, a) = \\frac{ \\sum_{i \\in workers(u)} WorkVec(i,u)(a) \\; WQS(i) }{ \\sum_{i \\in workers(u)} WQS(i) }. $$"
   ]
  },
  {
   "cell_type": "markdown",
   "metadata": {},
   "source": [
    "# How to run the metrics\n"
   ]
  },
  {
   "cell_type": "code",
   "execution_count": 20,
   "metadata": {
    "scrolled": true
   },
   "outputs": [
    {
     "data": {
      "text/html": [
       "<div>\n",
       "<table border=\"1\" class=\"dataframe\">\n",
       "  <thead>\n",
       "    <tr style=\"text-align: right;\">\n",
       "      <th></th>\n",
       "      <th>_unit_id</th>\n",
       "      <th>_created_at</th>\n",
       "      <th>_id</th>\n",
       "      <th>_started_at</th>\n",
       "      <th>_tainted</th>\n",
       "      <th>_channel</th>\n",
       "      <th>_trust</th>\n",
       "      <th>_worker_id</th>\n",
       "      <th>_country</th>\n",
       "      <th>_region</th>\n",
       "      <th>_city</th>\n",
       "      <th>_ip</th>\n",
       "      <th>hiddeninput</th>\n",
       "      <th>relevance</th>\n",
       "      <th>bin</th>\n",
       "      <th>doc_len</th>\n",
       "      <th>document_body</th>\n",
       "      <th>document_id</th>\n",
       "      <th>document_title</th>\n",
       "      <th>hiddeninput_gold</th>\n",
       "      <th>index</th>\n",
       "      <th>rel</th>\n",
       "      <th>relevance_gold</th>\n",
       "      <th>topic</th>\n",
       "      <th>topic_description</th>\n",
       "      <th>topic_query</th>\n",
       "    </tr>\n",
       "  </thead>\n",
       "  <tbody>\n",
       "    <tr>\n",
       "      <th>0</th>\n",
       "      <td>1444000758</td>\n",
       "      <td>11/9/2017 00:32:28</td>\n",
       "      <td>3011627616</td>\n",
       "      <td>11/9/2017 00:29:34</td>\n",
       "      <td>False</td>\n",
       "      <td>prodege</td>\n",
       "      <td>1</td>\n",
       "      <td>38202325</td>\n",
       "      <td>USA</td>\n",
       "      <td>ME</td>\n",
       "      <td>Caribou</td>\n",
       "      <td>98.13.82.121</td>\n",
       "      <td>NaN</td>\n",
       "      <td>not_relevant</td>\n",
       "      <td>1</td>\n",
       "      <td>196</td>\n",
       "      <td>&lt;p&gt;A public commission ruled today that Aum Sh...</td>\n",
       "      <td>1173003</td>\n",
       "      <td>Japan Puts Gas-Attack Sect Under Scrutiny</td>\n",
       "      <td>NaN</td>\n",
       "      <td>1</td>\n",
       "      <td>1</td>\n",
       "      <td>NaN</td>\n",
       "      <td>325</td>\n",
       "      <td>Describe a cult by name and identify the cult ...</td>\n",
       "      <td>Cult Lifestyles</td>\n",
       "    </tr>\n",
       "    <tr>\n",
       "      <th>1</th>\n",
       "      <td>1444000758</td>\n",
       "      <td>11/9/2017 02:01:01</td>\n",
       "      <td>3011982372</td>\n",
       "      <td>11/9/2017 02:00:45</td>\n",
       "      <td>False</td>\n",
       "      <td>neodev</td>\n",
       "      <td>1</td>\n",
       "      <td>41127744</td>\n",
       "      <td>USA</td>\n",
       "      <td>TX</td>\n",
       "      <td>Sugar Land</td>\n",
       "      <td>66.133.78.100</td>\n",
       "      <td>NaN</td>\n",
       "      <td>not_relevant</td>\n",
       "      <td>1</td>\n",
       "      <td>196</td>\n",
       "      <td>&lt;p&gt;A public commission ruled today that Aum Sh...</td>\n",
       "      <td>1173003</td>\n",
       "      <td>Japan Puts Gas-Attack Sect Under Scrutiny</td>\n",
       "      <td>NaN</td>\n",
       "      <td>1</td>\n",
       "      <td>1</td>\n",
       "      <td>NaN</td>\n",
       "      <td>325</td>\n",
       "      <td>Describe a cult by name and identify the cult ...</td>\n",
       "      <td>Cult Lifestyles</td>\n",
       "    </tr>\n",
       "    <tr>\n",
       "      <th>2</th>\n",
       "      <td>1444000759</td>\n",
       "      <td>11/8/2017 23:06:01</td>\n",
       "      <td>3011312937</td>\n",
       "      <td>11/8/2017 23:05:43</td>\n",
       "      <td>False</td>\n",
       "      <td>elite</td>\n",
       "      <td>1</td>\n",
       "      <td>43935069</td>\n",
       "      <td>USA</td>\n",
       "      <td>CA</td>\n",
       "      <td>San Jose</td>\n",
       "      <td>68.68.96.195</td>\n",
       "      <td>NaN</td>\n",
       "      <td>not_relevant</td>\n",
       "      <td>1</td>\n",
       "      <td>245</td>\n",
       "      <td>&lt;p&gt;ABC has signed a deal to develop a televisi...</td>\n",
       "      <td>920343</td>\n",
       "      <td>ABC Signs Film Deal On the Cult</td>\n",
       "      <td>NaN</td>\n",
       "      <td>2</td>\n",
       "      <td>1</td>\n",
       "      <td>NaN</td>\n",
       "      <td>325</td>\n",
       "      <td>Describe a cult by name and identify the cult ...</td>\n",
       "      <td>Cult Lifestyles</td>\n",
       "    </tr>\n",
       "    <tr>\n",
       "      <th>3</th>\n",
       "      <td>1444000759</td>\n",
       "      <td>11/9/2017 01:53:13</td>\n",
       "      <td>3011951679</td>\n",
       "      <td>11/9/2017 01:52:52</td>\n",
       "      <td>False</td>\n",
       "      <td>neodev</td>\n",
       "      <td>1</td>\n",
       "      <td>41127744</td>\n",
       "      <td>USA</td>\n",
       "      <td>TX</td>\n",
       "      <td>Sugar Land</td>\n",
       "      <td>66.133.78.100</td>\n",
       "      <td>NaN</td>\n",
       "      <td>not_relevant</td>\n",
       "      <td>1</td>\n",
       "      <td>245</td>\n",
       "      <td>&lt;p&gt;ABC has signed a deal to develop a televisi...</td>\n",
       "      <td>920343</td>\n",
       "      <td>ABC Signs Film Deal On the Cult</td>\n",
       "      <td>NaN</td>\n",
       "      <td>2</td>\n",
       "      <td>1</td>\n",
       "      <td>NaN</td>\n",
       "      <td>325</td>\n",
       "      <td>Describe a cult by name and identify the cult ...</td>\n",
       "      <td>Cult Lifestyles</td>\n",
       "    </tr>\n",
       "    <tr>\n",
       "      <th>4</th>\n",
       "      <td>1444000760</td>\n",
       "      <td>11/9/2017 00:35:42</td>\n",
       "      <td>3011639718</td>\n",
       "      <td>11/9/2017 00:34:52</td>\n",
       "      <td>False</td>\n",
       "      <td>prodege</td>\n",
       "      <td>1</td>\n",
       "      <td>38202325</td>\n",
       "      <td>USA</td>\n",
       "      <td>ME</td>\n",
       "      <td>Caribou</td>\n",
       "      <td>98.13.82.121</td>\n",
       "      <td>NaN</td>\n",
       "      <td>not_relevant</td>\n",
       "      <td>1</td>\n",
       "      <td>242</td>\n",
       "      <td>&lt;p&gt;Japan's peace of mind was shattered anew by...</td>\n",
       "      <td>757222</td>\n",
       "      <td>April 16-22; The Scent of Terror</td>\n",
       "      <td>NaN</td>\n",
       "      <td>3</td>\n",
       "      <td>1</td>\n",
       "      <td>NaN</td>\n",
       "      <td>325</td>\n",
       "      <td>Describe a cult by name and identify the cult ...</td>\n",
       "      <td>Cult Lifestyles</td>\n",
       "    </tr>\n",
       "  </tbody>\n",
       "</table>\n",
       "</div>"
      ],
      "text/plain": [
       "     _unit_id         _created_at         _id         _started_at _tainted  \\\n",
       "0  1444000758  11/9/2017 00:32:28  3011627616  11/9/2017 00:29:34    False   \n",
       "1  1444000758  11/9/2017 02:01:01  3011982372  11/9/2017 02:00:45    False   \n",
       "2  1444000759  11/8/2017 23:06:01  3011312937  11/8/2017 23:05:43    False   \n",
       "3  1444000759  11/9/2017 01:53:13  3011951679  11/9/2017 01:52:52    False   \n",
       "4  1444000760  11/9/2017 00:35:42  3011639718  11/9/2017 00:34:52    False   \n",
       "\n",
       "  _channel  _trust  _worker_id _country _region       _city            _ip  \\\n",
       "0  prodege       1    38202325      USA      ME     Caribou   98.13.82.121   \n",
       "1   neodev       1    41127744      USA      TX  Sugar Land  66.133.78.100   \n",
       "2    elite       1    43935069      USA      CA    San Jose   68.68.96.195   \n",
       "3   neodev       1    41127744      USA      TX  Sugar Land  66.133.78.100   \n",
       "4  prodege       1    38202325      USA      ME     Caribou   98.13.82.121   \n",
       "\n",
       "   hiddeninput     relevance  bin  doc_len  \\\n",
       "0          NaN  not_relevant    1      196   \n",
       "1          NaN  not_relevant    1      196   \n",
       "2          NaN  not_relevant    1      245   \n",
       "3          NaN  not_relevant    1      245   \n",
       "4          NaN  not_relevant    1      242   \n",
       "\n",
       "                                       document_body  document_id  \\\n",
       "0  <p>A public commission ruled today that Aum Sh...      1173003   \n",
       "1  <p>A public commission ruled today that Aum Sh...      1173003   \n",
       "2  <p>ABC has signed a deal to develop a televisi...       920343   \n",
       "3  <p>ABC has signed a deal to develop a televisi...       920343   \n",
       "4  <p>Japan's peace of mind was shattered anew by...       757222   \n",
       "\n",
       "                              document_title  hiddeninput_gold  index  rel  \\\n",
       "0  Japan Puts Gas-Attack Sect Under Scrutiny               NaN      1    1   \n",
       "1  Japan Puts Gas-Attack Sect Under Scrutiny               NaN      1    1   \n",
       "2            ABC Signs Film Deal On the Cult               NaN      2    1   \n",
       "3            ABC Signs Film Deal On the Cult               NaN      2    1   \n",
       "4           April 16-22; The Scent of Terror               NaN      3    1   \n",
       "\n",
       "   relevance_gold  topic                                  topic_description  \\\n",
       "0             NaN    325  Describe a cult by name and identify the cult ...   \n",
       "1             NaN    325  Describe a cult by name and identify the cult ...   \n",
       "2             NaN    325  Describe a cult by name and identify the cult ...   \n",
       "3             NaN    325  Describe a cult by name and identify the cult ...   \n",
       "4             NaN    325  Describe a cult by name and identify the cult ...   \n",
       "\n",
       "       topic_query  \n",
       "0  Cult Lifestyles  \n",
       "1  Cult Lifestyles  \n",
       "2  Cult Lifestyles  \n",
       "3  Cult Lifestyles  \n",
       "4  Cult Lifestyles  "
      ]
     },
     "execution_count": 20,
     "metadata": {},
     "output_type": "execute_result"
    }
   ],
   "source": [
    "# Read data\n",
    "\n",
    "import pandas as pd\n",
    "\n",
    "pd.set_option('display.max_columns', None)\n",
    "without_highlight_15workers_2p_filename = \"AnalysisFiles/2P_WithoutHighlight_Article/2p_withoutHighlight_article_15workers.csv\"\n",
    "without_highlight_15workers_2p_dataset = pd.read_csv(without_highlight_15workers_2p_filename)\n",
    "\n",
    "without_highlight_15workers_2p_dataset.head(5)"
   ]
  },
  {
   "cell_type": "markdown",
   "metadata": {},
   "source": [
    "### Creating a class that inherits from `Configuration` lets us define how the input file will be processed:\n",
    "\n",
    "* `inputColumns`: list of input columns from the .csv file, the input that the workers were shown\n",
    "* `outputColumns`: list of output columns with the answers from the workers\n",
    "* `processJudgments`: function that defines how the worker judgments wil be processed; default separator for judgments is ','\n",
    "\n",
    "To build the annotation vector, we also need to specify whether this is an **open-ended** or **closed** task, using the `open_ended_task` variable.\n",
    "\n",
    "* **open-ended task** means that the annotation space is not known, and workers can freely provide all the choices that apply (e.g. in sound tagging, the workers are provided with a text box to enter all tags they can think of)\n",
    "* **closed task** means that the annotations that can occur in the data are already known, and the workers are asked to validate their existence (e.g. for medical relation extraction, the workers pick from a pre-defined multiple-choice set of relations)\n",
    "\n",
    "If the task we are processing is **closed**, then we also need to provide the list of possible annotations in the `annotation_vector` variable."
   ]
  },
  {
   "cell_type": "code",
   "execution_count": 21,
   "metadata": {
    "collapsed": true
   },
   "outputs": [],
   "source": [
    "import sys\n",
    "sys.path.append('../')\n",
    "\n",
    "from defaultconfig import Configuration\n",
    "\n",
    "class NYTRelevanceAssessmentValidationConfig(Configuration):\n",
    "    inputColumns = [\"index\", \"bin\", \"doc_len\", \"document_id\", \"document_body\", \"document_title\", \"rel\", \n",
    "                    \"topic\", \"topic_description\", \"topic_query\"]\n",
    "    outputColumns = [\"relevance\"]\n",
    "    \n",
    "    annotation_separator = ','\n",
    "    \n",
    "    # processing of a closed task\n",
    "    open_ended_task = False\n",
    "    annotation_vector = [\n",
    "        \"relevant\", \"not_relevant\"\n",
    "    ]\n",
    "    \n",
    "    def processJudgments(self, judgments):\n",
    "        # change default separator to whitespace to make it work with our file\n",
    "        for col in self.outputColumns:\n",
    "            judgments[col] = judgments[col].apply(lambda x: x.replace(' ',','))\n",
    "        return judgments\n",
    "\n",
    "config = NYTRelevanceAssessmentValidationConfig()"
   ]
  },
  {
   "cell_type": "markdown",
   "metadata": {},
   "source": [
    "### Pre-process the data and create the annotation vectors\n"
   ]
  },
  {
   "cell_type": "code",
   "execution_count": 22,
   "metadata": {
    "collapsed": true
   },
   "outputs": [],
   "source": [
    "import logging\n",
    "logger = logging.getLogger()\n",
    "logger.setLevel(logging.DEBUG)"
   ]
  },
  {
   "cell_type": "code",
   "execution_count": 23,
   "metadata": {
    "collapsed": true
   },
   "outputs": [],
   "source": [
    "from controllers.inputController import processFile\n",
    "pre_processed_results = processFile(\n",
    "    root=\".\", directory=\"\", filename=without_highlight_15workers_2p_filename,\n",
    "    config=config\n",
    ")"
   ]
  },
  {
   "cell_type": "markdown",
   "metadata": {},
   "source": [
    "### Run the metrics"
   ]
  },
  {
   "cell_type": "code",
   "execution_count": 24,
   "metadata": {},
   "outputs": [
    {
     "name": "stderr",
     "output_type": "stream",
     "text": [
      "INFO:root:1 iterations; max d= 0.743892898234 ; wqs d= 0.488820335959; sqs d= 0.325079365079; rqs d= 0.408968776212\n",
      "INFO:root:2 iterations; max d= 0.127275329553 ; wqs d= 0.0623260014015; sqs d= 0.0350900587689; rqs d= 0.0463513563944\n",
      "INFO:root:3 iterations; max d= 0.0267369254685 ; wqs d= 0.0101638016378; sqs d= 0.00340898359856; rqs d= 0.00704447071036\n",
      "INFO:root:4 iterations; max d= 0.0100822951985 ; wqs d= 0.00324383082293; sqs d= 0.00292296620572; rqs d= 0.00435232369242\n",
      "INFO:root:5 iterations; max d= 0.00427416806634 ; wqs d= 0.00157266370672; sqs d= 0.000707938241059; rqs d= 0.00146319797663\n",
      "INFO:root:6 iterations; max d= 0.00180261383784 ; wqs d= 0.000610382367752; sqs d= 0.000415051511052; rqs d= 0.000701696631108\n",
      "INFO:root:7 iterations; max d= 0.000765789369488 ; wqs d= 0.000273644784095; sqs d= 0.000141027954318; rqs d= 0.000274773921368\n"
     ]
    }
   ],
   "source": [
    "# run the metrics\n",
    "from models import Metrics\n",
    "results_without_highlight_15workers = Metrics.run(pre_processed_results, config)"
   ]
  },
  {
   "cell_type": "code",
   "execution_count": 25,
   "metadata": {},
   "outputs": [
    {
     "data": {
      "text/html": [
       "<div>\n",
       "<table border=\"1\" class=\"dataframe\">\n",
       "  <thead>\n",
       "    <tr style=\"text-align: right;\">\n",
       "      <th></th>\n",
       "      <th>duration</th>\n",
       "      <th>input.bin</th>\n",
       "      <th>input.doc_len</th>\n",
       "      <th>input.document_body</th>\n",
       "      <th>input.document_id</th>\n",
       "      <th>input.document_title</th>\n",
       "      <th>input.index</th>\n",
       "      <th>input.rel</th>\n",
       "      <th>input.topic</th>\n",
       "      <th>input.topic_description</th>\n",
       "      <th>input.topic_query</th>\n",
       "      <th>job</th>\n",
       "      <th>output.relevance</th>\n",
       "      <th>output.relevance.annotations</th>\n",
       "      <th>output.relevance.unique_annotations</th>\n",
       "      <th>worker</th>\n",
       "      <th>uqs</th>\n",
       "      <th>unit_annotation_score</th>\n",
       "      <th>uqs_initial</th>\n",
       "      <th>unit_annotation_score_initial</th>\n",
       "    </tr>\n",
       "    <tr>\n",
       "      <th>unit</th>\n",
       "      <th></th>\n",
       "      <th></th>\n",
       "      <th></th>\n",
       "      <th></th>\n",
       "      <th></th>\n",
       "      <th></th>\n",
       "      <th></th>\n",
       "      <th></th>\n",
       "      <th></th>\n",
       "      <th></th>\n",
       "      <th></th>\n",
       "      <th></th>\n",
       "      <th></th>\n",
       "      <th></th>\n",
       "      <th></th>\n",
       "      <th></th>\n",
       "      <th></th>\n",
       "      <th></th>\n",
       "      <th></th>\n",
       "      <th></th>\n",
       "    </tr>\n",
       "  </thead>\n",
       "  <tbody>\n",
       "    <tr>\n",
       "      <th>1444000758</th>\n",
       "      <td>40.066667</td>\n",
       "      <td>1</td>\n",
       "      <td>196</td>\n",
       "      <td>&lt;p&gt;A public commission ruled today that Aum Sh...</td>\n",
       "      <td>1173003</td>\n",
       "      <td>Japan Puts Gas-Attack Sect Under Scrutiny</td>\n",
       "      <td>1</td>\n",
       "      <td>1</td>\n",
       "      <td>325</td>\n",
       "      <td>Describe a cult by name and identify the cult ...</td>\n",
       "      <td>Cult Lifestyles</td>\n",
       "      <td>AnalysisFiles/2P_WithoutHighlight_Article/2p_w...</td>\n",
       "      <td>{u'not_relevant': 2, u'relevant': 13}</td>\n",
       "      <td>15</td>\n",
       "      <td>2</td>\n",
       "      <td>15</td>\n",
       "      <td>0.804459</td>\n",
       "      <td>{u'not_relevant': 0.101161348012, u'relevant':...</td>\n",
       "      <td>0.752381</td>\n",
       "      <td>{u'not_relevant': 0.133333333333, u'relevant':...</td>\n",
       "    </tr>\n",
       "    <tr>\n",
       "      <th>1444000759</th>\n",
       "      <td>39.866667</td>\n",
       "      <td>1</td>\n",
       "      <td>245</td>\n",
       "      <td>&lt;p&gt;ABC has signed a deal to develop a televisi...</td>\n",
       "      <td>920343</td>\n",
       "      <td>ABC Signs Film Deal On the Cult</td>\n",
       "      <td>2</td>\n",
       "      <td>1</td>\n",
       "      <td>325</td>\n",
       "      <td>Describe a cult by name and identify the cult ...</td>\n",
       "      <td>Cult Lifestyles</td>\n",
       "      <td>AnalysisFiles/2P_WithoutHighlight_Article/2p_w...</td>\n",
       "      <td>{u'not_relevant': 2, u'relevant': 13}</td>\n",
       "      <td>15</td>\n",
       "      <td>2</td>\n",
       "      <td>15</td>\n",
       "      <td>0.791826</td>\n",
       "      <td>{u'not_relevant': 0.108514946118, u'relevant':...</td>\n",
       "      <td>0.752381</td>\n",
       "      <td>{u'not_relevant': 0.133333333333, u'relevant':...</td>\n",
       "    </tr>\n",
       "    <tr>\n",
       "      <th>1444000760</th>\n",
       "      <td>28.800000</td>\n",
       "      <td>1</td>\n",
       "      <td>242</td>\n",
       "      <td>&lt;p&gt;Japan's peace of mind was shattered anew by...</td>\n",
       "      <td>757222</td>\n",
       "      <td>April 16-22; The Scent of Terror</td>\n",
       "      <td>3</td>\n",
       "      <td>1</td>\n",
       "      <td>325</td>\n",
       "      <td>Describe a cult by name and identify the cult ...</td>\n",
       "      <td>Cult Lifestyles</td>\n",
       "      <td>AnalysisFiles/2P_WithoutHighlight_Article/2p_w...</td>\n",
       "      <td>{u'not_relevant': 4, u'relevant': 11}</td>\n",
       "      <td>15</td>\n",
       "      <td>2</td>\n",
       "      <td>15</td>\n",
       "      <td>0.625324</td>\n",
       "      <td>{u'not_relevant': 0.224397878816, u'relevant':...</td>\n",
       "      <td>0.580952</td>\n",
       "      <td>{u'not_relevant': 0.266666666667, u'relevant':...</td>\n",
       "    </tr>\n",
       "    <tr>\n",
       "      <th>1444000761</th>\n",
       "      <td>46.266667</td>\n",
       "      <td>1</td>\n",
       "      <td>237</td>\n",
       "      <td>&lt;p&gt;USA Networks Interactive, creator of the sc...</td>\n",
       "      <td>1209320</td>\n",
       "      <td>SCIFI.com in Venture With Filmmaker</td>\n",
       "      <td>4</td>\n",
       "      <td>0</td>\n",
       "      <td>325</td>\n",
       "      <td>Describe a cult by name and identify the cult ...</td>\n",
       "      <td>Cult Lifestyles</td>\n",
       "      <td>AnalysisFiles/2P_WithoutHighlight_Article/2p_w...</td>\n",
       "      <td>{u'not_relevant': 8, u'relevant': 7}</td>\n",
       "      <td>15</td>\n",
       "      <td>2</td>\n",
       "      <td>15</td>\n",
       "      <td>0.462794</td>\n",
       "      <td>{u'not_relevant': 0.471553726004, u'relevant':...</td>\n",
       "      <td>0.466667</td>\n",
       "      <td>{u'not_relevant': 0.533333333333, u'relevant':...</td>\n",
       "    </tr>\n",
       "    <tr>\n",
       "      <th>1444000762</th>\n",
       "      <td>46.666667</td>\n",
       "      <td>1</td>\n",
       "      <td>140</td>\n",
       "      <td>&lt;p&gt;To the Editor:&lt;/p&gt; &lt;p&gt;There is ample eviden...</td>\n",
       "      <td>1667028</td>\n",
       "      <td>Vital at 50: Does Lifestyle Matter?</td>\n",
       "      <td>5</td>\n",
       "      <td>0</td>\n",
       "      <td>325</td>\n",
       "      <td>Describe a cult by name and identify the cult ...</td>\n",
       "      <td>Cult Lifestyles</td>\n",
       "      <td>AnalysisFiles/2P_WithoutHighlight_Article/2p_w...</td>\n",
       "      <td>{u'not_relevant': 6, u'relevant': 9}</td>\n",
       "      <td>15</td>\n",
       "      <td>2</td>\n",
       "      <td>15</td>\n",
       "      <td>0.545158</td>\n",
       "      <td>{u'not_relevant': 0.302754989054, u'relevant':...</td>\n",
       "      <td>0.485714</td>\n",
       "      <td>{u'not_relevant': 0.4, u'relevant': 0.6}</td>\n",
       "    </tr>\n",
       "  </tbody>\n",
       "</table>\n",
       "</div>"
      ],
      "text/plain": [
       "             duration  input.bin  input.doc_len  \\\n",
       "unit                                              \n",
       "1444000758  40.066667          1            196   \n",
       "1444000759  39.866667          1            245   \n",
       "1444000760  28.800000          1            242   \n",
       "1444000761  46.266667          1            237   \n",
       "1444000762  46.666667          1            140   \n",
       "\n",
       "                                          input.document_body  \\\n",
       "unit                                                            \n",
       "1444000758  <p>A public commission ruled today that Aum Sh...   \n",
       "1444000759  <p>ABC has signed a deal to develop a televisi...   \n",
       "1444000760  <p>Japan's peace of mind was shattered anew by...   \n",
       "1444000761  <p>USA Networks Interactive, creator of the sc...   \n",
       "1444000762  <p>To the Editor:</p> <p>There is ample eviden...   \n",
       "\n",
       "            input.document_id                       input.document_title  \\\n",
       "unit                                                                       \n",
       "1444000758            1173003  Japan Puts Gas-Attack Sect Under Scrutiny   \n",
       "1444000759             920343            ABC Signs Film Deal On the Cult   \n",
       "1444000760             757222           April 16-22; The Scent of Terror   \n",
       "1444000761            1209320        SCIFI.com in Venture With Filmmaker   \n",
       "1444000762            1667028        Vital at 50: Does Lifestyle Matter?   \n",
       "\n",
       "            input.index  input.rel  input.topic  \\\n",
       "unit                                              \n",
       "1444000758            1          1          325   \n",
       "1444000759            2          1          325   \n",
       "1444000760            3          1          325   \n",
       "1444000761            4          0          325   \n",
       "1444000762            5          0          325   \n",
       "\n",
       "                                      input.topic_description  \\\n",
       "unit                                                            \n",
       "1444000758  Describe a cult by name and identify the cult ...   \n",
       "1444000759  Describe a cult by name and identify the cult ...   \n",
       "1444000760  Describe a cult by name and identify the cult ...   \n",
       "1444000761  Describe a cult by name and identify the cult ...   \n",
       "1444000762  Describe a cult by name and identify the cult ...   \n",
       "\n",
       "           input.topic_query  \\\n",
       "unit                           \n",
       "1444000758   Cult Lifestyles   \n",
       "1444000759   Cult Lifestyles   \n",
       "1444000760   Cult Lifestyles   \n",
       "1444000761   Cult Lifestyles   \n",
       "1444000762   Cult Lifestyles   \n",
       "\n",
       "                                                          job  \\\n",
       "unit                                                            \n",
       "1444000758  AnalysisFiles/2P_WithoutHighlight_Article/2p_w...   \n",
       "1444000759  AnalysisFiles/2P_WithoutHighlight_Article/2p_w...   \n",
       "1444000760  AnalysisFiles/2P_WithoutHighlight_Article/2p_w...   \n",
       "1444000761  AnalysisFiles/2P_WithoutHighlight_Article/2p_w...   \n",
       "1444000762  AnalysisFiles/2P_WithoutHighlight_Article/2p_w...   \n",
       "\n",
       "                                 output.relevance  \\\n",
       "unit                                                \n",
       "1444000758  {u'not_relevant': 2, u'relevant': 13}   \n",
       "1444000759  {u'not_relevant': 2, u'relevant': 13}   \n",
       "1444000760  {u'not_relevant': 4, u'relevant': 11}   \n",
       "1444000761   {u'not_relevant': 8, u'relevant': 7}   \n",
       "1444000762   {u'not_relevant': 6, u'relevant': 9}   \n",
       "\n",
       "            output.relevance.annotations  output.relevance.unique_annotations  \\\n",
       "unit                                                                            \n",
       "1444000758                            15                                    2   \n",
       "1444000759                            15                                    2   \n",
       "1444000760                            15                                    2   \n",
       "1444000761                            15                                    2   \n",
       "1444000762                            15                                    2   \n",
       "\n",
       "            worker       uqs  \\\n",
       "unit                           \n",
       "1444000758      15  0.804459   \n",
       "1444000759      15  0.791826   \n",
       "1444000760      15  0.625324   \n",
       "1444000761      15  0.462794   \n",
       "1444000762      15  0.545158   \n",
       "\n",
       "                                        unit_annotation_score  uqs_initial  \\\n",
       "unit                                                                         \n",
       "1444000758  {u'not_relevant': 0.101161348012, u'relevant':...     0.752381   \n",
       "1444000759  {u'not_relevant': 0.108514946118, u'relevant':...     0.752381   \n",
       "1444000760  {u'not_relevant': 0.224397878816, u'relevant':...     0.580952   \n",
       "1444000761  {u'not_relevant': 0.471553726004, u'relevant':...     0.466667   \n",
       "1444000762  {u'not_relevant': 0.302754989054, u'relevant':...     0.485714   \n",
       "\n",
       "                                unit_annotation_score_initial  \n",
       "unit                                                           \n",
       "1444000758  {u'not_relevant': 0.133333333333, u'relevant':...  \n",
       "1444000759  {u'not_relevant': 0.133333333333, u'relevant':...  \n",
       "1444000760  {u'not_relevant': 0.266666666667, u'relevant':...  \n",
       "1444000761  {u'not_relevant': 0.533333333333, u'relevant':...  \n",
       "1444000762           {u'not_relevant': 0.4, u'relevant': 0.6}  "
      ]
     },
     "execution_count": 25,
     "metadata": {},
     "output_type": "execute_result"
    }
   ],
   "source": [
    "results_without_highlight_15workers[\"units\"].head(5)"
   ]
  },
  {
   "cell_type": "markdown",
   "metadata": {},
   "source": [
    "### Plot the unit quality score (UQS) at the beginning of the process and at the end"
   ]
  },
  {
   "cell_type": "code",
   "execution_count": 26,
   "metadata": {},
   "outputs": [
    {
     "data": {
      "text/plain": [
       "Text(0,0.5,u'# Units')"
      ]
     },
     "execution_count": 26,
     "metadata": {},
     "output_type": "execute_result"
    },
    {
     "data": {
      "image/png": "[encoded data removed]",
      "text/plain": [
       "<matplotlib.figure.Figure at 0x6125d6b50>"
      ]
     },
     "metadata": {},
     "output_type": "display_data"
    }
   ],
   "source": [
    "import matplotlib.pyplot as plt\n",
    "%matplotlib inline\n",
    "\n",
    "plt.rcParams['figure.figsize'] = 15, 5\n",
    "\n",
    "plt.subplot(1, 2, 1)\n",
    "plt.hist(results_without_highlight_15workers[\"units\"][\"uqs\"])\n",
    "plt.ylim(0, 35)\n",
    "plt.xlabel(\"UQS\")\n",
    "plt.ylabel(\"# Units\")\n",
    "\n",
    "plt.subplot(1, 2, 2)\n",
    "plt.hist(results_without_highlight_15workers[\"units\"][\"uqs_initial\"])\n",
    "plt.ylim(0, 35)\n",
    "plt.xlabel(\"UQS Initial\")\n",
    "plt.ylabel(\"# Units\")"
   ]
  },
  {
   "cell_type": "markdown",
   "metadata": {},
   "source": [
    "### Plot the change in the unit quality score (UQS) (beginning of the process - end of the process)"
   ]
  },
  {
   "cell_type": "code",
   "execution_count": 27,
   "metadata": {},
   "outputs": [
    {
     "data": {
      "text/plain": [
       "Text(0,0.5,u'Change in clarity')"
      ]
     },
     "execution_count": 27,
     "metadata": {},
     "output_type": "execute_result"
    },
    {
     "data": {
      "image/png": "[encoded data removed]",
      "text/plain": [
       "<matplotlib.figure.Figure at 0x612ce9e90>"
      ]
     },
     "metadata": {},
     "output_type": "display_data"
    }
   ],
   "source": [
    "import numpy as np\n",
    "\n",
    "difference = results_without_highlight_15workers[\"units\"][\"uqs_initial\"] - results_without_highlight_15workers[\"units\"][\"uqs\"]\n",
    "difference = np.sort(difference)\n",
    "plt.plot(np.arange(results_without_highlight_15workers[\"units\"].shape[0]), difference, 'ro')\n",
    "plt.axhline(y=0)\n",
    "plt.xlabel(\"Unit Index\")\n",
    "plt.ylabel(\"Change in clarity\")"
   ]
  },
  {
   "cell_type": "code",
   "execution_count": 28,
   "metadata": {},
   "outputs": [
    {
     "name": "stderr",
     "output_type": "stream",
     "text": [
      "/Users/oanainel/anaconda/envs/CrowdTruth2/lib/python2.7/site-packages/ipykernel_launcher.py:1: FutureWarning: sort(columns=....) is deprecated, use sort_values(by=.....)\n",
      "  \"\"\"Entry point for launching an IPython kernel.\n"
     ]
    }
   ],
   "source": [
    "sortUQS = results_without_highlight_15workers[\"units\"].sort(['uqs'], ascending=[1])"
   ]
  },
  {
   "cell_type": "code",
   "execution_count": 29,
   "metadata": {},
   "outputs": [
    {
     "data": {
      "text/plain": [
       "Text(0.5,0,u'Sentence Index')"
      ]
     },
     "execution_count": 29,
     "metadata": {},
     "output_type": "execute_result"
    },
    {
     "data": {
      "image/png": "[encoded data removed]",
      "text/plain": [
       "<matplotlib.figure.Figure at 0x612c8da10>"
      ]
     },
     "metadata": {},
     "output_type": "display_data"
    }
   ],
   "source": [
    "import numpy as np\n",
    "\n",
    "plt.rcParams['figure.figsize'] = 15, 5\n",
    "\n",
    "plt.plot(np.arange(sortUQS.shape[0]), sortUQS[\"uqs_initial\"], 'ro', lw = 1, label = \"Initial UQS\")\n",
    "plt.plot(np.arange(sortUQS.shape[0]), sortUQS[\"uqs\"], 'go', lw = 1, label = \"Final UQS\")\n",
    "\n",
    "plt.ylabel('Unit Quality Score')\n",
    "plt.xlabel('Sentence Index')"
   ]
  },
  {
   "cell_type": "markdown",
   "metadata": {},
   "source": [
    "### Plot the worker quality score (WQS) at the beginning of the process and at the end"
   ]
  },
  {
   "cell_type": "markdown",
   "metadata": {},
   "source": [
    "#### Print the results for the workers in our dataset"
   ]
  },
  {
   "cell_type": "code",
   "execution_count": 30,
   "metadata": {},
   "outputs": [
    {
     "data": {
      "text/html": [
       "<div>\n",
       "<table border=\"1\" class=\"dataframe\">\n",
       "  <thead>\n",
       "    <tr style=\"text-align: right;\">\n",
       "      <th></th>\n",
       "      <th>duration</th>\n",
       "      <th>output.relevance.count</th>\n",
       "      <th>job</th>\n",
       "      <th>judgment</th>\n",
       "      <th>unit</th>\n",
       "      <th>wqs</th>\n",
       "      <th>wqs_initial</th>\n",
       "    </tr>\n",
       "    <tr>\n",
       "      <th>worker</th>\n",
       "      <th></th>\n",
       "      <th></th>\n",
       "      <th></th>\n",
       "      <th></th>\n",
       "      <th></th>\n",
       "      <th></th>\n",
       "      <th></th>\n",
       "    </tr>\n",
       "  </thead>\n",
       "  <tbody>\n",
       "    <tr>\n",
       "      <th>1924522</th>\n",
       "      <td>15.857143</td>\n",
       "      <td>1</td>\n",
       "      <td>1</td>\n",
       "      <td>7</td>\n",
       "      <td>7</td>\n",
       "      <td>0.659471</td>\n",
       "      <td>0.599884</td>\n",
       "    </tr>\n",
       "    <tr>\n",
       "      <th>3587109</th>\n",
       "      <td>27.384615</td>\n",
       "      <td>1</td>\n",
       "      <td>1</td>\n",
       "      <td>13</td>\n",
       "      <td>13</td>\n",
       "      <td>0.618420</td>\n",
       "      <td>0.550002</td>\n",
       "    </tr>\n",
       "    <tr>\n",
       "      <th>6377879</th>\n",
       "      <td>51.030000</td>\n",
       "      <td>1</td>\n",
       "      <td>1</td>\n",
       "      <td>100</td>\n",
       "      <td>100</td>\n",
       "      <td>0.469648</td>\n",
       "      <td>0.437929</td>\n",
       "    </tr>\n",
       "    <tr>\n",
       "      <th>11131207</th>\n",
       "      <td>43.870000</td>\n",
       "      <td>1</td>\n",
       "      <td>1</td>\n",
       "      <td>100</td>\n",
       "      <td>100</td>\n",
       "      <td>0.386658</td>\n",
       "      <td>0.368457</td>\n",
       "    </tr>\n",
       "    <tr>\n",
       "      <th>11314968</th>\n",
       "      <td>178.692308</td>\n",
       "      <td>1</td>\n",
       "      <td>1</td>\n",
       "      <td>13</td>\n",
       "      <td>13</td>\n",
       "      <td>0.581014</td>\n",
       "      <td>0.533296</td>\n",
       "    </tr>\n",
       "    <tr>\n",
       "      <th>13581319</th>\n",
       "      <td>17.000000</td>\n",
       "      <td>1</td>\n",
       "      <td>1</td>\n",
       "      <td>12</td>\n",
       "      <td>12</td>\n",
       "      <td>0.636856</td>\n",
       "      <td>0.583221</td>\n",
       "    </tr>\n",
       "    <tr>\n",
       "      <th>15577915</th>\n",
       "      <td>28.636364</td>\n",
       "      <td>1</td>\n",
       "      <td>1</td>\n",
       "      <td>22</td>\n",
       "      <td>22</td>\n",
       "      <td>0.490570</td>\n",
       "      <td>0.466935</td>\n",
       "    </tr>\n",
       "    <tr>\n",
       "      <th>17122301</th>\n",
       "      <td>25.000000</td>\n",
       "      <td>1</td>\n",
       "      <td>1</td>\n",
       "      <td>1</td>\n",
       "      <td>1</td>\n",
       "      <td>0.269962</td>\n",
       "      <td>0.353553</td>\n",
       "    </tr>\n",
       "    <tr>\n",
       "      <th>18672993</th>\n",
       "      <td>444.800000</td>\n",
       "      <td>1</td>\n",
       "      <td>1</td>\n",
       "      <td>10</td>\n",
       "      <td>10</td>\n",
       "      <td>0.667406</td>\n",
       "      <td>0.597893</td>\n",
       "    </tr>\n",
       "    <tr>\n",
       "      <th>21613169</th>\n",
       "      <td>14.375000</td>\n",
       "      <td>1</td>\n",
       "      <td>1</td>\n",
       "      <td>8</td>\n",
       "      <td>8</td>\n",
       "      <td>0.445047</td>\n",
       "      <td>0.432969</td>\n",
       "    </tr>\n",
       "  </tbody>\n",
       "</table>\n",
       "</div>"
      ],
      "text/plain": [
       "            duration  output.relevance.count  job  judgment  unit       wqs  \\\n",
       "worker                                                                        \n",
       "1924522    15.857143                       1    1         7     7  0.659471   \n",
       "3587109    27.384615                       1    1        13    13  0.618420   \n",
       "6377879    51.030000                       1    1       100   100  0.469648   \n",
       "11131207   43.870000                       1    1       100   100  0.386658   \n",
       "11314968  178.692308                       1    1        13    13  0.581014   \n",
       "13581319   17.000000                       1    1        12    12  0.636856   \n",
       "15577915   28.636364                       1    1        22    22  0.490570   \n",
       "17122301   25.000000                       1    1         1     1  0.269962   \n",
       "18672993  444.800000                       1    1        10    10  0.667406   \n",
       "21613169   14.375000                       1    1         8     8  0.445047   \n",
       "\n",
       "          wqs_initial  \n",
       "worker                 \n",
       "1924522      0.599884  \n",
       "3587109      0.550002  \n",
       "6377879      0.437929  \n",
       "11131207     0.368457  \n",
       "11314968     0.533296  \n",
       "13581319     0.583221  \n",
       "15577915     0.466935  \n",
       "17122301     0.353553  \n",
       "18672993     0.597893  \n",
       "21613169     0.432969  "
      ]
     },
     "execution_count": 30,
     "metadata": {},
     "output_type": "execute_result"
    }
   ],
   "source": [
    "results_without_highlight_15workers[\"workers\"].head(10)"
   ]
  },
  {
   "cell_type": "code",
   "execution_count": 31,
   "metadata": {},
   "outputs": [
    {
     "data": {
      "text/plain": [
       "Text(0,0.5,u'# Workers')"
      ]
     },
     "execution_count": 31,
     "metadata": {},
     "output_type": "execute_result"
    },
    {
     "data": {
      "image/png": "[encoded data removed]",
      "text/plain": [
       "<matplotlib.figure.Figure at 0x612d19950>"
      ]
     },
     "metadata": {},
     "output_type": "display_data"
    }
   ],
   "source": [
    "plt.rcParams['figure.figsize'] = 15, 5\n",
    "\n",
    "plt.subplot(1, 2, 1)\n",
    "plt.hist(results_without_highlight_15workers[\"workers\"][\"wqs\"])\n",
    "plt.ylim(0, 12)\n",
    "plt.xlabel(\"WQS\")\n",
    "plt.ylabel(\"# Workers\")\n",
    "\n",
    "plt.subplot(1, 2, 2)\n",
    "plt.hist(results_without_highlight_15workers[\"workers\"][\"wqs_initial\"])\n",
    "plt.ylim(0, 12)\n",
    "plt.xlabel(\"WQS Initial\")\n",
    "plt.ylabel(\"# Workers\")"
   ]
  },
  {
   "cell_type": "markdown",
   "metadata": {},
   "source": [
    "### Plot the change in worker qualtity score (WQS) at the beginning of the process and at the end"
   ]
  },
  {
   "cell_type": "code",
   "execution_count": 32,
   "metadata": {},
   "outputs": [
    {
     "name": "stderr",
     "output_type": "stream",
     "text": [
      "/Users/oanainel/anaconda/envs/CrowdTruth2/lib/python2.7/site-packages/ipykernel_launcher.py:1: FutureWarning: sort(columns=....) is deprecated, use sort_values(by=.....)\n",
      "  \"\"\"Entry point for launching an IPython kernel.\n"
     ]
    }
   ],
   "source": [
    "sortWQS = results_without_highlight_15workers[\"workers\"].sort(['wqs'], ascending=[1])"
   ]
  },
  {
   "cell_type": "code",
   "execution_count": 33,
   "metadata": {
    "scrolled": true
   },
   "outputs": [
    {
     "data": {
      "text/plain": [
       "Text(0.5,0,u'Worker Index')"
      ]
     },
     "execution_count": 33,
     "metadata": {},
     "output_type": "execute_result"
    },
    {
     "data": {
      "image/png": "[encoded data removed]",
      "text/plain": [
       "<matplotlib.figure.Figure at 0x612cab3d0>"
      ]
     },
     "metadata": {},
     "output_type": "display_data"
    }
   ],
   "source": [
    "plt.rcParams['figure.figsize'] = 15, 5\n",
    "\n",
    "plt.plot(np.arange(sortWQS.shape[0]), sortWQS[\"wqs_initial\"], 'ro', lw = 1, label = \"Initial UQS\")\n",
    "plt.plot(np.arange(sortWQS.shape[0]), sortWQS[\"wqs\"], 'go', lw = 1, label = \"Final UQS\")\n",
    "\n",
    "plt.ylabel('Worker Quality Score')\n",
    "plt.xlabel('Worker Index')\n",
    "#plt.legend(loc=9, bbox_to_anchor=(0.5, 1.2), ncol=3, prop={'size':12})"
   ]
  },
  {
   "cell_type": "markdown",
   "metadata": {},
   "source": [
    "### Show the annotation quality score (AQS) at the beginning of the process and at the end\n"
   ]
  },
  {
   "cell_type": "code",
   "execution_count": 34,
   "metadata": {},
   "outputs": [
    {
     "data": {
      "text/html": [
       "<div>\n",
       "<table border=\"1\" class=\"dataframe\">\n",
       "  <thead>\n",
       "    <tr style=\"text-align: right;\">\n",
       "      <th></th>\n",
       "      <th>output.relevance</th>\n",
       "      <th>aqs</th>\n",
       "      <th>aqs_initial</th>\n",
       "    </tr>\n",
       "  </thead>\n",
       "  <tbody>\n",
       "    <tr>\n",
       "      <th>relevant</th>\n",
       "      <td>1800</td>\n",
       "      <td>0.800302</td>\n",
       "      <td>0.734090</td>\n",
       "    </tr>\n",
       "    <tr>\n",
       "      <th>not_relevant</th>\n",
       "      <td>1800</td>\n",
       "      <td>0.393809</td>\n",
       "      <td>0.447973</td>\n",
       "    </tr>\n",
       "  </tbody>\n",
       "</table>\n",
       "</div>"
      ],
      "text/plain": [
       "              output.relevance       aqs  aqs_initial\n",
       "relevant                  1800  0.800302     0.734090\n",
       "not_relevant              1800  0.393809     0.447973"
      ]
     },
     "execution_count": 34,
     "metadata": {},
     "output_type": "execute_result"
    }
   ],
   "source": [
    "results_without_highlight_15workers[\"annotations\"]"
   ]
  },
  {
   "cell_type": "markdown",
   "metadata": {},
   "source": [
    "## Comparison with revised ground truth"
   ]
  },
  {
   "cell_type": "code",
   "execution_count": 35,
   "metadata": {},
   "outputs": [],
   "source": [
    "gt = pd.read_csv(\"ground_truth_annotation.csv\")\n",
    "\n",
    "results_without_highlight_15workers[\"units\"][\"reviewers_rel\"] = pd.Series(np.random.randn(len(results_without_highlight_15workers[\"units\"].index)), index=results_without_highlight_15workers[\"units\"].index)\n",
    "results_without_highlight_15workers[\"units\"][\"reviewers_rel_merged\"] = pd.Series(np.random.randn(len(results_without_highlight_15workers[\"units\"].index)), index=results_without_highlight_15workers[\"units\"].index)\n",
    "results_without_highlight_15workers[\"units\"][\"rel_merged\"] = pd.Series(np.random.randn(len(results_without_highlight_15workers[\"units\"].index)), index=results_without_highlight_15workers[\"units\"].index)\n",
    "\n",
    "for i in range(0, len(results_without_highlight_15workers[\"units\"].index)):\n",
    "    for j in range(0, len(gt.index)):\n",
    "        if (results_without_highlight_15workers[\"units\"][\"input.topic\"].iloc[i] == gt[\"topic\"].iloc[j]) and (results_without_highlight_15workers[\"units\"][\"input.document_id\"].iloc[i] == gt[\"document_id\"].iloc[j]):\n",
    "            results_without_highlight_15workers[\"units\"][\"reviewers_rel\"].iloc[i] = gt[\"reviewers_rel\"].iloc[j]\n",
    "            results_without_highlight_15workers[\"units\"][\"reviewers_rel_merged\"].iloc[i] = gt[\"reviewers_rel_merged\"].iloc[j]\n",
    "            results_without_highlight_15workers[\"units\"][\"rel_merged\"].iloc[i] = gt[\"nist_rel_merged\"].iloc[j]"
   ]
  },
  {
   "cell_type": "code",
   "execution_count": 36,
   "metadata": {
    "collapsed": true
   },
   "outputs": [],
   "source": [
    "results_without_highlight_15workers[\"units\"][\"relevance_score\"] = pd.Series(np.random.randn(len(results_without_highlight_15workers[\"units\"].index)), index=results_without_highlight_15workers[\"units\"].index)\n",
    "\n",
    "for i in range(0, len(results_without_highlight_15workers[\"units\"].index)):\n",
    "    results_without_highlight_15workers[\"units\"][\"relevance_score\"].iloc[i] = results_without_highlight_15workers[\"units\"]['unit_annotation_score'].iloc[i][\"relevant\"]"
   ]
  },
  {
   "cell_type": "code",
   "execution_count": 37,
   "metadata": {
    "collapsed": true
   },
   "outputs": [],
   "source": [
    "import help_functions as func\n",
    "withouthighlight_15workers_F1_notrelevant_merged = func.compute_F1_score_not_relevant(results_without_highlight_15workers[\"units\"])\n",
    "withouthighlight_15workers_F1_relevant_merged = func.compute_F1_score_relevant(results_without_highlight_15workers[\"units\"])"
   ]
  },
  {
   "cell_type": "code",
   "execution_count": 38,
   "metadata": {},
   "outputs": [
    {
     "data": {
      "text/plain": [
       "array([[ 0.01      ,  0.        ],\n",
       "       [ 0.02      ,  0.        ],\n",
       "       [ 0.03      ,  0.        ],\n",
       "       [ 0.04      ,  0.        ],\n",
       "       [ 0.05      ,  0.        ],\n",
       "       [ 0.06      ,  0.        ],\n",
       "       [ 0.07      ,  0.        ],\n",
       "       [ 0.08      ,  0.        ],\n",
       "       [ 0.09      ,  0.        ],\n",
       "       [ 0.1       ,  0.        ],\n",
       "       [ 0.11      ,  0.        ],\n",
       "       [ 0.12      ,  0.        ],\n",
       "       [ 0.13      ,  0.        ],\n",
       "       [ 0.14      ,  0.        ],\n",
       "       [ 0.15      ,  0.        ],\n",
       "       [ 0.16      ,  0.        ],\n",
       "       [ 0.17      ,  0.        ],\n",
       "       [ 0.18      ,  0.        ],\n",
       "       [ 0.19      ,  0.        ],\n",
       "       [ 0.2       ,  0.        ],\n",
       "       [ 0.21      ,  0.03703704],\n",
       "       [ 0.22      ,  0.03703704],\n",
       "       [ 0.23      ,  0.03703704],\n",
       "       [ 0.24      ,  0.03703704],\n",
       "       [ 0.25      ,  0.03703704],\n",
       "       [ 0.26      ,  0.03703704],\n",
       "       [ 0.27      ,  0.07272727],\n",
       "       [ 0.28      ,  0.07272727],\n",
       "       [ 0.29      ,  0.07272727],\n",
       "       [ 0.3       ,  0.07272727],\n",
       "       [ 0.31      ,  0.07272727],\n",
       "       [ 0.32      ,  0.07272727],\n",
       "       [ 0.33      ,  0.10714286],\n",
       "       [ 0.34      ,  0.10714286],\n",
       "       [ 0.35      ,  0.10714286],\n",
       "       [ 0.36      ,  0.10714286],\n",
       "       [ 0.37      ,  0.10714286],\n",
       "       [ 0.38      ,  0.10714286],\n",
       "       [ 0.39      ,  0.10714286],\n",
       "       [ 0.4       ,  0.14035088],\n",
       "       [ 0.41      ,  0.17241379],\n",
       "       [ 0.42      ,  0.17241379],\n",
       "       [ 0.43      ,  0.17241379],\n",
       "       [ 0.44      ,  0.17241379],\n",
       "       [ 0.45      ,  0.17241379],\n",
       "       [ 0.46      ,  0.20338983],\n",
       "       [ 0.47      ,  0.20338983],\n",
       "       [ 0.48      ,  0.20338983],\n",
       "       [ 0.49      ,  0.20338983],\n",
       "       [ 0.5       ,  0.20338983],\n",
       "       [ 0.51      ,  0.20338983],\n",
       "       [ 0.52      ,  0.23333333],\n",
       "       [ 0.53      ,  0.26229508],\n",
       "       [ 0.54      ,  0.26229508],\n",
       "       [ 0.55      ,  0.29032258],\n",
       "       [ 0.56      ,  0.31746032],\n",
       "       [ 0.57      ,  0.31746032],\n",
       "       [ 0.58      ,  0.34375   ],\n",
       "       [ 0.59      ,  0.33846154],\n",
       "       [ 0.6       ,  0.36363636],\n",
       "       [ 0.61      ,  0.3880597 ],\n",
       "       [ 0.62      ,  0.38235294],\n",
       "       [ 0.63      ,  0.45070423],\n",
       "       [ 0.64      ,  0.49315068],\n",
       "       [ 0.65      ,  0.53333333],\n",
       "       [ 0.66      ,  0.58974359],\n",
       "       [ 0.67      ,  0.625     ],\n",
       "       [ 0.68      ,  0.625     ],\n",
       "       [ 0.69      ,  0.65853659],\n",
       "       [ 0.7       ,  0.66666667],\n",
       "       [ 0.71      ,  0.71264368],\n",
       "       [ 0.72      ,  0.72727273],\n",
       "       [ 0.73      ,  0.72727273],\n",
       "       [ 0.74      ,  0.74157303],\n",
       "       [ 0.75      ,  0.76923077],\n",
       "       [ 0.76      ,  0.80851064],\n",
       "       [ 0.77      ,  0.80851064],\n",
       "       [ 0.78      ,  0.8125    ],\n",
       "       [ 0.79      ,  0.81632653],\n",
       "       [ 0.8       ,  0.84      ],\n",
       "       [ 0.81      ,  0.85148515],\n",
       "       [ 0.82      ,  0.88888889],\n",
       "       [ 0.83      ,  0.87272727],\n",
       "       [ 0.84      ,  0.85714286],\n",
       "       [ 0.85      ,  0.85217391],\n",
       "       [ 0.86      ,  0.86666667],\n",
       "       [ 0.87      ,  0.86178862],\n",
       "       [ 0.88      ,  0.84126984],\n",
       "       [ 0.89      ,  0.81538462],\n",
       "       [ 0.9       ,  0.78518519],\n",
       "       [ 0.91      ,  0.75177305],\n",
       "       [ 0.92      ,  0.74647887],\n",
       "       [ 0.93      ,  0.74125874],\n",
       "       [ 0.94      ,  0.73611111],\n",
       "       [ 0.95      ,  0.72108844],\n",
       "       [ 0.96      ,  0.65838509],\n",
       "       [ 0.97      ,  0.65838509],\n",
       "       [ 0.98      ,  0.65838509],\n",
       "       [ 0.99      ,  0.65838509],\n",
       "       [ 1.        ,  0.61271676]])"
      ]
     },
     "execution_count": 38,
     "metadata": {},
     "output_type": "execute_result"
    }
   ],
   "source": [
    "withouthighlight_15workers_F1_notrelevant_merged"
   ]
  },
  {
   "cell_type": "code",
   "execution_count": 39,
   "metadata": {},
   "outputs": [
    {
     "data": {
      "text/plain": [
       "array([[ 0.01      ,  0.71657754],\n",
       "       [ 0.02      ,  0.71657754],\n",
       "       [ 0.03      ,  0.71657754],\n",
       "       [ 0.04      ,  0.71657754],\n",
       "       [ 0.05      ,  0.71657754],\n",
       "       [ 0.06      ,  0.71657754],\n",
       "       [ 0.07      ,  0.71657754],\n",
       "       [ 0.08      ,  0.71657754],\n",
       "       [ 0.09      ,  0.71657754],\n",
       "       [ 0.1       ,  0.71657754],\n",
       "       [ 0.11      ,  0.71657754],\n",
       "       [ 0.12      ,  0.71657754],\n",
       "       [ 0.13      ,  0.71657754],\n",
       "       [ 0.14      ,  0.71657754],\n",
       "       [ 0.15      ,  0.71657754],\n",
       "       [ 0.16      ,  0.71657754],\n",
       "       [ 0.17      ,  0.71657754],\n",
       "       [ 0.18      ,  0.71657754],\n",
       "       [ 0.19      ,  0.71657754],\n",
       "       [ 0.2       ,  0.71657754],\n",
       "       [ 0.21      ,  0.72043011],\n",
       "       [ 0.22      ,  0.72043011],\n",
       "       [ 0.23      ,  0.72043011],\n",
       "       [ 0.24      ,  0.72043011],\n",
       "       [ 0.25      ,  0.72043011],\n",
       "       [ 0.26      ,  0.72043011],\n",
       "       [ 0.27      ,  0.72432432],\n",
       "       [ 0.28      ,  0.72432432],\n",
       "       [ 0.29      ,  0.72432432],\n",
       "       [ 0.3       ,  0.72432432],\n",
       "       [ 0.31      ,  0.72432432],\n",
       "       [ 0.32      ,  0.72432432],\n",
       "       [ 0.33      ,  0.72826087],\n",
       "       [ 0.34      ,  0.72826087],\n",
       "       [ 0.35      ,  0.72826087],\n",
       "       [ 0.36      ,  0.72826087],\n",
       "       [ 0.37      ,  0.72826087],\n",
       "       [ 0.38      ,  0.72826087],\n",
       "       [ 0.39      ,  0.72826087],\n",
       "       [ 0.4       ,  0.73224044],\n",
       "       [ 0.41      ,  0.73626374],\n",
       "       [ 0.42      ,  0.73626374],\n",
       "       [ 0.43      ,  0.73626374],\n",
       "       [ 0.44      ,  0.73626374],\n",
       "       [ 0.45      ,  0.73626374],\n",
       "       [ 0.46      ,  0.74033149],\n",
       "       [ 0.47      ,  0.74033149],\n",
       "       [ 0.48      ,  0.74033149],\n",
       "       [ 0.49      ,  0.74033149],\n",
       "       [ 0.5       ,  0.74033149],\n",
       "       [ 0.51      ,  0.74033149],\n",
       "       [ 0.52      ,  0.74444444],\n",
       "       [ 0.53      ,  0.74860335],\n",
       "       [ 0.54      ,  0.74860335],\n",
       "       [ 0.55      ,  0.75280899],\n",
       "       [ 0.56      ,  0.75706215],\n",
       "       [ 0.57      ,  0.75706215],\n",
       "       [ 0.58      ,  0.76136364],\n",
       "       [ 0.59      ,  0.75428571],\n",
       "       [ 0.6       ,  0.75862069],\n",
       "       [ 0.61      ,  0.76300578],\n",
       "       [ 0.62      ,  0.75581395],\n",
       "       [ 0.63      ,  0.76923077],\n",
       "       [ 0.64      ,  0.77844311],\n",
       "       [ 0.65      ,  0.78787879],\n",
       "       [ 0.66      ,  0.80246914],\n",
       "       [ 0.67      ,  0.8125    ],\n",
       "       [ 0.68      ,  0.8125    ],\n",
       "       [ 0.69      ,  0.82278481],\n",
       "       [ 0.7       ,  0.82051282],\n",
       "       [ 0.71      ,  0.83660131],\n",
       "       [ 0.72      ,  0.84210526],\n",
       "       [ 0.73      ,  0.84210526],\n",
       "       [ 0.74      ,  0.84768212],\n",
       "       [ 0.75      ,  0.8590604 ],\n",
       "       [ 0.76      ,  0.87671233],\n",
       "       [ 0.77      ,  0.87671233],\n",
       "       [ 0.78      ,  0.875     ],\n",
       "       [ 0.79      ,  0.87323944],\n",
       "       [ 0.8       ,  0.88571429],\n",
       "       [ 0.81      ,  0.89208633],\n",
       "       [ 0.82      ,  0.90909091],\n",
       "       [ 0.83      ,  0.89230769],\n",
       "       [ 0.84      ,  0.875     ],\n",
       "       [ 0.85      ,  0.864     ],\n",
       "       [ 0.86      ,  0.86666667],\n",
       "       [ 0.87      ,  0.85470085],\n",
       "       [ 0.88      ,  0.8245614 ],\n",
       "       [ 0.89      ,  0.78181818],\n",
       "       [ 0.9       ,  0.72380952],\n",
       "       [ 0.91      ,  0.64646465],\n",
       "       [ 0.92      ,  0.63265306],\n",
       "       [ 0.93      ,  0.6185567 ],\n",
       "       [ 0.94      ,  0.60416667],\n",
       "       [ 0.95      ,  0.55913978],\n",
       "       [ 0.96      ,  0.30379747],\n",
       "       [ 0.97      ,  0.30379747],\n",
       "       [ 0.98      ,  0.30379747],\n",
       "       [ 0.99      ,  0.30379747],\n",
       "       [ 1.        ,  0.30379747]])"
      ]
     },
     "execution_count": 39,
     "metadata": {},
     "output_type": "execute_result"
    }
   ],
   "source": [
    "withouthighlight_15workers_F1_relevant_merged"
   ]
  },
  {
   "cell_type": "code",
   "execution_count": 40,
   "metadata": {
    "collapsed": true
   },
   "outputs": [],
   "source": [
    "withouthighlight_expertsF1_notrelevant_merged_newGT = func.compute_F1_score_experts_merged(results_without_highlight_15workers[\"units\"],0)\n",
    "withouthighlight_expertsF1_relevant_merged_newGT = func.compute_F1_score_experts_merged(results_without_highlight_15workers[\"units\"],1)"
   ]
  },
  {
   "cell_type": "code",
   "execution_count": 41,
   "metadata": {},
   "outputs": [
    {
     "data": {
      "image/png": "[encoded data removed]",
      "text/plain": [
       "<matplotlib.figure.Figure at 0x102ccccd0>"
      ]
     },
     "metadata": {},
     "output_type": "display_data"
    }
   ],
   "source": [
    "plt.rcParams['figure.figsize'] = 6, 4\n",
    "plt.plot(withouthighlight_15workers_F1_notrelevant_merged[:,0], withouthighlight_15workers_F1_notrelevant_merged[:,1], 'bo-', color = 'red', lw = 2, label = \"F1 Crowd - Not Relevant\")\n",
    "plt.plot(withouthighlight_15workers_F1_relevant_merged[:,0], withouthighlight_15workers_F1_relevant_merged[:,1], 'bo-', color = 'darkgreen', lw = 2, label = \"F1 Crowd - Relevant\")\n",
    "\n",
    "plt.axhline(y = withouthighlight_expertsF1_notrelevant_merged_newGT, ls = '-', color = 'pink', lw = 2, label = \"F1 NIST - Not Relevant\")\n",
    "plt.axhline(y = withouthighlight_expertsF1_relevant_merged_newGT, ls = '--', color = 'lightgreen', lw = 2, label = \"F1 NIST - Relevant\")\n",
    "plt.xlim(0.1,1.0)\n",
    "plt.xlabel(\"TDP-RelVal score neg/pos threshold\", fontsize=18)\n",
    "plt.ylabel(\"F1-score\", fontsize=20)\n",
    "plt.yticks(fontsize=20)\n",
    "plt.ylim(0.0,1.0)\n",
    "plt.xticks(fontsize=18)\n",
    "plt.yticks(fontsize=18)\n",
    "leg = plt.legend(fontsize=14, loc=\"lower left\")\n",
    "leg.get_frame().set_alpha(0.8)\n",
    "plt.grid(ls=':')\n",
    "#plt.title(\"Without Highlight, Relations Not Merged, 3-point scale\")\n",
    "plt.savefig(\"Plots/2p_withoutHighlight_F1_merged_eval_reviewers.pdf\", bbox_inches='tight', dpi=1000)"
   ]
  },
  {
   "cell_type": "code",
   "execution_count": 42,
   "metadata": {
    "collapsed": true
   },
   "outputs": [],
   "source": [
    "results_without_highlight_15workers[\"units\"][\"relevance_score\"] = pd.Series(np.random.randn(len(results_without_highlight_15workers[\"units\"].index)), index=results_without_highlight_15workers[\"units\"].index)\n",
    "\n",
    "for i in range(0, len(results_without_highlight_15workers[\"units\"].index)):\n",
    "    results_without_highlight_15workers[\"units\"][\"relevance_score\"].iloc[i] = results_without_highlight_15workers[\"units\"]['unit_annotation_score'].iloc[i][\"relevant\"]"
   ]
  },
  {
   "cell_type": "code",
   "execution_count": 43,
   "metadata": {
    "collapsed": true
   },
   "outputs": [],
   "source": [
    "results_without_highlight_15workers[\"units\"].to_csv(\"ResultFiles/2P_WithoutHighlight_Article/units_withoutHighlight_15workers_2p.csv\", index=False)"
   ]
  },
  {
   "cell_type": "code",
   "execution_count": null,
   "metadata": {
    "collapsed": true
   },
   "outputs": [],
   "source": []
  }
 ],
 "metadata": {
  "kernelspec": {
   "display_name": "Python 2",
   "language": "python",
   "name": "python2"
  },
  "language_info": {
   "codemirror_mode": {
    "name": "ipython",
    "version": 2
   },
   "file_extension": ".py",
   "mimetype": "text/x-python",
   "name": "python",
   "nbconvert_exporter": "python",
   "pygments_lexer": "ipython2",
   "version": "2.7.13"
  }
 },
 "nbformat": 4,
 "nbformat_minor": 2
}
