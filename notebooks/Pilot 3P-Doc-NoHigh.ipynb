{
 "cells": [
  {
   "cell_type": "markdown",
   "metadata": {},
   "source": [
    "# CrowdTruth metrics 2.0 documentation\n",
    "\n",
    "Let:\n",
    "\n",
    "* $workers(u):$ all workers that annotate unit $u$;\n",
    "* $units(i):$ all input units annotated by worker $i$;\n",
    "* $WorkVec(i, u):$ annotations of worker $i$ on unit $u$ as a binary vector;\n",
    "* $UnitVec(s) = \\sum_{i \\in workers(s)} WorkVec(i,s)$, where $s$ is an input unit.\n",
    "\n",
    "## Unit Quality Score (UQS)\n",
    "\n",
    "The unit quality score $UQS(u)$ is computed as the average cosine similarity between all worker vectors for a given input unit $u$, weighted by the worker quality ($WQS$) and annotation quality ($AQS$). The goal is to capture the degree of agreement in annotating the unit. Through the weighted average, workers and annotations with lower quality will have less of an impact on the final score.\n",
    "\n",
    "$$ UQS(u) = \\frac{\\sum_{i, j \\in workers(u)} Wcos(WorkVec(i,u), WorkVec(j,u)) \\; WQS(i) \\; WQS(j)}{\\sum_{i, j \\in workers(u)} WQS(i) \\; WQS(j)}, \\; i \\neq j.$$\n",
    "\n",
    "\n",
    "### Weighted Cosine\n",
    "\n",
    "To weigh the metrics with the annotation quality, we compute $Wcos$, the weighted version of the cosine similarity. This metric is only applicable to closed tasks, where annotation quality can be calculated across units. For open-ended tasks, we consider annotation quality equal to 1 and calculate the regular cosine similarity.\n",
    "\n",
    "$$ Wcos(vec_1, vec_2) = \\frac{\\sum_{a} vec_1(a) \\; vec_2(a) \\; AQS(a)}{\\sqrt{(\\sum_{a} vec_1^2(a) \\; AQS(a)) \\; (\\sum_{a} vec_2^2(a) \\; AQS(a))}} .$$ \n",
    "\n",
    "\n",
    "## Worker Quality Score (WQS)\n",
    "\n",
    "The worker quality score $WQS(i)$ for a given worker $i$ is the product of 2 separate metrics - the worker-worker agreement $WWA(i)$ and the worker-unit agreement $WUA(i)$.\n",
    "\n",
    "$$ WQS(i) = WUA(i) \\; WWA(i) .$$\n",
    "\n",
    "### Worker-Unit Agreement\n",
    "\n",
    "The worker-unit agreement $WUA(i)$ is the average cosine distance between the annotations of a worker $i$ and all annotations for the units they have worked on, weighted by the unit and annotation quality. It calculates how much a worker disagrees with the crowd on a unit basis. Through the weighted average, units and anntation with lower quality will have less of an impact on the final score.\n",
    "\n",
    "$$ WSA(i) = \\frac{\\sum_{u \\in units(i)} Wcos(WorkVec(i,u), UnitVec(u) - WorkVec(i, u)) \\; UQS(u)}{\\sum_{u \\in units(i)} UQS(u)} .$$\n",
    "\n",
    "### Worker-Worker Agreement\n",
    "\n",
    "The worker-worker agreement $WWA(i)$ is the average cosine distance between the annotations of a worker $i$ and all other workers that have worked on the same units as worker $i$, weighted by the worker and annotation qualities. The metric gives an indication as to whether there are consisently like-minded workers. This is useful for identifying communities of thought. Through the weighted average, workers and annotations with lower quality will have less of an impact on the final score of the given worker.\n",
    "\n",
    "$$ WWA(i) = \\frac{ \\sum_{j \\in workers(u \\in units(i))} Wcos(WorkVec(i, u), WorkVec(j, u)) \\; WQS(j) \\; UQS(u) }{ \\sum_{j \\in workers(s \\in units(i))} WQS(j) \\; UQS(u) }, \\; i \\neq j .$$\n",
    "\n",
    "\n",
    "## Annotation Quality Score (AQS)\n",
    "\n",
    "The annotation quality score $AQS(a)$ calculates the agreement of selecting an annotation $a$, over all the units it appears in. Therefore, it is only applicable to closed tasks, where the same annotation set is used for all input units. It is based on $P_a(i | j)$, the probability that if a worker $j$ annotates $a$ in a unit, worker $i$ will also annotate it. \n",
    "\n",
    "$$ P_a(i | j) = \\frac{ \\sum_{u \\in units(i) \\cap units(j) } UQS(u) \\; WorkVec(i, s)(r) \\; WorkVec(j, s)(r) }{ \\sum_{u \\in units(i) \\cap units(j) } UQS(u) \\; WorkVec(j, u)(r) } . $$\n",
    "\n",
    "$AQS(a)$ is the weighted average of $P_a(i | j)$ for all possible pairs of workers. Through the weighted average, input units and workers with lower quality will have less of an impact on the final score of the annotation.\n",
    "\n",
    "$$ AQS(a) = \\frac{ \\sum_{i,j} WQS(i) \\; WQS(j) \\; P_a(i | j) }{ \\sum_{i,j} WQS(i) \\; WQS(j) }, i \\neq j . $$\n",
    "\n",
    "\n",
    "## Unit-Annotation Score (UAS)\n",
    "\n",
    "The unit - annotation score $UAS(u, a)$ calculates the likelihood that annotation $a$ is expressed in input unit $u$. It is the ratio of the number of workers that picked annotation $u$ over all workers that annotated the unit, weighted by the worker quality.\n",
    "\n",
    "$$ UAS(u, a) = \\frac{ \\sum_{i \\in workers(u)} WorkVec(i,u)(a) \\; WQS(i) }{ \\sum_{i \\in workers(u)} WQS(i) }. $$"
   ]
  },
  {
   "cell_type": "markdown",
   "metadata": {},
   "source": [
    "## Run the metrics\n"
   ]
  },
  {
   "cell_type": "code",
   "execution_count": 1,
   "metadata": {
    "collapsed": true
   },
   "outputs": [],
   "source": [
    "import pkg_resources\n",
    "pkg_resources.require(\"crowdtruth==2.0\")\n",
    "import crowdtruth\n",
    "from crowdtruth.configuration import DefaultConfig\n",
    "import logging\n",
    "import warnings; warnings.simplefilter('ignore')\n",
    "\n",
    "logger = logging.getLogger()\n",
    "logger.setLevel(logging.DEBUG)\n",
    "\n",
    "class config(DefaultConfig):\n",
    "    inputColumns = [\"index\", \"bin\", \"doc_len\", \"document_id\", \"document_body\", \"document_title\", \"rel\", \n",
    "                    \"topic\", \"topic_description\", \"topic_query\"]\n",
    "    outputColumns = [\"relevance\"]\n",
    "    \n",
    "    # processing of a closed task\n",
    "    open_ended_task = False\n",
    "    annotation_separator = \",\"\n",
    "    annotation_vector = [\n",
    "        \"highly_relevant\", \"relevant\", \"not_relevant\"\n",
    "    ]\n",
    "    \n",
    "    def processJudgments(self, judgments):\n",
    "        return judgments"
   ]
  },
  {
   "cell_type": "markdown",
   "metadata": {},
   "source": [
    "### Creating a class that inherits from `Configuration` lets us define how the input file will be processed:\n",
    "\n",
    "* `inputColumns`: list of input columns from the .csv file, the input that the workers were shown\n",
    "* `outputColumns`: list of output columns with the answers from the workers\n",
    "* `processJudgments`: function that defines how the worker judgments wil be processed; default separator for judgments is ','\n",
    "\n",
    "To build the annotation vector, we also need to specify whether this is an **open-ended** or **closed** task, using the `open_ended_task` variable.\n",
    "\n",
    "* **open-ended task** means that the annotation space is not known, and workers can freely provide all the choices that apply (e.g. in sound tagging, the workers are provided with a text box to enter all tags they can think of)\n",
    "* **closed task** means that the annotations that can occur in the data are already known, and the workers are asked to validate their existence (e.g. for medical relation extraction, the workers pick from a pre-defined multiple-choice set of relations)\n",
    "\n",
    "If the task we are processing is **closed**, then we also need to provide the list of possible annotations in the `annotation_vector` variable."
   ]
  },
  {
   "cell_type": "code",
   "execution_count": 2,
   "metadata": {},
   "outputs": [
    {
     "name": "stderr",
     "output_type": "stream",
     "text": [
      "INFO:root:Config loaded\n",
      "INFO:root:Found 2 files\n",
      "INFO:root:Processing f1212569_anonymized.csv\n",
      "INFO:root:Values not stored as dictionary\n",
      "INFO:root:Processing f1212570_anonymized.csv\n",
      "INFO:root:Values not stored as dictionary\n"
     ]
    },
    {
     "data": {
      "text/html": [
       "<div>\n",
       "<style scoped>\n",
       "    .dataframe tbody tr th:only-of-type {\n",
       "        vertical-align: middle;\n",
       "    }\n",
       "\n",
       "    .dataframe tbody tr th {\n",
       "        vertical-align: top;\n",
       "    }\n",
       "\n",
       "    .dataframe thead th {\n",
       "        text-align: right;\n",
       "    }\n",
       "</style>\n",
       "<table border=\"1\" class=\"dataframe\">\n",
       "  <thead>\n",
       "    <tr style=\"text-align: right;\">\n",
       "      <th></th>\n",
       "      <th>output.relevance</th>\n",
       "      <th>output.relevance.count</th>\n",
       "      <th>output.relevance.unique</th>\n",
       "      <th>submitted</th>\n",
       "      <th>started</th>\n",
       "      <th>worker</th>\n",
       "      <th>unit</th>\n",
       "      <th>duration</th>\n",
       "      <th>job</th>\n",
       "    </tr>\n",
       "    <tr>\n",
       "      <th>judgment</th>\n",
       "      <th></th>\n",
       "      <th></th>\n",
       "      <th></th>\n",
       "      <th></th>\n",
       "      <th></th>\n",
       "      <th></th>\n",
       "      <th></th>\n",
       "      <th></th>\n",
       "      <th></th>\n",
       "    </tr>\n",
       "  </thead>\n",
       "  <tbody>\n",
       "    <tr>\n",
       "      <th>3111460930</th>\n",
       "      <td>{u'relevant': 1, u'highly_relevant': 0, u'not_...</td>\n",
       "      <td>1</td>\n",
       "      <td>3</td>\n",
       "      <td>2017-12-05 14:40:07</td>\n",
       "      <td>2017-12-05 14:37:43</td>\n",
       "      <td>72002e84ac2c11ee1a91f2b8a235c488ab72bb77c97332...</td>\n",
       "      <td>1479140060</td>\n",
       "      <td>144</td>\n",
       "      <td>../crowdsourcing_data/Pilot_3P-Doc-NoHigh//f12...</td>\n",
       "    </tr>\n",
       "    <tr>\n",
       "      <th>3111664958</th>\n",
       "      <td>{u'relevant': 1, u'highly_relevant': 0, u'not_...</td>\n",
       "      <td>1</td>\n",
       "      <td>3</td>\n",
       "      <td>2017-12-05 16:08:01</td>\n",
       "      <td>2017-12-05 16:06:43</td>\n",
       "      <td>e15db62e5915af0ee504680b4c469a3dae44ffe8526991...</td>\n",
       "      <td>1479140060</td>\n",
       "      <td>78</td>\n",
       "      <td>../crowdsourcing_data/Pilot_3P-Doc-NoHigh//f12...</td>\n",
       "    </tr>\n",
       "    <tr>\n",
       "      <th>3111770274</th>\n",
       "      <td>{u'not_relevant': 1, u'highly_relevant': 0, u'...</td>\n",
       "      <td>1</td>\n",
       "      <td>3</td>\n",
       "      <td>2017-12-05 16:51:40</td>\n",
       "      <td>2017-12-05 16:51:24</td>\n",
       "      <td>48ea4c1ee132e0bf4f46fc27e2184d994026b9af65b5ff...</td>\n",
       "      <td>1479140060</td>\n",
       "      <td>16</td>\n",
       "      <td>../crowdsourcing_data/Pilot_3P-Doc-NoHigh//f12...</td>\n",
       "    </tr>\n",
       "    <tr>\n",
       "      <th>3111774570</th>\n",
       "      <td>{u'not_relevant': 1, u'highly_relevant': 0, u'...</td>\n",
       "      <td>1</td>\n",
       "      <td>3</td>\n",
       "      <td>2017-12-05 16:53:07</td>\n",
       "      <td>2017-12-05 16:51:53</td>\n",
       "      <td>2f08a7f01dd2c2fd6a4ea5db76956a26b6791d4c1a0926...</td>\n",
       "      <td>1479140060</td>\n",
       "      <td>74</td>\n",
       "      <td>../crowdsourcing_data/Pilot_3P-Doc-NoHigh//f12...</td>\n",
       "    </tr>\n",
       "    <tr>\n",
       "      <th>3111811644</th>\n",
       "      <td>{u'highly_relevant': 1, u'relevant': 0, u'not_...</td>\n",
       "      <td>1</td>\n",
       "      <td>3</td>\n",
       "      <td>2017-12-05 17:10:40</td>\n",
       "      <td>2017-12-05 17:10:05</td>\n",
       "      <td>13525998be9931d675c767d1e928fd91ce8c0e74806d6f...</td>\n",
       "      <td>1479140060</td>\n",
       "      <td>35</td>\n",
       "      <td>../crowdsourcing_data/Pilot_3P-Doc-NoHigh//f12...</td>\n",
       "    </tr>\n",
       "  </tbody>\n",
       "</table>\n",
       "</div>"
      ],
      "text/plain": [
       "                                             output.relevance  \\\n",
       "judgment                                                        \n",
       "3111460930  {u'relevant': 1, u'highly_relevant': 0, u'not_...   \n",
       "3111664958  {u'relevant': 1, u'highly_relevant': 0, u'not_...   \n",
       "3111770274  {u'not_relevant': 1, u'highly_relevant': 0, u'...   \n",
       "3111774570  {u'not_relevant': 1, u'highly_relevant': 0, u'...   \n",
       "3111811644  {u'highly_relevant': 1, u'relevant': 0, u'not_...   \n",
       "\n",
       "            output.relevance.count  output.relevance.unique  \\\n",
       "judgment                                                      \n",
       "3111460930                       1                        3   \n",
       "3111664958                       1                        3   \n",
       "3111770274                       1                        3   \n",
       "3111774570                       1                        3   \n",
       "3111811644                       1                        3   \n",
       "\n",
       "                     submitted             started  \\\n",
       "judgment                                             \n",
       "3111460930 2017-12-05 14:40:07 2017-12-05 14:37:43   \n",
       "3111664958 2017-12-05 16:08:01 2017-12-05 16:06:43   \n",
       "3111770274 2017-12-05 16:51:40 2017-12-05 16:51:24   \n",
       "3111774570 2017-12-05 16:53:07 2017-12-05 16:51:53   \n",
       "3111811644 2017-12-05 17:10:40 2017-12-05 17:10:05   \n",
       "\n",
       "                                                       worker        unit  \\\n",
       "judgment                                                                    \n",
       "3111460930  72002e84ac2c11ee1a91f2b8a235c488ab72bb77c97332...  1479140060   \n",
       "3111664958  e15db62e5915af0ee504680b4c469a3dae44ffe8526991...  1479140060   \n",
       "3111770274  48ea4c1ee132e0bf4f46fc27e2184d994026b9af65b5ff...  1479140060   \n",
       "3111774570  2f08a7f01dd2c2fd6a4ea5db76956a26b6791d4c1a0926...  1479140060   \n",
       "3111811644  13525998be9931d675c767d1e928fd91ce8c0e74806d6f...  1479140060   \n",
       "\n",
       "            duration                                                job  \n",
       "judgment                                                                 \n",
       "3111460930       144  ../crowdsourcing_data/Pilot_3P-Doc-NoHigh//f12...  \n",
       "3111664958        78  ../crowdsourcing_data/Pilot_3P-Doc-NoHigh//f12...  \n",
       "3111770274        16  ../crowdsourcing_data/Pilot_3P-Doc-NoHigh//f12...  \n",
       "3111774570        74  ../crowdsourcing_data/Pilot_3P-Doc-NoHigh//f12...  \n",
       "3111811644        35  ../crowdsourcing_data/Pilot_3P-Doc-NoHigh//f12...  "
      ]
     },
     "execution_count": 2,
     "metadata": {},
     "output_type": "execute_result"
    }
   ],
   "source": [
    "# Read data\n",
    "data, config = crowdtruth.load(\n",
    "    directory = \"../crowdsourcing_data/Pilot_3P-Doc-NoHigh/\",\n",
    "    config = config()\n",
    ")\n",
    "\n",
    "data['judgments'].head()"
   ]
  },
  {
   "cell_type": "code",
   "execution_count": 3,
   "metadata": {},
   "outputs": [
    {
     "name": "stderr",
     "output_type": "stream",
     "text": [
      "INFO:root:1 iterations; max d= 0.956007245595 ; wqs d= 0.758401560642; sqs d= 0.645634920635; rqs d= 0.604866507879\n",
      "INFO:root:2 iterations; max d= 0.137363819485 ; wqs d= 0.0295627787095; sqs d= 0.02647905173; rqs d= 0.0545159625438\n",
      "INFO:root:3 iterations; max d= 0.0347167539975 ; wqs d= 0.00828363341413; sqs d= 0.00523149508451; rqs d= 0.0112842414198\n",
      "INFO:root:4 iterations; max d= 0.0143883118858 ; wqs d= 0.00374929256272; sqs d= 0.00220729630477; rqs d= 0.00416431005646\n",
      "INFO:root:5 iterations; max d= 0.00799075091082 ; wqs d= 0.00194258191519; sqs d= 0.00119968822017; rqs d= 0.00242545992868\n",
      "INFO:root:6 iterations; max d= 0.00446524884635 ; wqs d= 0.00114655470348; sqs d= 0.000624090097769; rqs d= 0.00158780237304\n",
      "INFO:root:7 iterations; max d= 0.00292610330373 ; wqs d= 0.000684692578701; sqs d= 0.000410513353638; rqs d= 0.00105498331363\n",
      "INFO:root:8 iterations; max d= 0.00181312749882 ; wqs d= 0.000436853425405; sqs d= 0.000247097152626; rqs d= 0.00069215572842\n",
      "INFO:root:9 iterations; max d= 0.00119274278448 ; wqs d= 0.000281412814437; sqs d= 0.000163479001072; rqs d= 0.000458744218441\n",
      "INFO:root:10 iterations; max d= 0.000761829608575 ; wqs d= 0.000184635357617; sqs d= 0.000105013571732; rqs d= 0.000300348526266\n"
     ]
    }
   ],
   "source": [
    "results = crowdtruth.run(data, config)"
   ]
  },
  {
   "cell_type": "code",
   "execution_count": 4,
   "metadata": {
    "scrolled": true
   },
   "outputs": [
    {
     "data": {
      "text/html": [
       "<div>\n",
       "<style scoped>\n",
       "    .dataframe tbody tr th:only-of-type {\n",
       "        vertical-align: middle;\n",
       "    }\n",
       "\n",
       "    .dataframe tbody tr th {\n",
       "        vertical-align: top;\n",
       "    }\n",
       "\n",
       "    .dataframe thead th {\n",
       "        text-align: right;\n",
       "    }\n",
       "</style>\n",
       "<table border=\"1\" class=\"dataframe\">\n",
       "  <thead>\n",
       "    <tr style=\"text-align: right;\">\n",
       "      <th></th>\n",
       "      <th>duration</th>\n",
       "      <th>input.bin</th>\n",
       "      <th>input.doc_len</th>\n",
       "      <th>input.document_body</th>\n",
       "      <th>input.document_id</th>\n",
       "      <th>input.document_title</th>\n",
       "      <th>input.index</th>\n",
       "      <th>input.rel</th>\n",
       "      <th>input.topic</th>\n",
       "      <th>input.topic_description</th>\n",
       "      <th>input.topic_query</th>\n",
       "      <th>job</th>\n",
       "      <th>output.relevance</th>\n",
       "      <th>output.relevance.annotations</th>\n",
       "      <th>output.relevance.unique_annotations</th>\n",
       "      <th>worker</th>\n",
       "      <th>uqs</th>\n",
       "      <th>unit_annotation_score</th>\n",
       "      <th>uqs_initial</th>\n",
       "      <th>unit_annotation_score_initial</th>\n",
       "    </tr>\n",
       "    <tr>\n",
       "      <th>unit</th>\n",
       "      <th></th>\n",
       "      <th></th>\n",
       "      <th></th>\n",
       "      <th></th>\n",
       "      <th></th>\n",
       "      <th></th>\n",
       "      <th></th>\n",
       "      <th></th>\n",
       "      <th></th>\n",
       "      <th></th>\n",
       "      <th></th>\n",
       "      <th></th>\n",
       "      <th></th>\n",
       "      <th></th>\n",
       "      <th></th>\n",
       "      <th></th>\n",
       "      <th></th>\n",
       "      <th></th>\n",
       "      <th></th>\n",
       "      <th></th>\n",
       "    </tr>\n",
       "  </thead>\n",
       "  <tbody>\n",
       "    <tr>\n",
       "      <th>1479140060</th>\n",
       "      <td>49.666667</td>\n",
       "      <td>1</td>\n",
       "      <td>196</td>\n",
       "      <td>&lt;p&gt;A public commission ruled today that Aum Sh...</td>\n",
       "      <td>1173003</td>\n",
       "      <td>Japan Puts Gas-Attack Sect Under Scrutiny</td>\n",
       "      <td>1</td>\n",
       "      <td>1</td>\n",
       "      <td>325</td>\n",
       "      <td>Describe a cult by name and identify the cult ...</td>\n",
       "      <td>Cult Lifestyles</td>\n",
       "      <td>../crowdsourcing_data/Pilot_3P-Doc-NoHigh//f12...</td>\n",
       "      <td>{u'highly_relevant': 2, u'not_relevant': 5, u'...</td>\n",
       "      <td>15</td>\n",
       "      <td>3</td>\n",
       "      <td>15</td>\n",
       "      <td>0.405742</td>\n",
       "      <td>{u'highly_relevant': 0.103931834399, u'not_rel...</td>\n",
       "      <td>0.371429</td>\n",
       "      <td>{u'highly_relevant': 0.133333333333, u'not_rel...</td>\n",
       "    </tr>\n",
       "    <tr>\n",
       "      <th>1479140061</th>\n",
       "      <td>66.866667</td>\n",
       "      <td>1</td>\n",
       "      <td>245</td>\n",
       "      <td>&lt;p&gt;ABC has signed a deal to develop a televisi...</td>\n",
       "      <td>920343</td>\n",
       "      <td>ABC Signs Film Deal On the Cult</td>\n",
       "      <td>2</td>\n",
       "      <td>1</td>\n",
       "      <td>325</td>\n",
       "      <td>Describe a cult by name and identify the cult ...</td>\n",
       "      <td>Cult Lifestyles</td>\n",
       "      <td>../crowdsourcing_data/Pilot_3P-Doc-NoHigh//f12...</td>\n",
       "      <td>{u'highly_relevant': 4, u'not_relevant': 2, u'...</td>\n",
       "      <td>15</td>\n",
       "      <td>3</td>\n",
       "      <td>15</td>\n",
       "      <td>0.484773</td>\n",
       "      <td>{u'highly_relevant': 0.231830544439, u'not_rel...</td>\n",
       "      <td>0.409524</td>\n",
       "      <td>{u'highly_relevant': 0.266666666667, u'not_rel...</td>\n",
       "    </tr>\n",
       "    <tr>\n",
       "      <th>1479140062</th>\n",
       "      <td>59.266667</td>\n",
       "      <td>1</td>\n",
       "      <td>242</td>\n",
       "      <td>&lt;p&gt;Japan's peace of mind was shattered anew by...</td>\n",
       "      <td>757222</td>\n",
       "      <td>April 16-22; The Scent of Terror</td>\n",
       "      <td>3</td>\n",
       "      <td>1</td>\n",
       "      <td>325</td>\n",
       "      <td>Describe a cult by name and identify the cult ...</td>\n",
       "      <td>Cult Lifestyles</td>\n",
       "      <td>../crowdsourcing_data/Pilot_3P-Doc-NoHigh//f12...</td>\n",
       "      <td>{u'highly_relevant': 3, u'not_relevant': 5, u'...</td>\n",
       "      <td>15</td>\n",
       "      <td>3</td>\n",
       "      <td>15</td>\n",
       "      <td>0.355135</td>\n",
       "      <td>{u'highly_relevant': 0.188692537621, u'not_rel...</td>\n",
       "      <td>0.323810</td>\n",
       "      <td>{u'highly_relevant': 0.2, u'not_relevant': 0.3...</td>\n",
       "    </tr>\n",
       "    <tr>\n",
       "      <th>1479140063</th>\n",
       "      <td>105.866667</td>\n",
       "      <td>1</td>\n",
       "      <td>237</td>\n",
       "      <td>&lt;p&gt;USA Networks Interactive, creator of the sc...</td>\n",
       "      <td>1209320</td>\n",
       "      <td>SCIFI.com in Venture With Filmmaker</td>\n",
       "      <td>4</td>\n",
       "      <td>0</td>\n",
       "      <td>325</td>\n",
       "      <td>Describe a cult by name and identify the cult ...</td>\n",
       "      <td>Cult Lifestyles</td>\n",
       "      <td>../crowdsourcing_data/Pilot_3P-Doc-NoHigh//f12...</td>\n",
       "      <td>{u'highly_relevant': 4, u'not_relevant': 6, u'...</td>\n",
       "      <td>15</td>\n",
       "      <td>3</td>\n",
       "      <td>15</td>\n",
       "      <td>0.326236</td>\n",
       "      <td>{u'highly_relevant': 0.223113201525, u'not_rel...</td>\n",
       "      <td>0.295238</td>\n",
       "      <td>{u'highly_relevant': 0.266666666667, u'not_rel...</td>\n",
       "    </tr>\n",
       "    <tr>\n",
       "      <th>1479140064</th>\n",
       "      <td>108.666667</td>\n",
       "      <td>1</td>\n",
       "      <td>140</td>\n",
       "      <td>&lt;p&gt;To the Editor:&lt;/p&gt; &lt;p&gt;There is ample eviden...</td>\n",
       "      <td>1667028</td>\n",
       "      <td>Vital at 50: Does Lifestyle Matter?</td>\n",
       "      <td>5</td>\n",
       "      <td>0</td>\n",
       "      <td>325</td>\n",
       "      <td>Describe a cult by name and identify the cult ...</td>\n",
       "      <td>Cult Lifestyles</td>\n",
       "      <td>../crowdsourcing_data/Pilot_3P-Doc-NoHigh//f12...</td>\n",
       "      <td>{u'highly_relevant': 4, u'not_relevant': 7, u'...</td>\n",
       "      <td>15</td>\n",
       "      <td>3</td>\n",
       "      <td>15</td>\n",
       "      <td>0.340777</td>\n",
       "      <td>{u'highly_relevant': 0.217090289438, u'not_rel...</td>\n",
       "      <td>0.314286</td>\n",
       "      <td>{u'highly_relevant': 0.266666666667, u'not_rel...</td>\n",
       "    </tr>\n",
       "  </tbody>\n",
       "</table>\n",
       "</div>"
      ],
      "text/plain": [
       "              duration  input.bin  input.doc_len  \\\n",
       "unit                                               \n",
       "1479140060   49.666667          1            196   \n",
       "1479140061   66.866667          1            245   \n",
       "1479140062   59.266667          1            242   \n",
       "1479140063  105.866667          1            237   \n",
       "1479140064  108.666667          1            140   \n",
       "\n",
       "                                          input.document_body  \\\n",
       "unit                                                            \n",
       "1479140060  <p>A public commission ruled today that Aum Sh...   \n",
       "1479140061  <p>ABC has signed a deal to develop a televisi...   \n",
       "1479140062  <p>Japan's peace of mind was shattered anew by...   \n",
       "1479140063  <p>USA Networks Interactive, creator of the sc...   \n",
       "1479140064  <p>To the Editor:</p> <p>There is ample eviden...   \n",
       "\n",
       "            input.document_id                       input.document_title  \\\n",
       "unit                                                                       \n",
       "1479140060            1173003  Japan Puts Gas-Attack Sect Under Scrutiny   \n",
       "1479140061             920343            ABC Signs Film Deal On the Cult   \n",
       "1479140062             757222           April 16-22; The Scent of Terror   \n",
       "1479140063            1209320        SCIFI.com in Venture With Filmmaker   \n",
       "1479140064            1667028        Vital at 50: Does Lifestyle Matter?   \n",
       "\n",
       "            input.index  input.rel  input.topic  \\\n",
       "unit                                              \n",
       "1479140060            1          1          325   \n",
       "1479140061            2          1          325   \n",
       "1479140062            3          1          325   \n",
       "1479140063            4          0          325   \n",
       "1479140064            5          0          325   \n",
       "\n",
       "                                      input.topic_description  \\\n",
       "unit                                                            \n",
       "1479140060  Describe a cult by name and identify the cult ...   \n",
       "1479140061  Describe a cult by name and identify the cult ...   \n",
       "1479140062  Describe a cult by name and identify the cult ...   \n",
       "1479140063  Describe a cult by name and identify the cult ...   \n",
       "1479140064  Describe a cult by name and identify the cult ...   \n",
       "\n",
       "           input.topic_query  \\\n",
       "unit                           \n",
       "1479140060   Cult Lifestyles   \n",
       "1479140061   Cult Lifestyles   \n",
       "1479140062   Cult Lifestyles   \n",
       "1479140063   Cult Lifestyles   \n",
       "1479140064   Cult Lifestyles   \n",
       "\n",
       "                                                          job  \\\n",
       "unit                                                            \n",
       "1479140060  ../crowdsourcing_data/Pilot_3P-Doc-NoHigh//f12...   \n",
       "1479140061  ../crowdsourcing_data/Pilot_3P-Doc-NoHigh//f12...   \n",
       "1479140062  ../crowdsourcing_data/Pilot_3P-Doc-NoHigh//f12...   \n",
       "1479140063  ../crowdsourcing_data/Pilot_3P-Doc-NoHigh//f12...   \n",
       "1479140064  ../crowdsourcing_data/Pilot_3P-Doc-NoHigh//f12...   \n",
       "\n",
       "                                             output.relevance  \\\n",
       "unit                                                            \n",
       "1479140060  {u'highly_relevant': 2, u'not_relevant': 5, u'...   \n",
       "1479140061  {u'highly_relevant': 4, u'not_relevant': 2, u'...   \n",
       "1479140062  {u'highly_relevant': 3, u'not_relevant': 5, u'...   \n",
       "1479140063  {u'highly_relevant': 4, u'not_relevant': 6, u'...   \n",
       "1479140064  {u'highly_relevant': 4, u'not_relevant': 7, u'...   \n",
       "\n",
       "            output.relevance.annotations  output.relevance.unique_annotations  \\\n",
       "unit                                                                            \n",
       "1479140060                            15                                    3   \n",
       "1479140061                            15                                    3   \n",
       "1479140062                            15                                    3   \n",
       "1479140063                            15                                    3   \n",
       "1479140064                            15                                    3   \n",
       "\n",
       "            worker       uqs  \\\n",
       "unit                           \n",
       "1479140060      15  0.405742   \n",
       "1479140061      15  0.484773   \n",
       "1479140062      15  0.355135   \n",
       "1479140063      15  0.326236   \n",
       "1479140064      15  0.340777   \n",
       "\n",
       "                                        unit_annotation_score  uqs_initial  \\\n",
       "unit                                                                         \n",
       "1479140060  {u'highly_relevant': 0.103931834399, u'not_rel...     0.371429   \n",
       "1479140061  {u'highly_relevant': 0.231830544439, u'not_rel...     0.409524   \n",
       "1479140062  {u'highly_relevant': 0.188692537621, u'not_rel...     0.323810   \n",
       "1479140063  {u'highly_relevant': 0.223113201525, u'not_rel...     0.295238   \n",
       "1479140064  {u'highly_relevant': 0.217090289438, u'not_rel...     0.314286   \n",
       "\n",
       "                                unit_annotation_score_initial  \n",
       "unit                                                           \n",
       "1479140060  {u'highly_relevant': 0.133333333333, u'not_rel...  \n",
       "1479140061  {u'highly_relevant': 0.266666666667, u'not_rel...  \n",
       "1479140062  {u'highly_relevant': 0.2, u'not_relevant': 0.3...  \n",
       "1479140063  {u'highly_relevant': 0.266666666667, u'not_rel...  \n",
       "1479140064  {u'highly_relevant': 0.266666666667, u'not_rel...  "
      ]
     },
     "execution_count": 4,
     "metadata": {},
     "output_type": "execute_result"
    }
   ],
   "source": [
    "results[\"units\"].head(5)"
   ]
  },
  {
   "cell_type": "markdown",
   "metadata": {},
   "source": [
    "### Plot the unit quality score (UQS), the worker quality score (WQS) and the annotation quality score (AQS)\n"
   ]
  },
  {
   "cell_type": "code",
   "execution_count": 5,
   "metadata": {},
   "outputs": [
    {
     "data": {
      "text/plain": [
       "Text(0,0.5,u'Units')"
      ]
     },
     "execution_count": 5,
     "metadata": {},
     "output_type": "execute_result"
    },
    {
     "data": {
      "image/png": "[encoded data removed]",
      "text/plain": [
       "<matplotlib.figure.Figure at 0x610e7eb50>"
      ]
     },
     "metadata": {},
     "output_type": "display_data"
    }
   ],
   "source": [
    "import matplotlib.pyplot as plt\n",
    "%matplotlib inline\n",
    "\n",
    "plt.hist(results[\"units\"][\"uqs\"])\n",
    "plt.xlabel(\"UQS\")\n",
    "plt.ylabel(\"Units\")"
   ]
  },
  {
   "cell_type": "code",
   "execution_count": 6,
   "metadata": {},
   "outputs": [
    {
     "data": {
      "text/plain": [
       "Text(0,0.5,u'Workers')"
      ]
     },
     "execution_count": 6,
     "metadata": {},
     "output_type": "execute_result"
    },
    {
     "data": {
      "image/png": "[encoded data removed]",
      "text/plain": [
       "<matplotlib.figure.Figure at 0x613abc750>"
      ]
     },
     "metadata": {},
     "output_type": "display_data"
    }
   ],
   "source": [
    "plt.hist(results[\"workers\"][\"wqs\"])\n",
    "plt.xlabel(\"WQS\")\n",
    "plt.ylabel(\"Workers\")"
   ]
  },
  {
   "cell_type": "code",
   "execution_count": 7,
   "metadata": {},
   "outputs": [
    {
     "data": {
      "text/html": [
       "<div>\n",
       "<style scoped>\n",
       "    .dataframe tbody tr th:only-of-type {\n",
       "        vertical-align: middle;\n",
       "    }\n",
       "\n",
       "    .dataframe tbody tr th {\n",
       "        vertical-align: top;\n",
       "    }\n",
       "\n",
       "    .dataframe thead th {\n",
       "        text-align: right;\n",
       "    }\n",
       "</style>\n",
       "<table border=\"1\" class=\"dataframe\">\n",
       "  <thead>\n",
       "    <tr style=\"text-align: right;\">\n",
       "      <th></th>\n",
       "      <th>output.relevance</th>\n",
       "      <th>aqs</th>\n",
       "      <th>aqs_initial</th>\n",
       "    </tr>\n",
       "  </thead>\n",
       "  <tbody>\n",
       "    <tr>\n",
       "      <th>highly_relevant</th>\n",
       "      <td>1800</td>\n",
       "      <td>0.394257</td>\n",
       "      <td>0.346879</td>\n",
       "    </tr>\n",
       "    <tr>\n",
       "      <th>not_relevant</th>\n",
       "      <td>1800</td>\n",
       "      <td>0.542869</td>\n",
       "      <td>0.419160</td>\n",
       "    </tr>\n",
       "    <tr>\n",
       "      <th>relevant</th>\n",
       "      <td>1800</td>\n",
       "      <td>0.468208</td>\n",
       "      <td>0.419361</td>\n",
       "    </tr>\n",
       "  </tbody>\n",
       "</table>\n",
       "</div>"
      ],
      "text/plain": [
       "                 output.relevance       aqs  aqs_initial\n",
       "highly_relevant              1800  0.394257     0.346879\n",
       "not_relevant                 1800  0.542869     0.419160\n",
       "relevant                     1800  0.468208     0.419361"
      ]
     },
     "execution_count": 7,
     "metadata": {},
     "output_type": "execute_result"
    }
   ],
   "source": [
    "results[\"annotations\"]"
   ]
  },
  {
   "cell_type": "markdown",
   "metadata": {},
   "source": [
    "## Comparison with reviewers and NIST annotations"
   ]
  },
  {
   "cell_type": "code",
   "execution_count": 8,
   "metadata": {
    "collapsed": true
   },
   "outputs": [],
   "source": [
    "import pandas as pd\n",
    "import numpy as np\n",
    "\n",
    "gt = pd.read_csv(\"../ground_truth_data/reviewers_pilot_aggregated_judgments.csv\")\n",
    "\n",
    "results[\"units\"][\"reviewers_rel\"] = pd.Series(np.random.randn(len(results[\"units\"].index)), index=results[\"units\"].index)\n",
    "results[\"units\"][\"reviewers_rel_merged\"] = pd.Series(np.random.randn(len(results[\"units\"].index)), index=results[\"units\"].index)\n",
    "results[\"units\"][\"rel_merged\"] = pd.Series(np.random.randn(len(results[\"units\"].index)), index=results[\"units\"].index)\n",
    "\n",
    "for i in range(0, len(results[\"units\"].index)):\n",
    "    for j in range(0, len(gt.index)):\n",
    "        if (results[\"units\"][\"input.topic\"].iloc[i] == gt[\"topic\"].iloc[j]) and (results[\"units\"][\"input.document_id\"].iloc[i] == gt[\"document_id\"].iloc[j]):\n",
    "            results[\"units\"][\"reviewers_rel\"].iloc[i] = gt[\"reviewers_rel\"].iloc[j]\n",
    "            results[\"units\"][\"reviewers_rel_merged\"].iloc[i] = gt[\"reviewers_rel_merged\"].iloc[j]\n",
    "            results[\"units\"][\"rel_merged\"].iloc[i] = gt[\"nist_rel_merged\"].iloc[j]"
   ]
  },
  {
   "cell_type": "code",
   "execution_count": 9,
   "metadata": {},
   "outputs": [
    {
     "data": {
      "text/plain": [
       "<module 'help_functions' from '../scripts/help_functions.pyc'>"
      ]
     },
     "execution_count": 9,
     "metadata": {},
     "output_type": "execute_result"
    }
   ],
   "source": [
    "import sys\n",
    "sys.path.append('../scripts')\n",
    "\n",
    "import help_functions as func\n",
    "reload(func)"
   ]
  },
  {
   "cell_type": "code",
   "execution_count": 10,
   "metadata": {
    "collapsed": true
   },
   "outputs": [],
   "source": [
    "expertsF1_notrelevant = func.compute_F1_score_experts(results[\"units\"],0)\n",
    "expertsF1_relevant = func.compute_F1_score_experts(results[\"units\"],1)\n",
    "expertsF1_highlyrelevant = func.compute_F1_score_experts(results[\"units\"],2)"
   ]
  },
  {
   "cell_type": "code",
   "execution_count": 11,
   "metadata": {},
   "outputs": [
    {
     "name": "stdout",
     "output_type": "stream",
     "text": [
      "0.796610169492\n",
      "0.457142857143\n",
      "0.576923076923\n"
     ]
    }
   ],
   "source": [
    "print(expertsF1_notrelevant)\n",
    "print(expertsF1_relevant)\n",
    "print(expertsF1_highlyrelevant)"
   ]
  },
  {
   "cell_type": "code",
   "execution_count": 12,
   "metadata": {
    "collapsed": true
   },
   "outputs": [],
   "source": [
    "crowdF1_notrelevant = func.compute_F1_score(results[\"units\"],0,\"not_relevant\",'reviewers_rel')\n",
    "crowdF1_relevant = func.compute_F1_score(results[\"units\"],1,\"relevant\",'reviewers_rel')\n",
    "crowdF1_highlyrelevant = func.compute_F1_score(results[\"units\"],2,\"highly_relevant\",'reviewers_rel')"
   ]
  },
  {
   "cell_type": "code",
   "execution_count": 13,
   "metadata": {},
   "outputs": [
    {
     "data": {
      "text/plain": [
       "array([[0.1       , 0.7027027 ],\n",
       "       [0.2       , 0.82644628],\n",
       "       [0.3       , 0.86792453],\n",
       "       [0.4       , 0.74725275],\n",
       "       [0.5       , 0.61538462],\n",
       "       [0.6       , 0.39393939],\n",
       "       [0.7       , 0.07272727],\n",
       "       [0.8       , 0.07272727],\n",
       "       [0.9       , 0.        ],\n",
       "       [1.        , 0.        ]])"
      ]
     },
     "execution_count": 13,
     "metadata": {},
     "output_type": "execute_result"
    }
   ],
   "source": [
    "crowdF1_notrelevant"
   ]
  },
  {
   "cell_type": "code",
   "execution_count": 14,
   "metadata": {},
   "outputs": [
    {
     "data": {
      "text/plain": [
       "array([[0.1       , 0.50632911],\n",
       "       [0.2       , 0.55172414],\n",
       "       [0.3       , 0.63333333],\n",
       "       [0.4       , 0.56818182],\n",
       "       [0.5       , 0.42424242],\n",
       "       [0.6       , 0.24489796],\n",
       "       [0.7       , 0.04761905],\n",
       "       [0.8       , 0.        ],\n",
       "       [0.9       , 0.        ],\n",
       "       [1.        , 0.        ]])"
      ]
     },
     "execution_count": 14,
     "metadata": {},
     "output_type": "execute_result"
    }
   ],
   "source": [
    "crowdF1_relevant"
   ]
  },
  {
   "cell_type": "code",
   "execution_count": 15,
   "metadata": {},
   "outputs": [
    {
     "data": {
      "text/plain": [
       "array([[0.1       , 0.39705882],\n",
       "       [0.2       , 0.43697479],\n",
       "       [0.3       , 0.51111111],\n",
       "       [0.4       , 0.57142857],\n",
       "       [0.5       , 0.55319149],\n",
       "       [0.6       , 0.35294118],\n",
       "       [0.7       , 0.2       ],\n",
       "       [0.8       , 0.13793103],\n",
       "       [0.9       , 0.        ],\n",
       "       [1.        , 0.        ]])"
      ]
     },
     "execution_count": 15,
     "metadata": {},
     "output_type": "execute_result"
    }
   ],
   "source": [
    "crowdF1_highlyrelevant"
   ]
  },
  {
   "cell_type": "code",
   "execution_count": 16,
   "metadata": {},
   "outputs": [
    {
     "data": {
      "image/png": "[encoded data removed]",
      "text/plain": [
       "<matplotlib.figure.Figure at 0x613b85d10>"
      ]
     },
     "metadata": {},
     "output_type": "display_data"
    }
   ],
   "source": [
    "plt.rc('text', usetex=True)\n",
    "plt.rc('font', family='serif')\n",
    "plt.rcParams['figure.figsize'] = 6, 4\n",
    "plt.plot(crowdF1_notrelevant[:,0], crowdF1_notrelevant[:,1], 'bo-', color = 'red', lw = 2, label = \"F1 Crowd - Not Relevant\")\n",
    "plt.plot(crowdF1_relevant[:,0], crowdF1_relevant[:,1], 'bo-', color = 'darkgreen', lw = 2, label = \"F1 Crowd - Relevant\")\n",
    "plt.plot(crowdF1_highlyrelevant[:,0], crowdF1_highlyrelevant[:,1], 'bo-', color = 'darkblue', lw = 2, label = \"F1 Crowd - Highly Relevant\")\n",
    "\n",
    "plt.axhline(y = expertsF1_notrelevant, ls = '--', color = 'pink', lw = 2, label = \"F1 NIST - Not Relevant\")\n",
    "plt.axhline(y = expertsF1_relevant, ls = '--', color = 'lightgreen', lw = 2, label = \"F1 NIST - Relevant\")\n",
    "plt.axhline(y = expertsF1_highlyrelevant, ls = '--', color = 'lightblue', lw = 2, label = \"F1 NIST - Highly Relevant\")\n",
    "plt.xlim(0.1,1.0)\n",
    "plt.xlabel(\"TDP-RelVal score neg/pos threshold\", fontsize=18)\n",
    "plt.ylabel(\"F1-score\", fontsize=20)\n",
    "plt.yticks(fontsize=20)\n",
    "plt.ylim(0.0,1.0)\n",
    "plt.xticks(fontsize=18)\n",
    "plt.yticks(fontsize=18)\n",
    "leg = plt.legend()\n",
    "leg.get_frame().set_alpha(0.8)\n",
    "plt.grid(ls=':')\n",
    "#plt.title(\"Without Highlight, Relations Not Merged, 3-point scale\")\n",
    "plt.savefig(\"../Plots/3p_withoutHighlight_F1_eval_reviewers.pdf\", bbox_inches='tight', dpi=1000)"
   ]
  },
  {
   "cell_type": "markdown",
   "metadata": {},
   "source": [
    "## Print results to files"
   ]
  },
  {
   "cell_type": "code",
   "execution_count": 17,
   "metadata": {
    "collapsed": true
   },
   "outputs": [],
   "source": [
    "import csv\n",
    "    \n",
    "# print results for units\n",
    "columns = list(results[\"units\"])\n",
    "columns.extend(['highly_relevant_count', 'highly_relevant_score', 'relevant_count', 'relevant_score', \n",
    "                'not_relevant_count', 'not_relevant_score'])\n",
    "rows = []\n",
    "rows.append(columns)\n",
    "for i in range(len(results[\"units\"].index)):\n",
    "    keys = ['highly_relevant', 'relevant', 'not_relevant']\n",
    "    row = list(results[\"units\"].iloc[i])\n",
    "    for j in range(len(keys)):\n",
    "        row.append(results[\"units\"][\"output.relevance\"].iloc[i][keys[j]])\n",
    "        row.append(results[\"units\"][\"unit_annotation_score\"].iloc[i][keys[j]])    \n",
    "    rows.append(row)\n",
    "\n",
    "with open('../Results/Pilot_3P-Doc-NoHigh/units_Pilot_3P-Doc-NoHigh_unmerged.csv', 'w') as csvfile:\n",
    "    writer = csv.writer(csvfile)\n",
    "    writer.writerows(rows)\n",
    "\n",
    "# print results for workers\n",
    "results[\"workers\"].to_csv(\"../Results/Pilot_3P-Doc-NoHigh/workers_Pilot_3P-Doc-NoHigh_unmerged.csv\", index=False) "
   ]
  },
  {
   "cell_type": "markdown",
   "metadata": {},
   "source": [
    "## Check the performance when merging the Relevant and Highly Relevant relations"
   ]
  },
  {
   "cell_type": "code",
   "execution_count": 17,
   "metadata": {
    "collapsed": true
   },
   "outputs": [],
   "source": [
    "class config(DefaultConfig):\n",
    "    inputColumns = [\"index\", \"bin\", \"doc_len\", \"document_id\", \"document_body\", \"document_title\", \"rel\", \n",
    "                    \"topic\", \"topic_description\", \"topic_query\"]\n",
    "    outputColumns = [\"relevance\"]\n",
    "    \n",
    "    # processing of a closed task\n",
    "    open_ended_task = False\n",
    "    annotation_separator = \",\"\n",
    "    annotation_vector = [\n",
    "        \"relevant\", \"not_relevant\"\n",
    "    ]\n",
    "    \n",
    "    def processJudgments(self, judgments):\n",
    "        return judgments"
   ]
  },
  {
   "cell_type": "code",
   "execution_count": 18,
   "metadata": {},
   "outputs": [
    {
     "name": "stderr",
     "output_type": "stream",
     "text": [
      "INFO:root:Config loaded\n",
      "INFO:root:Found 2 files\n",
      "INFO:root:Processing f1212569_anonymized.csv\n",
      "INFO:root:Values not stored as dictionary\n",
      "INFO:root:Processing f1212570_anonymized.csv\n",
      "INFO:root:Values not stored as dictionary\n"
     ]
    },
    {
     "data": {
      "text/html": [
       "<div>\n",
       "<style scoped>\n",
       "    .dataframe tbody tr th:only-of-type {\n",
       "        vertical-align: middle;\n",
       "    }\n",
       "\n",
       "    .dataframe tbody tr th {\n",
       "        vertical-align: top;\n",
       "    }\n",
       "\n",
       "    .dataframe thead th {\n",
       "        text-align: right;\n",
       "    }\n",
       "</style>\n",
       "<table border=\"1\" class=\"dataframe\">\n",
       "  <thead>\n",
       "    <tr style=\"text-align: right;\">\n",
       "      <th></th>\n",
       "      <th>output.relevance</th>\n",
       "      <th>output.relevance.count</th>\n",
       "      <th>output.relevance.unique</th>\n",
       "      <th>submitted</th>\n",
       "      <th>started</th>\n",
       "      <th>worker</th>\n",
       "      <th>unit</th>\n",
       "      <th>duration</th>\n",
       "      <th>job</th>\n",
       "    </tr>\n",
       "    <tr>\n",
       "      <th>judgment</th>\n",
       "      <th></th>\n",
       "      <th></th>\n",
       "      <th></th>\n",
       "      <th></th>\n",
       "      <th></th>\n",
       "      <th></th>\n",
       "      <th></th>\n",
       "      <th></th>\n",
       "      <th></th>\n",
       "    </tr>\n",
       "  </thead>\n",
       "  <tbody>\n",
       "    <tr>\n",
       "      <th>3111460930</th>\n",
       "      <td>{u'relevant': 1, u'not_relevant': 0}</td>\n",
       "      <td>1</td>\n",
       "      <td>2</td>\n",
       "      <td>2017-12-05 14:40:07</td>\n",
       "      <td>2017-12-05 14:37:43</td>\n",
       "      <td>72002e84ac2c11ee1a91f2b8a235c488ab72bb77c97332...</td>\n",
       "      <td>1479140060</td>\n",
       "      <td>144</td>\n",
       "      <td>../crowdsourcing_data/Pilot_3P-Doc-NoHigh_merg...</td>\n",
       "    </tr>\n",
       "    <tr>\n",
       "      <th>3111664958</th>\n",
       "      <td>{u'relevant': 1, u'not_relevant': 0}</td>\n",
       "      <td>1</td>\n",
       "      <td>2</td>\n",
       "      <td>2017-12-05 16:08:01</td>\n",
       "      <td>2017-12-05 16:06:43</td>\n",
       "      <td>e15db62e5915af0ee504680b4c469a3dae44ffe8526991...</td>\n",
       "      <td>1479140060</td>\n",
       "      <td>78</td>\n",
       "      <td>../crowdsourcing_data/Pilot_3P-Doc-NoHigh_merg...</td>\n",
       "    </tr>\n",
       "    <tr>\n",
       "      <th>3111770274</th>\n",
       "      <td>{u'not_relevant': 1, u'relevant': 0}</td>\n",
       "      <td>1</td>\n",
       "      <td>2</td>\n",
       "      <td>2017-12-05 16:51:40</td>\n",
       "      <td>2017-12-05 16:51:24</td>\n",
       "      <td>48ea4c1ee132e0bf4f46fc27e2184d994026b9af65b5ff...</td>\n",
       "      <td>1479140060</td>\n",
       "      <td>16</td>\n",
       "      <td>../crowdsourcing_data/Pilot_3P-Doc-NoHigh_merg...</td>\n",
       "    </tr>\n",
       "    <tr>\n",
       "      <th>3111774570</th>\n",
       "      <td>{u'not_relevant': 1, u'relevant': 0}</td>\n",
       "      <td>1</td>\n",
       "      <td>2</td>\n",
       "      <td>2017-12-05 16:53:07</td>\n",
       "      <td>2017-12-05 16:51:53</td>\n",
       "      <td>2f08a7f01dd2c2fd6a4ea5db76956a26b6791d4c1a0926...</td>\n",
       "      <td>1479140060</td>\n",
       "      <td>74</td>\n",
       "      <td>../crowdsourcing_data/Pilot_3P-Doc-NoHigh_merg...</td>\n",
       "    </tr>\n",
       "    <tr>\n",
       "      <th>3111811644</th>\n",
       "      <td>{u'relevant': 1, u'not_relevant': 0}</td>\n",
       "      <td>1</td>\n",
       "      <td>2</td>\n",
       "      <td>2017-12-05 17:10:40</td>\n",
       "      <td>2017-12-05 17:10:05</td>\n",
       "      <td>13525998be9931d675c767d1e928fd91ce8c0e74806d6f...</td>\n",
       "      <td>1479140060</td>\n",
       "      <td>35</td>\n",
       "      <td>../crowdsourcing_data/Pilot_3P-Doc-NoHigh_merg...</td>\n",
       "    </tr>\n",
       "  </tbody>\n",
       "</table>\n",
       "</div>"
      ],
      "text/plain": [
       "                                output.relevance  output.relevance.count  \\\n",
       "judgment                                                                   \n",
       "3111460930  {u'relevant': 1, u'not_relevant': 0}                       1   \n",
       "3111664958  {u'relevant': 1, u'not_relevant': 0}                       1   \n",
       "3111770274  {u'not_relevant': 1, u'relevant': 0}                       1   \n",
       "3111774570  {u'not_relevant': 1, u'relevant': 0}                       1   \n",
       "3111811644  {u'relevant': 1, u'not_relevant': 0}                       1   \n",
       "\n",
       "            output.relevance.unique           submitted             started  \\\n",
       "judgment                                                                      \n",
       "3111460930                        2 2017-12-05 14:40:07 2017-12-05 14:37:43   \n",
       "3111664958                        2 2017-12-05 16:08:01 2017-12-05 16:06:43   \n",
       "3111770274                        2 2017-12-05 16:51:40 2017-12-05 16:51:24   \n",
       "3111774570                        2 2017-12-05 16:53:07 2017-12-05 16:51:53   \n",
       "3111811644                        2 2017-12-05 17:10:40 2017-12-05 17:10:05   \n",
       "\n",
       "                                                       worker        unit  \\\n",
       "judgment                                                                    \n",
       "3111460930  72002e84ac2c11ee1a91f2b8a235c488ab72bb77c97332...  1479140060   \n",
       "3111664958  e15db62e5915af0ee504680b4c469a3dae44ffe8526991...  1479140060   \n",
       "3111770274  48ea4c1ee132e0bf4f46fc27e2184d994026b9af65b5ff...  1479140060   \n",
       "3111774570  2f08a7f01dd2c2fd6a4ea5db76956a26b6791d4c1a0926...  1479140060   \n",
       "3111811644  13525998be9931d675c767d1e928fd91ce8c0e74806d6f...  1479140060   \n",
       "\n",
       "            duration                                                job  \n",
       "judgment                                                                 \n",
       "3111460930       144  ../crowdsourcing_data/Pilot_3P-Doc-NoHigh_merg...  \n",
       "3111664958        78  ../crowdsourcing_data/Pilot_3P-Doc-NoHigh_merg...  \n",
       "3111770274        16  ../crowdsourcing_data/Pilot_3P-Doc-NoHigh_merg...  \n",
       "3111774570        74  ../crowdsourcing_data/Pilot_3P-Doc-NoHigh_merg...  \n",
       "3111811644        35  ../crowdsourcing_data/Pilot_3P-Doc-NoHigh_merg...  "
      ]
     },
     "execution_count": 18,
     "metadata": {},
     "output_type": "execute_result"
    }
   ],
   "source": [
    "# Read data\n",
    "data, config = crowdtruth.load(\n",
    "    directory = \"../crowdsourcing_data/Pilot_3P-Doc-NoHigh_merged/\",\n",
    "    config = config()\n",
    ")\n",
    "\n",
    "data['judgments'].head()"
   ]
  },
  {
   "cell_type": "code",
   "execution_count": 19,
   "metadata": {},
   "outputs": [
    {
     "name": "stderr",
     "output_type": "stream",
     "text": [
      "INFO:root:1 iterations; max d= 0.924362045827 ; wqs d= 0.519966849629; sqs d= 0.388571428571; rqs d= 0.428114186488\n",
      "INFO:root:2 iterations; max d= 0.165052532444 ; wqs d= 0.0717475272265; sqs d= 0.0618841622697; rqs d= 0.0620930269353\n",
      "INFO:root:3 iterations; max d= 0.0318082121542 ; wqs d= 0.0144070498645; sqs d= 0.00949128669955; rqs d= 0.0149563331012\n",
      "INFO:root:4 iterations; max d= 0.0143889761073 ; wqs d= 0.00408123434342; sqs d= 0.00315867654405; rqs d= 0.00489216620071\n",
      "INFO:root:5 iterations; max d= 0.00443081955041 ; wqs d= 0.00144820444369; sqs d= 0.000882191042009; rqs d= 0.00163300824915\n",
      "INFO:root:6 iterations; max d= 0.00176405832215 ; wqs d= 0.000545277135582; sqs d= 0.000342054388586; rqs d= 0.000592759327608\n",
      "INFO:root:7 iterations; max d= 0.000649185205259 ; wqs d= 0.000200203819554; sqs d= 0.000119288572552; rqs d= 0.000221185145443\n"
     ]
    }
   ],
   "source": [
    "results = crowdtruth.run(data, config)"
   ]
  },
  {
   "cell_type": "code",
   "execution_count": 20,
   "metadata": {
    "collapsed": true
   },
   "outputs": [],
   "source": [
    "gt = pd.read_csv(\"../ground_truth_data/reviewers_pilot_aggregated_judgments.csv\")\n",
    "\n",
    "results[\"units\"][\"reviewers_rel\"] = pd.Series(np.random.randn(len(results[\"units\"].index)), index=results[\"units\"].index)\n",
    "results[\"units\"][\"reviewers_rel_merged\"] = pd.Series(np.random.randn(len(results[\"units\"].index)), index=results[\"units\"].index)\n",
    "results[\"units\"][\"rel_merged\"] = pd.Series(np.random.randn(len(results[\"units\"].index)), index=results[\"units\"].index)\n",
    "\n",
    "for i in range(0, len(results[\"units\"].index)):\n",
    "    for j in range(0, len(gt.index)):\n",
    "        if (results[\"units\"][\"input.topic\"].iloc[i] == gt[\"topic\"].iloc[j]) and (results[\"units\"][\"input.document_id\"].iloc[i] == gt[\"document_id\"].iloc[j]):\n",
    "            results[\"units\"][\"reviewers_rel\"].iloc[i] = gt[\"reviewers_rel\"].iloc[j]\n",
    "            results[\"units\"][\"reviewers_rel_merged\"].iloc[i] = gt[\"reviewers_rel_merged\"].iloc[j]\n",
    "            results[\"units\"][\"rel_merged\"].iloc[i] = gt[\"nist_rel_merged\"].iloc[j]"
   ]
  },
  {
   "cell_type": "code",
   "execution_count": 21,
   "metadata": {
    "collapsed": true
   },
   "outputs": [],
   "source": [
    "reload(func)\n",
    "expertsF1_notrelevant_merged = func.compute_F1_score_experts_merged(results[\"units\"],0)\n",
    "expertsF1_relevant_merged = func.compute_F1_score_experts_merged(results[\"units\"],1)"
   ]
  },
  {
   "cell_type": "code",
   "execution_count": 22,
   "metadata": {},
   "outputs": [
    {
     "name": "stdout",
     "output_type": "stream",
     "text": [
      "0.796610169492\n",
      "0.803278688525\n"
     ]
    }
   ],
   "source": [
    "print(expertsF1_notrelevant_merged)\n",
    "print(expertsF1_relevant_merged)"
   ]
  },
  {
   "cell_type": "code",
   "execution_count": 23,
   "metadata": {
    "collapsed": true
   },
   "outputs": [],
   "source": [
    "reload(func)\n",
    "crowdF1_notrelevant_merged = func.compute_F1_score_not_relevant(results[\"units\"])\n",
    "crowdF1_relevant_merged = func.compute_F1_score_relevant(results[\"units\"])"
   ]
  },
  {
   "cell_type": "code",
   "execution_count": 24,
   "metadata": {},
   "outputs": [
    {
     "data": {
      "image/png": "[encoded data removed]",
      "text/plain": [
       "<matplotlib.figure.Figure at 0x614d81e50>"
      ]
     },
     "metadata": {},
     "output_type": "display_data"
    }
   ],
   "source": [
    "plt.rc('text', usetex=True)\n",
    "plt.rc('font', family='serif')\n",
    "plt.rcParams['figure.figsize'] = 6, 4\n",
    "plt.plot(crowdF1_notrelevant_merged[:,0], crowdF1_notrelevant_merged[:,1], 'bo-', color = 'red', lw = 2, label = \"F1 Crowd - Not Relevant\")\n",
    "plt.plot(crowdF1_relevant_merged[:,0], crowdF1_relevant_merged[:,1], 'bo-', color = 'darkgreen', lw = 2, label = \"F1 Crowd - Relevant\")\n",
    "\n",
    "plt.axhline(y = expertsF1_notrelevant_merged, ls = '-', color = 'pink', lw = 2, label = \"F1 NIST - Not Relevant\")\n",
    "plt.axhline(y = expertsF1_relevant_merged, ls = '--', color = 'lightgreen', lw = 2, label = \"F1 NIST - Relevant\")\n",
    "plt.xlim(0.1,1.0)\n",
    "plt.xlabel(\"TDP-RelVal score neg/pos threshold\", fontsize=18)\n",
    "plt.ylabel(\"F1-score\", fontsize=20)\n",
    "plt.yticks(fontsize=20)\n",
    "plt.ylim(0.0,1.0)\n",
    "plt.xticks(fontsize=18)\n",
    "plt.yticks(fontsize=18)\n",
    "leg = plt.legend(fontsize=14, loc=\"lower right\")\n",
    "leg.get_frame().set_alpha(0.8)\n",
    "plt.grid(ls=':')\n",
    "plt.savefig(\"../Plots/3p_withoutHighlight_F1_merged_eval_reviewers.pdf\",bbox_inches='tight', dpi=1000)"
   ]
  },
  {
   "cell_type": "markdown",
   "metadata": {},
   "source": [
    "## Print results to files"
   ]
  },
  {
   "cell_type": "code",
   "execution_count": 28,
   "metadata": {
    "collapsed": true
   },
   "outputs": [],
   "source": [
    "# print results for units\n",
    "columns = list(results[\"units\"])\n",
    "columns.extend(['relevant_count', 'relevant_score', 'not_relevant_count', 'not_relevant_score'])\n",
    "rows = []\n",
    "rows.append(columns)\n",
    "for i in range(len(results[\"units\"].index)):\n",
    "    keys = ['relevant', 'not_relevant']\n",
    "    row = list(results[\"units\"].iloc[i])\n",
    "    for j in range(len(keys)):\n",
    "        row.append(results[\"units\"][\"output.relevance\"].iloc[i][keys[j]])\n",
    "        row.append(results[\"units\"][\"unit_annotation_score\"].iloc[i][keys[j]])    \n",
    "    rows.append(row)\n",
    "\n",
    "with open('../Results/Pilot_3P-Doc-NoHigh_merged/units_Pilot_3P-Doc-NoHigh_merged.csv', 'w') as csvfile:\n",
    "    writer = csv.writer(csvfile)\n",
    "    writer.writerows(rows)\n",
    "\n",
    "# print results for workers\n",
    "results[\"workers\"].to_csv(\"../Results/Pilot_3P-Doc-NoHigh_merged/workers_Pilot_3P-Doc-NoHigh_merged.csv\", index=False) "
   ]
  }
 ],
 "metadata": {
  "kernelspec": {
   "display_name": "Python 2",
   "language": "python",
   "name": "python2"
  },
  "language_info": {
   "codemirror_mode": {
    "name": "ipython",
    "version": 2
   },
   "file_extension": ".py",
   "mimetype": "text/x-python",
   "name": "python",
   "nbconvert_exporter": "python",
   "pygments_lexer": "ipython2",
   "version": "2.7.13"
  }
 },
 "nbformat": 4,
 "nbformat_minor": 2
}
