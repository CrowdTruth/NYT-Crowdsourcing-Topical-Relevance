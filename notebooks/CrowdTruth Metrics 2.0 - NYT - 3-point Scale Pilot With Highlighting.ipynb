{
 "cells": [
  {
   "cell_type": "markdown",
   "metadata": {},
   "source": [
    "# CrowdTruth metrics 2.0 documentation\n",
    "\n",
    "Let:\n",
    "\n",
    "* $workers(u):$ all workers that annotate media unit $u$;\n",
    "* $units(i):$ all input media units annotated by worker $i$;\n",
    "* $WorkVec(i, u):$ annotations of worker $i$ on media unit $u$ as a binary vector;\n",
    "* $MediaUnitVec(s) = \\sum_{i \\in workers(s)} WorkVec(i,s)$, where $s$ is an input media unit.\n",
    "\n",
    "## Media Unit Quality Score (UQS)\n",
    "\n",
    "The unit quality score $UQS(u)$ is computed as the average cosine similarity between all worker vectors for a given input media unit $u$, weighted by the worker quality ($WQS$) and annotation quality ($AQS$). The goal is to capture the degree of agreement in annotating the media unit. Through the weighted average, workers and annotations with lower quality will have less of an impact on the final score.\n",
    "\n",
    "$$ UQS(u) = \\frac{\\sum_{i, j \\in workers(u)} Wcos(WorkVec(i,u), WorkVec(j,u)) \\; WQS(i) \\; WQS(j)}{\\sum_{i, j \\in workers(u)} WQS(i) \\; WQS(j)}, \\; i \\neq j.$$\n",
    "\n",
    "\n",
    "### Weighted Cosine\n",
    "\n",
    "To weigh the metrics with the annotation quality, we compute $Wcos$, the weighted version of the cosine similarity. This metric is only applicable to closed tasks, where annotation quality can be calculated across media units. For open-ended tasks, we consider annotation quality equal to 1 and calculate the regular cosine similarity.\n",
    "\n",
    "$$ Wcos(vec_1, vec_2) = \\frac{\\sum_{a} vec_1(a) \\; vec_2(a) \\; AQS(a)}{\\sqrt{(\\sum_{a} vec_1^2(a) \\; AQS(a)) \\; (\\sum_{a} vec_2^2(a) \\; AQS(a))}} .$$ \n",
    "\n",
    "\n",
    "## Worker Quality Score (WQS)\n",
    "\n",
    "The worker quality score $WQS(i)$ for a given worker $i$ is the product of 2 separate metrics - the worker-worker agreement $WWA(i)$ and the worker-media unit agreement $WUA(i)$.\n",
    "\n",
    "$$ WQS(i) = WUA(i) \\; WWA(i) .$$\n",
    "\n",
    "### Worker-Media Unit Agreement\n",
    "\n",
    "The worker-media unit agreement $WUA(i)$ is the average cosine distance between the annotations of a worker $i$ and all annotations for the media units they have worked on, weighted by the media unit and annotation quality. It calculates how much a worker disagrees with the crowd on a media unit basis. Through the weighted average, media units and anntation with lower quality will have less of an impact on the final score.\n",
    "\n",
    "$$ WSA(i) = \\frac{\\sum_{u \\in units(i)} Wcos(WorkVec(i,u), MediaUnitVec(u) - WorkVec(i, u)) \\; UQS(u)}{\\sum_{u \\in units(i)} UQS(u)} .$$\n",
    "\n",
    "### Worker-Worker Agreement\n",
    "\n",
    "The worker-worker agreement $WWA(i)$ is the average cosine distance between the annotations of a worker $i$ and all other workers that have worked on the same media units as worker $i$, weighted by the worker and annotation qualities. The metric gives an indication as to whether there are consisently like-minded workers. This is useful for identifying communities of thought. Through the weighted average, workers and annotations with lower quality will have less of an impact on the final score of the given worker.\n",
    "\n",
    "$$ WWA(i) = \\frac{ \\sum_{j \\in workers(u \\in units(i))} Wcos(WorkVec(i, u), WorkVec(j, u)) \\; WQS(j) \\; UQS(u) }{ \\sum_{j \\in workers(s \\in units(i))} WQS(j) \\; UQS(u) }, \\; i \\neq j .$$\n",
    "\n",
    "\n",
    "## Annotation Quality Score (AQS)\n",
    "\n",
    "The annotation quality score $AQS(a)$ calculates the agreement of selecting an annotation $a$, over all the media units it appears in. Therefore, it is only applicable to closed tasks, where the same annotation set is used for all input media units. It is based on $P_a(i | j)$, the probability that if a worker $j$ annotates $a$ in a media unit, worker $i$ will also annotate it. \n",
    "\n",
    "$$ P_a(i | j) = \\frac{ \\sum_{u \\in units(i) \\cap units(j) } UQS(u) \\; WorkVec(i, s)(r) \\; WorkVec(j, s)(r) }{ \\sum_{u \\in units(i) \\cap units(j) } UQS(u) \\; WorkVec(j, u)(r) } . $$\n",
    "\n",
    "$AQS(a)$ is the weighted average of $P_a(i | j)$ for all possible pairs of workers. Through the weighted average, input media units and workers with lower quality will have less of an impact on the final score of the annotation.\n",
    "\n",
    "$$ AQS(a) = \\frac{ \\sum_{i,j} WQS(i) \\; WQS(j) \\; P_a(i | j) }{ \\sum_{i,j} WQS(i) \\; WQS(j) }, i \\neq j . $$\n",
    "\n",
    "\n",
    "## Media Unit-Annotation Score (UAS)\n",
    "\n",
    "The media unit - annotation score $UAS(u, a)$ calculates the likelihood that annotation $a$ is expressed in input media unit $u$. It is the ratio of the number of workers that picked annotation $u$ over all workers that annotated the unit, weighted by the worker quality.\n",
    "\n",
    "$$ UAS(u, a) = \\frac{ \\sum_{i \\in workers(u)} WorkVec(i,u)(a) \\; WQS(i) }{ \\sum_{i \\in workers(u)} WQS(i) }. $$"
   ]
  },
  {
   "cell_type": "markdown",
   "metadata": {},
   "source": [
    "# How to run the metrics\n"
   ]
  },
  {
   "cell_type": "code",
   "execution_count": 1,
   "metadata": {
    "scrolled": true
   },
   "outputs": [
    {
     "data": {
      "text/html": [
       "<div>\n",
       "<table border=\"1\" class=\"dataframe\">\n",
       "  <thead>\n",
       "    <tr style=\"text-align: right;\">\n",
       "      <th></th>\n",
       "      <th>_unit_id</th>\n",
       "      <th>_created_at</th>\n",
       "      <th>_id</th>\n",
       "      <th>_started_at</th>\n",
       "      <th>_tainted</th>\n",
       "      <th>_channel</th>\n",
       "      <th>_trust</th>\n",
       "      <th>_worker_id</th>\n",
       "      <th>_country</th>\n",
       "      <th>_region</th>\n",
       "      <th>_city</th>\n",
       "      <th>_ip</th>\n",
       "      <th>explanation</th>\n",
       "      <th>hiddeninput</th>\n",
       "      <th>highlight</th>\n",
       "      <th>relevance</th>\n",
       "      <th>startchars</th>\n",
       "      <th>termnumber</th>\n",
       "      <th>bin</th>\n",
       "      <th>doc_len</th>\n",
       "      <th>document_body</th>\n",
       "      <th>document_id</th>\n",
       "      <th>document_title</th>\n",
       "      <th>explanation_gold</th>\n",
       "      <th>hiddeninput_gold</th>\n",
       "      <th>highlight_gold</th>\n",
       "      <th>index</th>\n",
       "      <th>rel</th>\n",
       "      <th>relevance_gold</th>\n",
       "      <th>startchars_gold</th>\n",
       "      <th>termnumber_gold</th>\n",
       "      <th>topic</th>\n",
       "      <th>topic_description</th>\n",
       "      <th>topic_query</th>\n",
       "    </tr>\n",
       "  </thead>\n",
       "  <tbody>\n",
       "    <tr>\n",
       "      <th>0</th>\n",
       "      <td>1418234456</td>\n",
       "      <td>10/22/2017 20:37:11</td>\n",
       "      <td>2947422122</td>\n",
       "      <td>10/22/2017 20:36:14</td>\n",
       "      <td>False</td>\n",
       "      <td>prodege</td>\n",
       "      <td>1</td>\n",
       "      <td>38202325</td>\n",
       "      <td>USA</td>\n",
       "      <td>ME</td>\n",
       "      <td>Caribou</td>\n",
       "      <td>98.13.82.121</td>\n",
       "      <td>NaN</td>\n",
       "      <td>NaN</td>\n",
       "      <td>[\"Under the surveillance law -- specifically d...</td>\n",
       "      <td>highly_relevant</td>\n",
       "      <td>[\"5566 5672 5777 5892 5999 6106 6224 6339 6449...</td>\n",
       "      <td>[\"100 101 102 103 104 105 106 107 108 109 110 ...</td>\n",
       "      <td>1</td>\n",
       "      <td>196</td>\n",
       "      <td>&lt;p&gt;A public commission ruled today that Aum Sh...</td>\n",
       "      <td>1173003</td>\n",
       "      <td>Japan Puts Gas-Attack Sect Under Scrutiny</td>\n",
       "      <td>NaN</td>\n",
       "      <td>NaN</td>\n",
       "      <td>NaN</td>\n",
       "      <td>1</td>\n",
       "      <td>1</td>\n",
       "      <td>NaN</td>\n",
       "      <td>NaN</td>\n",
       "      <td>NaN</td>\n",
       "      <td>325</td>\n",
       "      <td>Describe a cult by name and identify the cult ...</td>\n",
       "      <td>Cult Lifestyles</td>\n",
       "    </tr>\n",
       "    <tr>\n",
       "      <th>1</th>\n",
       "      <td>1418234456</td>\n",
       "      <td>10/23/2017 02:01:34</td>\n",
       "      <td>2948178869</td>\n",
       "      <td>10/23/2017 02:00:51</td>\n",
       "      <td>False</td>\n",
       "      <td>instagc</td>\n",
       "      <td>1</td>\n",
       "      <td>20312760</td>\n",
       "      <td>GBR</td>\n",
       "      <td>E3</td>\n",
       "      <td>Edmonton</td>\n",
       "      <td>80.43.219.140</td>\n",
       "      <td>NaN</td>\n",
       "      <td>NaN</td>\n",
       "      <td>[\"Aum Shinrikyo,\",\"killed 12 people in a nerve...</td>\n",
       "      <td>highly_relevant</td>\n",
       "      <td>[\"159 176 \",\"292 318 341 369 394 419 449 478 \"]</td>\n",
       "      <td>[\"13 14 \",\"19 20 21 22 23 24 25 26 \"]</td>\n",
       "      <td>1</td>\n",
       "      <td>196</td>\n",
       "      <td>&lt;p&gt;A public commission ruled today that Aum Sh...</td>\n",
       "      <td>1173003</td>\n",
       "      <td>Japan Puts Gas-Attack Sect Under Scrutiny</td>\n",
       "      <td>NaN</td>\n",
       "      <td>NaN</td>\n",
       "      <td>NaN</td>\n",
       "      <td>1</td>\n",
       "      <td>1</td>\n",
       "      <td>NaN</td>\n",
       "      <td>NaN</td>\n",
       "      <td>NaN</td>\n",
       "      <td>325</td>\n",
       "      <td>Describe a cult by name and identify the cult ...</td>\n",
       "      <td>Cult Lifestyles</td>\n",
       "    </tr>\n",
       "    <tr>\n",
       "      <th>2</th>\n",
       "      <td>1418234457</td>\n",
       "      <td>10/22/2017 20:36:12</td>\n",
       "      <td>2947419617</td>\n",
       "      <td>10/22/2017 20:35:10</td>\n",
       "      <td>False</td>\n",
       "      <td>prodege</td>\n",
       "      <td>1</td>\n",
       "      <td>38202325</td>\n",
       "      <td>USA</td>\n",
       "      <td>ME</td>\n",
       "      <td>Caribou</td>\n",
       "      <td>98.13.82.121</td>\n",
       "      <td>NaN</td>\n",
       "      <td>NaN</td>\n",
       "      <td>[\"ABC has signed a deal to develop a televisio...</td>\n",
       "      <td>highly_relevant</td>\n",
       "      <td>[\"62 74 87 104 117 134 150 172 189 216 239 263...</td>\n",
       "      <td>[\"8 9 10 11 12 13 14 15 16 17 18 19 20 21 22 2...</td>\n",
       "      <td>1</td>\n",
       "      <td>245</td>\n",
       "      <td>&lt;p&gt;ABC has signed a deal to develop a televisi...</td>\n",
       "      <td>920343</td>\n",
       "      <td>ABC Signs Film Deal On the Cult</td>\n",
       "      <td>NaN</td>\n",
       "      <td>NaN</td>\n",
       "      <td>NaN</td>\n",
       "      <td>2</td>\n",
       "      <td>1</td>\n",
       "      <td>NaN</td>\n",
       "      <td>NaN</td>\n",
       "      <td>NaN</td>\n",
       "      <td>325</td>\n",
       "      <td>Describe a cult by name and identify the cult ...</td>\n",
       "      <td>Cult Lifestyles</td>\n",
       "    </tr>\n",
       "    <tr>\n",
       "      <th>3</th>\n",
       "      <td>1418234457</td>\n",
       "      <td>10/22/2017 21:27:50</td>\n",
       "      <td>2947526820</td>\n",
       "      <td>10/22/2017 21:26:59</td>\n",
       "      <td>False</td>\n",
       "      <td>clixsense</td>\n",
       "      <td>1</td>\n",
       "      <td>28335646</td>\n",
       "      <td>GBR</td>\n",
       "      <td>F2</td>\n",
       "      <td>Andover</td>\n",
       "      <td>90.221.175.88</td>\n",
       "      <td>NaN</td>\n",
       "      <td>NaN</td>\n",
       "      <td>[\"On\",\"the\",\"Cult:\",\"Heaven's\",\"Gate\",\"cult,\",...</td>\n",
       "      <td>highly_relevant</td>\n",
       "      <td>[\"31 \",\"39 \",\"49 \",\"547 \",\"585 \",\"620 \",\"992 \"...</td>\n",
       "      <td>[\"5 \",\"6 \",\"7 \",\"29 \",\"30 \",\"31 \",\"40 \",\"41 \",...</td>\n",
       "      <td>1</td>\n",
       "      <td>245</td>\n",
       "      <td>&lt;p&gt;ABC has signed a deal to develop a televisi...</td>\n",
       "      <td>920343</td>\n",
       "      <td>ABC Signs Film Deal On the Cult</td>\n",
       "      <td>NaN</td>\n",
       "      <td>NaN</td>\n",
       "      <td>NaN</td>\n",
       "      <td>2</td>\n",
       "      <td>1</td>\n",
       "      <td>NaN</td>\n",
       "      <td>NaN</td>\n",
       "      <td>NaN</td>\n",
       "      <td>325</td>\n",
       "      <td>Describe a cult by name and identify the cult ...</td>\n",
       "      <td>Cult Lifestyles</td>\n",
       "    </tr>\n",
       "    <tr>\n",
       "      <th>4</th>\n",
       "      <td>1418234457</td>\n",
       "      <td>10/23/2017 02:00:50</td>\n",
       "      <td>2948177478</td>\n",
       "      <td>10/23/2017 01:59:57</td>\n",
       "      <td>False</td>\n",
       "      <td>instagc</td>\n",
       "      <td>1</td>\n",
       "      <td>20312760</td>\n",
       "      <td>GBR</td>\n",
       "      <td>E3</td>\n",
       "      <td>Edmonton</td>\n",
       "      <td>80.43.219.140</td>\n",
       "      <td>NaN</td>\n",
       "      <td>NaN</td>\n",
       "      <td>[\"Heaven's Gate cult,\",\"former member, Richard...</td>\n",
       "      <td>highly_relevant</td>\n",
       "      <td>[\"547 585 620 \",\"2900 2978 3058 3139 \",\"3625 3...</td>\n",
       "      <td>[\"29 30 31 \",\"71 72 73 74 \",\"80 81 \",\"97 98 \"]</td>\n",
       "      <td>1</td>\n",
       "      <td>245</td>\n",
       "      <td>&lt;p&gt;ABC has signed a deal to develop a televisi...</td>\n",
       "      <td>920343</td>\n",
       "      <td>ABC Signs Film Deal On the Cult</td>\n",
       "      <td>NaN</td>\n",
       "      <td>NaN</td>\n",
       "      <td>NaN</td>\n",
       "      <td>2</td>\n",
       "      <td>1</td>\n",
       "      <td>NaN</td>\n",
       "      <td>NaN</td>\n",
       "      <td>NaN</td>\n",
       "      <td>325</td>\n",
       "      <td>Describe a cult by name and identify the cult ...</td>\n",
       "      <td>Cult Lifestyles</td>\n",
       "    </tr>\n",
       "  </tbody>\n",
       "</table>\n",
       "</div>"
      ],
      "text/plain": [
       "     _unit_id          _created_at         _id          _started_at _tainted  \\\n",
       "0  1418234456  10/22/2017 20:37:11  2947422122  10/22/2017 20:36:14    False   \n",
       "1  1418234456  10/23/2017 02:01:34  2948178869  10/23/2017 02:00:51    False   \n",
       "2  1418234457  10/22/2017 20:36:12  2947419617  10/22/2017 20:35:10    False   \n",
       "3  1418234457  10/22/2017 21:27:50  2947526820  10/22/2017 21:26:59    False   \n",
       "4  1418234457  10/23/2017 02:00:50  2948177478  10/23/2017 01:59:57    False   \n",
       "\n",
       "    _channel  _trust  _worker_id _country _region     _city            _ip  \\\n",
       "0    prodege       1    38202325      USA      ME   Caribou   98.13.82.121   \n",
       "1    instagc       1    20312760      GBR      E3  Edmonton  80.43.219.140   \n",
       "2    prodege       1    38202325      USA      ME   Caribou   98.13.82.121   \n",
       "3  clixsense       1    28335646      GBR      F2   Andover  90.221.175.88   \n",
       "4    instagc       1    20312760      GBR      E3  Edmonton  80.43.219.140   \n",
       "\n",
       "  explanation  hiddeninput                                          highlight  \\\n",
       "0         NaN          NaN  [\"Under the surveillance law -- specifically d...   \n",
       "1         NaN          NaN  [\"Aum Shinrikyo,\",\"killed 12 people in a nerve...   \n",
       "2         NaN          NaN  [\"ABC has signed a deal to develop a televisio...   \n",
       "3         NaN          NaN  [\"On\",\"the\",\"Cult:\",\"Heaven's\",\"Gate\",\"cult,\",...   \n",
       "4         NaN          NaN  [\"Heaven's Gate cult,\",\"former member, Richard...   \n",
       "\n",
       "         relevance                                         startchars  \\\n",
       "0  highly_relevant  [\"5566 5672 5777 5892 5999 6106 6224 6339 6449...   \n",
       "1  highly_relevant    [\"159 176 \",\"292 318 341 369 394 419 449 478 \"]   \n",
       "2  highly_relevant  [\"62 74 87 104 117 134 150 172 189 216 239 263...   \n",
       "3  highly_relevant  [\"31 \",\"39 \",\"49 \",\"547 \",\"585 \",\"620 \",\"992 \"...   \n",
       "4  highly_relevant  [\"547 585 620 \",\"2900 2978 3058 3139 \",\"3625 3...   \n",
       "\n",
       "                                          termnumber  bin  doc_len  \\\n",
       "0  [\"100 101 102 103 104 105 106 107 108 109 110 ...    1      196   \n",
       "1              [\"13 14 \",\"19 20 21 22 23 24 25 26 \"]    1      196   \n",
       "2  [\"8 9 10 11 12 13 14 15 16 17 18 19 20 21 22 2...    1      245   \n",
       "3  [\"5 \",\"6 \",\"7 \",\"29 \",\"30 \",\"31 \",\"40 \",\"41 \",...    1      245   \n",
       "4     [\"29 30 31 \",\"71 72 73 74 \",\"80 81 \",\"97 98 \"]    1      245   \n",
       "\n",
       "                                       document_body  document_id  \\\n",
       "0  <p>A public commission ruled today that Aum Sh...      1173003   \n",
       "1  <p>A public commission ruled today that Aum Sh...      1173003   \n",
       "2  <p>ABC has signed a deal to develop a televisi...       920343   \n",
       "3  <p>ABC has signed a deal to develop a televisi...       920343   \n",
       "4  <p>ABC has signed a deal to develop a televisi...       920343   \n",
       "\n",
       "                              document_title  explanation_gold  \\\n",
       "0  Japan Puts Gas-Attack Sect Under Scrutiny               NaN   \n",
       "1  Japan Puts Gas-Attack Sect Under Scrutiny               NaN   \n",
       "2            ABC Signs Film Deal On the Cult               NaN   \n",
       "3            ABC Signs Film Deal On the Cult               NaN   \n",
       "4            ABC Signs Film Deal On the Cult               NaN   \n",
       "\n",
       "   hiddeninput_gold  highlight_gold  index  rel  relevance_gold  \\\n",
       "0               NaN             NaN      1    1             NaN   \n",
       "1               NaN             NaN      1    1             NaN   \n",
       "2               NaN             NaN      2    1             NaN   \n",
       "3               NaN             NaN      2    1             NaN   \n",
       "4               NaN             NaN      2    1             NaN   \n",
       "\n",
       "   startchars_gold  termnumber_gold  topic  \\\n",
       "0              NaN              NaN    325   \n",
       "1              NaN              NaN    325   \n",
       "2              NaN              NaN    325   \n",
       "3              NaN              NaN    325   \n",
       "4              NaN              NaN    325   \n",
       "\n",
       "                                   topic_description      topic_query  \n",
       "0  Describe a cult by name and identify the cult ...  Cult Lifestyles  \n",
       "1  Describe a cult by name and identify the cult ...  Cult Lifestyles  \n",
       "2  Describe a cult by name and identify the cult ...  Cult Lifestyles  \n",
       "3  Describe a cult by name and identify the cult ...  Cult Lifestyles  \n",
       "4  Describe a cult by name and identify the cult ...  Cult Lifestyles  "
      ]
     },
     "execution_count": 1,
     "metadata": {},
     "output_type": "execute_result"
    }
   ],
   "source": [
    "# Read data\n",
    "\n",
    "import pandas as pd\n",
    "\n",
    "pd.set_option('display.max_columns', None)\n",
    "with_highlight_15workers_3p_filename = \"AnalysisFiles/3P_WithHighlight_Article/3p_withHighlight_article_15workers_unmerged.csv\"\n",
    "with_highlight_15workers_3p_dataset = pd.read_csv(with_highlight_15workers_3p_filename)\n",
    "\n",
    "with_highlight_15workers_3p_dataset.head(5)"
   ]
  },
  {
   "cell_type": "markdown",
   "metadata": {},
   "source": [
    "### Creating a class that inherits from `Configuration` lets us define how the input file will be processed:\n",
    "\n",
    "* `inputColumns`: list of input columns from the .csv file, the input that the workers were shown\n",
    "* `outputColumns`: list of output columns with the answers from the workers\n",
    "* `processJudgments`: function that defines how the worker judgments wil be processed; default separator for judgments is ','\n",
    "\n",
    "To build the annotation vector, we also need to specify whether this is an **open-ended** or **closed** task, using the `open_ended_task` variable.\n",
    "\n",
    "* **open-ended task** means that the annotation space is not known, and workers can freely provide all the choices that apply (e.g. in sound tagging, the workers are provided with a text box to enter all tags they can think of)\n",
    "* **closed task** means that the annotations that can occur in the data are already known, and the workers are asked to validate their existence (e.g. for medical relation extraction, the workers pick from a pre-defined multiple-choice set of relations)\n",
    "\n",
    "If the task we are processing is **closed**, then we also need to provide the list of possible annotations in the `annotation_vector` variable."
   ]
  },
  {
   "cell_type": "code",
   "execution_count": 2,
   "metadata": {
    "collapsed": true
   },
   "outputs": [],
   "source": [
    "import logging\n",
    "logger = logging.getLogger()\n",
    "logger.setLevel(logging.DEBUG)"
   ]
  },
  {
   "cell_type": "code",
   "execution_count": 3,
   "metadata": {
    "collapsed": true
   },
   "outputs": [],
   "source": [
    "import sys\n",
    "sys.path.append('../')\n",
    "\n",
    "from defaultconfig import Configuration\n",
    "\n",
    "class NYTRelevanceAssessmentValidationConfig(Configuration):\n",
    "    inputColumns = [\"index\", \"bin\", \"doc_len\", \"document_id\", \"document_body\", \"document_title\", \"rel\", \n",
    "                    \"topic\", \"topic_description\", \"topic_query\"]\n",
    "    outputColumns = [\"relevance\"]\n",
    "    \n",
    "    annotation_separator = ','\n",
    "    \n",
    "    # processing of a closed task\n",
    "    open_ended_task = False\n",
    "    annotation_vector = [\n",
    "        \"highly_relevant\", \"relevant\", \"not_relevant\"\n",
    "    ]\n",
    "    \n",
    "    def processJudgments(self, judgments):\n",
    "        # change default separator to whitespace to make it work with our file\n",
    "        for col in self.outputColumns:\n",
    "            judgments[col] = judgments[col].apply(lambda x: x.replace(' ',','))\n",
    "        return judgments\n",
    "\n",
    "config = NYTRelevanceAssessmentValidationConfig()"
   ]
  },
  {
   "cell_type": "markdown",
   "metadata": {},
   "source": [
    "### Pre-process the data and create the annotation vectors\n"
   ]
  },
  {
   "cell_type": "code",
   "execution_count": 4,
   "metadata": {
    "collapsed": true
   },
   "outputs": [],
   "source": [
    "from controllers.inputController import processFile\n",
    "pre_processed_results = processFile(\n",
    "    root=\".\", directory=\"\", filename=with_highlight_15workers_3p_filename,\n",
    "    config=config\n",
    ")"
   ]
  },
  {
   "cell_type": "markdown",
   "metadata": {},
   "source": [
    "### Run the metrics"
   ]
  },
  {
   "cell_type": "code",
   "execution_count": 5,
   "metadata": {},
   "outputs": [
    {
     "name": "stderr",
     "output_type": "stream",
     "text": [
      "INFO:root:1 iterations; max d= 0.943474431078 ; wqs d= 0.720600223987; sqs d= 0.553724053724; rqs d= 0.552946754942\n",
      "INFO:root:2 iterations; max d= 0.145235187989 ; wqs d= 0.038719290155; sqs d= 0.0376091274862; rqs d= 0.0568863644243\n",
      "INFO:root:3 iterations; max d= 0.0612129297791 ; wqs d= 0.0144997965016; sqs d= 0.015483702591; rqs d= 0.0140174723945\n",
      "INFO:root:4 iterations; max d= 0.0365011881359 ; wqs d= 0.00775014512074; sqs d= 0.00920337173286; rqs d= 0.0095022570153\n",
      "INFO:root:5 iterations; max d= 0.0207359186847 ; wqs d= 0.00455698703576; sqs d= 0.00492968743293; rqs d= 0.00557008241859\n",
      "INFO:root:6 iterations; max d= 0.011789883281 ; wqs d= 0.00263715145311; sqs d= 0.00283844301868; rqs d= 0.0033714776746\n",
      "INFO:root:7 iterations; max d= 0.00670332965273 ; wqs d= 0.00157610248673; sqs d= 0.00160920514253; rqs d= 0.00199020090474\n",
      "INFO:root:8 iterations; max d= 0.00382129528156 ; wqs d= 0.000927368714057; sqs d= 0.000927378214598; rqs d= 0.00117667272686\n",
      "INFO:root:9 iterations; max d= 0.00218601253472 ; wqs d= 0.000548776156944; sqs d= 0.000533263047743; rqs d= 0.00069073819902\n",
      "INFO:root:10 iterations; max d= 0.00125538618325 ; wqs d= 0.000322840842779; sqs d= 0.000308660554524; rqs d= 0.000405769595827\n",
      "INFO:root:11 iterations; max d= 0.000723148862875 ; wqs d= 0.000190593123276; sqs d= 0.000178889550633; rqs d= 0.000237798822109\n"
     ]
    }
   ],
   "source": [
    "# run the metrics\n",
    "from models import Metrics\n",
    "results_highlight_15workers_unmerged = Metrics.run(pre_processed_results, config)"
   ]
  },
  {
   "cell_type": "code",
   "execution_count": 6,
   "metadata": {},
   "outputs": [
    {
     "data": {
      "text/html": [
       "<div>\n",
       "<table border=\"1\" class=\"dataframe\">\n",
       "  <thead>\n",
       "    <tr style=\"text-align: right;\">\n",
       "      <th></th>\n",
       "      <th>duration</th>\n",
       "      <th>input.bin</th>\n",
       "      <th>input.doc_len</th>\n",
       "      <th>input.document_body</th>\n",
       "      <th>input.document_id</th>\n",
       "      <th>input.document_title</th>\n",
       "      <th>input.index</th>\n",
       "      <th>input.rel</th>\n",
       "      <th>input.topic</th>\n",
       "      <th>input.topic_description</th>\n",
       "      <th>input.topic_query</th>\n",
       "      <th>job</th>\n",
       "      <th>output.relevance</th>\n",
       "      <th>output.relevance.annotations</th>\n",
       "      <th>output.relevance.unique_annotations</th>\n",
       "      <th>worker</th>\n",
       "      <th>uqs</th>\n",
       "      <th>unit_annotation_score</th>\n",
       "      <th>uqs_initial</th>\n",
       "      <th>unit_annotation_score_initial</th>\n",
       "    </tr>\n",
       "    <tr>\n",
       "      <th>unit</th>\n",
       "      <th></th>\n",
       "      <th></th>\n",
       "      <th></th>\n",
       "      <th></th>\n",
       "      <th></th>\n",
       "      <th></th>\n",
       "      <th></th>\n",
       "      <th></th>\n",
       "      <th></th>\n",
       "      <th></th>\n",
       "      <th></th>\n",
       "      <th></th>\n",
       "      <th></th>\n",
       "      <th></th>\n",
       "      <th></th>\n",
       "      <th></th>\n",
       "      <th></th>\n",
       "      <th></th>\n",
       "      <th></th>\n",
       "      <th></th>\n",
       "    </tr>\n",
       "  </thead>\n",
       "  <tbody>\n",
       "    <tr>\n",
       "      <th>1418234456</th>\n",
       "      <td>85.333333</td>\n",
       "      <td>1</td>\n",
       "      <td>196</td>\n",
       "      <td>&lt;p&gt;A public commission ruled today that Aum Sh...</td>\n",
       "      <td>1173003</td>\n",
       "      <td>Japan Puts Gas-Attack Sect Under Scrutiny</td>\n",
       "      <td>1</td>\n",
       "      <td>1</td>\n",
       "      <td>325</td>\n",
       "      <td>Describe a cult by name and identify the cult ...</td>\n",
       "      <td>Cult Lifestyles</td>\n",
       "      <td>AnalysisFiles/3P_WithHighlight_Article/3p_with...</td>\n",
       "      <td>{u'highly_relevant': 2, u'not_relevant': 3, u'...</td>\n",
       "      <td>15</td>\n",
       "      <td>3</td>\n",
       "      <td>15</td>\n",
       "      <td>0.390784</td>\n",
       "      <td>{u'highly_relevant': 0.156831065503, u'not_rel...</td>\n",
       "      <td>0.466667</td>\n",
       "      <td>{u'highly_relevant': 0.133333333333, u'not_rel...</td>\n",
       "    </tr>\n",
       "    <tr>\n",
       "      <th>1418234457</th>\n",
       "      <td>77.333333</td>\n",
       "      <td>1</td>\n",
       "      <td>245</td>\n",
       "      <td>&lt;p&gt;ABC has signed a deal to develop a televisi...</td>\n",
       "      <td>920343</td>\n",
       "      <td>ABC Signs Film Deal On the Cult</td>\n",
       "      <td>2</td>\n",
       "      <td>1</td>\n",
       "      <td>325</td>\n",
       "      <td>Describe a cult by name and identify the cult ...</td>\n",
       "      <td>Cult Lifestyles</td>\n",
       "      <td>AnalysisFiles/3P_WithHighlight_Article/3p_with...</td>\n",
       "      <td>{u'highly_relevant': 5, u'not_relevant': 4, u'...</td>\n",
       "      <td>15</td>\n",
       "      <td>3</td>\n",
       "      <td>15</td>\n",
       "      <td>0.287379</td>\n",
       "      <td>{u'highly_relevant': 0.35054925109, u'not_rele...</td>\n",
       "      <td>0.295238</td>\n",
       "      <td>{u'highly_relevant': 0.333333333333, u'not_rel...</td>\n",
       "    </tr>\n",
       "    <tr>\n",
       "      <th>1418234458</th>\n",
       "      <td>111.400000</td>\n",
       "      <td>1</td>\n",
       "      <td>242</td>\n",
       "      <td>&lt;p&gt;Japan's peace of mind was shattered anew by...</td>\n",
       "      <td>757222</td>\n",
       "      <td>April 16-22; The Scent of Terror</td>\n",
       "      <td>3</td>\n",
       "      <td>1</td>\n",
       "      <td>325</td>\n",
       "      <td>Describe a cult by name and identify the cult ...</td>\n",
       "      <td>Cult Lifestyles</td>\n",
       "      <td>AnalysisFiles/3P_WithHighlight_Article/3p_with...</td>\n",
       "      <td>{u'highly_relevant': 5, u'not_relevant': 4, u'...</td>\n",
       "      <td>15</td>\n",
       "      <td>3</td>\n",
       "      <td>15</td>\n",
       "      <td>0.281863</td>\n",
       "      <td>{u'highly_relevant': 0.282764825049, u'not_rel...</td>\n",
       "      <td>0.295238</td>\n",
       "      <td>{u'highly_relevant': 0.333333333333, u'not_rel...</td>\n",
       "    </tr>\n",
       "    <tr>\n",
       "      <th>1418234459</th>\n",
       "      <td>57.600000</td>\n",
       "      <td>1</td>\n",
       "      <td>237</td>\n",
       "      <td>&lt;p&gt;USA Networks Interactive, creator of the sc...</td>\n",
       "      <td>1209320</td>\n",
       "      <td>SCIFI.com in Venture With Filmmaker</td>\n",
       "      <td>4</td>\n",
       "      <td>0</td>\n",
       "      <td>325</td>\n",
       "      <td>Describe a cult by name and identify the cult ...</td>\n",
       "      <td>Cult Lifestyles</td>\n",
       "      <td>AnalysisFiles/3P_WithHighlight_Article/3p_with...</td>\n",
       "      <td>{u'highly_relevant': 1, u'not_relevant': 11, u...</td>\n",
       "      <td>15</td>\n",
       "      <td>3</td>\n",
       "      <td>15</td>\n",
       "      <td>0.705680</td>\n",
       "      <td>{u'highly_relevant': 0.0772109420249, u'not_re...</td>\n",
       "      <td>0.552381</td>\n",
       "      <td>{u'highly_relevant': 0.0666666666667, u'not_re...</td>\n",
       "    </tr>\n",
       "    <tr>\n",
       "      <th>1418234460</th>\n",
       "      <td>72.533333</td>\n",
       "      <td>1</td>\n",
       "      <td>140</td>\n",
       "      <td>&lt;p&gt;To the Editor:&lt;/p&gt; &lt;p&gt;There is ample eviden...</td>\n",
       "      <td>1667028</td>\n",
       "      <td>Vital at 50: Does Lifestyle Matter?</td>\n",
       "      <td>5</td>\n",
       "      <td>0</td>\n",
       "      <td>325</td>\n",
       "      <td>Describe a cult by name and identify the cult ...</td>\n",
       "      <td>Cult Lifestyles</td>\n",
       "      <td>AnalysisFiles/3P_WithHighlight_Article/3p_with...</td>\n",
       "      <td>{u'highly_relevant': 2, u'not_relevant': 12, u...</td>\n",
       "      <td>15</td>\n",
       "      <td>3</td>\n",
       "      <td>15</td>\n",
       "      <td>0.832079</td>\n",
       "      <td>{u'highly_relevant': 0.0351340363072, u'not_re...</td>\n",
       "      <td>0.638095</td>\n",
       "      <td>{u'highly_relevant': 0.133333333333, u'not_rel...</td>\n",
       "    </tr>\n",
       "  </tbody>\n",
       "</table>\n",
       "</div>"
      ],
      "text/plain": [
       "              duration  input.bin  input.doc_len  \\\n",
       "unit                                               \n",
       "1418234456   85.333333          1            196   \n",
       "1418234457   77.333333          1            245   \n",
       "1418234458  111.400000          1            242   \n",
       "1418234459   57.600000          1            237   \n",
       "1418234460   72.533333          1            140   \n",
       "\n",
       "                                          input.document_body  \\\n",
       "unit                                                            \n",
       "1418234456  <p>A public commission ruled today that Aum Sh...   \n",
       "1418234457  <p>ABC has signed a deal to develop a televisi...   \n",
       "1418234458  <p>Japan's peace of mind was shattered anew by...   \n",
       "1418234459  <p>USA Networks Interactive, creator of the sc...   \n",
       "1418234460  <p>To the Editor:</p> <p>There is ample eviden...   \n",
       "\n",
       "            input.document_id                       input.document_title  \\\n",
       "unit                                                                       \n",
       "1418234456            1173003  Japan Puts Gas-Attack Sect Under Scrutiny   \n",
       "1418234457             920343            ABC Signs Film Deal On the Cult   \n",
       "1418234458             757222           April 16-22; The Scent of Terror   \n",
       "1418234459            1209320        SCIFI.com in Venture With Filmmaker   \n",
       "1418234460            1667028        Vital at 50: Does Lifestyle Matter?   \n",
       "\n",
       "            input.index  input.rel  input.topic  \\\n",
       "unit                                              \n",
       "1418234456            1          1          325   \n",
       "1418234457            2          1          325   \n",
       "1418234458            3          1          325   \n",
       "1418234459            4          0          325   \n",
       "1418234460            5          0          325   \n",
       "\n",
       "                                      input.topic_description  \\\n",
       "unit                                                            \n",
       "1418234456  Describe a cult by name and identify the cult ...   \n",
       "1418234457  Describe a cult by name and identify the cult ...   \n",
       "1418234458  Describe a cult by name and identify the cult ...   \n",
       "1418234459  Describe a cult by name and identify the cult ...   \n",
       "1418234460  Describe a cult by name and identify the cult ...   \n",
       "\n",
       "           input.topic_query  \\\n",
       "unit                           \n",
       "1418234456   Cult Lifestyles   \n",
       "1418234457   Cult Lifestyles   \n",
       "1418234458   Cult Lifestyles   \n",
       "1418234459   Cult Lifestyles   \n",
       "1418234460   Cult Lifestyles   \n",
       "\n",
       "                                                          job  \\\n",
       "unit                                                            \n",
       "1418234456  AnalysisFiles/3P_WithHighlight_Article/3p_with...   \n",
       "1418234457  AnalysisFiles/3P_WithHighlight_Article/3p_with...   \n",
       "1418234458  AnalysisFiles/3P_WithHighlight_Article/3p_with...   \n",
       "1418234459  AnalysisFiles/3P_WithHighlight_Article/3p_with...   \n",
       "1418234460  AnalysisFiles/3P_WithHighlight_Article/3p_with...   \n",
       "\n",
       "                                             output.relevance  \\\n",
       "unit                                                            \n",
       "1418234456  {u'highly_relevant': 2, u'not_relevant': 3, u'...   \n",
       "1418234457  {u'highly_relevant': 5, u'not_relevant': 4, u'...   \n",
       "1418234458  {u'highly_relevant': 5, u'not_relevant': 4, u'...   \n",
       "1418234459  {u'highly_relevant': 1, u'not_relevant': 11, u...   \n",
       "1418234460  {u'highly_relevant': 2, u'not_relevant': 12, u...   \n",
       "\n",
       "            output.relevance.annotations  output.relevance.unique_annotations  \\\n",
       "unit                                                                            \n",
       "1418234456                            15                                    3   \n",
       "1418234457                            15                                    3   \n",
       "1418234458                            15                                    3   \n",
       "1418234459                            15                                    3   \n",
       "1418234460                            15                                    3   \n",
       "\n",
       "            worker       uqs  \\\n",
       "unit                           \n",
       "1418234456      15  0.390784   \n",
       "1418234457      15  0.287379   \n",
       "1418234458      15  0.281863   \n",
       "1418234459      15  0.705680   \n",
       "1418234460      15  0.832079   \n",
       "\n",
       "                                        unit_annotation_score  uqs_initial  \\\n",
       "unit                                                                         \n",
       "1418234456  {u'highly_relevant': 0.156831065503, u'not_rel...     0.466667   \n",
       "1418234457  {u'highly_relevant': 0.35054925109, u'not_rele...     0.295238   \n",
       "1418234458  {u'highly_relevant': 0.282764825049, u'not_rel...     0.295238   \n",
       "1418234459  {u'highly_relevant': 0.0772109420249, u'not_re...     0.552381   \n",
       "1418234460  {u'highly_relevant': 0.0351340363072, u'not_re...     0.638095   \n",
       "\n",
       "                                unit_annotation_score_initial  \n",
       "unit                                                           \n",
       "1418234456  {u'highly_relevant': 0.133333333333, u'not_rel...  \n",
       "1418234457  {u'highly_relevant': 0.333333333333, u'not_rel...  \n",
       "1418234458  {u'highly_relevant': 0.333333333333, u'not_rel...  \n",
       "1418234459  {u'highly_relevant': 0.0666666666667, u'not_re...  \n",
       "1418234460  {u'highly_relevant': 0.133333333333, u'not_rel...  "
      ]
     },
     "execution_count": 6,
     "metadata": {},
     "output_type": "execute_result"
    }
   ],
   "source": [
    "results_highlight_15workers_unmerged[\"units\"].head(5)"
   ]
  },
  {
   "cell_type": "markdown",
   "metadata": {},
   "source": [
    "### Plot the unit quality score (UQS) at the beginning of the process and at the end"
   ]
  },
  {
   "cell_type": "code",
   "execution_count": 7,
   "metadata": {},
   "outputs": [
    {
     "data": {
      "text/plain": [
       "Text(0,0.5,u'# Units')"
      ]
     },
     "execution_count": 7,
     "metadata": {},
     "output_type": "execute_result"
    },
    {
     "data": {
      "image/png": "[encoded data removed]",
      "text/plain": [
       "<matplotlib.figure.Figure at 0x615cd9610>"
      ]
     },
     "metadata": {},
     "output_type": "display_data"
    }
   ],
   "source": [
    "import matplotlib.pyplot as plt\n",
    "%matplotlib inline\n",
    "\n",
    "plt.rcParams['figure.figsize'] = 15, 5\n",
    "\n",
    "plt.subplot(1, 2, 1)\n",
    "plt.hist(results_highlight_15workers_unmerged[\"units\"][\"uqs\"])\n",
    "plt.ylim(0, 30)\n",
    "plt.xlabel(\"UQS\")\n",
    "plt.ylabel(\"# Units\")\n",
    "\n",
    "plt.subplot(1, 2, 2)\n",
    "plt.hist(results_highlight_15workers_unmerged[\"units\"][\"uqs_initial\"])\n",
    "plt.ylim(0, 30)\n",
    "plt.xlabel(\"UQS Initial\")\n",
    "plt.ylabel(\"# Units\")"
   ]
  },
  {
   "cell_type": "markdown",
   "metadata": {},
   "source": [
    "### Plot the change in the unit quality score (UQS) (beginning of the process - end of the process)"
   ]
  },
  {
   "cell_type": "code",
   "execution_count": 8,
   "metadata": {},
   "outputs": [
    {
     "data": {
      "text/plain": [
       "Text(0,0.5,u'Change in clarity')"
      ]
     },
     "execution_count": 8,
     "metadata": {},
     "output_type": "execute_result"
    },
    {
     "data": {
      "image/png": "[encoded data removed]",
      "text/plain": [
       "<matplotlib.figure.Figure at 0x114147490>"
      ]
     },
     "metadata": {},
     "output_type": "display_data"
    }
   ],
   "source": [
    "import numpy as np\n",
    "\n",
    "difference = results_highlight_15workers_unmerged[\"units\"][\"uqs_initial\"] - results_highlight_15workers_unmerged[\"units\"][\"uqs\"]\n",
    "difference = np.sort(difference)\n",
    "plt.plot(np.arange(results_highlight_15workers_unmerged[\"units\"].shape[0]), difference, 'ro')\n",
    "plt.axhline(y=0)\n",
    "plt.xlabel(\"Unit Index\")\n",
    "plt.ylabel(\"Change in clarity\")"
   ]
  },
  {
   "cell_type": "code",
   "execution_count": 9,
   "metadata": {},
   "outputs": [
    {
     "name": "stderr",
     "output_type": "stream",
     "text": [
      "/Users/oanainel/anaconda/envs/CrowdTruth2/lib/python2.7/site-packages/ipykernel_launcher.py:1: FutureWarning: sort(columns=....) is deprecated, use sort_values(by=.....)\n",
      "  \"\"\"Entry point for launching an IPython kernel.\n"
     ]
    }
   ],
   "source": [
    "sortUQS = results_highlight_15workers_unmerged[\"units\"].sort(['uqs'], ascending=[1])"
   ]
  },
  {
   "cell_type": "code",
   "execution_count": 10,
   "metadata": {},
   "outputs": [
    {
     "data": {
      "text/plain": [
       "Text(0.5,0,u'Sentence Index')"
      ]
     },
     "execution_count": 10,
     "metadata": {},
     "output_type": "execute_result"
    },
    {
     "data": {
      "image/png": "[encoded data removed]",
      "text/plain": [
       "<matplotlib.figure.Figure at 0x61f270c50>"
      ]
     },
     "metadata": {},
     "output_type": "display_data"
    }
   ],
   "source": [
    "import numpy as np\n",
    "\n",
    "plt.rcParams['figure.figsize'] = 15, 5\n",
    "\n",
    "plt.plot(np.arange(sortUQS.shape[0]), sortUQS[\"uqs_initial\"], 'ro', lw = 1, label = \"Initial UQS\")\n",
    "plt.plot(np.arange(sortUQS.shape[0]), sortUQS[\"uqs\"], 'go', lw = 1, label = \"Final UQS\")\n",
    "\n",
    "plt.ylabel('Unit Quality Score')\n",
    "plt.xlabel('Sentence Index')"
   ]
  },
  {
   "cell_type": "markdown",
   "metadata": {},
   "source": [
    "### Plot the worker quality score (WQS) at the beginning of the process and at the end"
   ]
  },
  {
   "cell_type": "markdown",
   "metadata": {},
   "source": [
    "#### Print the results for the workers in our dataset"
   ]
  },
  {
   "cell_type": "code",
   "execution_count": 11,
   "metadata": {},
   "outputs": [
    {
     "data": {
      "text/html": [
       "<div>\n",
       "<table border=\"1\" class=\"dataframe\">\n",
       "  <thead>\n",
       "    <tr style=\"text-align: right;\">\n",
       "      <th></th>\n",
       "      <th>duration</th>\n",
       "      <th>output.relevance.count</th>\n",
       "      <th>job</th>\n",
       "      <th>judgment</th>\n",
       "      <th>unit</th>\n",
       "      <th>wqs</th>\n",
       "      <th>wqs_initial</th>\n",
       "    </tr>\n",
       "    <tr>\n",
       "      <th>worker</th>\n",
       "      <th></th>\n",
       "      <th></th>\n",
       "      <th></th>\n",
       "      <th></th>\n",
       "      <th></th>\n",
       "      <th></th>\n",
       "      <th></th>\n",
       "    </tr>\n",
       "  </thead>\n",
       "  <tbody>\n",
       "    <tr>\n",
       "      <th>1863467</th>\n",
       "      <td>90.250000</td>\n",
       "      <td>1</td>\n",
       "      <td>1</td>\n",
       "      <td>4</td>\n",
       "      <td>4</td>\n",
       "      <td>0.415535</td>\n",
       "      <td>0.306809</td>\n",
       "    </tr>\n",
       "    <tr>\n",
       "      <th>1883056</th>\n",
       "      <td>91.346154</td>\n",
       "      <td>1</td>\n",
       "      <td>1</td>\n",
       "      <td>26</td>\n",
       "      <td>26</td>\n",
       "      <td>0.472923</td>\n",
       "      <td>0.350321</td>\n",
       "    </tr>\n",
       "    <tr>\n",
       "      <th>1924522</th>\n",
       "      <td>40.959184</td>\n",
       "      <td>1</td>\n",
       "      <td>1</td>\n",
       "      <td>98</td>\n",
       "      <td>98</td>\n",
       "      <td>0.489104</td>\n",
       "      <td>0.368299</td>\n",
       "    </tr>\n",
       "    <tr>\n",
       "      <th>6338946</th>\n",
       "      <td>162.000000</td>\n",
       "      <td>1</td>\n",
       "      <td>1</td>\n",
       "      <td>4</td>\n",
       "      <td>4</td>\n",
       "      <td>0.263122</td>\n",
       "      <td>0.157070</td>\n",
       "    </tr>\n",
       "    <tr>\n",
       "      <th>6344072</th>\n",
       "      <td>69.250000</td>\n",
       "      <td>1</td>\n",
       "      <td>1</td>\n",
       "      <td>4</td>\n",
       "      <td>4</td>\n",
       "      <td>0.288433</td>\n",
       "      <td>0.250715</td>\n",
       "    </tr>\n",
       "    <tr>\n",
       "      <th>6377879</th>\n",
       "      <td>75.000000</td>\n",
       "      <td>1</td>\n",
       "      <td>1</td>\n",
       "      <td>3</td>\n",
       "      <td>3</td>\n",
       "      <td>0.750133</td>\n",
       "      <td>0.541990</td>\n",
       "    </tr>\n",
       "    <tr>\n",
       "      <th>7503790</th>\n",
       "      <td>152.500000</td>\n",
       "      <td>1</td>\n",
       "      <td>1</td>\n",
       "      <td>2</td>\n",
       "      <td>2</td>\n",
       "      <td>0.324341</td>\n",
       "      <td>0.304850</td>\n",
       "    </tr>\n",
       "    <tr>\n",
       "      <th>11026968</th>\n",
       "      <td>72.600000</td>\n",
       "      <td>1</td>\n",
       "      <td>1</td>\n",
       "      <td>10</td>\n",
       "      <td>10</td>\n",
       "      <td>0.155401</td>\n",
       "      <td>0.128770</td>\n",
       "    </tr>\n",
       "    <tr>\n",
       "      <th>11257883</th>\n",
       "      <td>547.400000</td>\n",
       "      <td>1</td>\n",
       "      <td>1</td>\n",
       "      <td>5</td>\n",
       "      <td>5</td>\n",
       "      <td>0.277170</td>\n",
       "      <td>0.227621</td>\n",
       "    </tr>\n",
       "    <tr>\n",
       "      <th>12115558</th>\n",
       "      <td>81.766667</td>\n",
       "      <td>1</td>\n",
       "      <td>1</td>\n",
       "      <td>30</td>\n",
       "      <td>30</td>\n",
       "      <td>0.415225</td>\n",
       "      <td>0.325616</td>\n",
       "    </tr>\n",
       "  </tbody>\n",
       "</table>\n",
       "</div>"
      ],
      "text/plain": [
       "            duration  output.relevance.count  job  judgment  unit       wqs  \\\n",
       "worker                                                                        \n",
       "1863467    90.250000                       1    1         4     4  0.415535   \n",
       "1883056    91.346154                       1    1        26    26  0.472923   \n",
       "1924522    40.959184                       1    1        98    98  0.489104   \n",
       "6338946   162.000000                       1    1         4     4  0.263122   \n",
       "6344072    69.250000                       1    1         4     4  0.288433   \n",
       "6377879    75.000000                       1    1         3     3  0.750133   \n",
       "7503790   152.500000                       1    1         2     2  0.324341   \n",
       "11026968   72.600000                       1    1        10    10  0.155401   \n",
       "11257883  547.400000                       1    1         5     5  0.277170   \n",
       "12115558   81.766667                       1    1        30    30  0.415225   \n",
       "\n",
       "          wqs_initial  \n",
       "worker                 \n",
       "1863467      0.306809  \n",
       "1883056      0.350321  \n",
       "1924522      0.368299  \n",
       "6338946      0.157070  \n",
       "6344072      0.250715  \n",
       "6377879      0.541990  \n",
       "7503790      0.304850  \n",
       "11026968     0.128770  \n",
       "11257883     0.227621  \n",
       "12115558     0.325616  "
      ]
     },
     "execution_count": 11,
     "metadata": {},
     "output_type": "execute_result"
    }
   ],
   "source": [
    "results_highlight_15workers_unmerged[\"workers\"].head(10)"
   ]
  },
  {
   "cell_type": "code",
   "execution_count": 12,
   "metadata": {},
   "outputs": [
    {
     "data": {
      "text/plain": [
       "Text(0,0.5,u'# Workers')"
      ]
     },
     "execution_count": 12,
     "metadata": {},
     "output_type": "execute_result"
    },
    {
     "data": {
      "image/png": "[encoded data removed]",
      "text/plain": [
       "<matplotlib.figure.Figure at 0x61bea3490>"
      ]
     },
     "metadata": {},
     "output_type": "display_data"
    }
   ],
   "source": [
    "plt.rcParams['figure.figsize'] = 15, 5\n",
    "\n",
    "plt.subplot(1, 2, 1)\n",
    "plt.hist(results_highlight_15workers_unmerged[\"workers\"][\"wqs\"])\n",
    "plt.ylim(0, 20)\n",
    "plt.xlabel(\"WQS\")\n",
    "plt.ylabel(\"# Workers\")\n",
    "\n",
    "plt.subplot(1, 2, 2)\n",
    "plt.hist(results_highlight_15workers_unmerged[\"workers\"][\"wqs_initial\"])\n",
    "plt.ylim(0, 20)\n",
    "plt.xlabel(\"WQS Initial\")\n",
    "plt.ylabel(\"# Workers\")"
   ]
  },
  {
   "cell_type": "markdown",
   "metadata": {},
   "source": [
    "### Plot the change in worker qualtity score at the beginning of the process and at the end"
   ]
  },
  {
   "cell_type": "code",
   "execution_count": 13,
   "metadata": {},
   "outputs": [
    {
     "name": "stderr",
     "output_type": "stream",
     "text": [
      "/Users/oanainel/anaconda/envs/CrowdTruth2/lib/python2.7/site-packages/ipykernel_launcher.py:1: FutureWarning: sort(columns=....) is deprecated, use sort_values(by=.....)\n",
      "  \"\"\"Entry point for launching an IPython kernel.\n"
     ]
    }
   ],
   "source": [
    "sortWQS = results_highlight_15workers_unmerged[\"workers\"].sort(['wqs'], ascending=[1])"
   ]
  },
  {
   "cell_type": "code",
   "execution_count": 14,
   "metadata": {
    "scrolled": true
   },
   "outputs": [
    {
     "data": {
      "text/plain": [
       "Text(0.5,0,u'Worker Index')"
      ]
     },
     "execution_count": 14,
     "metadata": {},
     "output_type": "execute_result"
    },
    {
     "data": {
      "image/png": "[encoded data removed]",
      "text/plain": [
       "<matplotlib.figure.Figure at 0x61f521a90>"
      ]
     },
     "metadata": {},
     "output_type": "display_data"
    }
   ],
   "source": [
    "plt.rcParams['figure.figsize'] = 15, 5\n",
    "\n",
    "plt.plot(np.arange(sortWQS.shape[0]), sortWQS[\"wqs_initial\"], 'ro', lw = 1, label = \"Initial UQS\")\n",
    "plt.plot(np.arange(sortWQS.shape[0]), sortWQS[\"wqs\"], 'go', lw = 1, label = \"Final UQS\")\n",
    "\n",
    "plt.ylabel('Worker Quality Score')\n",
    "plt.xlabel('Worker Index')\n",
    "#plt.legend(loc=9, bbox_to_anchor=(0.5, 1.2), ncol=3, prop={'size':12})"
   ]
  },
  {
   "cell_type": "markdown",
   "metadata": {},
   "source": [
    "### Show the annotation quality score (UQS) at the beginning of the process and at the end\n"
   ]
  },
  {
   "cell_type": "code",
   "execution_count": 15,
   "metadata": {},
   "outputs": [
    {
     "data": {
      "text/html": [
       "<div>\n",
       "<table border=\"1\" class=\"dataframe\">\n",
       "  <thead>\n",
       "    <tr style=\"text-align: right;\">\n",
       "      <th></th>\n",
       "      <th>output.relevance</th>\n",
       "      <th>aqs</th>\n",
       "      <th>aqs_initial</th>\n",
       "    </tr>\n",
       "  </thead>\n",
       "  <tbody>\n",
       "    <tr>\n",
       "      <th>relevant</th>\n",
       "      <td>1797</td>\n",
       "      <td>0.432665</td>\n",
       "      <td>0.430011</td>\n",
       "    </tr>\n",
       "    <tr>\n",
       "      <th>not_relevant</th>\n",
       "      <td>1797</td>\n",
       "      <td>0.688540</td>\n",
       "      <td>0.514807</td>\n",
       "    </tr>\n",
       "    <tr>\n",
       "      <th>highly_relevant</th>\n",
       "      <td>1797</td>\n",
       "      <td>0.456516</td>\n",
       "      <td>0.396341</td>\n",
       "    </tr>\n",
       "  </tbody>\n",
       "</table>\n",
       "</div>"
      ],
      "text/plain": [
       "                 output.relevance       aqs  aqs_initial\n",
       "relevant                     1797  0.432665     0.430011\n",
       "not_relevant                 1797  0.688540     0.514807\n",
       "highly_relevant              1797  0.456516     0.396341"
      ]
     },
     "execution_count": 15,
     "metadata": {},
     "output_type": "execute_result"
    }
   ],
   "source": [
    "results_highlight_15workers_unmerged[\"annotations\"]"
   ]
  },
  {
   "cell_type": "markdown",
   "metadata": {},
   "source": [
    "# Comparison with revised ground truth"
   ]
  },
  {
   "cell_type": "code",
   "execution_count": 16,
   "metadata": {},
   "outputs": [
    {
     "name": "stderr",
     "output_type": "stream",
     "text": [
      "/Users/oanainel/anaconda/envs/CrowdTruth2/lib/python2.7/site-packages/pandas/core/indexing.py:141: SettingWithCopyWarning: \n",
      "A value is trying to be set on a copy of a slice from a DataFrame\n",
      "\n",
      "See the caveats in the documentation: http://pandas.pydata.org/pandas-docs/stable/indexing.html#indexing-view-versus-copy\n",
      "  self._setitem_with_indexer(indexer, value)\n"
     ]
    }
   ],
   "source": [
    "gt = pd.read_csv(\"ground_truth_annotation.csv\")\n",
    "\n",
    "results_highlight_15workers_unmerged[\"units\"][\"reviewers_rel\"] = pd.Series(np.random.randn(len(results_highlight_15workers_unmerged[\"units\"].index)), index=results_highlight_15workers_unmerged[\"units\"].index)\n",
    "results_highlight_15workers_unmerged[\"units\"][\"reviewers_rel_merged\"] = pd.Series(np.random.randn(len(results_highlight_15workers_unmerged[\"units\"].index)), index=results_highlight_15workers_unmerged[\"units\"].index)\n",
    "results_highlight_15workers_unmerged[\"units\"][\"rel_merged\"] = pd.Series(np.random.randn(len(results_highlight_15workers_unmerged[\"units\"].index)), index=results_highlight_15workers_unmerged[\"units\"].index)\n",
    "\n",
    "for i in range(0, len(results_highlight_15workers_unmerged[\"units\"].index)):\n",
    "    for j in range(0, len(gt.index)):\n",
    "        if (results_highlight_15workers_unmerged[\"units\"][\"input.topic\"].iloc[i] == gt[\"topic\"].iloc[j]) and (results_highlight_15workers_unmerged[\"units\"][\"input.document_id\"].iloc[i] == gt[\"document_id\"].iloc[j]):\n",
    "            results_highlight_15workers_unmerged[\"units\"][\"reviewers_rel\"].iloc[i] = gt[\"reviewers_rel\"].iloc[j]\n",
    "            results_highlight_15workers_unmerged[\"units\"][\"reviewers_rel_merged\"].iloc[i] = gt[\"reviewers_rel_merged\"].iloc[j]\n",
    "            results_highlight_15workers_unmerged[\"units\"][\"rel_merged\"].iloc[i] = gt[\"nist_rel_merged\"].iloc[j]"
   ]
  },
  {
   "cell_type": "code",
   "execution_count": 17,
   "metadata": {},
   "outputs": [
    {
     "data": {
      "text/plain": [
       "<module 'help_functions' from 'help_functions.pyc'>"
      ]
     },
     "execution_count": 17,
     "metadata": {},
     "output_type": "execute_result"
    }
   ],
   "source": [
    "import help_functions as func\n",
    "reload(func)"
   ]
  },
  {
   "cell_type": "code",
   "execution_count": 18,
   "metadata": {
    "collapsed": true
   },
   "outputs": [],
   "source": [
    "highlight_expertsF1_notrelevant_newGT = func.compute_F1_score_experts(results_highlight_15workers_unmerged[\"units\"],0)\n",
    "highlight_expertsF1_relevant_newGT = func.compute_F1_score_experts(results_highlight_15workers_unmerged[\"units\"],1)\n",
    "highlight_expertsF1_highlyrelevant_newGT = func.compute_F1_score_experts(results_highlight_15workers_unmerged[\"units\"],2)"
   ]
  },
  {
   "cell_type": "code",
   "execution_count": 19,
   "metadata": {},
   "outputs": [
    {
     "name": "stdout",
     "output_type": "stream",
     "text": [
      "0.796610169492\n",
      "0.457142857143\n",
      "0.576923076923\n"
     ]
    }
   ],
   "source": [
    "print(highlight_expertsF1_notrelevant_newGT)\n",
    "print(highlight_expertsF1_relevant_newGT)\n",
    "print(highlight_expertsF1_highlyrelevant_newGT)"
   ]
  },
  {
   "cell_type": "code",
   "execution_count": 20,
   "metadata": {
    "collapsed": true
   },
   "outputs": [],
   "source": [
    "highlight_15workers_F1_notrelevant_newGT = func.compute_F1_score(results_highlight_15workers_unmerged[\"units\"],0,\"not_relevant\",'reviewers_rel')\n",
    "highlight_15workers_F1_relevant_newGT = func.compute_F1_score(results_highlight_15workers_unmerged[\"units\"],1,\"relevant\",'reviewers_rel')\n",
    "highlight_15workers_F1_highlyrelevant_newGT = func.compute_F1_score(results_highlight_15workers_unmerged[\"units\"],2,\"highly_relevant\",'reviewers_rel')"
   ]
  },
  {
   "cell_type": "code",
   "execution_count": 21,
   "metadata": {},
   "outputs": [
    {
     "data": {
      "text/plain": [
       "array([[ 0.1       ,  0.76811594],\n",
       "       [ 0.2       ,  0.80916031],\n",
       "       [ 0.3       ,  0.85950413],\n",
       "       [ 0.4       ,  0.92727273],\n",
       "       [ 0.5       ,  0.86868687],\n",
       "       [ 0.6       ,  0.79120879],\n",
       "       [ 0.7       ,  0.73809524],\n",
       "       [ 0.8       ,  0.54794521],\n",
       "       [ 0.9       ,  0.34375   ],\n",
       "       [ 1.        ,  0.        ]])"
      ]
     },
     "execution_count": 21,
     "metadata": {},
     "output_type": "execute_result"
    }
   ],
   "source": [
    "highlight_15workers_F1_notrelevant_newGT"
   ]
  },
  {
   "cell_type": "code",
   "execution_count": 22,
   "metadata": {},
   "outputs": [
    {
     "data": {
      "text/plain": [
       "array([[ 0.1       ,  0.55172414],\n",
       "       [ 0.2       ,  0.60606061],\n",
       "       [ 0.3       ,  0.63865546],\n",
       "       [ 0.4       ,  0.64516129],\n",
       "       [ 0.5       ,  0.50793651],\n",
       "       [ 0.6       ,  0.24      ],\n",
       "       [ 0.7       ,  0.2173913 ],\n",
       "       [ 0.8       ,  0.        ],\n",
       "       [ 0.9       ,  0.        ],\n",
       "       [ 1.        ,  0.        ]])"
      ]
     },
     "execution_count": 22,
     "metadata": {},
     "output_type": "execute_result"
    }
   ],
   "source": [
    "highlight_15workers_F1_relevant_newGT"
   ]
  },
  {
   "cell_type": "code",
   "execution_count": 23,
   "metadata": {},
   "outputs": [
    {
     "data": {
      "text/plain": [
       "array([[ 0.1       ,  0.55102041],\n",
       "       [ 0.2       ,  0.6097561 ],\n",
       "       [ 0.3       ,  0.6969697 ],\n",
       "       [ 0.4       ,  0.69090909],\n",
       "       [ 0.5       ,  0.65306122],\n",
       "       [ 0.6       ,  0.52631579],\n",
       "       [ 0.7       ,  0.2       ],\n",
       "       [ 0.8       ,  0.07142857],\n",
       "       [ 0.9       ,  0.        ],\n",
       "       [ 1.        ,  0.        ]])"
      ]
     },
     "execution_count": 23,
     "metadata": {},
     "output_type": "execute_result"
    }
   ],
   "source": [
    "highlight_15workers_F1_highlyrelevant_newGT"
   ]
  },
  {
   "cell_type": "code",
   "execution_count": 24,
   "metadata": {},
   "outputs": [
    {
     "data": {
      "image/png": "[encoded data removed]",
      "text/plain": [
       "<matplotlib.figure.Figure at 0x61f2c98d0>"
      ]
     },
     "metadata": {},
     "output_type": "display_data"
    }
   ],
   "source": [
    "plt.rcParams['figure.figsize'] = 6, 4\n",
    "plt.plot(highlight_15workers_F1_notrelevant_newGT[:,0], highlight_15workers_F1_notrelevant_newGT[:,1], 'bo-', color = 'red', lw = 2, label = \"F1 Crowd - Not Relevant\")\n",
    "plt.plot(highlight_15workers_F1_relevant_newGT[:,0], highlight_15workers_F1_relevant_newGT[:,1], 'bo-', color = 'darkgreen', lw = 2, label = \"F1 Crowd - Relevant\")\n",
    "plt.plot(highlight_15workers_F1_highlyrelevant_newGT[:,0], highlight_15workers_F1_highlyrelevant_newGT[:,1], 'bo-', color = 'darkblue', lw = 2, label = \"F1 Crowd - Highly Relevant\")\n",
    "\n",
    "plt.axhline(y = highlight_expertsF1_notrelevant_newGT, ls = '--', color = 'pink', lw = 2, label = \"F1 NIST - Not Relevant\")\n",
    "plt.axhline(y = highlight_expertsF1_relevant_newGT, ls = '--', color = 'lightgreen', lw = 2, label = \"F1 NIST - Relevant\")\n",
    "plt.axhline(y = highlight_expertsF1_highlyrelevant_newGT, ls = '--', color = 'lightblue', lw = 2, label = \"F1 NIST - Highly Relevant\")\n",
    "plt.xlim(0.1,1.0)\n",
    "plt.xlabel(\"TDP-RelVal score neg/pos threshold\", fontsize=18)\n",
    "plt.ylabel(\"F1-score\", fontsize=20)\n",
    "plt.yticks(fontsize=20)\n",
    "plt.ylim(0.0,1.0)\n",
    "plt.xticks(fontsize=18)\n",
    "plt.yticks(fontsize=18)\n",
    "leg = plt.legend()\n",
    "leg.get_frame().set_alpha(0.8)\n",
    "plt.grid(ls=':')\n",
    "#plt.title(\"Without Highlight, Relations Not Merged, 3-point scale\")\n",
    "plt.savefig(\"Plots/3p_withHighlight_F1_eval_reviewers.pdf\", bbox_inches='tight', dpi=1000)"
   ]
  },
  {
   "cell_type": "code",
   "execution_count": 25,
   "metadata": {
    "collapsed": true
   },
   "outputs": [],
   "source": [
    "results_highlight_15workers_unmerged[\"units\"].to_csv(\"ResultFiles/3P_WithHighlight_Article/units_withHighlight_15workers_3p_unmerged.csv\", index=False) "
   ]
  },
  {
   "cell_type": "markdown",
   "metadata": {},
   "source": [
    "## Check the performance when merging the Relevant and Highly Relevant relations"
   ]
  },
  {
   "cell_type": "code",
   "execution_count": 26,
   "metadata": {
    "collapsed": true
   },
   "outputs": [],
   "source": [
    "import sys\n",
    "sys.path.append('../')\n",
    "\n",
    "from defaultconfig import Configuration\n",
    "\n",
    "class NYTRelevanceAssessmentValidationConfig(Configuration):\n",
    "    inputColumns = [\"index\", \"bin\", \"doc_len\", \"document_id\", \"document_body\", \"document_title\", \"rel\", \n",
    "                    \"topic\", \"topic_description\", \"topic_query\"]\n",
    "    outputColumns = [\"relevance\"]\n",
    "    \n",
    "    annotation_separator = ','\n",
    "    \n",
    "    # processing of a closed task\n",
    "    open_ended_task = False\n",
    "    annotation_vector = [\n",
    "        \"relevant\", \"not_relevant\"\n",
    "    ]\n",
    "    \n",
    "    def processJudgments(self, judgments):\n",
    "        # change default separator to whitespace to make it work with our file\n",
    "        for col in self.outputColumns:\n",
    "            judgments[col] = judgments[col].apply(lambda x: x.replace(' ',','))\n",
    "        return judgments\n",
    "\n",
    "config = NYTRelevanceAssessmentValidationConfig()"
   ]
  },
  {
   "cell_type": "code",
   "execution_count": 27,
   "metadata": {},
   "outputs": [
    {
     "name": "stderr",
     "output_type": "stream",
     "text": [
      "INFO:root:1 iterations; max d= 0.778752378015 ; wqs d= 0.391167480497; sqs d= 0.328107448107; rqs d= 0.341516784132\n",
      "INFO:root:2 iterations; max d= 0.14329278433 ; wqs d= 0.0572871478193; sqs d= 0.0152244480992; rqs d= 0.0422515605339\n",
      "INFO:root:3 iterations; max d= 0.0143744847289 ; wqs d= 0.00280680890564; sqs d= 0.00387254377352; rqs d= 0.00237536705094\n",
      "INFO:root:4 iterations; max d= 0.00394406922499 ; wqs d= 0.000997041738884; sqs d= 0.000362752457861; rqs d= 0.000878010661961\n",
      "INFO:root:5 iterations; max d= 0.00132922141326 ; wqs d= 0.000251026238681; sqs d= 0.000385196517611; rqs d= 0.000266805808603\n",
      "INFO:root:6 iterations; max d= 0.000439272842502 ; wqs d= 0.00010790910529; sqs d= 6.89135631307e-05; rqs d= 0.00012175467\n"
     ]
    }
   ],
   "source": [
    "highlight_15workers_filename_merged = \"AnalysisFiles/3P_WithHighlight_Article/3p_withHighlight_article_15workers_merged.csv\"\n",
    "\n",
    "from controllers.inputController import processFile\n",
    "pre_processed_results = processFile(\n",
    "    root=\".\", directory=\"\", filename=highlight_15workers_filename_merged,\n",
    "    config=config\n",
    ")\n",
    "# run the metrics\n",
    "from models import Metrics\n",
    "results_highlight_15workers_merged = Metrics.run(pre_processed_results, config)\n",
    "\n",
    "gt = pd.read_csv(\"ground_truth_annotation.csv\")\n",
    "\n",
    "results_highlight_15workers_merged[\"units\"][\"reviewers_rel\"] = pd.Series(np.random.randn(len(results_highlight_15workers_merged[\"units\"].index)), index=results_highlight_15workers_merged[\"units\"].index)\n",
    "results_highlight_15workers_merged[\"units\"][\"reviewers_rel_merged\"] = pd.Series(np.random.randn(len(results_highlight_15workers_merged[\"units\"].index)), index=results_highlight_15workers_merged[\"units\"].index)\n",
    "results_highlight_15workers_merged[\"units\"][\"rel_merged\"] = pd.Series(np.random.randn(len(results_highlight_15workers_merged[\"units\"].index)), index=results_highlight_15workers_merged[\"units\"].index)\n",
    "\n",
    "for i in range(0, len(results_highlight_15workers_merged[\"units\"].index)):\n",
    "    for j in range(0, len(gt.index)):\n",
    "        if (results_highlight_15workers_merged[\"units\"][\"input.topic\"].iloc[i] == gt[\"topic\"].iloc[j]) and (results_highlight_15workers_merged[\"units\"][\"input.document_id\"].iloc[i] == gt[\"document_id\"].iloc[j]):\n",
    "            results_highlight_15workers_merged[\"units\"][\"reviewers_rel\"].iloc[i] = gt[\"reviewers_rel\"].iloc[j]\n",
    "            results_highlight_15workers_merged[\"units\"][\"reviewers_rel_merged\"].iloc[i] = gt[\"reviewers_rel_merged\"].iloc[j]\n",
    "            results_highlight_15workers_merged[\"units\"][\"rel_merged\"].iloc[i] = gt[\"nist_rel_merged\"].iloc[j]\n"
   ]
  },
  {
   "cell_type": "code",
   "execution_count": 28,
   "metadata": {
    "collapsed": true
   },
   "outputs": [],
   "source": [
    "reload(func)\n",
    "\n",
    "highlight_expertsF1_notrelevant_merged_newGT = func.compute_F1_score_experts_merged(results_highlight_15workers_merged[\"units\"],0)\n",
    "highlight_expertsF1_relevant_merged_newGT = func.compute_F1_score_experts_merged(results_highlight_15workers_merged[\"units\"],1)"
   ]
  },
  {
   "cell_type": "code",
   "execution_count": 29,
   "metadata": {},
   "outputs": [
    {
     "name": "stdout",
     "output_type": "stream",
     "text": [
      "0.796610169492\n",
      "0.803278688525\n"
     ]
    }
   ],
   "source": [
    "print(highlight_expertsF1_notrelevant_merged_newGT)\n",
    "print(highlight_expertsF1_relevant_merged_newGT)"
   ]
  },
  {
   "cell_type": "code",
   "execution_count": 30,
   "metadata": {
    "collapsed": true
   },
   "outputs": [],
   "source": [
    "reload(func)\n",
    "\n",
    "highlight_15workers_F1_notrelevant_merged = func.compute_F1_score_not_relevant(results_highlight_15workers_merged[\"units\"])\n",
    "highlight_15workers_F1_relevant_merged = func.compute_F1_score_relevant(results_highlight_15workers_merged[\"units\"])"
   ]
  },
  {
   "cell_type": "code",
   "execution_count": 31,
   "metadata": {},
   "outputs": [
    {
     "data": {
      "text/plain": [
       "array([[ 0.01      ,  0.        ],\n",
       "       [ 0.02      ,  0.        ],\n",
       "       [ 0.03      ,  0.        ],\n",
       "       [ 0.04      ,  0.        ],\n",
       "       [ 0.05      ,  0.        ],\n",
       "       [ 0.06      ,  0.        ],\n",
       "       [ 0.07      ,  0.        ],\n",
       "       [ 0.08      ,  0.        ],\n",
       "       [ 0.09      ,  0.        ],\n",
       "       [ 0.1       ,  0.        ],\n",
       "       [ 0.11      ,  0.        ],\n",
       "       [ 0.12      ,  0.10714286],\n",
       "       [ 0.13      ,  0.10714286],\n",
       "       [ 0.14      ,  0.10714286],\n",
       "       [ 0.15      ,  0.10714286],\n",
       "       [ 0.16      ,  0.10714286],\n",
       "       [ 0.17      ,  0.10714286],\n",
       "       [ 0.18      ,  0.17241379],\n",
       "       [ 0.19      ,  0.26229508],\n",
       "       [ 0.2       ,  0.29032258],\n",
       "       [ 0.21      ,  0.31746032],\n",
       "       [ 0.22      ,  0.31746032],\n",
       "       [ 0.23      ,  0.36923077],\n",
       "       [ 0.24      ,  0.36923077],\n",
       "       [ 0.25      ,  0.36923077],\n",
       "       [ 0.26      ,  0.41791045],\n",
       "       [ 0.27      ,  0.41791045],\n",
       "       [ 0.28      ,  0.44117647],\n",
       "       [ 0.29      ,  0.44117647],\n",
       "       [ 0.3       ,  0.48571429],\n",
       "       [ 0.31      ,  0.54794521],\n",
       "       [ 0.32      ,  0.56756757],\n",
       "       [ 0.33      ,  0.58666667],\n",
       "       [ 0.34      ,  0.60526316],\n",
       "       [ 0.35      ,  0.60526316],\n",
       "       [ 0.36      ,  0.60526316],\n",
       "       [ 0.37      ,  0.62337662],\n",
       "       [ 0.38      ,  0.675     ],\n",
       "       [ 0.39      ,  0.70731707],\n",
       "       [ 0.4       ,  0.72941176],\n",
       "       [ 0.41      ,  0.74418605],\n",
       "       [ 0.42      ,  0.74418605],\n",
       "       [ 0.43      ,  0.74418605],\n",
       "       [ 0.44      ,  0.75862069],\n",
       "       [ 0.45      ,  0.76404494],\n",
       "       [ 0.46      ,  0.76404494],\n",
       "       [ 0.47      ,  0.77777778],\n",
       "       [ 0.48      ,  0.77777778],\n",
       "       [ 0.49      ,  0.79120879],\n",
       "       [ 0.5       ,  0.79120879],\n",
       "       [ 0.51      ,  0.80434783],\n",
       "       [ 0.52      ,  0.80434783],\n",
       "       [ 0.53      ,  0.80434783],\n",
       "       [ 0.54      ,  0.82978723],\n",
       "       [ 0.55      ,  0.84536082],\n",
       "       [ 0.56      ,  0.84536082],\n",
       "       [ 0.57      ,  0.84536082],\n",
       "       [ 0.58      ,  0.84848485],\n",
       "       [ 0.59      ,  0.84848485],\n",
       "       [ 0.6       ,  0.86      ],\n",
       "       [ 0.61      ,  0.87128713],\n",
       "       [ 0.62      ,  0.87378641],\n",
       "       [ 0.63      ,  0.88461538],\n",
       "       [ 0.64      ,  0.88461538],\n",
       "       [ 0.65      ,  0.88461538],\n",
       "       [ 0.66      ,  0.88461538],\n",
       "       [ 0.67      ,  0.89719626],\n",
       "       [ 0.68      ,  0.9009009 ],\n",
       "       [ 0.69      ,  0.89473684],\n",
       "       [ 0.7       ,  0.89473684],\n",
       "       [ 0.71      ,  0.89473684],\n",
       "       [ 0.72      ,  0.88695652],\n",
       "       [ 0.73      ,  0.87179487],\n",
       "       [ 0.74      ,  0.86440678],\n",
       "       [ 0.75      ,  0.85950413],\n",
       "       [ 0.76      ,  0.84552846],\n",
       "       [ 0.77      ,  0.832     ],\n",
       "       [ 0.78      ,  0.82539683],\n",
       "       [ 0.79      ,  0.82539683],\n",
       "       [ 0.8       ,  0.82539683],\n",
       "       [ 0.81      ,  0.81889764],\n",
       "       [ 0.82      ,  0.8       ],\n",
       "       [ 0.83      ,  0.80916031],\n",
       "       [ 0.84      ,  0.8030303 ],\n",
       "       [ 0.85      ,  0.8030303 ],\n",
       "       [ 0.86      ,  0.8030303 ],\n",
       "       [ 0.87      ,  0.79699248],\n",
       "       [ 0.88      ,  0.79104478],\n",
       "       [ 0.89      ,  0.76811594],\n",
       "       [ 0.9       ,  0.76811594],\n",
       "       [ 0.91      ,  0.76811594],\n",
       "       [ 0.92      ,  0.76811594],\n",
       "       [ 0.93      ,  0.76258993],\n",
       "       [ 0.94      ,  0.7260274 ],\n",
       "       [ 0.95      ,  0.70198675],\n",
       "       [ 0.96      ,  0.68831169],\n",
       "       [ 0.97      ,  0.68387097],\n",
       "       [ 0.98      ,  0.68387097],\n",
       "       [ 0.99      ,  0.68387097],\n",
       "       [ 1.        ,  0.61271676]])"
      ]
     },
     "execution_count": 31,
     "metadata": {},
     "output_type": "execute_result"
    }
   ],
   "source": [
    "highlight_15workers_F1_notrelevant_merged"
   ]
  },
  {
   "cell_type": "code",
   "execution_count": 32,
   "metadata": {},
   "outputs": [
    {
     "data": {
      "text/plain": [
       "array([[ 0.01      ,  0.71657754],\n",
       "       [ 0.02      ,  0.71657754],\n",
       "       [ 0.03      ,  0.71657754],\n",
       "       [ 0.04      ,  0.71657754],\n",
       "       [ 0.05      ,  0.71657754],\n",
       "       [ 0.06      ,  0.71657754],\n",
       "       [ 0.07      ,  0.71657754],\n",
       "       [ 0.08      ,  0.71657754],\n",
       "       [ 0.09      ,  0.71657754],\n",
       "       [ 0.1       ,  0.71657754],\n",
       "       [ 0.11      ,  0.71657754],\n",
       "       [ 0.12      ,  0.72826087],\n",
       "       [ 0.13      ,  0.72826087],\n",
       "       [ 0.14      ,  0.72826087],\n",
       "       [ 0.15      ,  0.72826087],\n",
       "       [ 0.16      ,  0.72826087],\n",
       "       [ 0.17      ,  0.72826087],\n",
       "       [ 0.18      ,  0.73626374],\n",
       "       [ 0.19      ,  0.74860335],\n",
       "       [ 0.2       ,  0.75280899],\n",
       "       [ 0.21      ,  0.75706215],\n",
       "       [ 0.22      ,  0.75706215],\n",
       "       [ 0.23      ,  0.76571429],\n",
       "       [ 0.24      ,  0.76571429],\n",
       "       [ 0.25      ,  0.76571429],\n",
       "       [ 0.26      ,  0.77456647],\n",
       "       [ 0.27      ,  0.77456647],\n",
       "       [ 0.28      ,  0.77906977],\n",
       "       [ 0.29      ,  0.77906977],\n",
       "       [ 0.3       ,  0.78823529],\n",
       "       [ 0.31      ,  0.80239521],\n",
       "       [ 0.32      ,  0.80722892],\n",
       "       [ 0.33      ,  0.81212121],\n",
       "       [ 0.34      ,  0.81707317],\n",
       "       [ 0.35      ,  0.81707317],\n",
       "       [ 0.36      ,  0.81707317],\n",
       "       [ 0.37      ,  0.82208589],\n",
       "       [ 0.38      ,  0.8375    ],\n",
       "       [ 0.39      ,  0.84810127],\n",
       "       [ 0.4       ,  0.8516129 ],\n",
       "       [ 0.41      ,  0.85714286],\n",
       "       [ 0.42      ,  0.85714286],\n",
       "       [ 0.43      ,  0.85714286],\n",
       "       [ 0.44      ,  0.8627451 ],\n",
       "       [ 0.45      ,  0.86092715],\n",
       "       [ 0.46      ,  0.86092715],\n",
       "       [ 0.47      ,  0.86666667],\n",
       "       [ 0.48      ,  0.86666667],\n",
       "       [ 0.49      ,  0.87248322],\n",
       "       [ 0.5       ,  0.87248322],\n",
       "       [ 0.51      ,  0.87837838],\n",
       "       [ 0.52      ,  0.87837838],\n",
       "       [ 0.53      ,  0.87837838],\n",
       "       [ 0.54      ,  0.89041096],\n",
       "       [ 0.55      ,  0.8951049 ],\n",
       "       [ 0.56      ,  0.8951049 ],\n",
       "       [ 0.57      ,  0.8951049 ],\n",
       "       [ 0.58      ,  0.89361702],\n",
       "       [ 0.59      ,  0.89361702],\n",
       "       [ 0.6       ,  0.9       ],\n",
       "       [ 0.61      ,  0.90647482],\n",
       "       [ 0.62      ,  0.90510949],\n",
       "       [ 0.63      ,  0.91176471],\n",
       "       [ 0.64      ,  0.91176471],\n",
       "       [ 0.65      ,  0.91176471],\n",
       "       [ 0.66      ,  0.91176471],\n",
       "       [ 0.67      ,  0.91729323],\n",
       "       [ 0.68      ,  0.91472868],\n",
       "       [ 0.69      ,  0.9047619 ],\n",
       "       [ 0.7       ,  0.9047619 ],\n",
       "       [ 0.71      ,  0.9047619 ],\n",
       "       [ 0.72      ,  0.896     ],\n",
       "       [ 0.73      ,  0.87804878],\n",
       "       [ 0.74      ,  0.86885246],\n",
       "       [ 0.75      ,  0.85714286],\n",
       "       [ 0.76      ,  0.83760684],\n",
       "       [ 0.77      ,  0.8173913 ],\n",
       "       [ 0.78      ,  0.80701754],\n",
       "       [ 0.79      ,  0.80701754],\n",
       "       [ 0.8       ,  0.80701754],\n",
       "       [ 0.81      ,  0.79646018],\n",
       "       [ 0.82      ,  0.76363636],\n",
       "       [ 0.83      ,  0.7706422 ],\n",
       "       [ 0.84      ,  0.75925926],\n",
       "       [ 0.85      ,  0.75925926],\n",
       "       [ 0.86      ,  0.75925926],\n",
       "       [ 0.87      ,  0.74766355],\n",
       "       [ 0.88      ,  0.73584906],\n",
       "       [ 0.89      ,  0.68627451],\n",
       "       [ 0.9       ,  0.68627451],\n",
       "       [ 0.91      ,  0.68627451],\n",
       "       [ 0.92      ,  0.68627451],\n",
       "       [ 0.93      ,  0.67326733],\n",
       "       [ 0.94      ,  0.57446809],\n",
       "       [ 0.95      ,  0.49438202],\n",
       "       [ 0.96      ,  0.44186047],\n",
       "       [ 0.97      ,  0.42352941],\n",
       "       [ 0.98      ,  0.42352941],\n",
       "       [ 0.99      ,  0.42352941],\n",
       "       [ 1.        ,  0.42352941]])"
      ]
     },
     "execution_count": 32,
     "metadata": {},
     "output_type": "execute_result"
    }
   ],
   "source": [
    "highlight_15workers_F1_relevant_merged"
   ]
  },
  {
   "cell_type": "code",
   "execution_count": 33,
   "metadata": {},
   "outputs": [
    {
     "data": {
      "image/png": "[encoded data removed]",
      "text/plain": [
       "<matplotlib.figure.Figure at 0x61f6df850>"
      ]
     },
     "metadata": {},
     "output_type": "display_data"
    }
   ],
   "source": [
    "import matplotlib.pyplot as plt\n",
    "%matplotlib inline\n",
    "\n",
    "plt.rcParams['figure.figsize'] = 6, 4\n",
    "plt.plot(highlight_15workers_F1_notrelevant_merged[:,0], highlight_15workers_F1_notrelevant_merged[:,1], 'bo-', color = 'red', lw = 2, label = \"F1 Crowd - Not Relevant\")\n",
    "plt.plot(highlight_15workers_F1_relevant_merged[:,0], highlight_15workers_F1_relevant_merged[:,1], 'bo-', color = 'darkgreen', lw = 2, label = \"F1 Crowd - Relevant\")\n",
    "\n",
    "plt.axhline(y = highlight_expertsF1_notrelevant_merged_newGT, ls = '-', color = 'pink', lw = 2, label = \"F1 NIST - Not Relevant\")\n",
    "plt.axhline(y = highlight_expertsF1_relevant_merged_newGT, ls = '--', color = 'lightgreen', lw = 2, label = \"F1 NIST - Relevant\")\n",
    "plt.xlim(0.1,1.0)\n",
    "plt.xlabel(\"TDP-RelVal score neg/pos threshold\", fontsize=18)\n",
    "plt.ylabel(\"F1-score\", fontsize=20)\n",
    "plt.yticks(fontsize=20)\n",
    "plt.ylim(0.0,1.0)\n",
    "plt.xticks(fontsize=18)\n",
    "plt.yticks(fontsize=18)\n",
    "leg = plt.legend(fontsize=14)\n",
    "leg.get_frame().set_alpha(0.8)\n",
    "plt.grid(ls=':')\n",
    "#plt.title(\"Without Highlight, Relations Not Merged, 3-point scale\")\n",
    "plt.savefig(\"Plots/3p_withHighlight_F1_merged_eval_reviewers.pdf\", bbox_inches='tight', dpi=1000)"
   ]
  },
  {
   "cell_type": "markdown",
   "metadata": {},
   "source": [
    "## Print the files with results"
   ]
  },
  {
   "cell_type": "code",
   "execution_count": 34,
   "metadata": {
    "collapsed": true
   },
   "outputs": [],
   "source": [
    "# print workers\n",
    "results_highlight_15workers_unmerged[\"workers\"].to_csv(\"ResultFiles/3P_WithHighlight_Article/workers_withHighlight_15workers_3p_unmerged.csv\")\n",
    "\n",
    "# print annotations\n",
    "results_highlight_15workers_unmerged[\"annotations\"].to_csv(\"ResultFiles/3P_WithHighlight_Article/annotations_withHighlight_15workers_3p_unmerged.csv\")"
   ]
  },
  {
   "cell_type": "code",
   "execution_count": 35,
   "metadata": {
    "collapsed": true
   },
   "outputs": [],
   "source": [
    "columns = list(results_highlight_15workers_unmerged[\"units\"])\n",
    "columns.extend(['highly_relevant_count','highly_relevant_score','highly_relevant_score_initial', 'relevant_count', 'relevant_score',\n",
    "          'relevant_score_initial', 'not_relevant_count', 'not_relevant_score', 'not_relevant_score_initial'])\n",
    "\n",
    "rows = []\n",
    "rows.append(columns)\n",
    "for i in range(len(results_highlight_15workers_unmerged[\"units\"].index)):\n",
    "    keys = ['highly_relevant', 'relevant', 'not_relevant']\n",
    "    row = list(results_highlight_15workers_unmerged[\"units\"].iloc[i])\n",
    "    for j in range(len(keys)):\n",
    "        row.append(results_highlight_15workers_unmerged[\"units\"][\"output.relevance\"].iloc[i][keys[j]])\n",
    "        row.append(results_highlight_15workers_unmerged[\"units\"][\"unit_annotation_score\"].iloc[i][keys[j]])\n",
    "        row.append(results_highlight_15workers_unmerged[\"units\"][\"unit_annotation_score_initial\"].iloc[i][keys[j]])\n",
    "    \n",
    "    rows.append(row)"
   ]
  },
  {
   "cell_type": "code",
   "execution_count": 36,
   "metadata": {
    "collapsed": true
   },
   "outputs": [],
   "source": [
    "import csv\n",
    "\n",
    "with open('ResultFiles/3P_WithHighlight_Article/units_withHighlight_15workers_3p_unmerged.csv', 'w') as csvfile:\n",
    "    writer = csv.writer(csvfile)\n",
    "    writer.writerows(rows)"
   ]
  },
  {
   "cell_type": "code",
   "execution_count": 37,
   "metadata": {
    "collapsed": true
   },
   "outputs": [],
   "source": [
    "# print workers\n",
    "results_highlight_15workers_merged[\"workers\"].to_csv(\"ResultFiles/3P_WithHighlight_Article/workers_withHighlight_15workers_3p_merged.csv\")\n",
    "\n",
    "# print annotations\n",
    "results_highlight_15workers_merged[\"annotations\"].to_csv(\"ResultFiles/3P_WithHighlight_Article/annotations_withHighlight_15workers_3p_merged.csv\")"
   ]
  },
  {
   "cell_type": "code",
   "execution_count": 38,
   "metadata": {
    "collapsed": true
   },
   "outputs": [],
   "source": [
    "columns = list(results_highlight_15workers_merged[\"units\"])\n",
    "columns.extend(['relevant_count', 'relevant_score',\n",
    "          'relevant_score_initial', 'not_relevant_count', 'not_relevant_score', 'not_relevant_score_initial'])\n",
    "\n",
    "rows = []\n",
    "rows.append(columns)\n",
    "for i in range(len(results_highlight_15workers_merged[\"units\"].index)):\n",
    "    keys = ['relevant', 'not_relevant']\n",
    "    row = list(results_highlight_15workers_merged[\"units\"].iloc[i])\n",
    "    for j in range(len(keys)):\n",
    "        row.append(sortUQS[\"output.relevance\"].iloc[i][keys[j]])\n",
    "        row.append(sortUQS[\"unit_annotation_score\"].iloc[i][keys[j]])\n",
    "        row.append(sortUQS[\"unit_annotation_score_initial\"].iloc[i][keys[j]])\n",
    "    \n",
    "    rows.append(row)"
   ]
  },
  {
   "cell_type": "code",
   "execution_count": 39,
   "metadata": {
    "collapsed": true
   },
   "outputs": [],
   "source": [
    "import csv\n",
    "\n",
    "with open('ResultFiles/3P_WithHighlight_Article/units_withHighlight_15workers_3p_merged.csv', 'w') as csvfile:\n",
    "    writer = csv.writer(csvfile)\n",
    "    writer.writerows(rows)"
   ]
  },
  {
   "cell_type": "code",
   "execution_count": null,
   "metadata": {
    "collapsed": true
   },
   "outputs": [],
   "source": []
  }
 ],
 "metadata": {
  "kernelspec": {
   "display_name": "Python 2",
   "language": "python",
   "name": "python2"
  },
  "language_info": {
   "codemirror_mode": {
    "name": "ipython",
    "version": 2
   },
   "file_extension": ".py",
   "mimetype": "text/x-python",
   "name": "python",
   "nbconvert_exporter": "python",
   "pygments_lexer": "ipython2",
   "version": "2.7.13"
  }
 },
 "nbformat": 4,
 "nbformat_minor": 2
}
