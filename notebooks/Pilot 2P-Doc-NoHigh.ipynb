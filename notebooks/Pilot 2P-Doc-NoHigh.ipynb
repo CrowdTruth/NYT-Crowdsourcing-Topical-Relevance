{
 "cells": [
  {
   "cell_type": "markdown",
   "metadata": {},
   "source": [
    "# CrowdTruth metrics 2.0 documentation\n",
    "\n",
    "Let:\n",
    "\n",
    "* $workers(u):$ all workers that annotate unit $u$;\n",
    "* $units(i):$ all input units annotated by worker $i$;\n",
    "* $WorkVec(i, u):$ annotations of worker $i$ on unit $u$ as a binary vector;\n",
    "* $UnitVec(s) = \\sum_{i \\in workers(s)} WorkVec(i,s)$, where $s$ is an input unit.\n",
    "\n",
    "## Unit Quality Score (UQS)\n",
    "\n",
    "The unit quality score $UQS(u)$ is computed as the average cosine similarity between all worker vectors for a given input unit $u$, weighted by the worker quality ($WQS$) and annotation quality ($AQS$). The goal is to capture the degree of agreement in annotating the unit. Through the weighted average, workers and annotations with lower quality will have less of an impact on the final score.\n",
    "\n",
    "$$ UQS(u) = \\frac{\\sum_{i, j \\in workers(u)} Wcos(WorkVec(i,u), WorkVec(j,u)) \\; WQS(i) \\; WQS(j)}{\\sum_{i, j \\in workers(u)} WQS(i) \\; WQS(j)}, \\; i \\neq j.$$\n",
    "\n",
    "\n",
    "### Weighted Cosine\n",
    "\n",
    "To weigh the metrics with the annotation quality, we compute $Wcos$, the weighted version of the cosine similarity. This metric is only applicable to closed tasks, where annotation quality can be calculated across units. For open-ended tasks, we consider annotation quality equal to 1 and calculate the regular cosine similarity.\n",
    "\n",
    "$$ Wcos(vec_1, vec_2) = \\frac{\\sum_{a} vec_1(a) \\; vec_2(a) \\; AQS(a)}{\\sqrt{(\\sum_{a} vec_1^2(a) \\; AQS(a)) \\; (\\sum_{a} vec_2^2(a) \\; AQS(a))}} .$$ \n",
    "\n",
    "\n",
    "## Worker Quality Score (WQS)\n",
    "\n",
    "The worker quality score $WQS(i)$ for a given worker $i$ is the product of 2 separate metrics - the worker-worker agreement $WWA(i)$ and the worker-unit agreement $WUA(i)$.\n",
    "\n",
    "$$ WQS(i) = WUA(i) \\; WWA(i) .$$\n",
    "\n",
    "### Worker-Unit Agreement\n",
    "\n",
    "The worker-unit agreement $WUA(i)$ is the average cosine distance between the annotations of a worker $i$ and all annotations for the units they have worked on, weighted by the unit and annotation quality. It calculates how much a worker disagrees with the crowd on a unit basis. Through the weighted average, units and anntation with lower quality will have less of an impact on the final score.\n",
    "\n",
    "$$ WSA(i) = \\frac{\\sum_{u \\in units(i)} Wcos(WorkVec(i,u), UnitVec(u) - WorkVec(i, u)) \\; UQS(u)}{\\sum_{u \\in units(i)} UQS(u)} .$$\n",
    "\n",
    "### Worker-Worker Agreement\n",
    "\n",
    "The worker-worker agreement $WWA(i)$ is the average cosine distance between the annotations of a worker $i$ and all other workers that have worked on the same units as worker $i$, weighted by the worker and annotation qualities. The metric gives an indication as to whether there are consisently like-minded workers. This is useful for identifying communities of thought. Through the weighted average, workers and annotations with lower quality will have less of an impact on the final score of the given worker.\n",
    "\n",
    "$$ WWA(i) = \\frac{ \\sum_{j \\in workers(u \\in units(i))} Wcos(WorkVec(i, u), WorkVec(j, u)) \\; WQS(j) \\; UQS(u) }{ \\sum_{j \\in workers(s \\in units(i))} WQS(j) \\; UQS(u) }, \\; i \\neq j .$$\n",
    "\n",
    "\n",
    "## Annotation Quality Score (AQS)\n",
    "\n",
    "The annotation quality score $AQS(a)$ calculates the agreement of selecting an annotation $a$, over all the units it appears in. Therefore, it is only applicable to closed tasks, where the same annotation set is used for all input units. It is based on $P_a(i | j)$, the probability that if a worker $j$ annotates $a$ in a unit, worker $i$ will also annotate it. \n",
    "\n",
    "$$ P_a(i | j) = \\frac{ \\sum_{u \\in units(i) \\cap units(j) } UQS(u) \\; WorkVec(i, s)(r) \\; WorkVec(j, s)(r) }{ \\sum_{u \\in units(i) \\cap units(j) } UQS(u) \\; WorkVec(j, u)(r) } . $$\n",
    "\n",
    "$AQS(a)$ is the weighted average of $P_a(i | j)$ for all possible pairs of workers. Through the weighted average, input units and workers with lower quality will have less of an impact on the final score of the annotation.\n",
    "\n",
    "$$ AQS(a) = \\frac{ \\sum_{i,j} WQS(i) \\; WQS(j) \\; P_a(i | j) }{ \\sum_{i,j} WQS(i) \\; WQS(j) }, i \\neq j . $$\n",
    "\n",
    "\n",
    "## Unit-Annotation Score (UAS)\n",
    "\n",
    "The unit - annotation score $UAS(u, a)$ calculates the likelihood that annotation $a$ is expressed in input unit $u$. It is the ratio of the number of workers that picked annotation $u$ over all workers that annotated the unit, weighted by the worker quality.\n",
    "\n",
    "$$ UAS(u, a) = \\frac{ \\sum_{i \\in workers(u)} WorkVec(i,u)(a) \\; WQS(i) }{ \\sum_{i \\in workers(u)} WQS(i) }. $$"
   ]
  },
  {
   "cell_type": "markdown",
   "metadata": {},
   "source": [
    "## Run the metrics\n"
   ]
  },
  {
   "cell_type": "code",
   "execution_count": 1,
   "metadata": {
    "collapsed": true
   },
   "outputs": [],
   "source": [
    "import crowdtruth\n",
    "from crowdtruth.configuration import DefaultConfig\n",
    "import logging\n",
    "import warnings; warnings.simplefilter('ignore')\n",
    "\n",
    "logger = logging.getLogger()\n",
    "logger.setLevel(logging.DEBUG)\n",
    "\n",
    "class config(DefaultConfig):\n",
    "    inputColumns = [\"index\", \"bin\", \"doc_len\", \"document_id\", \"document_body\", \"document_title\", \"rel\", \n",
    "                    \"topic\", \"topic_description\", \"topic_query\"]\n",
    "    outputColumns = [\"relevance\"]\n",
    "    \n",
    "    # processing of a closed task\n",
    "    open_ended_task = False\n",
    "    annotation_separator = \",\"\n",
    "    annotation_vector = [\n",
    "        \"relevant\", \"not_relevant\"\n",
    "    ]\n",
    "    \n",
    "    def processJudgments(self, judgments):\n",
    "        return judgments"
   ]
  },
  {
   "cell_type": "markdown",
   "metadata": {},
   "source": [
    "### Creating a class that inherits from `Configuration` lets us define how the input file will be processed:\n",
    "\n",
    "* `inputColumns`: list of input columns from the .csv file, the input that the workers were shown\n",
    "* `outputColumns`: list of output columns with the answers from the workers\n",
    "* `processJudgments`: function that defines how the worker judgments wil be processed; default separator for judgments is ','\n",
    "\n",
    "To build the annotation vector, we also need to specify whether this is an **open-ended** or **closed** task, using the `open_ended_task` variable.\n",
    "\n",
    "* **open-ended task** means that the annotation space is not known, and workers can freely provide all the choices that apply (e.g. in sound tagging, the workers are provided with a text box to enter all tags they can think of)\n",
    "* **closed task** means that the annotations that can occur in the data are already known, and the workers are asked to validate their existence (e.g. for medical relation extraction, the workers pick from a pre-defined multiple-choice set of relations)\n",
    "\n",
    "If the task we are processing is **closed**, then we also need to provide the list of possible annotations in the `annotation_vector` variable."
   ]
  },
  {
   "cell_type": "code",
   "execution_count": 2,
   "metadata": {},
   "outputs": [
    {
     "name": "stderr",
     "output_type": "stream",
     "text": [
      "INFO:root:Config loaded\n",
      "INFO:root:Found 2 files\n",
      "INFO:root:Processing f1205679_anonymized.csv\n",
      "INFO:root:Values not stored as dictionary\n",
      "INFO:root:Processing f1205678_anonymized.csv\n",
      "INFO:root:Values not stored as dictionary\n"
     ]
    },
    {
     "data": {
      "text/html": [
       "<div>\n",
       "<style scoped>\n",
       "    .dataframe tbody tr th:only-of-type {\n",
       "        vertical-align: middle;\n",
       "    }\n",
       "\n",
       "    .dataframe tbody tr th {\n",
       "        vertical-align: top;\n",
       "    }\n",
       "\n",
       "    .dataframe thead th {\n",
       "        text-align: right;\n",
       "    }\n",
       "</style>\n",
       "<table border=\"1\" class=\"dataframe\">\n",
       "  <thead>\n",
       "    <tr style=\"text-align: right;\">\n",
       "      <th></th>\n",
       "      <th>output.relevance</th>\n",
       "      <th>submitted</th>\n",
       "      <th>started</th>\n",
       "      <th>worker</th>\n",
       "      <th>unit</th>\n",
       "      <th>duration</th>\n",
       "      <th>job</th>\n",
       "    </tr>\n",
       "    <tr>\n",
       "      <th>judgment</th>\n",
       "      <th></th>\n",
       "      <th></th>\n",
       "      <th></th>\n",
       "      <th></th>\n",
       "      <th></th>\n",
       "      <th></th>\n",
       "      <th></th>\n",
       "    </tr>\n",
       "  </thead>\n",
       "  <tbody>\n",
       "    <tr>\n",
       "      <th>3012658873</th>\n",
       "      <td>{u'relevant': 1, u'not_relevant': 0}</td>\n",
       "      <td>2017-11-09 04:59:42</td>\n",
       "      <td>2017-11-09 04:59:18</td>\n",
       "      <td>59d138c8d469c91ef47d7b2ed85521fa8cd3e0055d5d6d...</td>\n",
       "      <td>1444002376</td>\n",
       "      <td>24</td>\n",
       "      <td>../crowdsourcing_data/FigureEightOutput/Pilot_...</td>\n",
       "    </tr>\n",
       "    <tr>\n",
       "      <th>3012929495</th>\n",
       "      <td>{u'relevant': 1, u'not_relevant': 0}</td>\n",
       "      <td>2017-11-09 07:09:18</td>\n",
       "      <td>2017-11-09 07:08:57</td>\n",
       "      <td>45bef2d7b0b1c4bea94c6949366d70b8e3847bc2b63bd0...</td>\n",
       "      <td>1444002376</td>\n",
       "      <td>21</td>\n",
       "      <td>../crowdsourcing_data/FigureEightOutput/Pilot_...</td>\n",
       "    </tr>\n",
       "    <tr>\n",
       "      <th>3012973891</th>\n",
       "      <td>{u'relevant': 1, u'not_relevant': 0}</td>\n",
       "      <td>2017-11-09 07:37:25</td>\n",
       "      <td>2017-11-09 07:37:06</td>\n",
       "      <td>54afa1659bde725bf1bb992e5b8ddbef940d7726963c78...</td>\n",
       "      <td>1444002376</td>\n",
       "      <td>19</td>\n",
       "      <td>../crowdsourcing_data/FigureEightOutput/Pilot_...</td>\n",
       "    </tr>\n",
       "    <tr>\n",
       "      <th>3012999809</th>\n",
       "      <td>{u'relevant': 1, u'not_relevant': 0}</td>\n",
       "      <td>2017-11-09 07:54:26</td>\n",
       "      <td>2017-11-09 07:54:07</td>\n",
       "      <td>6e3f860978fa1a2fe6ce1399167b80abd81680fb111c93...</td>\n",
       "      <td>1444002376</td>\n",
       "      <td>19</td>\n",
       "      <td>../crowdsourcing_data/FigureEightOutput/Pilot_...</td>\n",
       "    </tr>\n",
       "    <tr>\n",
       "      <th>3013172965</th>\n",
       "      <td>{u'relevant': 1, u'not_relevant': 0}</td>\n",
       "      <td>2017-11-09 09:36:51</td>\n",
       "      <td>2017-11-09 09:36:30</td>\n",
       "      <td>a6aaf0eb75bc62c0f5e8734f9176b49ee62f28ce7816a7...</td>\n",
       "      <td>1444002376</td>\n",
       "      <td>21</td>\n",
       "      <td>../crowdsourcing_data/FigureEightOutput/Pilot_...</td>\n",
       "    </tr>\n",
       "  </tbody>\n",
       "</table>\n",
       "</div>"
      ],
      "text/plain": [
       "                                output.relevance           submitted  \\\n",
       "judgment                                                               \n",
       "3012658873  {u'relevant': 1, u'not_relevant': 0} 2017-11-09 04:59:42   \n",
       "3012929495  {u'relevant': 1, u'not_relevant': 0} 2017-11-09 07:09:18   \n",
       "3012973891  {u'relevant': 1, u'not_relevant': 0} 2017-11-09 07:37:25   \n",
       "3012999809  {u'relevant': 1, u'not_relevant': 0} 2017-11-09 07:54:26   \n",
       "3013172965  {u'relevant': 1, u'not_relevant': 0} 2017-11-09 09:36:51   \n",
       "\n",
       "                       started  \\\n",
       "judgment                         \n",
       "3012658873 2017-11-09 04:59:18   \n",
       "3012929495 2017-11-09 07:08:57   \n",
       "3012973891 2017-11-09 07:37:06   \n",
       "3012999809 2017-11-09 07:54:07   \n",
       "3013172965 2017-11-09 09:36:30   \n",
       "\n",
       "                                                       worker        unit  \\\n",
       "judgment                                                                    \n",
       "3012658873  59d138c8d469c91ef47d7b2ed85521fa8cd3e0055d5d6d...  1444002376   \n",
       "3012929495  45bef2d7b0b1c4bea94c6949366d70b8e3847bc2b63bd0...  1444002376   \n",
       "3012973891  54afa1659bde725bf1bb992e5b8ddbef940d7726963c78...  1444002376   \n",
       "3012999809  6e3f860978fa1a2fe6ce1399167b80abd81680fb111c93...  1444002376   \n",
       "3013172965  a6aaf0eb75bc62c0f5e8734f9176b49ee62f28ce7816a7...  1444002376   \n",
       "\n",
       "            duration                                                job  \n",
       "judgment                                                                 \n",
       "3012658873        24  ../crowdsourcing_data/FigureEightOutput/Pilot_...  \n",
       "3012929495        21  ../crowdsourcing_data/FigureEightOutput/Pilot_...  \n",
       "3012973891        19  ../crowdsourcing_data/FigureEightOutput/Pilot_...  \n",
       "3012999809        19  ../crowdsourcing_data/FigureEightOutput/Pilot_...  \n",
       "3013172965        21  ../crowdsourcing_data/FigureEightOutput/Pilot_...  "
      ]
     },
     "execution_count": 2,
     "metadata": {},
     "output_type": "execute_result"
    }
   ],
   "source": [
    "# Read data\n",
    "data, config = crowdtruth.load(\n",
    "    directory = \"../crowdsourcing_data/FigureEightOutput/Pilot_2P-Doc-NoHigh/\",\n",
    "    config = config()\n",
    ")\n",
    "\n",
    "data['judgments'].head()"
   ]
  },
  {
   "cell_type": "code",
   "execution_count": 3,
   "metadata": {},
   "outputs": [
    {
     "name": "stderr",
     "output_type": "stream",
     "text": [
      "INFO:root:1 iterations; max d= 0.705689498026 ; wqs d= 0.49095330525; sqs d= 0.325079365079; rqs d= 0.408968776212\n",
      "INFO:root:2 iterations; max d= 0.111609517604 ; wqs d= 0.0612398264406; sqs d= 0.0396857309878; rqs d= 0.0551556207823\n",
      "INFO:root:3 iterations; max d= 0.0158005858505 ; wqs d= 0.0055562581952; sqs d= 0.0023219981147; rqs d= 0.00261086635882\n",
      "INFO:root:4 iterations; max d= 0.0056642580604 ; wqs d= 0.00133832629074; sqs d= 0.00185714892058; rqs d= 0.00175514271324\n",
      "INFO:root:5 iterations; max d= 0.00141072526294 ; wqs d= 0.000518114689774; sqs d= 0.000235144034612; rqs d= 0.000537140274615\n",
      "INFO:root:6 iterations; max d= 0.000483970271793 ; wqs d= 0.000163833850407; sqs d= 0.000173928853742; rqs d= 0.000221588153904\n"
     ]
    }
   ],
   "source": [
    "results = crowdtruth.run(data, config)"
   ]
  },
  {
   "cell_type": "code",
   "execution_count": 4,
   "metadata": {
    "scrolled": true
   },
   "outputs": [
    {
     "data": {
      "text/html": [
       "<div>\n",
       "<style scoped>\n",
       "    .dataframe tbody tr th:only-of-type {\n",
       "        vertical-align: middle;\n",
       "    }\n",
       "\n",
       "    .dataframe tbody tr th {\n",
       "        vertical-align: top;\n",
       "    }\n",
       "\n",
       "    .dataframe thead th {\n",
       "        text-align: right;\n",
       "    }\n",
       "</style>\n",
       "<table border=\"1\" class=\"dataframe\">\n",
       "  <thead>\n",
       "    <tr style=\"text-align: right;\">\n",
       "      <th></th>\n",
       "      <th>duration</th>\n",
       "      <th>input.bin</th>\n",
       "      <th>input.doc_len</th>\n",
       "      <th>input.document_body</th>\n",
       "      <th>input.document_id</th>\n",
       "      <th>input.document_title</th>\n",
       "      <th>input.index</th>\n",
       "      <th>input.rel</th>\n",
       "      <th>input.topic</th>\n",
       "      <th>input.topic_description</th>\n",
       "      <th>input.topic_query</th>\n",
       "      <th>job</th>\n",
       "      <th>metrics.avg_annotations</th>\n",
       "      <th>metrics.avg_unique_annotations</th>\n",
       "      <th>output.relevance</th>\n",
       "      <th>output.relevance.annotations</th>\n",
       "      <th>output.relevance.unique_annotations</th>\n",
       "      <th>worker</th>\n",
       "      <th>uqs</th>\n",
       "      <th>unit_annotation_score</th>\n",
       "    </tr>\n",
       "    <tr>\n",
       "      <th>unit</th>\n",
       "      <th></th>\n",
       "      <th></th>\n",
       "      <th></th>\n",
       "      <th></th>\n",
       "      <th></th>\n",
       "      <th></th>\n",
       "      <th></th>\n",
       "      <th></th>\n",
       "      <th></th>\n",
       "      <th></th>\n",
       "      <th></th>\n",
       "      <th></th>\n",
       "      <th></th>\n",
       "      <th></th>\n",
       "      <th></th>\n",
       "      <th></th>\n",
       "      <th></th>\n",
       "      <th></th>\n",
       "      <th></th>\n",
       "      <th></th>\n",
       "    </tr>\n",
       "  </thead>\n",
       "  <tbody>\n",
       "    <tr>\n",
       "      <th>1444002376</th>\n",
       "      <td>91.866667</td>\n",
       "      <td>2</td>\n",
       "      <td>578</td>\n",
       "      <td>&lt;p&gt;The earnest figures speaking to us from the...</td>\n",
       "      <td>918882</td>\n",
       "      <td>Gateway to Madness</td>\n",
       "      <td>7</td>\n",
       "      <td>2</td>\n",
       "      <td>325</td>\n",
       "      <td>Describe a cult by name and identify the cult ...</td>\n",
       "      <td>Cult Lifestyles</td>\n",
       "      <td>../crowdsourcing_data/FigureEightOutput/Pilot_...</td>\n",
       "      <td>15.0</td>\n",
       "      <td>2.0</td>\n",
       "      <td>{u'not_relevant': 1, u'relevant': 14}</td>\n",
       "      <td>15</td>\n",
       "      <td>2</td>\n",
       "      <td>15</td>\n",
       "      <td>0.880649</td>\n",
       "      <td>{u'not_relevant': 0.0591312623991, u'relevant'...</td>\n",
       "    </tr>\n",
       "    <tr>\n",
       "      <th>1444002377</th>\n",
       "      <td>45.333333</td>\n",
       "      <td>2</td>\n",
       "      <td>481</td>\n",
       "      <td>&lt;p&gt;Fifty-three more bodies were discovered tod...</td>\n",
       "      <td>1187935</td>\n",
       "      <td>Cult Toll Rises In Uganda As More Dead Are Found</td>\n",
       "      <td>8</td>\n",
       "      <td>1</td>\n",
       "      <td>325</td>\n",
       "      <td>Describe a cult by name and identify the cult ...</td>\n",
       "      <td>Cult Lifestyles</td>\n",
       "      <td>../crowdsourcing_data/FigureEightOutput/Pilot_...</td>\n",
       "      <td>15.0</td>\n",
       "      <td>2.0</td>\n",
       "      <td>{u'not_relevant': 1, u'relevant': 14}</td>\n",
       "      <td>15</td>\n",
       "      <td>2</td>\n",
       "      <td>15</td>\n",
       "      <td>0.905083</td>\n",
       "      <td>{u'not_relevant': 0.0462342305121, u'relevant'...</td>\n",
       "    </tr>\n",
       "    <tr>\n",
       "      <th>1444002378</th>\n",
       "      <td>41.800000</td>\n",
       "      <td>2</td>\n",
       "      <td>559</td>\n",
       "      <td>&lt;p&gt;LEAD:&lt;/p&gt; &lt;p&gt;WOMBS AND ALIEN SPIRITS&lt;/p&gt; &lt;p...</td>\n",
       "      <td>337774</td>\n",
       "      <td>WOMEN POSSESSED</td>\n",
       "      <td>9</td>\n",
       "      <td>2</td>\n",
       "      <td>325</td>\n",
       "      <td>Describe a cult by name and identify the cult ...</td>\n",
       "      <td>Cult Lifestyles</td>\n",
       "      <td>../crowdsourcing_data/FigureEightOutput/Pilot_...</td>\n",
       "      <td>15.0</td>\n",
       "      <td>2.0</td>\n",
       "      <td>{u'not_relevant': 2, u'relevant': 13}</td>\n",
       "      <td>15</td>\n",
       "      <td>2</td>\n",
       "      <td>15</td>\n",
       "      <td>0.776355</td>\n",
       "      <td>{u'not_relevant': 0.1177425676, u'relevant': 0...</td>\n",
       "    </tr>\n",
       "    <tr>\n",
       "      <th>1444002379</th>\n",
       "      <td>161.333333</td>\n",
       "      <td>2</td>\n",
       "      <td>524</td>\n",
       "      <td>&lt;p&gt;LEAD: A judge in Federal Bankruptcy Court r...</td>\n",
       "      <td>42094</td>\n",
       "      <td>CHURCH ORDERED TO RETURN $6 MILLION TO GIVER</td>\n",
       "      <td>10</td>\n",
       "      <td>0</td>\n",
       "      <td>325</td>\n",
       "      <td>Describe a cult by name and identify the cult ...</td>\n",
       "      <td>Cult Lifestyles</td>\n",
       "      <td>../crowdsourcing_data/FigureEightOutput/Pilot_...</td>\n",
       "      <td>15.0</td>\n",
       "      <td>2.0</td>\n",
       "      <td>{u'not_relevant': 5, u'relevant': 10}</td>\n",
       "      <td>15</td>\n",
       "      <td>2</td>\n",
       "      <td>15</td>\n",
       "      <td>0.592478</td>\n",
       "      <td>{u'not_relevant': 0.253617561511, u'relevant':...</td>\n",
       "    </tr>\n",
       "    <tr>\n",
       "      <th>1444002380</th>\n",
       "      <td>63.666667</td>\n",
       "      <td>2</td>\n",
       "      <td>641</td>\n",
       "      <td>&lt;p&gt;In 1984, Sibylle Schonemann and her husband...</td>\n",
       "      <td>477008</td>\n",
       "      <td>Director Relives Political Imprisonment</td>\n",
       "      <td>11</td>\n",
       "      <td>0</td>\n",
       "      <td>325</td>\n",
       "      <td>Describe a cult by name and identify the cult ...</td>\n",
       "      <td>Cult Lifestyles</td>\n",
       "      <td>../crowdsourcing_data/FigureEightOutput/Pilot_...</td>\n",
       "      <td>15.0</td>\n",
       "      <td>2.0</td>\n",
       "      <td>{u'not_relevant': 7, u'relevant': 8}</td>\n",
       "      <td>15</td>\n",
       "      <td>2</td>\n",
       "      <td>15</td>\n",
       "      <td>0.494431</td>\n",
       "      <td>{u'not_relevant': 0.377202778113, u'relevant':...</td>\n",
       "    </tr>\n",
       "  </tbody>\n",
       "</table>\n",
       "</div>"
      ],
      "text/plain": [
       "              duration  input.bin  input.doc_len  \\\n",
       "unit                                               \n",
       "1444002376   91.866667          2            578   \n",
       "1444002377   45.333333          2            481   \n",
       "1444002378   41.800000          2            559   \n",
       "1444002379  161.333333          2            524   \n",
       "1444002380   63.666667          2            641   \n",
       "\n",
       "                                          input.document_body  \\\n",
       "unit                                                            \n",
       "1444002376  <p>The earnest figures speaking to us from the...   \n",
       "1444002377  <p>Fifty-three more bodies were discovered tod...   \n",
       "1444002378  <p>LEAD:</p> <p>WOMBS AND ALIEN SPIRITS</p> <p...   \n",
       "1444002379  <p>LEAD: A judge in Federal Bankruptcy Court r...   \n",
       "1444002380  <p>In 1984, Sibylle Schonemann and her husband...   \n",
       "\n",
       "            input.document_id  \\\n",
       "unit                            \n",
       "1444002376             918882   \n",
       "1444002377            1187935   \n",
       "1444002378             337774   \n",
       "1444002379              42094   \n",
       "1444002380             477008   \n",
       "\n",
       "                                        input.document_title  input.index  \\\n",
       "unit                                                                        \n",
       "1444002376                                Gateway to Madness            7   \n",
       "1444002377  Cult Toll Rises In Uganda As More Dead Are Found            8   \n",
       "1444002378                                   WOMEN POSSESSED            9   \n",
       "1444002379      CHURCH ORDERED TO RETURN $6 MILLION TO GIVER           10   \n",
       "1444002380           Director Relives Political Imprisonment           11   \n",
       "\n",
       "            input.rel  input.topic  \\\n",
       "unit                                 \n",
       "1444002376          2          325   \n",
       "1444002377          1          325   \n",
       "1444002378          2          325   \n",
       "1444002379          0          325   \n",
       "1444002380          0          325   \n",
       "\n",
       "                                      input.topic_description  \\\n",
       "unit                                                            \n",
       "1444002376  Describe a cult by name and identify the cult ...   \n",
       "1444002377  Describe a cult by name and identify the cult ...   \n",
       "1444002378  Describe a cult by name and identify the cult ...   \n",
       "1444002379  Describe a cult by name and identify the cult ...   \n",
       "1444002380  Describe a cult by name and identify the cult ...   \n",
       "\n",
       "           input.topic_query  \\\n",
       "unit                           \n",
       "1444002376   Cult Lifestyles   \n",
       "1444002377   Cult Lifestyles   \n",
       "1444002378   Cult Lifestyles   \n",
       "1444002379   Cult Lifestyles   \n",
       "1444002380   Cult Lifestyles   \n",
       "\n",
       "                                                          job  \\\n",
       "unit                                                            \n",
       "1444002376  ../crowdsourcing_data/FigureEightOutput/Pilot_...   \n",
       "1444002377  ../crowdsourcing_data/FigureEightOutput/Pilot_...   \n",
       "1444002378  ../crowdsourcing_data/FigureEightOutput/Pilot_...   \n",
       "1444002379  ../crowdsourcing_data/FigureEightOutput/Pilot_...   \n",
       "1444002380  ../crowdsourcing_data/FigureEightOutput/Pilot_...   \n",
       "\n",
       "            metrics.avg_annotations  metrics.avg_unique_annotations  \\\n",
       "unit                                                                  \n",
       "1444002376                     15.0                             2.0   \n",
       "1444002377                     15.0                             2.0   \n",
       "1444002378                     15.0                             2.0   \n",
       "1444002379                     15.0                             2.0   \n",
       "1444002380                     15.0                             2.0   \n",
       "\n",
       "                                 output.relevance  \\\n",
       "unit                                                \n",
       "1444002376  {u'not_relevant': 1, u'relevant': 14}   \n",
       "1444002377  {u'not_relevant': 1, u'relevant': 14}   \n",
       "1444002378  {u'not_relevant': 2, u'relevant': 13}   \n",
       "1444002379  {u'not_relevant': 5, u'relevant': 10}   \n",
       "1444002380   {u'not_relevant': 7, u'relevant': 8}   \n",
       "\n",
       "            output.relevance.annotations  output.relevance.unique_annotations  \\\n",
       "unit                                                                            \n",
       "1444002376                            15                                    2   \n",
       "1444002377                            15                                    2   \n",
       "1444002378                            15                                    2   \n",
       "1444002379                            15                                    2   \n",
       "1444002380                            15                                    2   \n",
       "\n",
       "            worker       uqs  \\\n",
       "unit                           \n",
       "1444002376      15  0.880649   \n",
       "1444002377      15  0.905083   \n",
       "1444002378      15  0.776355   \n",
       "1444002379      15  0.592478   \n",
       "1444002380      15  0.494431   \n",
       "\n",
       "                                        unit_annotation_score  \n",
       "unit                                                           \n",
       "1444002376  {u'not_relevant': 0.0591312623991, u'relevant'...  \n",
       "1444002377  {u'not_relevant': 0.0462342305121, u'relevant'...  \n",
       "1444002378  {u'not_relevant': 0.1177425676, u'relevant': 0...  \n",
       "1444002379  {u'not_relevant': 0.253617561511, u'relevant':...  \n",
       "1444002380  {u'not_relevant': 0.377202778113, u'relevant':...  "
      ]
     },
     "execution_count": 4,
     "metadata": {},
     "output_type": "execute_result"
    }
   ],
   "source": [
    "results[\"units\"].head(5)"
   ]
  },
  {
   "cell_type": "markdown",
   "metadata": {},
   "source": [
    "### Plot the unit quality score (UQS), the worker quality score (WQS) and the annotation quality score (AQS)\n"
   ]
  },
  {
   "cell_type": "code",
   "execution_count": 5,
   "metadata": {},
   "outputs": [
    {
     "data": {
      "text/plain": [
       "Text(0,0.5,u'Units')"
      ]
     },
     "execution_count": 5,
     "metadata": {},
     "output_type": "execute_result"
    },
    {
     "data": {
      "image/png": "[encoded data removed]",
      "text/plain": [
       "<matplotlib.figure.Figure at 0x11c5c2ad0>"
      ]
     },
     "metadata": {},
     "output_type": "display_data"
    }
   ],
   "source": [
    "import matplotlib.pyplot as plt\n",
    "%matplotlib inline\n",
    "\n",
    "plt.hist(results[\"units\"][\"uqs\"])\n",
    "plt.xlabel(\"UQS\")\n",
    "plt.ylabel(\"Units\")"
   ]
  },
  {
   "cell_type": "code",
   "execution_count": 6,
   "metadata": {},
   "outputs": [
    {
     "data": {
      "text/plain": [
       "Text(0,0.5,u'Workers')"
      ]
     },
     "execution_count": 6,
     "metadata": {},
     "output_type": "execute_result"
    },
    {
     "data": {
      "image/png": "[encoded data removed]",
      "text/plain": [
       "<matplotlib.figure.Figure at 0x61fbb3d10>"
      ]
     },
     "metadata": {},
     "output_type": "display_data"
    }
   ],
   "source": [
    "plt.hist(results[\"workers\"][\"wqs\"])\n",
    "plt.xlabel(\"WQS\")\n",
    "plt.ylabel(\"Workers\")"
   ]
  },
  {
   "cell_type": "code",
   "execution_count": 7,
   "metadata": {},
   "outputs": [
    {
     "data": {
      "text/html": [
       "<div>\n",
       "<style scoped>\n",
       "    .dataframe tbody tr th:only-of-type {\n",
       "        vertical-align: middle;\n",
       "    }\n",
       "\n",
       "    .dataframe tbody tr th {\n",
       "        vertical-align: top;\n",
       "    }\n",
       "\n",
       "    .dataframe thead th {\n",
       "        text-align: right;\n",
       "    }\n",
       "</style>\n",
       "<table border=\"1\" class=\"dataframe\">\n",
       "  <thead>\n",
       "    <tr style=\"text-align: right;\">\n",
       "      <th></th>\n",
       "      <th>output.relevance</th>\n",
       "      <th>aqs</th>\n",
       "    </tr>\n",
       "  </thead>\n",
       "  <tbody>\n",
       "    <tr>\n",
       "      <th>not_relevant</th>\n",
       "      <td>1800</td>\n",
       "      <td>0.393661</td>\n",
       "    </tr>\n",
       "    <tr>\n",
       "      <th>relevant</th>\n",
       "      <td>1800</td>\n",
       "      <td>0.800339</td>\n",
       "    </tr>\n",
       "  </tbody>\n",
       "</table>\n",
       "</div>"
      ],
      "text/plain": [
       "              output.relevance       aqs\n",
       "not_relevant              1800  0.393661\n",
       "relevant                  1800  0.800339"
      ]
     },
     "execution_count": 7,
     "metadata": {},
     "output_type": "execute_result"
    }
   ],
   "source": [
    "results[\"annotations\"]"
   ]
  },
  {
   "cell_type": "markdown",
   "metadata": {},
   "source": [
    "## Comparison with reviewers and NIST annotations"
   ]
  },
  {
   "cell_type": "code",
   "execution_count": 8,
   "metadata": {
    "collapsed": true
   },
   "outputs": [],
   "source": [
    "import pandas as pd\n",
    "import numpy as np\n",
    "\n",
    "gt = pd.read_csv(\"../ground_truth_data/reviewers_annotation.csv\")\n",
    "\n",
    "results[\"units\"][\"reviewers_rel\"] = pd.Series(np.random.randn(len(results[\"units\"].index)), index=results[\"units\"].index)\n",
    "results[\"units\"][\"reviewers_rel_merged\"] = pd.Series(np.random.randn(len(results[\"units\"].index)), index=results[\"units\"].index)\n",
    "results[\"units\"][\"rel_merged\"] = pd.Series(np.random.randn(len(results[\"units\"].index)), index=results[\"units\"].index)\n",
    "\n",
    "for i in range(0, len(results[\"units\"].index)):\n",
    "    for j in range(0, len(gt.index)):\n",
    "        if (results[\"units\"][\"input.topic\"].iloc[i] == gt[\"topic\"].iloc[j]) and (results[\"units\"][\"input.document_id\"].iloc[i] == gt[\"document_id\"].iloc[j]):\n",
    "            results[\"units\"][\"reviewers_rel\"].iloc[i] = gt[\"reviewers_rel\"].iloc[j]\n",
    "            results[\"units\"][\"reviewers_rel_merged\"].iloc[i] = gt[\"reviewers_rel_merged\"].iloc[j]\n",
    "            results[\"units\"][\"rel_merged\"].iloc[i] = gt[\"nist_rel_merged\"].iloc[j]"
   ]
  },
  {
   "cell_type": "code",
   "execution_count": 9,
   "metadata": {},
   "outputs": [
    {
     "data": {
      "text/plain": [
       "<module 'help_functions' from '../scripts/help_functions.pyc'>"
      ]
     },
     "execution_count": 9,
     "metadata": {},
     "output_type": "execute_result"
    }
   ],
   "source": [
    "import sys\n",
    "sys.path.append('../scripts')\n",
    "\n",
    "import help_functions as func\n",
    "reload(func)"
   ]
  },
  {
   "cell_type": "code",
   "execution_count": 12,
   "metadata": {
    "collapsed": true
   },
   "outputs": [],
   "source": [
    "expertsF1_notrelevant = func.compute_F1_score_experts_merged(results[\"units\"],0)\n",
    "expertsF1_relevant = func.compute_F1_score_experts_merged(results[\"units\"],1)"
   ]
  },
  {
   "cell_type": "code",
   "execution_count": 13,
   "metadata": {},
   "outputs": [
    {
     "name": "stdout",
     "output_type": "stream",
     "text": [
      "0.796610169492\n",
      "0.803278688525\n"
     ]
    }
   ],
   "source": [
    "print(expertsF1_notrelevant)\n",
    "print(expertsF1_relevant)"
   ]
  },
  {
   "cell_type": "code",
   "execution_count": 14,
   "metadata": {
    "collapsed": true
   },
   "outputs": [],
   "source": [
    "crowdF1_notrelevant = func.compute_F1_score_not_relevant(results[\"units\"])\n",
    "crowdF1_relevant = func.compute_F1_score_relevant(results[\"units\"])"
   ]
  },
  {
   "cell_type": "code",
   "execution_count": 17,
   "metadata": {},
   "outputs": [
    {
     "data": {
      "image/png": "[encoded data removed]",
      "text/plain": [
       "<matplotlib.figure.Figure at 0x11d1307d0>"
      ]
     },
     "metadata": {},
     "output_type": "display_data"
    }
   ],
   "source": [
    "plt.rcParams['figure.figsize'] = 6, 4\n",
    "plt.plot(crowdF1_notrelevant[:,0], crowdF1_notrelevant[:,1], 'bo-', color = 'red', lw = 2, label = \"F1 Crowd - Not Relevant\")\n",
    "plt.plot(crowdF1_relevant[:,0], crowdF1_relevant[:,1], 'bo-', color = 'darkgreen', lw = 2, label = \"F1 Crowd - Relevant\")\n",
    "\n",
    "plt.axhline(y = expertsF1_notrelevant, ls = '--', color = 'pink', lw = 2, label = \"F1 NIST - Not Relevant\")\n",
    "plt.axhline(y = expertsF1_relevant, ls = '--', color = 'lightgreen', lw = 2, label = \"F1 NIST - Relevant\")\n",
    "plt.xlim(0.1,1.0)\n",
    "plt.xlabel(\"TDP-RelVal score neg/pos threshold\", fontsize=18)\n",
    "plt.ylabel(\"F1-score\", fontsize=20)\n",
    "plt.yticks(fontsize=20)\n",
    "plt.ylim(0.0,1.0)\n",
    "plt.xticks(fontsize=18)\n",
    "plt.yticks(fontsize=18)\n",
    "leg = plt.legend()\n",
    "leg.get_frame().set_alpha(0.8)\n",
    "plt.grid(ls=':')\n",
    "#plt.title(\"Without Highlight, Relations Not Merged, 3-point scale\")\n",
    "plt.savefig(\"../Plots/2p_withoutHighlight_F1_merged_eval_reviewers.pdf\", bbox_inches='tight', dpi=1000)"
   ]
  },
  {
   "cell_type": "markdown",
   "metadata": {},
   "source": [
    "## Print results to files"
   ]
  },
  {
   "cell_type": "code",
   "execution_count": 18,
   "metadata": {
    "collapsed": true
   },
   "outputs": [],
   "source": [
    "import csv\n",
    "    \n",
    "# print results for units\n",
    "columns = list(results[\"units\"])\n",
    "columns.extend(['relevant_count', 'relevant_score', 'not_relevant_count', 'not_relevant_score'])\n",
    "rows = []\n",
    "rows.append(columns)\n",
    "for i in range(len(results[\"units\"].index)):\n",
    "    keys = ['relevant', 'not_relevant']\n",
    "    row = list(results[\"units\"].iloc[i])\n",
    "    for j in range(len(keys)):\n",
    "        row.append(results[\"units\"][\"output.relevance\"].iloc[i][keys[j]])\n",
    "        row.append(results[\"units\"][\"unit_annotation_score\"].iloc[i][keys[j]])    \n",
    "    rows.append(row)\n",
    "\n",
    "with open('../Results/Pilot_2P-Doc-NoHigh/units_Pilot_2P-Doc-NoHigh.csv', 'w') as csvfile:\n",
    "    writer = csv.writer(csvfile)\n",
    "    writer.writerows(rows)\n",
    "\n",
    "# print results for workers\n",
    "results[\"workers\"].to_csv(\"../Results/Pilot_2P-Doc-NoHigh/workers_Pilot_2P-Doc-NoHigh.csv\", index=False) "
   ]
  }
 ],
 "metadata": {
  "kernelspec": {
   "display_name": "Python 2",
   "language": "python",
   "name": "python2"
  },
  "language_info": {
   "codemirror_mode": {
    "name": "ipython",
    "version": 2
   },
   "file_extension": ".py",
   "mimetype": "text/x-python",
   "name": "python",
   "nbconvert_exporter": "python",
   "pygments_lexer": "ipython2",
   "version": "2.7.13"
  }
 },
 "nbformat": 4,
 "nbformat_minor": 2
}
